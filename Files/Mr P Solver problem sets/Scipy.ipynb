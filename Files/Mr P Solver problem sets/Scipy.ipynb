{
 "cells": [
  {
   "cell_type": "code",
   "execution_count": 1,
   "metadata": {},
   "outputs": [],
   "source": [
    "import numpy as np\n",
    "import matplotlib.pyplot as plt\n",
    "import scipy as sp"
   ]
  },
  {
   "cell_type": "markdown",
   "metadata": {},
   "source": [
    "# Basic"
   ]
  },
  {
   "cell_type": "markdown",
   "metadata": {},
   "source": [
    "## Optimization"
   ]
  },
  {
   "cell_type": "code",
   "execution_count": 2,
   "metadata": {},
   "outputs": [],
   "source": [
    "from scipy.optimize import minimize"
   ]
  },
  {
   "cell_type": "markdown",
   "metadata": {},
   "source": [
    "Minimize $f(x) = (x-3)^2$"
   ]
  },
  {
   "cell_type": "code",
   "execution_count": 3,
   "metadata": {},
   "outputs": [
    {
     "data": {
      "text/plain": [
       "array([2.99999999])"
      ]
     },
     "execution_count": 3,
     "metadata": {},
     "output_type": "execute_result"
    }
   ],
   "source": [
    "def f(x):\n",
    "    return (x-3)**2\n",
    "\n",
    "res = minimize(f, x0=2)\n",
    "res.x"
   ]
  },
  {
   "cell_type": "markdown",
   "metadata": {},
   "source": [
    "Minimize $f(x, y) = (x-1)^2 + (y-2.5)^2$ subject to\n",
    "\n",
    "$$x-2y+2 \\geq 0 $$\n",
    "$$-x-2y+6 \\geq 0$$\n",
    "$$-x + 2y + 2 \\geq 0$$\n",
    "$$x \\geq 0 $$\n",
    "$$y \\geq 0 $$"
   ]
  },
  {
   "cell_type": "code",
   "execution_count": 4,
   "metadata": {},
   "outputs": [],
   "source": [
    "f = lambda x: (x[0] - 1)**2 + (x[1] - 2.5)**2\n",
    "cons = ({'type': 'ineq', 'fun': lambda x:  x[0] - 2 * x[1] + 2},\n",
    "        {'type': 'ineq', 'fun': lambda x: -x[0] - 2 * x[1] + 6},\n",
    "        {'type': 'ineq', 'fun': lambda x: -x[0] + 2 * x[1] + 2})\n",
    "bnds = ((0, None), (0, None))\n",
    "res = minimize(f, (2, 0), bounds=bnds, constraints=cons)"
   ]
  },
  {
   "cell_type": "code",
   "execution_count": 5,
   "metadata": {},
   "outputs": [
    {
     "data": {
      "text/plain": [
       "array([1.4, 1.7])"
      ]
     },
     "execution_count": 5,
     "metadata": {},
     "output_type": "execute_result"
    }
   ],
   "source": [
    "res.x"
   ]
  },
  {
   "cell_type": "code",
   "execution_count": 6,
   "metadata": {},
   "outputs": [
    {
     "data": {
      "text/plain": [
       "(array([1.39999999, 1.69999999]), 0.8000000000000016)"
      ]
     },
     "execution_count": 6,
     "metadata": {},
     "output_type": "execute_result"
    }
   ],
   "source": [
    "import numpy as np\n",
    "import scipy.optimize as opt\n",
    "\n",
    "# Define the function to minimize\n",
    "def objective_function(x):\n",
    "    return (x[0] - 1)**2 + (x[1] - 2.5)**2\n",
    "\n",
    "# Define the constraints in the form of functions that should be >= 0\n",
    "def constraint1(x):\n",
    "    return x[0] - 2 * x[1] + 2\n",
    "\n",
    "def constraint2(x):\n",
    "    return -x[0] - 2 * x[1] + 6\n",
    "\n",
    "def constraint3(x):\n",
    "    return -x[0] + 2 * x[1] + 2\n",
    "\n",
    "# Define bounds for x and y\n",
    "bounds = [(0, None), (0, None)]  # x >= 0 and y >= 0\n",
    "\n",
    "# Define the constraints as a dictionary\n",
    "constraints = [{'type': 'ineq', 'fun': constraint1},\n",
    "               {'type': 'ineq', 'fun': constraint2},\n",
    "               {'type': 'ineq', 'fun': constraint3}]\n",
    "\n",
    "# Initial guess\n",
    "x0 = np.array([0, 0])\n",
    "\n",
    "# Perform the minimization\n",
    "solution = opt.minimize(objective_function, x0, method='SLSQP', bounds=bounds, constraints=constraints)\n",
    "solution.x, solution.fun"
   ]
  },
  {
   "cell_type": "markdown",
   "metadata": {},
   "source": [
    "Note use of different techniques for different problems."
   ]
  },
  {
   "cell_type": "code",
   "execution_count": 7,
   "metadata": {},
   "outputs": [
    {
     "data": {
      "text/plain": [
       "\u001b[0;31mSignature:\u001b[0m\n",
       "\u001b[0mminimize\u001b[0m\u001b[0;34m(\u001b[0m\u001b[0;34m\u001b[0m\n",
       "\u001b[0;34m\u001b[0m    \u001b[0mfun\u001b[0m\u001b[0;34m,\u001b[0m\u001b[0;34m\u001b[0m\n",
       "\u001b[0;34m\u001b[0m    \u001b[0mx0\u001b[0m\u001b[0;34m,\u001b[0m\u001b[0;34m\u001b[0m\n",
       "\u001b[0;34m\u001b[0m    \u001b[0margs\u001b[0m\u001b[0;34m=\u001b[0m\u001b[0;34m(\u001b[0m\u001b[0;34m)\u001b[0m\u001b[0;34m,\u001b[0m\u001b[0;34m\u001b[0m\n",
       "\u001b[0;34m\u001b[0m    \u001b[0mmethod\u001b[0m\u001b[0;34m=\u001b[0m\u001b[0;32mNone\u001b[0m\u001b[0;34m,\u001b[0m\u001b[0;34m\u001b[0m\n",
       "\u001b[0;34m\u001b[0m    \u001b[0mjac\u001b[0m\u001b[0;34m=\u001b[0m\u001b[0;32mNone\u001b[0m\u001b[0;34m,\u001b[0m\u001b[0;34m\u001b[0m\n",
       "\u001b[0;34m\u001b[0m    \u001b[0mhess\u001b[0m\u001b[0;34m=\u001b[0m\u001b[0;32mNone\u001b[0m\u001b[0;34m,\u001b[0m\u001b[0;34m\u001b[0m\n",
       "\u001b[0;34m\u001b[0m    \u001b[0mhessp\u001b[0m\u001b[0;34m=\u001b[0m\u001b[0;32mNone\u001b[0m\u001b[0;34m,\u001b[0m\u001b[0;34m\u001b[0m\n",
       "\u001b[0;34m\u001b[0m    \u001b[0mbounds\u001b[0m\u001b[0;34m=\u001b[0m\u001b[0;32mNone\u001b[0m\u001b[0;34m,\u001b[0m\u001b[0;34m\u001b[0m\n",
       "\u001b[0;34m\u001b[0m    \u001b[0mconstraints\u001b[0m\u001b[0;34m=\u001b[0m\u001b[0;34m(\u001b[0m\u001b[0;34m)\u001b[0m\u001b[0;34m,\u001b[0m\u001b[0;34m\u001b[0m\n",
       "\u001b[0;34m\u001b[0m    \u001b[0mtol\u001b[0m\u001b[0;34m=\u001b[0m\u001b[0;32mNone\u001b[0m\u001b[0;34m,\u001b[0m\u001b[0;34m\u001b[0m\n",
       "\u001b[0;34m\u001b[0m    \u001b[0mcallback\u001b[0m\u001b[0;34m=\u001b[0m\u001b[0;32mNone\u001b[0m\u001b[0;34m,\u001b[0m\u001b[0;34m\u001b[0m\n",
       "\u001b[0;34m\u001b[0m    \u001b[0moptions\u001b[0m\u001b[0;34m=\u001b[0m\u001b[0;32mNone\u001b[0m\u001b[0;34m,\u001b[0m\u001b[0;34m\u001b[0m\n",
       "\u001b[0;34m\u001b[0m\u001b[0;34m)\u001b[0m\u001b[0;34m\u001b[0m\u001b[0;34m\u001b[0m\u001b[0m\n",
       "\u001b[0;31mDocstring:\u001b[0m\n",
       "Minimization of scalar function of one or more variables.\n",
       "\n",
       "Parameters\n",
       "----------\n",
       "fun : callable\n",
       "    The objective function to be minimized.\n",
       "\n",
       "        ``fun(x, *args) -> float``\n",
       "\n",
       "    where ``x`` is a 1-D array with shape (n,) and ``args``\n",
       "    is a tuple of the fixed parameters needed to completely\n",
       "    specify the function.\n",
       "x0 : ndarray, shape (n,)\n",
       "    Initial guess. Array of real elements of size (n,),\n",
       "    where ``n`` is the number of independent variables.\n",
       "args : tuple, optional\n",
       "    Extra arguments passed to the objective function and its\n",
       "    derivatives (`fun`, `jac` and `hess` functions).\n",
       "method : str or callable, optional\n",
       "    Type of solver.  Should be one of\n",
       "\n",
       "        - 'Nelder-Mead' :ref:`(see here) <optimize.minimize-neldermead>`\n",
       "        - 'Powell'      :ref:`(see here) <optimize.minimize-powell>`\n",
       "        - 'CG'          :ref:`(see here) <optimize.minimize-cg>`\n",
       "        - 'BFGS'        :ref:`(see here) <optimize.minimize-bfgs>`\n",
       "        - 'Newton-CG'   :ref:`(see here) <optimize.minimize-newtoncg>`\n",
       "        - 'L-BFGS-B'    :ref:`(see here) <optimize.minimize-lbfgsb>`\n",
       "        - 'TNC'         :ref:`(see here) <optimize.minimize-tnc>`\n",
       "        - 'COBYLA'      :ref:`(see here) <optimize.minimize-cobyla>`\n",
       "        - 'SLSQP'       :ref:`(see here) <optimize.minimize-slsqp>`\n",
       "        - 'trust-constr':ref:`(see here) <optimize.minimize-trustconstr>`\n",
       "        - 'dogleg'      :ref:`(see here) <optimize.minimize-dogleg>`\n",
       "        - 'trust-ncg'   :ref:`(see here) <optimize.minimize-trustncg>`\n",
       "        - 'trust-exact' :ref:`(see here) <optimize.minimize-trustexact>`\n",
       "        - 'trust-krylov' :ref:`(see here) <optimize.minimize-trustkrylov>`\n",
       "        - custom - a callable object, see below for description.\n",
       "\n",
       "    If not given, chosen to be one of ``BFGS``, ``L-BFGS-B``, ``SLSQP``,\n",
       "    depending on whether or not the problem has constraints or bounds.\n",
       "jac : {callable,  '2-point', '3-point', 'cs', bool}, optional\n",
       "    Method for computing the gradient vector. Only for CG, BFGS,\n",
       "    Newton-CG, L-BFGS-B, TNC, SLSQP, dogleg, trust-ncg, trust-krylov,\n",
       "    trust-exact and trust-constr.\n",
       "    If it is a callable, it should be a function that returns the gradient\n",
       "    vector:\n",
       "\n",
       "        ``jac(x, *args) -> array_like, shape (n,)``\n",
       "\n",
       "    where ``x`` is an array with shape (n,) and ``args`` is a tuple with\n",
       "    the fixed parameters. If `jac` is a Boolean and is True, `fun` is\n",
       "    assumed to return a tuple ``(f, g)`` containing the objective\n",
       "    function and the gradient.\n",
       "    Methods 'Newton-CG', 'trust-ncg', 'dogleg', 'trust-exact', and\n",
       "    'trust-krylov' require that either a callable be supplied, or that\n",
       "    `fun` return the objective and gradient.\n",
       "    If None or False, the gradient will be estimated using 2-point finite\n",
       "    difference estimation with an absolute step size.\n",
       "    Alternatively, the keywords  {'2-point', '3-point', 'cs'} can be used\n",
       "    to select a finite difference scheme for numerical estimation of the\n",
       "    gradient with a relative step size. These finite difference schemes\n",
       "    obey any specified `bounds`.\n",
       "hess : {callable, '2-point', '3-point', 'cs', HessianUpdateStrategy}, optional\n",
       "    Method for computing the Hessian matrix. Only for Newton-CG, dogleg,\n",
       "    trust-ncg, trust-krylov, trust-exact and trust-constr.\n",
       "    If it is callable, it should return the Hessian matrix:\n",
       "\n",
       "        ``hess(x, *args) -> {LinearOperator, spmatrix, array}, (n, n)``\n",
       "\n",
       "    where ``x`` is a (n,) ndarray and ``args`` is a tuple with the fixed\n",
       "    parameters.\n",
       "    The keywords {'2-point', '3-point', 'cs'} can also be used to select\n",
       "    a finite difference scheme for numerical estimation of the hessian.\n",
       "    Alternatively, objects implementing the `HessianUpdateStrategy`\n",
       "    interface can be used to approximate the Hessian. Available\n",
       "    quasi-Newton methods implementing this interface are:\n",
       "\n",
       "        - `BFGS`;\n",
       "        - `SR1`.\n",
       "\n",
       "    Not all of the options are available for each of the methods; for\n",
       "    availability refer to the notes.\n",
       "hessp : callable, optional\n",
       "    Hessian of objective function times an arbitrary vector p. Only for\n",
       "    Newton-CG, trust-ncg, trust-krylov, trust-constr.\n",
       "    Only one of `hessp` or `hess` needs to be given. If `hess` is\n",
       "    provided, then `hessp` will be ignored. `hessp` must compute the\n",
       "    Hessian times an arbitrary vector:\n",
       "\n",
       "        ``hessp(x, p, *args) ->  ndarray shape (n,)``\n",
       "\n",
       "    where ``x`` is a (n,) ndarray, ``p`` is an arbitrary vector with\n",
       "    dimension (n,) and ``args`` is a tuple with the fixed\n",
       "    parameters.\n",
       "bounds : sequence or `Bounds`, optional\n",
       "    Bounds on variables for Nelder-Mead, L-BFGS-B, TNC, SLSQP, Powell,\n",
       "    trust-constr, and COBYLA methods. There are two ways to specify the\n",
       "    bounds:\n",
       "\n",
       "        1. Instance of `Bounds` class.\n",
       "        2. Sequence of ``(min, max)`` pairs for each element in `x`. None\n",
       "           is used to specify no bound.\n",
       "\n",
       "constraints : {Constraint, dict} or List of {Constraint, dict}, optional\n",
       "    Constraints definition. Only for COBYLA, SLSQP and trust-constr.\n",
       "\n",
       "    Constraints for 'trust-constr' are defined as a single object or a\n",
       "    list of objects specifying constraints to the optimization problem.\n",
       "    Available constraints are:\n",
       "\n",
       "        - `LinearConstraint`\n",
       "        - `NonlinearConstraint`\n",
       "\n",
       "    Constraints for COBYLA, SLSQP are defined as a list of dictionaries.\n",
       "    Each dictionary with fields:\n",
       "\n",
       "        type : str\n",
       "            Constraint type: 'eq' for equality, 'ineq' for inequality.\n",
       "        fun : callable\n",
       "            The function defining the constraint.\n",
       "        jac : callable, optional\n",
       "            The Jacobian of `fun` (only for SLSQP).\n",
       "        args : sequence, optional\n",
       "            Extra arguments to be passed to the function and Jacobian.\n",
       "\n",
       "    Equality constraint means that the constraint function result is to\n",
       "    be zero whereas inequality means that it is to be non-negative.\n",
       "    Note that COBYLA only supports inequality constraints.\n",
       "tol : float, optional\n",
       "    Tolerance for termination. When `tol` is specified, the selected\n",
       "    minimization algorithm sets some relevant solver-specific tolerance(s)\n",
       "    equal to `tol`. For detailed control, use solver-specific\n",
       "    options.\n",
       "options : dict, optional\n",
       "    A dictionary of solver options. All methods except `TNC` accept the\n",
       "    following generic options:\n",
       "\n",
       "        maxiter : int\n",
       "            Maximum number of iterations to perform. Depending on the\n",
       "            method each iteration may use several function evaluations.\n",
       "\n",
       "            For `TNC` use `maxfun` instead of `maxiter`.\n",
       "        disp : bool\n",
       "            Set to True to print convergence messages.\n",
       "\n",
       "    For method-specific options, see :func:`show_options()`.\n",
       "callback : callable, optional\n",
       "    A callable called after each iteration.\n",
       "\n",
       "    All methods except TNC, SLSQP, and COBYLA support a callable with\n",
       "    the signature:\n",
       "\n",
       "        ``callback(intermediate_result: OptimizeResult)``\n",
       "\n",
       "    where ``intermediate_result`` is a keyword parameter containing an\n",
       "    `OptimizeResult` with attributes ``x`` and ``fun``, the present values\n",
       "    of the parameter vector and objective function. Note that the name\n",
       "    of the parameter must be ``intermediate_result`` for the callback\n",
       "    to be passed an `OptimizeResult`. These methods will also terminate if\n",
       "    the callback raises ``StopIteration``.\n",
       "\n",
       "    All methods except trust-constr (also) support a signature like:\n",
       "\n",
       "        ``callback(xk)``\n",
       "\n",
       "    where ``xk`` is the current parameter vector.\n",
       "\n",
       "    Introspection is used to determine which of the signatures above to\n",
       "    invoke.\n",
       "\n",
       "Returns\n",
       "-------\n",
       "res : OptimizeResult\n",
       "    The optimization result represented as a ``OptimizeResult`` object.\n",
       "    Important attributes are: ``x`` the solution array, ``success`` a\n",
       "    Boolean flag indicating if the optimizer exited successfully and\n",
       "    ``message`` which describes the cause of the termination. See\n",
       "    `OptimizeResult` for a description of other attributes.\n",
       "\n",
       "See also\n",
       "--------\n",
       "minimize_scalar : Interface to minimization algorithms for scalar\n",
       "    univariate functions\n",
       "show_options : Additional options accepted by the solvers\n",
       "\n",
       "Notes\n",
       "-----\n",
       "This section describes the available solvers that can be selected by the\n",
       "'method' parameter. The default method is *BFGS*.\n",
       "\n",
       "**Unconstrained minimization**\n",
       "\n",
       "Method :ref:`CG <optimize.minimize-cg>` uses a nonlinear conjugate\n",
       "gradient algorithm by Polak and Ribiere, a variant of the\n",
       "Fletcher-Reeves method described in [5]_ pp.120-122. Only the\n",
       "first derivatives are used.\n",
       "\n",
       "Method :ref:`BFGS <optimize.minimize-bfgs>` uses the quasi-Newton\n",
       "method of Broyden, Fletcher, Goldfarb, and Shanno (BFGS) [5]_\n",
       "pp. 136. It uses the first derivatives only. BFGS has proven good\n",
       "performance even for non-smooth optimizations. This method also\n",
       "returns an approximation of the Hessian inverse, stored as\n",
       "`hess_inv` in the OptimizeResult object.\n",
       "\n",
       "Method :ref:`Newton-CG <optimize.minimize-newtoncg>` uses a\n",
       "Newton-CG algorithm [5]_ pp. 168 (also known as the truncated\n",
       "Newton method). It uses a CG method to the compute the search\n",
       "direction. See also *TNC* method for a box-constrained\n",
       "minimization with a similar algorithm. Suitable for large-scale\n",
       "problems.\n",
       "\n",
       "Method :ref:`dogleg <optimize.minimize-dogleg>` uses the dog-leg\n",
       "trust-region algorithm [5]_ for unconstrained minimization. This\n",
       "algorithm requires the gradient and Hessian; furthermore the\n",
       "Hessian is required to be positive definite.\n",
       "\n",
       "Method :ref:`trust-ncg <optimize.minimize-trustncg>` uses the\n",
       "Newton conjugate gradient trust-region algorithm [5]_ for\n",
       "unconstrained minimization. This algorithm requires the gradient\n",
       "and either the Hessian or a function that computes the product of\n",
       "the Hessian with a given vector. Suitable for large-scale problems.\n",
       "\n",
       "Method :ref:`trust-krylov <optimize.minimize-trustkrylov>` uses\n",
       "the Newton GLTR trust-region algorithm [14]_, [15]_ for unconstrained\n",
       "minimization. This algorithm requires the gradient\n",
       "and either the Hessian or a function that computes the product of\n",
       "the Hessian with a given vector. Suitable for large-scale problems.\n",
       "On indefinite problems it requires usually less iterations than the\n",
       "`trust-ncg` method and is recommended for medium and large-scale problems.\n",
       "\n",
       "Method :ref:`trust-exact <optimize.minimize-trustexact>`\n",
       "is a trust-region method for unconstrained minimization in which\n",
       "quadratic subproblems are solved almost exactly [13]_. This\n",
       "algorithm requires the gradient and the Hessian (which is\n",
       "*not* required to be positive definite). It is, in many\n",
       "situations, the Newton method to converge in fewer iterations\n",
       "and the most recommended for small and medium-size problems.\n",
       "\n",
       "**Bound-Constrained minimization**\n",
       "\n",
       "Method :ref:`Nelder-Mead <optimize.minimize-neldermead>` uses the\n",
       "Simplex algorithm [1]_, [2]_. This algorithm is robust in many\n",
       "applications. However, if numerical computation of derivative can be\n",
       "trusted, other algorithms using the first and/or second derivatives\n",
       "information might be preferred for their better performance in\n",
       "general.\n",
       "\n",
       "Method :ref:`L-BFGS-B <optimize.minimize-lbfgsb>` uses the L-BFGS-B\n",
       "algorithm [6]_, [7]_ for bound constrained minimization.\n",
       "\n",
       "Method :ref:`Powell <optimize.minimize-powell>` is a modification\n",
       "of Powell's method [3]_, [4]_ which is a conjugate direction\n",
       "method. It performs sequential one-dimensional minimizations along\n",
       "each vector of the directions set (`direc` field in `options` and\n",
       "`info`), which is updated at each iteration of the main\n",
       "minimization loop. The function need not be differentiable, and no\n",
       "derivatives are taken. If bounds are not provided, then an\n",
       "unbounded line search will be used. If bounds are provided and\n",
       "the initial guess is within the bounds, then every function\n",
       "evaluation throughout the minimization procedure will be within\n",
       "the bounds. If bounds are provided, the initial guess is outside\n",
       "the bounds, and `direc` is full rank (default has full rank), then\n",
       "some function evaluations during the first iteration may be\n",
       "outside the bounds, but every function evaluation after the first\n",
       "iteration will be within the bounds. If `direc` is not full rank,\n",
       "then some parameters may not be optimized and the solution is not\n",
       "guaranteed to be within the bounds.\n",
       "\n",
       "Method :ref:`TNC <optimize.minimize-tnc>` uses a truncated Newton\n",
       "algorithm [5]_, [8]_ to minimize a function with variables subject\n",
       "to bounds. This algorithm uses gradient information; it is also\n",
       "called Newton Conjugate-Gradient. It differs from the *Newton-CG*\n",
       "method described above as it wraps a C implementation and allows\n",
       "each variable to be given upper and lower bounds.\n",
       "\n",
       "**Constrained Minimization**\n",
       "\n",
       "Method :ref:`COBYLA <optimize.minimize-cobyla>` uses the\n",
       "Constrained Optimization BY Linear Approximation (COBYLA) method\n",
       "[9]_, [10]_, [11]_. The algorithm is based on linear\n",
       "approximations to the objective function and each constraint. The\n",
       "method wraps a FORTRAN implementation of the algorithm. The\n",
       "constraints functions 'fun' may return either a single number\n",
       "or an array or list of numbers.\n",
       "\n",
       "Method :ref:`SLSQP <optimize.minimize-slsqp>` uses Sequential\n",
       "Least SQuares Programming to minimize a function of several\n",
       "variables with any combination of bounds, equality and inequality\n",
       "constraints. The method wraps the SLSQP Optimization subroutine\n",
       "originally implemented by Dieter Kraft [12]_. Note that the\n",
       "wrapper handles infinite values in bounds by converting them into\n",
       "large floating values.\n",
       "\n",
       "Method :ref:`trust-constr <optimize.minimize-trustconstr>` is a\n",
       "trust-region algorithm for constrained optimization. It switches\n",
       "between two implementations depending on the problem definition.\n",
       "It is the most versatile constrained minimization algorithm\n",
       "implemented in SciPy and the most appropriate for large-scale problems.\n",
       "For equality constrained problems it is an implementation of Byrd-Omojokun\n",
       "Trust-Region SQP method described in [17]_ and in [5]_, p. 549. When\n",
       "inequality constraints are imposed as well, it switches to the trust-region\n",
       "interior point method described in [16]_. This interior point algorithm,\n",
       "in turn, solves inequality constraints by introducing slack variables\n",
       "and solving a sequence of equality-constrained barrier problems\n",
       "for progressively smaller values of the barrier parameter.\n",
       "The previously described equality constrained SQP method is\n",
       "used to solve the subproblems with increasing levels of accuracy\n",
       "as the iterate gets closer to a solution.\n",
       "\n",
       "**Finite-Difference Options**\n",
       "\n",
       "For Method :ref:`trust-constr <optimize.minimize-trustconstr>`\n",
       "the gradient and the Hessian may be approximated using\n",
       "three finite-difference schemes: {'2-point', '3-point', 'cs'}.\n",
       "The scheme 'cs' is, potentially, the most accurate but it\n",
       "requires the function to correctly handle complex inputs and to\n",
       "be differentiable in the complex plane. The scheme '3-point' is more\n",
       "accurate than '2-point' but requires twice as many operations. If the\n",
       "gradient is estimated via finite-differences the Hessian must be\n",
       "estimated using one of the quasi-Newton strategies.\n",
       "\n",
       "**Method specific options for the** `hess` **keyword**\n",
       "\n",
       "+--------------+------+----------+-------------------------+-----+\n",
       "| method/Hess  | None | callable | '2-point/'3-point'/'cs' | HUS |\n",
       "+==============+======+==========+=========================+=====+\n",
       "| Newton-CG    | x    | (n, n)   | x                       | x   |\n",
       "|              |      | LO       |                         |     |\n",
       "+--------------+------+----------+-------------------------+-----+\n",
       "| dogleg       |      | (n, n)   |                         |     |\n",
       "+--------------+------+----------+-------------------------+-----+\n",
       "| trust-ncg    |      | (n, n)   | x                       | x   |\n",
       "+--------------+------+----------+-------------------------+-----+\n",
       "| trust-krylov |      | (n, n)   | x                       | x   |\n",
       "+--------------+------+----------+-------------------------+-----+\n",
       "| trust-exact  |      | (n, n)   |                         |     |\n",
       "+--------------+------+----------+-------------------------+-----+\n",
       "| trust-constr | x    | (n, n)   |  x                      | x   |\n",
       "|              |      | LO       |                         |     |\n",
       "|              |      | sp       |                         |     |\n",
       "+--------------+------+----------+-------------------------+-----+\n",
       "\n",
       "where LO=LinearOperator, sp=Sparse matrix, HUS=HessianUpdateStrategy\n",
       "\n",
       "**Custom minimizers**\n",
       "\n",
       "It may be useful to pass a custom minimization method, for example\n",
       "when using a frontend to this method such as `scipy.optimize.basinhopping`\n",
       "or a different library.  You can simply pass a callable as the ``method``\n",
       "parameter.\n",
       "\n",
       "The callable is called as ``method(fun, x0, args, **kwargs, **options)``\n",
       "where ``kwargs`` corresponds to any other parameters passed to `minimize`\n",
       "(such as `callback`, `hess`, etc.), except the `options` dict, which has\n",
       "its contents also passed as `method` parameters pair by pair.  Also, if\n",
       "`jac` has been passed as a bool type, `jac` and `fun` are mangled so that\n",
       "`fun` returns just the function values and `jac` is converted to a function\n",
       "returning the Jacobian.  The method shall return an `OptimizeResult`\n",
       "object.\n",
       "\n",
       "The provided `method` callable must be able to accept (and possibly ignore)\n",
       "arbitrary parameters; the set of parameters accepted by `minimize` may\n",
       "expand in future versions and then these parameters will be passed to\n",
       "the method.  You can find an example in the scipy.optimize tutorial.\n",
       "\n",
       "References\n",
       "----------\n",
       ".. [1] Nelder, J A, and R Mead. 1965. A Simplex Method for Function\n",
       "    Minimization. The Computer Journal 7: 308-13.\n",
       ".. [2] Wright M H. 1996. Direct search methods: Once scorned, now\n",
       "    respectable, in Numerical Analysis 1995: Proceedings of the 1995\n",
       "    Dundee Biennial Conference in Numerical Analysis (Eds. D F\n",
       "    Griffiths and G A Watson). Addison Wesley Longman, Harlow, UK.\n",
       "    191-208.\n",
       ".. [3] Powell, M J D. 1964. An efficient method for finding the minimum of\n",
       "   a function of several variables without calculating derivatives. The\n",
       "   Computer Journal 7: 155-162.\n",
       ".. [4] Press W, S A Teukolsky, W T Vetterling and B P Flannery.\n",
       "   Numerical Recipes (any edition), Cambridge University Press.\n",
       ".. [5] Nocedal, J, and S J Wright. 2006. Numerical Optimization.\n",
       "   Springer New York.\n",
       ".. [6] Byrd, R H and P Lu and J. Nocedal. 1995. A Limited Memory\n",
       "   Algorithm for Bound Constrained Optimization. SIAM Journal on\n",
       "   Scientific and Statistical Computing 16 (5): 1190-1208.\n",
       ".. [7] Zhu, C and R H Byrd and J Nocedal. 1997. L-BFGS-B: Algorithm\n",
       "   778: L-BFGS-B, FORTRAN routines for large scale bound constrained\n",
       "   optimization. ACM Transactions on Mathematical Software 23 (4):\n",
       "   550-560.\n",
       ".. [8] Nash, S G. Newton-Type Minimization Via the Lanczos Method.\n",
       "   1984. SIAM Journal of Numerical Analysis 21: 770-778.\n",
       ".. [9] Powell, M J D. A direct search optimization method that models\n",
       "   the objective and constraint functions by linear interpolation.\n",
       "   1994. Advances in Optimization and Numerical Analysis, eds. S. Gomez\n",
       "   and J-P Hennart, Kluwer Academic (Dordrecht), 51-67.\n",
       ".. [10] Powell M J D. Direct search algorithms for optimization\n",
       "   calculations. 1998. Acta Numerica 7: 287-336.\n",
       ".. [11] Powell M J D. A view of algorithms for optimization without\n",
       "   derivatives. 2007.Cambridge University Technical Report DAMTP\n",
       "   2007/NA03\n",
       ".. [12] Kraft, D. A software package for sequential quadratic\n",
       "   programming. 1988. Tech. Rep. DFVLR-FB 88-28, DLR German Aerospace\n",
       "   Center -- Institute for Flight Mechanics, Koln, Germany.\n",
       ".. [13] Conn, A. R., Gould, N. I., and Toint, P. L.\n",
       "   Trust region methods. 2000. Siam. pp. 169-200.\n",
       ".. [14] F. Lenders, C. Kirches, A. Potschka: \"trlib: A vector-free\n",
       "   implementation of the GLTR method for iterative solution of\n",
       "   the trust region problem\", :arxiv:`1611.04718`\n",
       ".. [15] N. Gould, S. Lucidi, M. Roma, P. Toint: \"Solving the\n",
       "   Trust-Region Subproblem using the Lanczos Method\",\n",
       "   SIAM J. Optim., 9(2), 504--525, (1999).\n",
       ".. [16] Byrd, Richard H., Mary E. Hribar, and Jorge Nocedal. 1999.\n",
       "    An interior point algorithm for large-scale nonlinear  programming.\n",
       "    SIAM Journal on Optimization 9.4: 877-900.\n",
       ".. [17] Lalee, Marucha, Jorge Nocedal, and Todd Plantega. 1998. On the\n",
       "    implementation of an algorithm for large-scale equality constrained\n",
       "    optimization. SIAM Journal on Optimization 8.3: 682-706.\n",
       "\n",
       "Examples\n",
       "--------\n",
       "Let us consider the problem of minimizing the Rosenbrock function. This\n",
       "function (and its respective derivatives) is implemented in `rosen`\n",
       "(resp. `rosen_der`, `rosen_hess`) in the `scipy.optimize`.\n",
       "\n",
       ">>> from scipy.optimize import minimize, rosen, rosen_der\n",
       "\n",
       "A simple application of the *Nelder-Mead* method is:\n",
       "\n",
       ">>> x0 = [1.3, 0.7, 0.8, 1.9, 1.2]\n",
       ">>> res = minimize(rosen, x0, method='Nelder-Mead', tol=1e-6)\n",
       ">>> res.x\n",
       "array([ 1.,  1.,  1.,  1.,  1.])\n",
       "\n",
       "Now using the *BFGS* algorithm, using the first derivative and a few\n",
       "options:\n",
       "\n",
       ">>> res = minimize(rosen, x0, method='BFGS', jac=rosen_der,\n",
       "...                options={'gtol': 1e-6, 'disp': True})\n",
       "Optimization terminated successfully.\n",
       "         Current function value: 0.000000\n",
       "         Iterations: 26\n",
       "         Function evaluations: 31\n",
       "         Gradient evaluations: 31\n",
       ">>> res.x\n",
       "array([ 1.,  1.,  1.,  1.,  1.])\n",
       ">>> print(res.message)\n",
       "Optimization terminated successfully.\n",
       ">>> res.hess_inv\n",
       "array([\n",
       "    [ 0.00749589,  0.01255155,  0.02396251,  0.04750988,  0.09495377],  # may vary\n",
       "    [ 0.01255155,  0.02510441,  0.04794055,  0.09502834,  0.18996269],\n",
       "    [ 0.02396251,  0.04794055,  0.09631614,  0.19092151,  0.38165151],\n",
       "    [ 0.04750988,  0.09502834,  0.19092151,  0.38341252,  0.7664427 ],\n",
       "    [ 0.09495377,  0.18996269,  0.38165151,  0.7664427,   1.53713523]\n",
       "])\n",
       "\n",
       "\n",
       "Next, consider a minimization problem with several constraints (namely\n",
       "Example 16.4 from [5]_). The objective function is:\n",
       "\n",
       ">>> fun = lambda x: (x[0] - 1)**2 + (x[1] - 2.5)**2\n",
       "\n",
       "There are three constraints defined as:\n",
       "\n",
       ">>> cons = ({'type': 'ineq', 'fun': lambda x:  x[0] - 2 * x[1] + 2},\n",
       "...         {'type': 'ineq', 'fun': lambda x: -x[0] - 2 * x[1] + 6},\n",
       "...         {'type': 'ineq', 'fun': lambda x: -x[0] + 2 * x[1] + 2})\n",
       "\n",
       "And variables must be positive, hence the following bounds:\n",
       "\n",
       ">>> bnds = ((0, None), (0, None))\n",
       "\n",
       "The optimization problem is solved using the SLSQP method as:\n",
       "\n",
       ">>> res = minimize(fun, (2, 0), method='SLSQP', bounds=bnds,\n",
       "...                constraints=cons)\n",
       "\n",
       "It should converge to the theoretical solution (1.4 ,1.7).\n",
       "\u001b[0;31mFile:\u001b[0m      /opt/anaconda3/envs/Thesis/lib/python3.12/site-packages/scipy/optimize/_minimize.py\n",
       "\u001b[0;31mType:\u001b[0m      function"
      ]
     },
     "metadata": {},
     "output_type": "display_data"
    }
   ],
   "source": [
    "minimize?"
   ]
  },
  {
   "cell_type": "markdown",
   "metadata": {},
   "source": [
    "## Interpolation"
   ]
  },
  {
   "cell_type": "markdown",
   "metadata": {},
   "source": [
    "Suppose you have the following data (I generate it here, but perhaps you collect $x$ and $y$ by means of some experiment)"
   ]
  },
  {
   "cell_type": "code",
   "execution_count": 8,
   "metadata": {},
   "outputs": [
    {
     "data": {
      "text/plain": [
       "<matplotlib.collections.PathCollection at 0x11c66c050>"
      ]
     },
     "execution_count": 8,
     "metadata": {},
     "output_type": "execute_result"
    },
    {
     "data": {
      "image/png": "[encoded data removed]",
      "text/plain": [
       "<Figure size 640x480 with 1 Axes>"
      ]
     },
     "metadata": {},
     "output_type": "display_data"
    }
   ],
   "source": [
    "x = np.linspace(0, 10, 10)\n",
    "y = x**2 * np.sin(x)\n",
    "plt.scatter(x,y)"
   ]
  },
  {
   "cell_type": "markdown",
   "metadata": {},
   "source": [
    "You want to know the values in between."
   ]
  },
  {
   "cell_type": "code",
   "execution_count": 9,
   "metadata": {},
   "outputs": [],
   "source": [
    "from scipy.interpolate import interp1d"
   ]
  },
  {
   "cell_type": "code",
   "execution_count": 10,
   "metadata": {},
   "outputs": [],
   "source": [
    "x_dense = np.linspace(0, 10, 100)\n",
    "y_dense = f(x_dense)"
   ]
  },
  {
   "cell_type": "code",
   "execution_count": 11,
   "metadata": {},
   "outputs": [
    {
     "ename": "NameError",
     "evalue": "name 'f1' is not defined",
     "output_type": "error",
     "traceback": [
      "\u001b[0;31m---------------------------------------------------------------------------\u001b[0m",
      "\u001b[0;31mNameError\u001b[0m                                 Traceback (most recent call last)",
      "Cell \u001b[0;32mIn[11], line 1\u001b[0m\n\u001b[0;32m----> 1\u001b[0m y1_dense \u001b[38;5;241m=\u001b[39m f1(x_dense)\n",
      "\u001b[0;31mNameError\u001b[0m: name 'f1' is not defined"
     ]
    }
   ],
   "source": [
    "y1_dense = f1(x_dense)"
   ]
  },
  {
   "cell_type": "code",
   "execution_count": null,
   "metadata": {},
   "outputs": [],
   "source": [
    "f1 = interp1d(x,y, kind='linear')"
   ]
  },
  {
   "cell_type": "code",
   "execution_count": null,
   "metadata": {},
   "outputs": [],
   "source": [
    "f = interp1d(x, y, kind='cubic')"
   ]
  },
  {
   "cell_type": "code",
   "execution_count": null,
   "metadata": {},
   "outputs": [],
   "source": [
    "plt.plot(x_dense, y_dense)\n",
    "plt.plot(x_dense, y2_dense)\n",
    "plt.scatter(x, y)"
   ]
  },
  {
   "cell_type": "markdown",
   "metadata": {},
   "source": [
    "## Curve Fitting"
   ]
  },
  {
   "cell_type": "markdown",
   "metadata": {},
   "source": [
    "Trivial Example"
   ]
  },
  {
   "cell_type": "code",
   "execution_count": null,
   "metadata": {},
   "outputs": [],
   "source": [
    "x_data = np.linspace(0, 10, 10)\n",
    "y_data = 3*x_data**2 + 2"
   ]
  },
  {
   "cell_type": "code",
   "execution_count": null,
   "metadata": {},
   "outputs": [],
   "source": [
    "plt.scatter(x_data, y_data)"
   ]
  },
  {
   "cell_type": "markdown",
   "metadata": {},
   "source": [
    "Want to fit the data to the curve $y = ax^2 + b$. The main goal here is determine the values of $a$ and $b$"
   ]
  },
  {
   "cell_type": "code",
   "execution_count": null,
   "metadata": {},
   "outputs": [],
   "source": [
    "from scipy.optimize import curve_fit\n",
    "\n",
    "def func(x, a, b):\n",
    "    return a*x**2 + b\n",
    "popt, pcov = curve_fit(func, x_data, y_data, p0=(1,1))\n",
    "popt"
   ]
  },
  {
   "cell_type": "markdown",
   "metadata": {},
   "source": [
    "The equation for spring motion is $y(t) = A\\cos(\\omega t+\\phi)$. Want to find the natural frequency of oscillation $\\omega$ for the spring. You collect the data"
   ]
  },
  {
   "cell_type": "code",
   "execution_count": null,
   "metadata": {},
   "outputs": [],
   "source": [
    "t_data = np.array([ 0.   ,  0.34482759,  0.68965517,  1.03448276,  1.37931034,\n",
    "        1.72413793,  2.06896552,  2.4137931 ,  2.75862069,  3.10344828,\n",
    "        3.44827586,  3.79310345,  4.13793103,  4.48275862,  4.82758621,\n",
    "        5.17241379,  5.51724138,  5.86206897,  6.20689655,  6.55172414,\n",
    "        6.89655172,  7.24137931,  7.5862069 ,  7.93103448,  8.27586207,\n",
    "        8.62068966,  8.96551724,  9.31034483,  9.65517241, 10.        ])\n",
    "y_data = np.array([ 4.3303953 ,  1.61137995, -2.15418696, -3.90137249, -1.67259042,\n",
    "        2.16884383,  3.86635998,  1.85194506, -1.8489224 , -3.96560495,\n",
    "       -2.13385255,  1.59425817,  4.06145238,  1.89300594, -1.76870297,\n",
    "       -4.26791226, -2.46874133,  1.37019912,  4.24945607,  2.27038039,\n",
    "       -1.50299303, -3.46774049, -2.50845488,  1.20022052,  3.81633703,\n",
    "        2.91511556, -1.24569189, -3.72716214, -2.54549857,  0.87262548])"
   ]
  },
  {
   "cell_type": "code",
   "execution_count": null,
   "metadata": {},
   "outputs": [],
   "source": [
    "plt.plot(t_data,y_data,'-')"
   ]
  },
  {
   "cell_type": "markdown",
   "metadata": {},
   "source": [
    "$\\omega = 2 \\pi f$, $f=1/T$, and $T \\approx 2$ seconds. Thus good initial guess is\n",
    "\n",
    "* $\\omega = 2 \\pi (1/2) = \\pi$\n",
    "* $A=4$\n",
    "* $\\phi = 0$"
   ]
  },
  {
   "cell_type": "code",
   "execution_count": null,
   "metadata": {},
   "outputs": [],
   "source": [
    "from scipy.optimize import curve_fit"
   ]
  },
  {
   "cell_type": "code",
   "execution_count": null,
   "metadata": {},
   "outputs": [],
   "source": [
    "def func(x, A, w, phi):\n",
    "    return A*np.cos(w*x+phi)\n",
    "\n",
    "popt, pcov = curve_fit(func, t_data, y_data, p0=(4, np.pi, 0))\n",
    "popt"
   ]
  },
  {
   "cell_type": "code",
   "execution_count": null,
   "metadata": {},
   "outputs": [],
   "source": [
    "A, w, phi = popt"
   ]
  },
  {
   "cell_type": "code",
   "execution_count": null,
   "metadata": {},
   "outputs": [],
   "source": [
    "t = np.linspace(0, 10, 100)\n",
    "y = func(t, A, w, phi)"
   ]
  },
  {
   "cell_type": "code",
   "execution_count": null,
   "metadata": {},
   "outputs": [],
   "source": [
    "plt.scatter(t_data,y_data)\n",
    "plt.plot(t,y)"
   ]
  },
  {
   "cell_type": "markdown",
   "metadata": {},
   "source": [
    "The parameters"
   ]
  },
  {
   "cell_type": "code",
   "execution_count": null,
   "metadata": {},
   "outputs": [],
   "source": [
    "w"
   ]
  },
  {
   "cell_type": "code",
   "execution_count": null,
   "metadata": {},
   "outputs": [],
   "source": [
    "popt"
   ]
  },
  {
   "cell_type": "code",
   "execution_count": null,
   "metadata": {},
   "outputs": [],
   "source": [
    "# Error in omega(w)\n",
    "np.sqrt(np.diag(pcov))"
   ]
  },
  {
   "cell_type": "markdown",
   "metadata": {},
   "source": [
    "The estimated error on the parameters"
   ]
  },
  {
   "cell_type": "code",
   "execution_count": null,
   "metadata": {},
   "outputs": [],
   "source": [
    "np.sqrt(np.diag(pcov))"
   ]
  },
  {
   "cell_type": "markdown",
   "metadata": {},
   "source": [
    "## Special Functions"
   ]
  },
  {
   "cell_type": "markdown",
   "metadata": {},
   "source": [
    "Legendre Polynomials $P_l(x)$: satisfy $(1-x^2)y'' -2xy'+l(l+1)y = 0$\n",
    "\n",
    "* The angular component of the spherical Schrodinger Equation which permits non-infinite solutions"
   ]
  },
  {
   "cell_type": "code",
   "execution_count": null,
   "metadata": {},
   "outputs": [],
   "source": [
    "from scipy.special import legendre\n",
    "x = np.linspace(0, 1, 100)\n",
    "plt.plot(x, legendre(6)(x))\n",
    "plt.show()"
   ]
  },
  {
   "cell_type": "markdown",
   "metadata": {},
   "source": [
    "Bessel functions $J_{\\alpha}(x)$: satisfy $x^2 y'' + xy' + (x^2-\\alpha^2)y = 0$\n",
    "\n",
    "* Laplace's Equation in Polar Coordinates"
   ]
  },
  {
   "cell_type": "code",
   "execution_count": null,
   "metadata": {},
   "outputs": [],
   "source": [
    "from scipy.special import jv\n",
    "x = np.linspace(0, 10, 100)\n",
    "plt.plot(x, jv(3,x))\n",
    "plt.show()"
   ]
  },
  {
   "cell_type": "markdown",
   "metadata": {},
   "source": [
    "# Calculus"
   ]
  },
  {
   "cell_type": "markdown",
   "metadata": {},
   "source": [
    "## Differentiation"
   ]
  },
  {
   "cell_type": "code",
   "execution_count": null,
   "metadata": {},
   "outputs": [],
   "source": [
    "from scipy.misc import derivative"
   ]
  },
  {
   "cell_type": "code",
   "execution_count": null,
   "metadata": {},
   "outputs": [],
   "source": [
    "def f(x):\n",
    "    return x**2 * np.sin(2*x) *np.exp(-x)\n",
    "x = np.linspace(0, 1, 100)"
   ]
  },
  {
   "cell_type": "code",
   "execution_count": null,
   "metadata": {},
   "outputs": [],
   "source": [
    "plt.plot(x, f(x))\n",
    "plt.plot(x, derivative(f, x, dx=1e-6))\n",
    "plt.plot(x, derivative(f, x, dx=1e-6, n=2))"
   ]
  },
  {
   "cell_type": "markdown",
   "metadata": {},
   "source": [
    "## Integration"
   ]
  },
  {
   "cell_type": "markdown",
   "metadata": {},
   "source": [
    "Single integrals"
   ]
  },
  {
   "cell_type": "markdown",
   "metadata": {},
   "source": [
    "$$ \\int_0^{1} x^2 \\sin(2x) e^{-x} dx $$"
   ]
  },
  {
   "cell_type": "code",
   "execution_count": 14,
   "metadata": {},
   "outputs": [],
   "source": [
    "from scipy.integrate import quad\n",
    "integrand = lambda x: x**2 * np.sin(2*x) * np.exp(-x) #define the integrand\n",
    "integral, integral_error = quad(integrand, 0, 1)"
   ]
  },
  {
   "cell_type": "code",
   "execution_count": null,
   "metadata": {},
   "outputs": [],
   "source": [
    "integral , integral_error"
   ]
  },
  {
   "cell_type": "markdown",
   "metadata": {},
   "source": [
    "Double integrals\n",
    "\n",
    "$$ \\int_{0}^{1} \\int_{-x}^{x^2} \\sin(x+y^2) dy dx $$"
   ]
  },
  {
   "cell_type": "code",
   "execution_count": null,
   "metadata": {},
   "outputs": [],
   "source": [
    "from scipy.integrate import dblquad\n",
    "integrand = lambda y, x: np.sin(x+y**2)\n",
    "lwr_y = lambda x: -x\n",
    "upr_y = lambda x: x**2\n",
    "integral, integral_error = dblquad(integrand, 0, 1, lwr_y, upr_y)"
   ]
  },
  {
   "cell_type": "code",
   "execution_count": null,
   "metadata": {},
   "outputs": [],
   "source": [
    "integral , integral_error"
   ]
  },
  {
   "cell_type": "code",
   "execution_count": null,
   "metadata": {},
   "outputs": [],
   "source": [
    "x = np.linspace(0,10,1000)\n",
    "y = np.linspace(0,10,1000)\n",
    "xv , yv = np.meshgrid(x,y)\n",
    "gv = np.sin(xv + yv**2)"
   ]
  },
  {
   "cell_type": "code",
   "execution_count": null,
   "metadata": {},
   "outputs": [],
   "source": [
    "plt.contour(xv, yv, gv, levels=50)"
   ]
  },
  {
   "cell_type": "markdown",
   "metadata": {},
   "source": [
    "## Differetial Equations"
   ]
  },
  {
   "cell_type": "markdown",
   "metadata": {},
   "source": [
    "**First Order ODEs**\n",
    "\n",
    "Air friction while falling\n",
    "\n",
    "$$ v' - \\alpha v^2 + \\beta = 0 \\hspace{10mm} v(0) = 0$$"
   ]
  },
  {
   "cell_type": "code",
   "execution_count": 24,
   "metadata": {},
   "outputs": [],
   "source": [
    "from scipy.integrate import odeint"
   ]
  },
  {
   "cell_type": "markdown",
   "metadata": {},
   "source": [
    "All information about differential equation"
   ]
  },
  {
   "cell_type": "code",
   "execution_count": null,
   "metadata": {},
   "outputs": [],
   "source": [
    "def dvdt(v, t):\n",
    "    return 3*v**2 - 5\n",
    "v0 = 0"
   ]
  },
  {
   "cell_type": "markdown",
   "metadata": {},
   "source": [
    "Solve differential equation"
   ]
  },
  {
   "cell_type": "code",
   "execution_count": null,
   "metadata": {},
   "outputs": [],
   "source": [
    "t = np.linspace(0, 1, 100)\n",
    "sol = odeint(dvdt, v0, t)"
   ]
  },
  {
   "cell_type": "code",
   "execution_count": null,
   "metadata": {},
   "outputs": [],
   "source": [
    "v_sol = sol.T[0]"
   ]
  },
  {
   "cell_type": "code",
   "execution_count": null,
   "metadata": {},
   "outputs": [],
   "source": [
    "v_sol"
   ]
  },
  {
   "cell_type": "markdown",
   "metadata": {},
   "source": [
    "Plot"
   ]
  },
  {
   "cell_type": "code",
   "execution_count": null,
   "metadata": {},
   "outputs": [],
   "source": [
    "plt.plot(t, v_sol)"
   ]
  },
  {
   "cell_type": "markdown",
   "metadata": {},
   "source": [
    "**Coupled first order ODEs**\n",
    "\n",
    "$$ y_1' = y_1 + y_2^2 + 3x \\hspace{10mm} y_1(0)=0$$\n",
    "$$ y_2' = 3y_1 + y_2^3 - \\cos(x) \\hspace{10mm} y_2(0)=0$$\n",
    "\n",
    "Letting $S=(y_1, y_2)$ we need to write a function that returns $dS/dx = (dy_1/dx, dy_2/dx)$. The function $dS/dx$ can take in $S=(y_1, y_2)$ and $x$"
   ]
  },
  {
   "cell_type": "code",
   "execution_count": null,
   "metadata": {},
   "outputs": [],
   "source": [
    "def dSdx(S, x):\n",
    "    y1, y2 = S\n",
    "    return [y1 + y2**2  + 3*x,\n",
    "           3*y1 + y2**3 - np.cos(x)]\n",
    "y1_0 = 0\n",
    "y2_0 = 0\n",
    "S_0 = (y1_0, y2_0)"
   ]
  },
  {
   "cell_type": "code",
   "execution_count": null,
   "metadata": {},
   "outputs": [],
   "source": [
    "x = np.linspace(0, 1, 100)\n",
    "sol = odeint(dSdx, S_0, x)"
   ]
  },
  {
   "cell_type": "code",
   "execution_count": null,
   "metadata": {},
   "outputs": [],
   "source": [
    "y1_sol = sol.T[0]\n",
    "y2_sol = sol.T[1]"
   ]
  },
  {
   "cell_type": "code",
   "execution_count": null,
   "metadata": {
    "scrolled": true
   },
   "outputs": [],
   "source": [
    "plt.plot(x, y1_sol)\n",
    "plt.plot(x, y2_sol)"
   ]
  },
  {
   "cell_type": "code",
   "execution_count": null,
   "metadata": {},
   "outputs": [],
   "source": [
    "from scipy.integrate import solve_ivp\n",
    "\n",
    "# Define the system of ODEs\n",
    "def coupled_odes(x, y):\n",
    "    y1, y2 = y\n",
    "    dy1dx = y1 + y2**2 + 3*x\n",
    "    dy2dx = 3*y1 + y2**3 - np.cos(x)\n",
    "    return [dy1dx, dy2dx]\n",
    "\n",
    "# Initial conditions\n",
    "y0 = [0, 0]\n",
    "\n",
    "# Domain of the solution\n",
    "x_span = (0, 10)\n",
    "\n",
    "# Solve the system of ODEs\n",
    "sol = solve_ivp(coupled_odes, x_span, y0, t_eval=np.linspace(x_span[0], x_span[1], 1000))"
   ]
  },
  {
   "cell_type": "code",
   "execution_count": null,
   "metadata": {
    "scrolled": true
   },
   "outputs": [],
   "source": [
    "sol"
   ]
  },
  {
   "cell_type": "code",
   "execution_count": null,
   "metadata": {},
   "outputs": [],
   "source": [
    "plt.plot(sol.t, sol.y[0])\n",
    "plt.plot(sol.t, sol.y[1])"
   ]
  },
  {
   "cell_type": "markdown",
   "metadata": {},
   "source": [
    "**Second Order ODEs**\n",
    "\n",
    "Equation for a pendulum\n",
    "\n",
    "$$\\theta'' - \\sin(\\theta) = 0$$\n",
    "\n",
    "Scipy can only solve coupled first order ODEs, but **any second order ODE can be turned into two coupled first order ODEs**. The same thing goes for higher order ODEs. \n",
    "\n",
    "Define $\\omega = d\\theta/dt$ so that one has the following coupled ODEs\n",
    "\n",
    "$$d \\omega / dt = \\sin(\\theta)$$\n",
    "$$d \\theta / dt = \\omega $$\n",
    "\n",
    "Let $S = (\\theta, \\omega)$"
   ]
  },
  {
   "cell_type": "code",
   "execution_count": null,
   "metadata": {},
   "outputs": [],
   "source": [
    "def dSdt(S, t):\n",
    "    theta, omega = S\n",
    "    return [omega,\n",
    "           np.sin(theta)]\n",
    "theta0 = np.pi/4\n",
    "omega0 = 0\n",
    "S0 = (theta0, omega0)"
   ]
  },
  {
   "cell_type": "code",
   "execution_count": null,
   "metadata": {},
   "outputs": [],
   "source": [
    "t = np.linspace(0, 20, 100)\n",
    "sol = odeint(dSdt, S0, t)\n",
    "theta, omega = sol.T"
   ]
  },
  {
   "cell_type": "code",
   "execution_count": null,
   "metadata": {},
   "outputs": [],
   "source": [
    "plt.plot(t, theta)\n",
    "plt.show()"
   ]
  },
  {
   "cell_type": "markdown",
   "metadata": {},
   "source": [
    "## Fourier Transforms"
   ]
  },
  {
   "cell_type": "markdown",
   "metadata": {},
   "source": [
    "The discrete Fourier transform is defined as\n",
    "\n",
    "$$y[k] = \\sum_{n=0}^{N-1} e^{-2 \\pi i n (k / N)} x[n] $$\n",
    "\n",
    "* $k/N$ represents a specific frequency (dimensionless)\n",
    "* can be converted to a frequency (Hz) if you know the spacing in $x$"
   ]
  },
  {
   "cell_type": "code",
   "execution_count": null,
   "metadata": {},
   "outputs": [],
   "source": [
    "t = np.linspace(0, 10*np.pi, 100)\n",
    "x = np.sin(2*np.pi*t) + np.sin(4*np.pi*t) + 0.1*np.random.randn(len(t))\n",
    "plt.plot(t, x)"
   ]
  },
  {
   "cell_type": "code",
   "execution_count": null,
   "metadata": {},
   "outputs": [],
   "source": [
    "from scipy.fft import fft, fftfreq\n",
    "N = len(x)\n",
    "xf = fft(x)[:N//2]\n",
    "tf = fftfreq(N, np.diff(t)[0])[:N//2]"
   ]
  },
  {
   "cell_type": "code",
   "execution_count": null,
   "metadata": {},
   "outputs": [],
   "source": [
    "plt.plot(np.abs(tf), np.abs(xf))\n",
    "plt.show()"
   ]
  },
  {
   "cell_type": "markdown",
   "metadata": {},
   "source": [
    "# Examples"
   ]
  },
  {
   "cell_type": "markdown",
   "metadata": {},
   "source": [
    "**Example 1**. The energy required to get from point $\\vec{r}_1$ to point $\\vec{r}_2$ for a plane is given by\n",
    "\n",
    "$$ E = \\alpha \\int_{C} \\left| \\frac{d\\vec{r}}{dt} \\right| dt - \\int_C \\vec{F} \\cdot \\frac{d\\vec{r}}{dt}dt $$\n",
    "\n",
    "Suppose that $\\alpha=5$ and our start and ends points are $\\vec{r}_1 = (0,0)$ and $\\vec{r}_2 = (0, 10)$. On this particular day, the wind produces a force field $\\vec{F} = (0, -2/(x+1)^2)$. Find the optimal value of $A$ in $\\vec{r}(t) = A\\sin(\\pi t/10)\\hat{x} + t\\hat{y}$ that minimizes the work. \n",
    "\n",
    "Then $x=A\\sin(\\pi t/10)$, $y=t$, and\n",
    "\n",
    "$$\\left| \\frac{d\\vec{r}}{dt} \\right| = \\sqrt{1+(\\pi A /10)^2 \\cos^2(\\pi t/10)}$$\n",
    "\n",
    "$$\\vec{F} \\cdot d\\vec{r} = \\begin{bmatrix} 0 \\\\ -2/(A\\sin(\\pi t/10) +1)^2\\\\ \\end{bmatrix} \\cdot \\begin{bmatrix} \\pi A/10 \\cos(\\pi t/10)\\\\ 1\\\\ \\end{bmatrix} = -2/(A\\sin(\\pi t/10) +1)^2 $$\n",
    "\n",
    "so that\n",
    "\n",
    "$$ E = \\int_{0}^{10} \\left(5\\sqrt{1+(\\pi A /10)^2 \\cos^2(\\pi t/10)} + \\frac{2}{(A\\sin(\\pi t/10) +100)^2}  \\right) dt$$"
   ]
  },
  {
   "cell_type": "code",
   "execution_count": 17,
   "metadata": {},
   "outputs": [
    {
     "data": {
      "text/plain": [
       "array([1.42591231])"
      ]
     },
     "execution_count": 17,
     "metadata": {},
     "output_type": "execute_result"
    }
   ],
   "source": [
    "from scipy.integrate import quad\n",
    "def f(A): \n",
    "    integrand = lambda t: 2 / (1 + np.abs(A*np.sin(np.pi*t/10)))**2 + 5*np.sqrt(1+(np.pi*A/10)**2 * np.cos(np.pi * t / 10)**2)\n",
    "    return quad(integrand, 0, 10)[0]\n",
    "\n",
    "minimize(f, 0.001, method=\"CG\").x"
   ]
  },
  {
   "cell_type": "markdown",
   "metadata": {},
   "source": [
    "**Example 2**: Newton's law of cooling is\n",
    "\n",
    "$$\\frac{dT}{dt} = -k(T-T_s(t)) $$\n",
    "\n",
    "where $T$ is the temperature of an object in the surroundings with temperature $T_s(t)$ (which may depend on time). Suppose $T$ represents the temperature of a shallow pool of water and $T_s(t)$ represents the temperature of outside. Find $T(t)$ given that you collected measurements of the outside:\n",
    "\n"
   ]
  },
  {
   "cell_type": "code",
   "execution_count": 19,
   "metadata": {},
   "outputs": [],
   "source": [
    "t_m = np.array([ 0.,  1.04347826,  2.08695652,  3.13043478,  4.17391304,\n",
    "        5.2173913 ,  6.26086957,  7.30434783,  8.34782609,  9.39130435,\n",
    "       10.43478261, 11.47826087, 12.52173913, 13.56521739, 14.60869565,\n",
    "       15.65217391, 16.69565217, 17.73913043, 18.7826087 , 19.82608696,\n",
    "       20.86956522, 21.91304348, 22.95652174, 24.        ])\n",
    "\n",
    "temp_m = np.array([283.2322975, 284.6945461, 286.2259041, 287.8603625, 289.6440635,\n",
    "       291.6187583, 293.7939994, 296.1148895, 298.4395788, 300.5430675,\n",
    "       302.1566609, 303.0363609, 303.0363609, 302.1566609, 300.5430675,\n",
    "       298.4395788, 296.1148895, 293.7939994, 291.6187583, 289.6440635,\n",
    "       287.8603625, 286.2259041, 284.6945461, 283.2322975])"
   ]
  },
  {
   "cell_type": "code",
   "execution_count": 20,
   "metadata": {},
   "outputs": [
    {
     "data": {
      "text/plain": [
       "Text(0, 0.5, 'Temperature [K]')"
      ]
     },
     "execution_count": 20,
     "metadata": {},
     "output_type": "execute_result"
    },
    {
     "data": {
      "image/png": "[encoded data removed]",
      "text/plain": [
       "<Figure size 640x480 with 1 Axes>"
      ]
     },
     "metadata": {},
     "output_type": "display_data"
    }
   ],
   "source": [
    "plt.scatter(t_m, temp_m)\n",
    "plt.xlabel('Time [hour]')\n",
    "plt.ylabel('Temperature [K]')"
   ]
  },
  {
   "cell_type": "code",
   "execution_count": 21,
   "metadata": {},
   "outputs": [],
   "source": [
    "Ts = interp1d(t_m, temp_m, kind='cubic')"
   ]
  },
  {
   "cell_type": "code",
   "execution_count": 22,
   "metadata": {},
   "outputs": [],
   "source": [
    "def dTdt(T, t):\n",
    "    return -0.5*(T-Ts(t))\n",
    "\n",
    "times = np.linspace(1, 23, 1000)\n",
    "T0 = 284.6945461"
   ]
  },
  {
   "cell_type": "code",
   "execution_count": 25,
   "metadata": {},
   "outputs": [],
   "source": [
    "from scipy.integrate import odeint\n",
    "sol = odeint(dTdt, T0, times).T[0]"
   ]
  },
  {
   "cell_type": "code",
   "execution_count": 27,
   "metadata": {},
   "outputs": [
    {
     "data": {
      "text/plain": [
       "<matplotlib.legend.Legend at 0x12c92b1d0>"
      ]
     },
     "execution_count": 27,
     "metadata": {},
     "output_type": "execute_result"
    },
    {
     "data": {
      "image/png": "[encoded data removed]",
      "text/plain": [
       "<Figure size 640x480 with 1 Axes>"
      ]
     },
     "metadata": {},
     "output_type": "display_data"
    }
   ],
   "source": [
    "plt.plot(times, sol, label='Shallow Water temp')\n",
    "plt.scatter(t_m, temp_m, color='r', label='Outside Temp')\n",
    "plt.legend()"
   ]
  },
  {
   "cell_type": "markdown",
   "metadata": {},
   "source": [
    "# Linear Algebra"
   ]
  },
  {
   "cell_type": "markdown",
   "metadata": {},
   "source": [
    "## Basics"
   ]
  },
  {
   "cell_type": "markdown",
   "metadata": {},
   "source": [
    "Triangular matrices\n",
    "\n",
    "$$ \\begin{bmatrix} 3 & 0 & 0 & 0\\\\ 2 & 1 & 0 & 0 \\\\ 1 & 0 & 1 & 0 \\\\ 1 & 1 & 1 & 1 \\end{bmatrix} \\vec{x} = \\begin{bmatrix} 4\\\\2\\\\4\\\\2 \\end{bmatrix} $$"
   ]
  },
  {
   "cell_type": "code",
   "execution_count": 28,
   "metadata": {},
   "outputs": [
    {
     "data": {
      "text/plain": [
       "array([ 1.33333333, -0.66666667,  2.66666667, -1.33333333])"
      ]
     },
     "execution_count": 28,
     "metadata": {},
     "output_type": "execute_result"
    }
   ],
   "source": [
    "from scipy.linalg import solve_triangular\n",
    "a = np.array([[3, 0, 0, 0],\n",
    "              [2, 1, 0, 0],\n",
    "              [1, 0, 1, 0],\n",
    "              [1, 1, 1, 1]])\n",
    "b = np.array([4, 2, 4, 2])\n",
    "x = solve_triangular(a, b, lower=True)\n",
    "x"
   ]
  },
  {
   "cell_type": "markdown",
   "metadata": {},
   "source": [
    "Toeplitz Matrices (matrices with constant diagonals)"
   ]
  },
  {
   "cell_type": "markdown",
   "metadata": {},
   "source": [
    "$$ \\begin{bmatrix} 1 & -1 & 2 & 3\\\\ 3 & 1 & -1 & 2 \\\\ 6 & 3 & 1 & -1 \\\\ 10 & 6 & 3 & 1 \\end{bmatrix} \\vec{x} = \\begin{bmatrix} 1\\\\2\\\\2\\\\5 \\end{bmatrix} $$"
   ]
  },
  {
   "cell_type": "code",
   "execution_count": 29,
   "metadata": {},
   "outputs": [
    {
     "data": {
      "text/plain": [
       "array([ 1.66666667, -1.        , -2.66666667,  2.33333333])"
      ]
     },
     "execution_count": 29,
     "metadata": {},
     "output_type": "execute_result"
    }
   ],
   "source": [
    "from scipy.linalg import solve_toeplitz, toeplitz\n",
    "\n",
    "c = np.array([1, 3, 6, 10])    # First column of T\n",
    "r = np.array([1, -1, -2, -3])  # First row of T\n",
    "b = np.array([1, 2, 2, 5])\n",
    "\n",
    "x = solve_toeplitz((c, r), b)\n",
    "x"
   ]
  },
  {
   "cell_type": "markdown",
   "metadata": {},
   "source": [
    "## Eigenvalue Problems"
   ]
  },
  {
   "cell_type": "markdown",
   "metadata": {},
   "source": [
    "Eigenvalue problems can be solved using numpy, so here we focus on particular cases for optimization"
   ]
  },
  {
   "cell_type": "code",
   "execution_count": 30,
   "metadata": {},
   "outputs": [],
   "source": [
    "from scipy.linalg import eigh_tridiagonal"
   ]
  },
  {
   "cell_type": "markdown",
   "metadata": {},
   "source": [
    "$$ \\begin{bmatrix} 3 & -1 & 0 & 0\\\\ -1 & 3 & -1 & 0 \\\\ 0 & -1 & 3 & -1 \\\\ 0 & 0 & -1 & 3 \\end{bmatrix} \\vec{x} = \\lambda x $$"
   ]
  },
  {
   "cell_type": "code",
   "execution_count": 35,
   "metadata": {},
   "outputs": [],
   "source": [
    "d = 3*np.ones(4)\n",
    "e = -1*np.ones(3)\n",
    "w, v = eigh_tridiagonal(d, e)"
   ]
  },
  {
   "cell_type": "code",
   "execution_count": 37,
   "metadata": {},
   "outputs": [
    {
     "data": {
      "text/plain": [
       "array([[ 3., -1.,  0.,  0.],\n",
       "       [-1.,  3., -1.,  0.],\n",
       "       [ 0., -1.,  3., -1.],\n",
       "       [ 0.,  0., -1.,  3.]])"
      ]
     },
     "execution_count": 37,
     "metadata": {},
     "output_type": "execute_result"
    }
   ],
   "source": [
    "A = np.diag(d) + np.diag(e, k=1) + np.diag(e, k=-1)\n",
    "A"
   ]
  },
  {
   "cell_type": "code",
   "execution_count": 38,
   "metadata": {},
   "outputs": [
    {
     "data": {
      "text/plain": [
       "array([0.51374315, 0.83125388, 0.83125388, 0.51374315])"
      ]
     },
     "execution_count": 38,
     "metadata": {},
     "output_type": "execute_result"
    }
   ],
   "source": [
    "A@v.T[0]"
   ]
  },
  {
   "cell_type": "code",
   "execution_count": 39,
   "metadata": {},
   "outputs": [
    {
     "data": {
      "text/plain": [
       "array([0.51374315, 0.83125388, 0.83125388, 0.51374315])"
      ]
     },
     "execution_count": 39,
     "metadata": {},
     "output_type": "execute_result"
    }
   ],
   "source": [
    "w[0] * v.T[0]"
   ]
  },
  {
   "cell_type": "markdown",
   "metadata": {},
   "source": [
    "## Special Matrices"
   ]
  },
  {
   "cell_type": "markdown",
   "metadata": {},
   "source": [
    "Fiedler matrix $A_{ij} = |a_i - a_j|$ where $a_i$ is some sequence of numbers"
   ]
  },
  {
   "cell_type": "code",
   "execution_count": 40,
   "metadata": {},
   "outputs": [
    {
     "data": {
      "text/plain": [
       "array([[ 0,  3, 11, 44],\n",
       "       [ 3,  0,  8, 41],\n",
       "       [11,  8,  0, 33],\n",
       "       [44, 41, 33,  0]])"
      ]
     },
     "execution_count": 40,
     "metadata": {},
     "output_type": "execute_result"
    }
   ],
   "source": [
    "from scipy.linalg import fiedler\n",
    "fiedler([1, 4, 12, 45])"
   ]
  },
  {
   "cell_type": "markdown",
   "metadata": {},
   "source": [
    "Toeplitz matrices (matrices with constant diagonals)"
   ]
  },
  {
   "cell_type": "code",
   "execution_count": 41,
   "metadata": {},
   "outputs": [
    {
     "data": {
      "text/plain": [
       "array([[1, 4, 5, 6, 0, 0],\n",
       "       [2, 1, 4, 5, 6, 0],\n",
       "       [3, 2, 1, 4, 5, 6],\n",
       "       [6, 3, 2, 1, 4, 5],\n",
       "       [0, 6, 3, 2, 1, 4],\n",
       "       [0, 0, 6, 3, 2, 1]])"
      ]
     },
     "execution_count": 41,
     "metadata": {},
     "output_type": "execute_result"
    }
   ],
   "source": [
    "from scipy.linalg import toeplitz\n",
    "toeplitz([1,2,3,6,0,0], [1,4,5,6,0,0])"
   ]
  },
  {
   "cell_type": "markdown",
   "metadata": {},
   "source": [
    "https://docs.scipy.org/doc/scipy/reference/linalg.html#special-matrices"
   ]
  },
  {
   "cell_type": "markdown",
   "metadata": {},
   "source": [
    "## Decompositions"
   ]
  },
  {
   "cell_type": "markdown",
   "metadata": {},
   "source": [
    "LU decomposition $A = PLU$ where $P$ is a permutation matrix, $L$ is a lower triangular matrix and $U$ is an upper triangular matrix."
   ]
  },
  {
   "cell_type": "code",
   "execution_count": 42,
   "metadata": {},
   "outputs": [],
   "source": [
    "from scipy.linalg import lu\n",
    "A = np.array([[2, 5, 8, 7], [5, 2, 2, 8], [7, 5, 6, 6], [5, 4, 4, 8]])\n",
    "p, l, u = lu(A)"
   ]
  },
  {
   "cell_type": "markdown",
   "metadata": {},
   "source": [
    "Choleski decomposition: find matrix $C$ such that $A = CC^T$"
   ]
  },
  {
   "cell_type": "code",
   "execution_count": 47,
   "metadata": {},
   "outputs": [],
   "source": [
    "from scipy.linalg import cholesky\n",
    "A = np.array([[1,0.2],[0.2,1]])\n",
    "C = cholesky(A, lower=True)"
   ]
  },
  {
   "cell_type": "code",
   "execution_count": 48,
   "metadata": {},
   "outputs": [
    {
     "data": {
      "text/plain": [
       "array([[1.       , 0.       ],\n",
       "       [0.2      , 0.9797959]])"
      ]
     },
     "execution_count": 48,
     "metadata": {},
     "output_type": "execute_result"
    }
   ],
   "source": [
    "C"
   ]
  },
  {
   "cell_type": "code",
   "execution_count": 49,
   "metadata": {},
   "outputs": [
    {
     "data": {
      "text/plain": [
       "array([[1. , 0.2],\n",
       "       [0.2, 1. ]])"
      ]
     },
     "execution_count": 49,
     "metadata": {},
     "output_type": "execute_result"
    }
   ],
   "source": [
    "C@C.T"
   ]
  },
  {
   "cell_type": "code",
   "execution_count": 50,
   "metadata": {},
   "outputs": [
    {
     "data": {
      "text/plain": [
       "array([[1. , 0.2],\n",
       "       [0.2, 1. ]])"
      ]
     },
     "execution_count": 50,
     "metadata": {},
     "output_type": "execute_result"
    }
   ],
   "source": [
    "A"
   ]
  },
  {
   "cell_type": "markdown",
   "metadata": {},
   "source": [
    "## Sparse Matrices"
   ]
  },
  {
   "cell_type": "markdown",
   "metadata": {},
   "source": [
    "Matrices that contain lots of zeros (so lots of space can be reduced)\n",
    "\n",
    "**A Useful Example**:\n",
    "\n",
    "The second derivative of $f(x_i) \\equiv f_i$ is approximated as $\\frac{d^2 f_i}{dx^2} \\approx \\frac{f_{i+1}+f_{i-1}-2f_i}{\\Delta x^2}$. Suppose we have $f_0, ... f_4$ and $f_0=f_4=0$ (boundary conditions). Then the second derivative is approximated as \n",
    "\n",
    "$$ D \\begin{bmatrix} f_1 \\\\ f_2 \\\\ f_3\\end{bmatrix} \\hspace{10mm} \\text{where} \\hspace{2mm} D = \\frac{1}{\\Delta x^2}\\begin{bmatrix} -2 & 1 & 0 \\\\ 1 & -2 & 1 \\\\ 0 & 1 & -2 \\end{bmatrix} $$\n",
    "\n",
    "In 2D our function can be discretized on a grid\n",
    "\n",
    "$$\\begin{bmatrix} 0 & 0 & 0 & 0 & 0 \\\\ 0 & f_{11} & f_{12} & f_{13} & 0 \\\\ 0 & f_{21} & f_{22} & f_{23} & 0 \\\\ 0 & f_{31} & f_{32} & f_{33} & 0 \\\\ 0 & 0 & 0 & 0 & 0 \\end{bmatrix} $$\n",
    "\n",
    "but when doing this sort of work, its always better to store information in a vector\n",
    "\n",
    "$$\\begin{bmatrix} 0 & 0 & 0 & 0 & 0 \\\\ 0 & f_{11} & f_{12} & f_{13} & 0 \\\\ 0 & f_{21} & f_{22} & f_{23} & 0 \\\\ 0 & f_{31} & f_{32} & f_{33} & 0 \\\\ 0 & 0 & 0 & 0 & 0 \\end{bmatrix} \\to \\begin{bmatrix} f_{11} \\\\ f_{12} \\\\ f_{13} \\\\ f_{21} \\\\ f_{22} \\\\ f_{23} \\\\ f_{31} \\\\ f_{32} \\\\ f_{33} \\end{bmatrix}$$\n",
    "\n",
    "What does the 2D laplacian look like? It turns out it is the \"Kroncker sum\" of our original matrix. The second derivative is given by\n",
    "\n",
    "$$(D \\oplus D) \\begin{bmatrix} f_{11} \\\\ f_{12} \\\\ f_{13} \\\\ f_{21} \\\\ f_{22} \\\\ f_{23} \\\\ f_{31} \\\\ f_{32} \\\\ f_{33} \\end{bmatrix} \\hspace{10mm} \\text{where} \\hspace{2mm} D = \\frac{1}{\\Delta x^2}\\begin{bmatrix} -2 & 1 & 0 \\\\ 1 & -2 & 1 \\\\ 0 & 1 & -2 \\end{bmatrix} $$\n",
    "\n",
    "Note that even though $D$ is 3x3, $D \\oplus D$ is 9x9."
   ]
  },
  {
   "cell_type": "code",
   "execution_count": 51,
   "metadata": {},
   "outputs": [
    {
     "data": {
      "text/plain": [
       "array([[-4.,  1.,  0.,  0.,  0.,  1.,  0.,  0.,  0.,  0.,  0.,  0.,  0.,\n",
       "         0.,  0.,  0.,  0.,  0.,  0.,  0.,  0.,  0.,  0.,  0.,  0.],\n",
       "       [ 1., -4.,  1.,  0.,  0.,  0.,  1.,  0.,  0.,  0.,  0.,  0.,  0.,\n",
       "         0.,  0.,  0.,  0.,  0.,  0.,  0.,  0.,  0.,  0.,  0.,  0.],\n",
       "       [ 0.,  1., -4.,  1.,  0.,  0.,  0.,  1.,  0.,  0.,  0.,  0.,  0.,\n",
       "         0.,  0.,  0.,  0.,  0.,  0.,  0.,  0.,  0.,  0.,  0.,  0.],\n",
       "       [ 0.,  0.,  1., -4.,  1.,  0.,  0.,  0.,  1.,  0.,  0.,  0.,  0.,\n",
       "         0.,  0.,  0.,  0.,  0.,  0.,  0.,  0.,  0.,  0.,  0.,  0.],\n",
       "       [ 0.,  0.,  0.,  1., -4.,  0.,  0.,  0.,  0.,  1.,  0.,  0.,  0.,\n",
       "         0.,  0.,  0.,  0.,  0.,  0.,  0.,  0.,  0.,  0.,  0.,  0.],\n",
       "       [ 1.,  0.,  0.,  0.,  0., -4.,  1.,  0.,  0.,  0.,  1.,  0.,  0.,\n",
       "         0.,  0.,  0.,  0.,  0.,  0.,  0.,  0.,  0.,  0.,  0.,  0.],\n",
       "       [ 0.,  1.,  0.,  0.,  0.,  1., -4.,  1.,  0.,  0.,  0.,  1.,  0.,\n",
       "         0.,  0.,  0.,  0.,  0.,  0.,  0.,  0.,  0.,  0.,  0.,  0.],\n",
       "       [ 0.,  0.,  1.,  0.,  0.,  0.,  1., -4.,  1.,  0.,  0.,  0.,  1.,\n",
       "         0.,  0.,  0.,  0.,  0.,  0.,  0.,  0.,  0.,  0.,  0.,  0.],\n",
       "       [ 0.,  0.,  0.,  1.,  0.,  0.,  0.,  1., -4.,  1.,  0.,  0.,  0.,\n",
       "         1.,  0.,  0.,  0.,  0.,  0.,  0.,  0.,  0.,  0.,  0.,  0.],\n",
       "       [ 0.,  0.,  0.,  0.,  1.,  0.,  0.,  0.,  1., -4.,  0.,  0.,  0.,\n",
       "         0.,  1.,  0.,  0.,  0.,  0.,  0.,  0.,  0.,  0.,  0.,  0.],\n",
       "       [ 0.,  0.,  0.,  0.,  0.,  1.,  0.,  0.,  0.,  0., -4.,  1.,  0.,\n",
       "         0.,  0.,  1.,  0.,  0.,  0.,  0.,  0.,  0.,  0.,  0.,  0.],\n",
       "       [ 0.,  0.,  0.,  0.,  0.,  0.,  1.,  0.,  0.,  0.,  1., -4.,  1.,\n",
       "         0.,  0.,  0.,  1.,  0.,  0.,  0.,  0.,  0.,  0.,  0.,  0.],\n",
       "       [ 0.,  0.,  0.,  0.,  0.,  0.,  0.,  1.,  0.,  0.,  0.,  1., -4.,\n",
       "         1.,  0.,  0.,  0.,  1.,  0.,  0.,  0.,  0.,  0.,  0.,  0.],\n",
       "       [ 0.,  0.,  0.,  0.,  0.,  0.,  0.,  0.,  1.,  0.,  0.,  0.,  1.,\n",
       "        -4.,  1.,  0.,  0.,  0.,  1.,  0.,  0.,  0.,  0.,  0.,  0.],\n",
       "       [ 0.,  0.,  0.,  0.,  0.,  0.,  0.,  0.,  0.,  1.,  0.,  0.,  0.,\n",
       "         1., -4.,  0.,  0.,  0.,  0.,  1.,  0.,  0.,  0.,  0.,  0.],\n",
       "       [ 0.,  0.,  0.,  0.,  0.,  0.,  0.,  0.,  0.,  0.,  1.,  0.,  0.,\n",
       "         0.,  0., -4.,  1.,  0.,  0.,  0.,  1.,  0.,  0.,  0.,  0.],\n",
       "       [ 0.,  0.,  0.,  0.,  0.,  0.,  0.,  0.,  0.,  0.,  0.,  1.,  0.,\n",
       "         0.,  0.,  1., -4.,  1.,  0.,  0.,  0.,  1.,  0.,  0.,  0.],\n",
       "       [ 0.,  0.,  0.,  0.,  0.,  0.,  0.,  0.,  0.,  0.,  0.,  0.,  1.,\n",
       "         0.,  0.,  0.,  1., -4.,  1.,  0.,  0.,  0.,  1.,  0.,  0.],\n",
       "       [ 0.,  0.,  0.,  0.,  0.,  0.,  0.,  0.,  0.,  0.,  0.,  0.,  0.,\n",
       "         1.,  0.,  0.,  0.,  1., -4.,  1.,  0.,  0.,  0.,  1.,  0.],\n",
       "       [ 0.,  0.,  0.,  0.,  0.,  0.,  0.,  0.,  0.,  0.,  0.,  0.,  0.,\n",
       "         0.,  1.,  0.,  0.,  0.,  1., -4.,  0.,  0.,  0.,  0.,  1.],\n",
       "       [ 0.,  0.,  0.,  0.,  0.,  0.,  0.,  0.,  0.,  0.,  0.,  0.,  0.,\n",
       "         0.,  0.,  1.,  0.,  0.,  0.,  0., -4.,  1.,  0.,  0.,  0.],\n",
       "       [ 0.,  0.,  0.,  0.,  0.,  0.,  0.,  0.,  0.,  0.,  0.,  0.,  0.,\n",
       "         0.,  0.,  0.,  1.,  0.,  0.,  0.,  1., -4.,  1.,  0.,  0.],\n",
       "       [ 0.,  0.,  0.,  0.,  0.,  0.,  0.,  0.,  0.,  0.,  0.,  0.,  0.,\n",
       "         0.,  0.,  0.,  0.,  1.,  0.,  0.,  0.,  1., -4.,  1.,  0.],\n",
       "       [ 0.,  0.,  0.,  0.,  0.,  0.,  0.,  0.,  0.,  0.,  0.,  0.,  0.,\n",
       "         0.,  0.,  0.,  0.,  0.,  1.,  0.,  0.,  0.,  1., -4.,  1.],\n",
       "       [ 0.,  0.,  0.,  0.,  0.,  0.,  0.,  0.,  0.,  0.,  0.,  0.,  0.,\n",
       "         0.,  0.,  0.,  0.,  0.,  0.,  1.,  0.,  0.,  0.,  1., -4.]])"
      ]
     },
     "execution_count": 51,
     "metadata": {},
     "output_type": "execute_result"
    }
   ],
   "source": [
    "from scipy.linalg import kron # kronecker product, NOT sum\n",
    "N= 5\n",
    "d = -2*np.ones(N)\n",
    "e = np.ones(N-1)\n",
    "D = np.diag(d) + np.diag(e, k=1) + np.diag(e, k=-1)\n",
    "D_kronsum = kron(D, np.identity(N)) + kron(np.identity(N),D)\n",
    "D_kronsum"
   ]
  },
  {
   "cell_type": "markdown",
   "metadata": {},
   "source": [
    "Too big for any reasonable calculation! But can use sparse matrices"
   ]
  },
  {
   "cell_type": "code",
   "execution_count": 52,
   "metadata": {},
   "outputs": [],
   "source": [
    "from scipy import sparse\n",
    "N=100\n",
    "diag = np.ones([N])\n",
    "diags = np.array([diag, -2*diag, diag])\n",
    "D = sparse.spdiags(diags, np.array([-1,0,1]), N, N)\n",
    "T = -1/2 * sparse.kronsum(D,D)"
   ]
  },
  {
   "cell_type": "code",
   "execution_count": 54,
   "metadata": {},
   "outputs": [
    {
     "data": {
      "text/plain": [
       "<10000x10000 sparse matrix of type '<class 'numpy.float64'>'\n",
       "\twith 49600 stored elements in Compressed Sparse Row format>"
      ]
     },
     "execution_count": 54,
     "metadata": {},
     "output_type": "execute_result"
    }
   ],
   "source": [
    "T"
   ]
  },
  {
   "cell_type": "markdown",
   "metadata": {},
   "source": [
    "# Statistics"
   ]
  },
  {
   "cell_type": "markdown",
   "metadata": {},
   "source": [
    "**Example 1**: $\\beta$ distribution\n",
    "\n",
    "$$ f(x; a, b) = \\frac{\\Gamma(a+b)x^{a-1}(1-x)^{b-1}}{\\Gamma(a)\\Gamma(b)} \\hspace{20mm} 0 \\leq x \\leq 1$$"
   ]
  },
  {
   "cell_type": "code",
   "execution_count": 57,
   "metadata": {},
   "outputs": [],
   "source": [
    "from scipy.stats import beta"
   ]
  },
  {
   "cell_type": "markdown",
   "metadata": {},
   "source": [
    "Basic Statistics"
   ]
  },
  {
   "cell_type": "code",
   "execution_count": 58,
   "metadata": {},
   "outputs": [],
   "source": [
    "a, b = 2.5, 3.1\n",
    "mean, var, skew, kurt = beta.stats(a, b, moments='mvsk')"
   ]
  },
  {
   "cell_type": "code",
   "execution_count": 62,
   "metadata": {},
   "outputs": [
    {
     "data": {
      "text/plain": [
       "(0.44642857142857145,\n",
       " 0.03744395485466914,\n",
       " 0.14570980275128334,\n",
       " -0.6695305405298693)"
      ]
     },
     "execution_count": 62,
     "metadata": {},
     "output_type": "execute_result"
    }
   ],
   "source": [
    "mean, var, skew, kurt"
   ]
  },
  {
   "cell_type": "markdown",
   "metadata": {},
   "source": [
    "Probability Distribution Plotting:"
   ]
  },
  {
   "cell_type": "code",
   "execution_count": 63,
   "metadata": {},
   "outputs": [
    {
     "data": {
      "text/plain": [
       "[<matplotlib.lines.Line2D at 0x1622a77a0>]"
      ]
     },
     "execution_count": 63,
     "metadata": {},
     "output_type": "execute_result"
    },
    {
     "data": {
      "image/png": "[encoded data removed]",
      "text/plain": [
       "<Figure size 640x480 with 1 Axes>"
      ]
     },
     "metadata": {},
     "output_type": "display_data"
    }
   ],
   "source": [
    "x = np.linspace(beta.ppf(0, a, b), beta.ppf(1, a, b), 100)\n",
    "plt.plot(x, beta.pdf(x, a, b))"
   ]
  },
  {
   "cell_type": "markdown",
   "metadata": {},
   "source": [
    "Generating Random Variables:"
   ]
  },
  {
   "cell_type": "code",
   "execution_count": 64,
   "metadata": {},
   "outputs": [
    {
     "data": {
      "text/plain": [
       "array([0.37948803, 0.24900911, 0.46367173, 0.23676142, 0.25543023,\n",
       "       0.72190594, 0.36760822, 0.43214364, 0.82851705, 0.18932567])"
      ]
     },
     "execution_count": 64,
     "metadata": {},
     "output_type": "execute_result"
    }
   ],
   "source": [
    "r = beta.rvs(a, b, size=10)\n",
    "r"
   ]
  },
  {
   "cell_type": "markdown",
   "metadata": {},
   "source": [
    "**Example 2**: Gaussian Distribution\n",
    "\n",
    "$$ f(x; \\mu, \\sigma) = \\frac{1}{\\sqrt{2 \\pi \\sigma^2}} \\text{exp}\\left(-\\frac{(x-\\mu)^2}{\\sigma^2} \\right) \\hspace{20mm} -\\infty < x \\leq \\infty $$"
   ]
  },
  {
   "cell_type": "code",
   "execution_count": 65,
   "metadata": {},
   "outputs": [],
   "source": [
    "from scipy.stats import norm"
   ]
  },
  {
   "cell_type": "code",
   "execution_count": 66,
   "metadata": {},
   "outputs": [],
   "source": [
    "mu = 1\n",
    "sigma = 2\n",
    "mean, var = norm.stats(loc=mu, scale=sigma, moments='mv')"
   ]
  },
  {
   "cell_type": "code",
   "execution_count": 67,
   "metadata": {},
   "outputs": [
    {
     "data": {
      "text/plain": [
       "[<matplotlib.lines.Line2D at 0x16234ca40>]"
      ]
     },
     "execution_count": 67,
     "metadata": {},
     "output_type": "execute_result"
    },
    {
     "data": {
      "image/png": "[encoded data removed]",
      "text/plain": [
       "<Figure size 640x480 with 1 Axes>"
      ]
     },
     "metadata": {},
     "output_type": "display_data"
    }
   ],
   "source": [
    "x = np.linspace(norm.ppf(0.01, mu, sigma), norm.ppf(0.99, mu, sigma), 100)\n",
    "plt.plot(x, norm.pdf(x, mu, sigma))"
   ]
  },
  {
   "cell_type": "markdown",
   "metadata": {},
   "source": [
    "**Example 3**: Multinomial Distribution\n",
    "\n",
    "$$ f(x_1, x_2, ..., x_k; p_1, p_2, ... p_k, n) = \\frac{n!}{x_1! ... x_k!}p_1^{x_1}p_2^{x_2}...p_k^{x_k}$$"
   ]
  },
  {
   "cell_type": "markdown",
   "metadata": {},
   "source": [
    "Rolling a die"
   ]
  },
  {
   "cell_type": "code",
   "execution_count": 68,
   "metadata": {},
   "outputs": [
    {
     "data": {
      "text/plain": [
       "2.143347050754453e-05"
      ]
     },
     "execution_count": 68,
     "metadata": {},
     "output_type": "execute_result"
    }
   ],
   "source": [
    "from scipy.stats import multinomial\n",
    "\n",
    "p = np.ones(6)/6\n",
    "multinomial.pmf([6,0,0,0,0,0], n=6, p=p)"
   ]
  },
  {
   "cell_type": "code",
   "execution_count": 69,
   "metadata": {},
   "outputs": [
    {
     "data": {
      "text/plain": [
       "array([[16, 19, 15, 15, 21, 14],\n",
       "       [17, 17, 17, 14, 19, 16],\n",
       "       [19, 15, 18, 14, 16, 18],\n",
       "       [13, 12, 12, 19, 23, 21],\n",
       "       [20, 19, 18, 11, 15, 17]])"
      ]
     },
     "execution_count": 69,
     "metadata": {},
     "output_type": "execute_result"
    }
   ],
   "source": [
    "multinomial.rvs(n=100, p=p, size=5)"
   ]
  },
  {
   "cell_type": "markdown",
   "metadata": {},
   "source": [
    "**Example 4**: Generating Random Numbers from your own distribution\n",
    "\n",
    "$$ f(x; a_1, a_2, b_1, b_2) = \\frac{1}{2(a_1b_1+a_2b_2)} \\left(b_1\\exp\\left(-\\sqrt{\\frac{x}{a_1}}\\right)+b_2\\exp\\left(-\\sqrt{\\frac{x}{a_2}}\\right)\\right) \\hspace{20mm} 0 \\leq x \\leq \\infty $$"
   ]
  },
  {
   "cell_type": "code",
   "execution_count": 76,
   "metadata": {},
   "outputs": [],
   "source": [
    "import scipy.stats as st\n",
    "\n",
    "class mr_p_solver_dist(st.rv_continuous):\n",
    "    def _pdf(self,x, a1, a2, b1, b2):\n",
    "        return 1/(2*(a1*b1+a2*b2))*(b1*np.exp(-np.sqrt(x/a1)) + b2*np.exp(-np.sqrt(x/a2)))\n",
    "my_rv = mr_p_solver_dist(a=0, b=np.inf)"
   ]
  },
  {
   "cell_type": "code",
   "execution_count": 77,
   "metadata": {},
   "outputs": [],
   "source": [
    "a1, a2, b1, b2 = 2, 3, 1, 2\n",
    "x = np.linspace(my_rv.ppf(0.01, a1, a2, b1, b2), my_rv.ppf(0.99, a1, a2, b1, b2), 100)\n",
    "y = my_rv.pdf(x, a1, a2, b1, b2)"
   ]
  },
  {
   "cell_type": "code",
   "execution_count": 80,
   "metadata": {},
   "outputs": [
    {
     "data": {
      "image/png": "[encoded data removed]",
      "text/plain": [
       "<Figure size 640x480 with 1 Axes>"
      ]
     },
     "metadata": {},
     "output_type": "display_data"
    }
   ],
   "source": [
    "plt.plot(x, y)\n",
    "plt.semilogy()\n",
    "plt.show()"
   ]
  },
  {
   "cell_type": "code",
   "execution_count": 81,
   "metadata": {},
   "outputs": [
    {
     "data": {
      "text/plain": [
       "array([10.8790891 , 13.24519137,  4.37092378, 14.375828  , 12.56471824,\n",
       "        8.51473249,  6.5629537 ,  3.01165853, 22.3576172 ,  1.31163468])"
      ]
     },
     "execution_count": 81,
     "metadata": {},
     "output_type": "execute_result"
    }
   ],
   "source": [
    "my_rv.rvs(a1, a2, b1, b2, size=10)"
   ]
  },
  {
   "cell_type": "markdown",
   "metadata": {},
   "source": [
    "This is slow, so it is typical to define your own `_rvs` method in the variable class"
   ]
  },
  {
   "cell_type": "code",
   "execution_count": 82,
   "metadata": {},
   "outputs": [],
   "source": [
    "class mr_p_solver_dist(st.rv_continuous):\n",
    "    def _pdf(self,x, a1, a2, b1, b2):\n",
    "        return 1/(2*(a1*b1+a2*b2))*(b1*np.exp(-np.sqrt(x/a1)) + b2*np.exp(-np.sqrt(x/a2)))\n",
    "    def _cdf(self, x, a1, a2, b1, b2):\n",
    "        return 1/(2*(a1*b1+a2*b2))* ( -2*a1*b1*(np.sqrt(x/a1)+1)*np.exp(-np.sqrt(x/a1)) \\\n",
    "           -2*a2*b2*(np.sqrt(x/b2)+1)*np.exp(-np.sqrt(x/b2)) \\\n",
    "           + 2*a1*b1 + 2*a2*b2 )\n",
    "    def _rvs(self, a1, a2, b1, b2, delta=0.001, size=None, random_state=None):\n",
    "        a_min = min([a1, a2])\n",
    "        x = np.linspace(0, a_min*np.log(1/delta)**2, 10000)\n",
    "        r = np.random.rand(size)\n",
    "        return x[np.searchsorted(self._cdf(x[:-1], a1, a2, b1, b2), r)]"
   ]
  },
  {
   "cell_type": "code",
   "execution_count": 83,
   "metadata": {},
   "outputs": [
    {
     "data": {
      "text/plain": [
       "array([10.17429952,  7.2155445 , 15.15646121, ...,  9.52528229,\n",
       "        3.34052986,  7.70230743])"
      ]
     },
     "execution_count": 83,
     "metadata": {},
     "output_type": "execute_result"
    }
   ],
   "source": [
    "my_rv = mr_p_solver_dist(a=0, b=np.inf)\n",
    "my_rv._rvs(a1, a2, b1, b2, size=10000)"
   ]
  },
  {
   "cell_type": "code",
   "execution_count": null,
   "metadata": {},
   "outputs": [],
   "source": []
  }
 ],
 "metadata": {
  "kernelspec": {
   "display_name": "Python 3 (ipykernel)",
   "language": "python",
   "name": "python3"
  },
  "language_info": {
   "codemirror_mode": {
    "name": "ipython",
    "version": 3
   },
   "file_extension": ".py",
   "mimetype": "text/x-python",
   "name": "python",
   "nbconvert_exporter": "python",
   "pygments_lexer": "ipython3",
   "version": "3.12.3"
  }
 },
 "nbformat": 4,
 "nbformat_minor": 4
}
