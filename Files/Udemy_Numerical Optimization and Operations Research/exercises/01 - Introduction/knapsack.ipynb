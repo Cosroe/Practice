{
 "cells": [
  {
   "cell_type": "markdown",
   "metadata": {},
   "source": [
    "# Knapsack"
   ]
  },
  {
   "cell_type": "markdown",
   "metadata": {},
   "source": [
    "$$\n",
    "\\begin{align}\n",
    "    \\text{max} & \\quad \\sum_{i \\in I} c_{i} x_{i}\\\\\n",
    "    \\text{s.t.} & \\quad \\sum_{i \\in I} w_{i} x_{i} \\leq Q\\\\\n",
    "    & x_{i} \\in \\{0, 1\\} & \\forall i \\in I\n",
    "\\end{align}\n",
    "$$"
   ]
  },
  {
   "cell_type": "code",
   "execution_count": 1,
   "metadata": {},
   "outputs": [],
   "source": [
    "import pyomo.environ as pyo"
   ]
  },
  {
   "cell_type": "code",
   "execution_count": 2,
   "metadata": {},
   "outputs": [],
   "source": [
    "# Define input data\n",
    "costs = {\n",
    "\"A\": 4,\n",
    "\"B\": 2,\n",
    "\"C\": 10,\n",
    "\"D\": 5,\n",
    "\"E\": 6,\n",
    "}\n",
    "\n",
    "weights = {\n",
    "\"A\": 3,\n",
    "\"B\": 2,\n",
    "\"C\": 7,\n",
    "\"D\": 4,\n",
    "\"E\": 5,\n",
    "}\n",
    "\n",
    "capacity = 11"
   ]
  },
  {
   "cell_type": "code",
   "execution_count": 3,
   "metadata": {},
   "outputs": [],
   "source": [
    "# Instantiate model as a Pyomo ConcreteModel\n",
    "model = pyo.ConcreteModel()"
   ]
  },
  {
   "cell_type": "code",
   "execution_count": 4,
   "metadata": {},
   "outputs": [],
   "source": [
    "# Sets\n",
    "model.I = pyo.Set(initialize=costs.keys())"
   ]
  },
  {
   "cell_type": "code",
   "execution_count": 5,
   "metadata": {},
   "outputs": [],
   "source": [
    "# Parameters\n",
    "model.c = pyo.Param(model.I, initialize=costs)\n",
    "model.w = pyo.Param(model.I, initialize=weights)\n",
    "model.Q = pyo.Param(initialize=capacity)"
   ]
  },
  {
   "cell_type": "code",
   "execution_count": 6,
   "metadata": {},
   "outputs": [],
   "source": [
    "# Variables\n",
    "model.x = pyo.Var(model.I, within=pyo.Binary)"
   ]
  },
  {
   "cell_type": "code",
   "execution_count": 7,
   "metadata": {},
   "outputs": [],
   "source": [
    "# Constraints\n",
    "def capacity_cstr(model):\n",
    "    return sum(model.w[i] * model.x[i] for i in model.I) <= model.Q\n",
    "\n",
    "\n",
    "model.cap_cstr = pyo.Constraint(rule=capacity_cstr)"
   ]
  },
  {
   "cell_type": "code",
   "execution_count": 8,
   "metadata": {},
   "outputs": [],
   "source": [
    "# Objective\n",
    "def obj(model):\n",
    "    return sum(model.c[i] * model.x[i] for i in model.I)\n",
    "\n",
    "\n",
    "model.obj = pyo.Objective(rule=obj, sense=pyo.maximize)"
   ]
  },
  {
   "cell_type": "code",
   "execution_count": 9,
   "metadata": {},
   "outputs": [
    {
     "name": "stdout",
     "output_type": "stream",
     "text": [
      "I : Size=1, Index=None, Ordered=Insertion\n",
      "    Key  : Dimen : Domain : Size : Members\n",
      "    None :     1 :    Any :    5 : {'A', 'B', 'C', 'D', 'E'}\n",
      "____________________________________________________________\n",
      "x : Size=5, Index=I\n",
      "    Key : Lower : Value : Upper : Fixed : Stale : Domain\n",
      "      A :     0 :  None :     1 : False :  True : Binary\n",
      "      B :     0 :  None :     1 : False :  True : Binary\n",
      "      C :     0 :  None :     1 : False :  True : Binary\n",
      "      D :     0 :  None :     1 : False :  True : Binary\n",
      "      E :     0 :  None :     1 : False :  True : Binary\n",
      "____________________________________________________________\n",
      "w : Size=5, Index=I, Domain=Any, Default=None, Mutable=False\n",
      "    Key : Value\n",
      "      A :     3\n",
      "      B :     2\n",
      "      C :     7\n",
      "      D :     4\n",
      "      E :     5\n",
      "____________________________________________________________\n",
      "c : Size=5, Index=I, Domain=Any, Default=None, Mutable=False\n",
      "    Key : Value\n",
      "      A :     4\n",
      "      B :     2\n",
      "      C :    10\n",
      "      D :     5\n",
      "      E :     6\n",
      "____________________________________________________________\n",
      "Q : Size=1, Index=None, Domain=Any, Default=None, Mutable=False\n",
      "    Key  : Value\n",
      "    None :    11\n"
     ]
    }
   ],
   "source": [
    "model.I.display()\n",
    "print('_'*60)\n",
    "model.x.display()\n",
    "print('_'*60)\n",
    "model.w.display()\n",
    "print('_'*60)\n",
    "model.c.display()\n",
    "print('_'*60)\n",
    "model.Q.display()"
   ]
  },
  {
   "cell_type": "code",
   "execution_count": 10,
   "metadata": {},
   "outputs": [],
   "source": [
    "# Instantiate Highs persistent solver (make sure highspy is installed)\n",
    "# solver = pyo.SolverFactory(\"appsi_highs\")\n",
    "solver = pyo.SolverFactory(\"appsi_highs\")"
   ]
  },
  {
   "cell_type": "code",
   "execution_count": 11,
   "metadata": {},
   "outputs": [],
   "source": [
    "solver.set_instance(model)"
   ]
  },
  {
   "cell_type": "code",
   "execution_count": 12,
   "metadata": {},
   "outputs": [
    {
     "data": {
      "text/plain": [
       "{'Problem': [{'Lower bound': 15.0, 'Upper bound': 15.0, 'Number of objectives': 1, 'Number of constraints': 0, 'Number of variables': 0, 'Sense': 'maximize'}], 'Solver': [{'Status': 'ok', 'Termination condition': 'optimal', 'Termination message': 'TerminationCondition.optimal'}], 'Solution': [OrderedDict([('number of solutions', 0), ('number of solutions displayed', 0)])]}"
      ]
     },
     "execution_count": 12,
     "metadata": {},
     "output_type": "execute_result"
    }
   ],
   "source": [
    "# Apply method solve\n",
    "solver.solve(model)"
   ]
  },
  {
   "cell_type": "code",
   "execution_count": 13,
   "metadata": {},
   "outputs": [
    {
     "data": {
      "text/plain": [
       "{'A': -0.0, 'B': 0.0, 'C': 1.0, 'D': 1.0, 'E': 0.0}"
      ]
     },
     "execution_count": 13,
     "metadata": {},
     "output_type": "execute_result"
    }
   ],
   "source": [
    "# Create output dictionary from variables\n",
    "model.x.extract_values()"
   ]
  }
 ],
 "metadata": {
  "kernelspec": {
   "display_name": "venv",
   "language": "python",
   "name": "python3"
  },
  "language_info": {
   "codemirror_mode": {
    "name": "ipython",
    "version": 3
   },
   "file_extension": ".py",
   "mimetype": "text/x-python",
   "name": "python",
   "nbconvert_exporter": "python",
   "pygments_lexer": "ipython3",
   "version": "3.11.9"
  },
  "orig_nbformat": 4
 },
 "nbformat": 4,
 "nbformat_minor": 2
}
