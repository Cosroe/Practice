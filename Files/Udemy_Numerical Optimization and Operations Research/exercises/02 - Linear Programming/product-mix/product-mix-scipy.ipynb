{
 "cells": [
  {
   "cell_type": "markdown",
   "metadata": {},
   "source": [
    "# Product-mix Scipy"
   ]
  },
  {
   "cell_type": "markdown",
   "metadata": {},
   "source": [
    "$$\n",
    "\\begin{align}\n",
    "    \\text{max} \\quad & \\sum_{j \\in J} c_j x_j \\\\\n",
    "    \\text{s.t.} \\quad & \\sum_{j \\in J} a_{i, j} x_{j} \\leq b_{i} & \\forall \\; i \\in I \\\\\n",
    "    & x_{j} \\geq 0 & \\forall \\; j \\in J \\\\\n",
    "\\end{align}\n",
    "$$"
   ]
  },
  {
   "cell_type": "code",
   "execution_count": 1,
   "metadata": {},
   "outputs": [],
   "source": [
    "# Python native modules\n",
    "import json\n",
    "\n",
    "# Third-party packages\n",
    "import numpy as np\n",
    "from scipy.optimize import linprog"
   ]
  },
  {
   "cell_type": "code",
   "execution_count": 2,
   "metadata": {},
   "outputs": [],
   "source": [
    "# Read input file and store in local variable `input_data`\n",
    "with open(\"input_prod_mix.json\", mode=\"r\", encoding=\"utf8\") as file:\n",
    "    input_data = json.load(file)"
   ]
  },
  {
   "cell_type": "code",
   "execution_count": 3,
   "metadata": {},
   "outputs": [
    {
     "data": {
      "text/plain": [
       "{'margins': [{'product': 'P1', 'value': 2.15},\n",
       "  {'product': 'P2', 'value': 1.34},\n",
       "  {'product': 'P3', 'value': 1.72}],\n",
       " 'availabilities': [{'resource': 'R1', 'value': 80},\n",
       "  {'resource': 'R2', 'value': 30},\n",
       "  {'resource': 'R3', 'value': 25}],\n",
       " 'proportions': [{'resource': 'R1', 'product': 'P1', 'proportion': 0.7},\n",
       "  {'resource': 'R1', 'product': 'P2', 'proportion': 0.3333333333333333},\n",
       "  {'resource': 'R1', 'product': 'P3', 'proportion': 0.5},\n",
       "  {'resource': 'R2', 'product': 'P1', 'proportion': 0.2},\n",
       "  {'resource': 'R2', 'product': 'P2', 'proportion': 0.6666666666666666},\n",
       "  {'resource': 'R2', 'product': 'P3', 'proportion': 0.16666666666666666},\n",
       "  {'resource': 'R3', 'product': 'P1', 'proportion': 0.1},\n",
       "  {'resource': 'R3', 'product': 'P2', 'proportion': 0.0},\n",
       "  {'resource': 'R3', 'product': 'P3', 'proportion': 0.3333333333333333}]}"
      ]
     },
     "execution_count": 3,
     "metadata": {},
     "output_type": "execute_result"
    }
   ],
   "source": [
    "input_data"
   ]
  },
  {
   "cell_type": "code",
   "execution_count": 4,
   "metadata": {},
   "outputs": [],
   "source": [
    "# Sets (with corresponding indexes)\n",
    "resources = {item[\"resource\"]: j for j, item in enumerate(input_data[\"availabilities\"])}\n",
    "products = {item[\"product\"]: i for i, item in enumerate(input_data[\"margins\"])}\n",
    "\n",
    "# Parameters\n",
    "availabilities = {item[\"resource\"]: item[\"value\"] for item in input_data[\"availabilities\"]}\n",
    "margins = {item[\"product\"]: item[\"value\"] for item in input_data[\"margins\"]}\n",
    "proportions = {(item[\"resource\"], item[\"product\"]): item[\"proportion\"] for item in input_data[\"proportions\"]}"
   ]
  },
  {
   "cell_type": "code",
   "execution_count": 8,
   "metadata": {},
   "outputs": [
    {
     "data": {
      "text/plain": [
       "{'R1': 0, 'R2': 1, 'R3': 2}"
      ]
     },
     "execution_count": 8,
     "metadata": {},
     "output_type": "execute_result"
    }
   ],
   "source": [
    "resources"
   ]
  },
  {
   "cell_type": "code",
   "execution_count": 9,
   "metadata": {},
   "outputs": [
    {
     "data": {
      "text/plain": [
       "{'P1': 0, 'P2': 1, 'P3': 2}"
      ]
     },
     "execution_count": 9,
     "metadata": {},
     "output_type": "execute_result"
    }
   ],
   "source": [
    "products"
   ]
  },
  {
   "cell_type": "code",
   "execution_count": 10,
   "metadata": {},
   "outputs": [
    {
     "data": {
      "text/plain": [
       "{'R1': 80, 'R2': 30, 'R3': 25}"
      ]
     },
     "execution_count": 10,
     "metadata": {},
     "output_type": "execute_result"
    }
   ],
   "source": [
    "availabilities"
   ]
  },
  {
   "cell_type": "code",
   "execution_count": 11,
   "metadata": {},
   "outputs": [
    {
     "data": {
      "text/plain": [
       "{'P1': 2.15, 'P2': 1.34, 'P3': 1.72}"
      ]
     },
     "execution_count": 11,
     "metadata": {},
     "output_type": "execute_result"
    }
   ],
   "source": [
    "margins"
   ]
  },
  {
   "cell_type": "code",
   "execution_count": 12,
   "metadata": {},
   "outputs": [
    {
     "data": {
      "text/plain": [
       "{('R1', 'P1'): 0.7,\n",
       " ('R1', 'P2'): 0.3333333333333333,\n",
       " ('R1', 'P3'): 0.5,\n",
       " ('R2', 'P1'): 0.2,\n",
       " ('R2', 'P2'): 0.6666666666666666,\n",
       " ('R2', 'P3'): 0.16666666666666666,\n",
       " ('R3', 'P1'): 0.1,\n",
       " ('R3', 'P2'): 0.0,\n",
       " ('R3', 'P3'): 0.3333333333333333}"
      ]
     },
     "execution_count": 12,
     "metadata": {},
     "output_type": "execute_result"
    }
   ],
   "source": [
    "proportions"
   ]
  },
  {
   "cell_type": "code",
   "execution_count": 5,
   "metadata": {},
   "outputs": [],
   "source": [
    "# Create fixed parameters\n",
    "c = np.empty(len(products))\n",
    "b = np.empty(len(resources))\n",
    "A = np.empty((len(resources), len(products)))\n",
    "\n",
    "\n",
    "# Fill parameters\n",
    "for r, i in resources.items():\n",
    "    b[i] = availabilities[r]\n",
    "\n",
    "for p, j in products.items():\n",
    "    c[j] = -margins[p]\n",
    "\n",
    "for r, i in resources.items():\n",
    "    for p, j in products.items():\n",
    "        A[i, j] = proportions[r, p]"
   ]
  },
  {
   "cell_type": "code",
   "execution_count": 6,
   "metadata": {},
   "outputs": [],
   "source": [
    "# Apply linprog function\n",
    "sol = linprog(c, A_ub=A, b_ub=b, bounds=(0, None))"
   ]
  },
  {
   "cell_type": "code",
   "execution_count": 13,
   "metadata": {},
   "outputs": [
    {
     "data": {
      "text/plain": [
       "        message: Optimization terminated successfully. (HiGHS Status 7: Optimal)\n",
       "        success: True\n",
       "         status: 0\n",
       "            fun: -258.8526315789474\n",
       "              x: [ 7.105e+01  1.026e+01  5.368e+01]\n",
       "            nit: 3\n",
       "          lower:  residual: [ 7.105e+01  1.026e+01  5.368e+01]\n",
       "                 marginals: [ 0.000e+00  0.000e+00  0.000e+00]\n",
       "          upper:  residual: [       inf        inf        inf]\n",
       "                 marginals: [ 0.000e+00  0.000e+00  0.000e+00]\n",
       "          eqlin:  residual: []\n",
       "                 marginals: []\n",
       "        ineqlin:  residual: [ 0.000e+00  0.000e+00  0.000e+00]\n",
       "                 marginals: [-2.805e+00 -6.074e-01 -6.484e-01]\n",
       " mip_node_count: 0\n",
       " mip_dual_bound: 0.0\n",
       "        mip_gap: 0.0"
      ]
     },
     "execution_count": 13,
     "metadata": {},
     "output_type": "execute_result"
    }
   ],
   "source": [
    "sol"
   ]
  },
  {
   "cell_type": "code",
   "execution_count": 7,
   "metadata": {},
   "outputs": [
    {
     "name": "stdout",
     "output_type": "stream",
     "text": [
      "71.05 units of Product 0\n",
      "10.26 units of Product 1\n",
      "53.68 units of Product 2\n"
     ]
    }
   ],
   "source": [
    "# Print results\n",
    "for j, xi in enumerate(sol.x):\n",
    "    print(f\"{xi:.2f} units of Product {j}\")"
   ]
  }
 ],
 "metadata": {
  "kernelspec": {
   "display_name": "venv",
   "language": "python",
   "name": "python3"
  },
  "language_info": {
   "codemirror_mode": {
    "name": "ipython",
    "version": 3
   },
   "file_extension": ".py",
   "mimetype": "text/x-python",
   "name": "python",
   "nbconvert_exporter": "python",
   "pygments_lexer": "ipython3",
   "version": "3.12.4"
  }
 },
 "nbformat": 4,
 "nbformat_minor": 2
}
