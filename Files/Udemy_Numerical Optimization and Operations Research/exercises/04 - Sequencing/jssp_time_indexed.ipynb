{
 "cells": [
  {
   "cell_type": "markdown",
   "metadata": {},
   "source": [
    "# Time-indexed Job-Shop"
   ]
  },
  {
   "cell_type": "markdown",
   "metadata": {},
   "source": [
    "$$\n",
    "\\begin{align}\n",
    "    \\text{min} \\quad & C \\\\\n",
    "    \\text{s.t.} \\quad & \\sum_{t \\in T}{y_{m, j, t}} = 1\n",
    "        & \\forall ~ j \\in J; m \\in M \\\\\n",
    "    & \\sum_{j \\in J} x_{m, j, t} \\leq 1\n",
    "        & \\forall ~ m \\in M; t \\in T \\\\\n",
    "    & \\sum_{t \\in T}{(t + p_{\\sigma_{h - 1}^j, j}) y_{\\sigma_{h - 1}^j, j, t}} \\leq\n",
    "    \\sum_{t \\in T}{t y_{\\sigma_{h}^j, j, t}}\n",
    "        & \\forall ~ j \\in J; h \\in (1, 2, ..., |M|) \\\\\n",
    "    & y_{m, j, t} \\leq x_{m, j, t}\n",
    "        & \\forall ~ m \\in M; j \\in J; t \\in T \\\\\n",
    "    & y_{m, j, t} \\leq 1 - x_{m, j, t - 1}\n",
    "        & \\forall ~ m \\in M; j \\in J; t \\in T \\setminus \\{0\\} \\\\\n",
    "    & x_{m, j, t} - x_{m, j, t - 1} \\leq y_{m, j, t}\n",
    "        & \\forall ~ m \\in M; j \\in J; t \\in T \\setminus \\{0\\} \\\\\n",
    "    & t x_{m, j, t} \\leq C\n",
    "        & \\forall ~ m \\in M; j \\in J; t \\in T \\\\\n",
    "\n",
    "    & y_{m, j, t}, x_{m, j, t} \\in \\{0, 1\\} & \\forall ~ j; m \\in M; t \\in T\\\\\n",
    "\\end{align}\n",
    "$$"
   ]
  },
  {
   "cell_type": "code",
   "execution_count": 56,
   "metadata": {},
   "outputs": [],
   "source": [
    "import json\n",
    "import os\n",
    "\n",
    "import numpy as np\n",
    "import pyomo.environ as pyo\n",
    "import matplotlib.pyplot as plt\n",
    "import matplotlib as mpl"
   ]
  },
  {
   "cell_type": "code",
   "execution_count": 57,
   "metadata": {},
   "outputs": [],
   "source": [
    "with open(os.path.join(\"data\", \"random_3_4.json\"), mode=\"r\") as file:\n",
    "    data = json.load(file)"
   ]
  },
  {
   "cell_type": "code",
   "execution_count": 58,
   "metadata": {},
   "outputs": [
    {
     "data": {
      "text/plain": [
       "{'technology': [[0, 1, 2], [2, 0, 1], [1, 2, 0], [0, 1, 2]],\n",
       " 'processing': [{'machine': 0, 'job': 0, 'time': 9},\n",
       "  {'machine': 0, 'job': 1, 'time': 10},\n",
       "  {'machine': 0, 'job': 2, 'time': 18},\n",
       "  {'machine': 0, 'job': 3, 'time': 14},\n",
       "  {'machine': 1, 'job': 0, 'time': 7},\n",
       "  {'machine': 1, 'job': 1, 'time': 16},\n",
       "  {'machine': 1, 'job': 2, 'time': 11},\n",
       "  {'machine': 1, 'job': 3, 'time': 15},\n",
       "  {'machine': 2, 'job': 0, 'time': 5},\n",
       "  {'machine': 2, 'job': 1, 'time': 10},\n",
       "  {'machine': 2, 'job': 2, 'time': 13},\n",
       "  {'machine': 2, 'job': 3, 'time': 17}]}"
      ]
     },
     "execution_count": 58,
     "metadata": {},
     "output_type": "execute_result"
    }
   ],
   "source": [
    "data"
   ]
  },
  {
   "cell_type": "code",
   "execution_count": 59,
   "metadata": {},
   "outputs": [],
   "source": [
    "machines = sorted(data[\"technology\"][0])\n",
    "jobs = list(range(len(data[\"technology\"])))\n",
    "processing = {\n",
    "    (record[\"machine\"], record[\"job\"]): record[\"time\"]\n",
    "    for record in data[\"processing\"]\n",
    "}\n",
    "sequences = [\n",
    "    (m1, row[h + 1], j)\n",
    "    for j, row in enumerate(data[\"technology\"])\n",
    "    for h, m1 in enumerate(row[:-1])\n",
    "]"
   ]
  },
  {
   "cell_type": "code",
   "execution_count": 60,
   "metadata": {},
   "outputs": [
    {
     "data": {
      "text/plain": [
       "[0, 1, 2]"
      ]
     },
     "execution_count": 60,
     "metadata": {},
     "output_type": "execute_result"
    }
   ],
   "source": [
    "machines"
   ]
  },
  {
   "cell_type": "code",
   "execution_count": 61,
   "metadata": {},
   "outputs": [
    {
     "data": {
      "text/plain": [
       "[0, 1, 2, 3]"
      ]
     },
     "execution_count": 61,
     "metadata": {},
     "output_type": "execute_result"
    }
   ],
   "source": [
    "jobs"
   ]
  },
  {
   "cell_type": "code",
   "execution_count": 62,
   "metadata": {},
   "outputs": [
    {
     "data": {
      "text/plain": [
       "[(0, 1, 0),\n",
       " (1, 2, 0),\n",
       " (2, 0, 1),\n",
       " (0, 1, 1),\n",
       " (1, 2, 2),\n",
       " (2, 0, 2),\n",
       " (0, 1, 3),\n",
       " (1, 2, 3)]"
      ]
     },
     "execution_count": 62,
     "metadata": {},
     "output_type": "execute_result"
    }
   ],
   "source": [
    "sequences"
   ]
  },
  {
   "cell_type": "code",
   "execution_count": 63,
   "metadata": {},
   "outputs": [
    {
     "data": {
      "text/plain": [
       "{(0, 0): 9,\n",
       " (0, 1): 10,\n",
       " (0, 2): 18,\n",
       " (0, 3): 14,\n",
       " (1, 0): 7,\n",
       " (1, 1): 16,\n",
       " (1, 2): 11,\n",
       " (1, 3): 15,\n",
       " (2, 0): 5,\n",
       " (2, 1): 10,\n",
       " (2, 2): 13,\n",
       " (2, 3): 17}"
      ]
     },
     "execution_count": 63,
     "metadata": {},
     "output_type": "execute_result"
    }
   ],
   "source": [
    "processing"
   ]
  },
  {
   "cell_type": "markdown",
   "metadata": {},
   "source": [
    "## pyomo"
   ]
  },
  {
   "cell_type": "code",
   "execution_count": 64,
   "metadata": {},
   "outputs": [],
   "source": [
    "model = pyo.ConcreteModel()"
   ]
  },
  {
   "cell_type": "code",
   "execution_count": 65,
   "metadata": {},
   "outputs": [],
   "source": [
    "# Sets for machines, jobs, horizon, and job sequences\n",
    "model.M = pyo.Set(initialize=machines)\n",
    "model.J = pyo.Set(initialize=jobs)\n",
    "model.T = pyo.Set(initialize=range(sum(p for p in processing.values())))\n",
    "\n",
    "# This set was an additional resource to handle technology order\n",
    "# It should go like (machine, job, job_before) based on `sequences`\n",
    "model.Sigma = pyo.Set(initialize=sequences)"
   ]
  },
  {
   "cell_type": "code",
   "execution_count": 66,
   "metadata": {},
   "outputs": [],
   "source": [
    "# Parameters\n",
    "model.p = pyo.Param(model.M, model.J, initialize=processing)"
   ]
  },
  {
   "cell_type": "code",
   "execution_count": 67,
   "metadata": {},
   "outputs": [],
   "source": [
    "# Variables\n",
    "model.x = pyo.Var(model.M, model.J, model.T, within=pyo.NonNegativeReals, bounds=(0, 1))\n",
    "model.y = pyo.Var(model.M, model.J, model.T, within=pyo.Binary)\n",
    "model.C = pyo.Var(within=pyo.NonNegativeReals)"
   ]
  },
  {
   "cell_type": "code",
   "execution_count": 68,
   "metadata": {},
   "outputs": [],
   "source": [
    "# Constraints\n",
    "def cstr_unique_start(model, m, j):\n",
    "    return sum(model.y[m,j,:]) == 1\n",
    "\n",
    "\n",
    "def cstr_unique_machine(model, m, t):\n",
    "    return sum(model.y[m,:,1]) <= 1\n",
    "\n",
    "\n",
    "def cstr_tech_order(model, m1, m2, j):\n",
    "    lhs = sum(\n",
    "        (t + model.p[m1, j]) * model.y[m1, j, t]\n",
    "        for t in model.T\n",
    "    )\n",
    "    rhs = sum(\n",
    "        t * model.y[m2, j, t]\n",
    "        for t in model.T\n",
    "    )\n",
    "    return lhs <= rhs\n",
    "\n",
    "\n",
    "def cstr_duration(model, m, j, t):\n",
    "    if t <= model.T.last() - model.p[m, j]:\n",
    "        lhs = model.p[m,j] * model.y[m, j, t]\n",
    "        rhs = sum(model.x[m, j, t2] for t2 in range(t, t + model.p[m, j]))\n",
    "        return lhs <= rhs\n",
    "    else:\n",
    "        return model.y[m, j, t] == 0.0\n",
    "\n",
    "\n",
    "def cstr_duration_comp(model, m, j):\n",
    "    return sum(model.x[m, j, :]) == model.p[m, j]\n",
    "\n",
    "\n",
    "def cstr_start_c1(model, m, j, t):\n",
    "    return model.y[m, j, t] <= model.x[m, j, t]\n",
    "\n",
    "\n",
    "def cstr_start_c2(model, m, j, t):\n",
    "    if t != model.T.first():\n",
    "        t_prev = model.T.prev(t)\n",
    "        return model.y[m, j, t] <= 1 - model.x[m, j, t_prev]\n",
    "    else:\n",
    "        return pyo.Constraint.Skip\n",
    "\n",
    "\n",
    "def cstr_start_c3(model, m, j, t):\n",
    "    if t != model.T.first():\n",
    "        t_prev = model.T.prev(t)\n",
    "        return model.x[m, j, t] - model.x[m, j, t_prev] <= model.y[m, j, t]\n",
    "    else:\n",
    "        return pyo.Constraint.Skip\n",
    "\n",
    "\n",
    "def cstr_total_time(model, m, j, t):\n",
    "    return t * model.x[m, j, t] <= model.C"
   ]
  },
  {
   "cell_type": "code",
   "execution_count": 69,
   "metadata": {},
   "outputs": [],
   "source": [
    "model.cstr_unique_start = pyo.Constraint(model.M, model.J, rule=cstr_unique_start)\n",
    "model.cstr_unique_machine = pyo.Constraint(model.M, model.T, rule=cstr_unique_machine)\n",
    "model.cstr_tech_order = pyo.Constraint(model.Sigma, rule=cstr_tech_order)\n",
    "model.cstr_duration = pyo.Constraint(model.M, model.J, model.T, rule=cstr_duration)\n",
    "model.cstr_duration_comp = pyo.Constraint(model.M, model.J , rule=cstr_duration_comp)\n",
    "model.cstr_start_c1 = pyo.Constraint(model.M, model.J, model.T, rule=cstr_start_c1)\n",
    "model.cstr_start_c2 = pyo.Constraint(model.M, model.J, model.T, rule=cstr_start_c2)\n",
    "model.cstr_start_c3 = pyo.Constraint(model.M, model.J, model.T, rule=cstr_start_c3)\n",
    "model.cstr_total_time = pyo.Constraint(model.M, model.J, model.T, rule=cstr_total_time)"
   ]
  },
  {
   "cell_type": "code",
   "execution_count": 70,
   "metadata": {},
   "outputs": [],
   "source": [
    "# Objective\n",
    "model.obj = pyo.Objective(expr=model.C + 1, sense=pyo.minimize)"
   ]
  },
  {
   "cell_type": "markdown",
   "metadata": {},
   "source": [
    "## Solve"
   ]
  },
  {
   "cell_type": "code",
   "execution_count": 71,
   "metadata": {},
   "outputs": [
    {
     "name": "stdout",
     "output_type": "stream",
     "text": [
      "Running HiGHS 1.7.2 (git hash: 184e327): Copyright (c) 2024 HiGHS under MIT licence terms\n",
      "Coefficient ranges:\n",
      "  Matrix [1e+00, 2e+02]\n",
      "  Cost   [1e+00, 1e+00]\n",
      "  Bound  [1e+00, 1e+00]\n",
      "  RHS    [1e+00, 2e+01]\n",
      "Presolving model\n",
      "8696 rows, 3336 cols, 42733 nonzeros  0s\n",
      "7400 rows, 3046 cols, 34909 nonzeros  0s\n",
      "\n",
      "Solving MIP model with:\n",
      "   7400 rows\n",
      "   3046 cols (1305 binary, 0 integer, 0 implied int., 1741 continuous)\n",
      "   34909 nonzeros\n",
      "\n",
      "        Nodes      |    B&B Tree     |            Objective Bounds              |  Dynamic Constraints |       Work      \n",
      "     Proc. InQueue |  Leaves   Expl. | BestBound       BestSol              Gap |   Cuts   InLp Confl. | LpIters     Time\n",
      "\n",
      "         0       0         0   0.00%   1               inf                  inf        0      0      0         0     1.0s\n",
      " R       0       0         0   0.00%   4.766312335     143               96.67%        0      0      0      1588     1.1s\n",
      " C       0       0         0   0.00%   5.23391347      46                88.62%     7855    457      0      4157     2.0s\n",
      "\n",
      "18.7% inactive integer columns, restarting\n",
      "Model after restart has 1695 rows, 1432 cols (126 bin., 0 int., 0 impl., 1306 cont.), and 6078 nonzeros\n",
      "\n",
      "         0       0         0   0.00%   46              46                 0.00%       38      0      0      8833     3.6s\n",
      "\n",
      "Solving report\n",
      "  Status            Optimal\n",
      "  Primal bound      46\n",
      "  Dual bound        46\n",
      "  Gap               0% (tolerance: 0.01%)\n",
      "  Solution status   feasible\n",
      "                    46 (objective)\n",
      "                    0 (bound viol.)\n",
      "                    0 (int. viol.)\n",
      "                    0 (row viol.)\n",
      "  Timing            3.61 (total)\n",
      "                    1.09 (presolve)\n",
      "                    0.00 (postsolve)\n",
      "  Nodes             1\n",
      "  LP iterations     9342 (total)\n",
      "                    0 (strong br.)\n",
      "                    5714 (separation)\n",
      "                    1013 (heuristics)\n"
     ]
    },
    {
     "data": {
      "text/plain": [
       "{'Problem': [{'Lower bound': 46.0, 'Upper bound': 46.0, 'Number of objectives': 1, 'Number of constraints': 0, 'Number of variables': 0, 'Sense': 'minimize'}], 'Solver': [{'Status': 'ok', 'Termination condition': 'optimal', 'Termination message': 'TerminationCondition.optimal'}], 'Solution': [OrderedDict([('number of solutions', 0), ('number of solutions displayed', 0)])]}"
      ]
     },
     "execution_count": 71,
     "metadata": {},
     "output_type": "execute_result"
    }
   ],
   "source": [
    "solver = pyo.SolverFactory(\"appsi_highs\")\n",
    "solver.options[\"mip_heuristic_effort\"] = 0.1\n",
    "solver.options[\"time_limit\"] = 120\n",
    "solver.options[\"log_file\"] = \"Highs.log\"\n",
    "solver.solve(model, tee=True)"
   ]
  },
  {
   "cell_type": "code",
   "execution_count": 72,
   "metadata": {},
   "outputs": [],
   "source": [
    "def get_plot_elements(model, j):\n",
    "    machines = [y.index()[0] for y in model.y[:, j, :] if np.isclose(y.value, 1, atol=1e-1)]\n",
    "    starts = [y.index()[2] for y in model.y[:, j, :] if np.isclose(y.value, 1, atol=1e-1)]\n",
    "    spans = [model.p[m, j] for m in machines]\n",
    "    return machines, starts, spans\n",
    "\n",
    "\n",
    "def plot_horizontal(model, figsize=[7, 3], dpi=100, colors=None):\n",
    "\n",
    "    if colors is None:\n",
    "         colors = mpl.colormaps[\"Dark2\"].colors\n",
    "\n",
    "    fig, ax = plt.subplots(figsize=figsize, dpi=dpi)\n",
    "\n",
    "    for i, j in enumerate(model.J):\n",
    "        machines, starts, spans = get_plot_elements(model, j)\n",
    "\n",
    "        if i >= len(colors):\n",
    "            i = i % len(colors)\n",
    "\n",
    "        color = colors[i]\n",
    "        ax.barh(machines, spans, left=starts, label=f\"Job {j}\", color=color)\n",
    "\n",
    "    ax.set_yticks(model.M)\n",
    "    ax.set_xlabel(\"Time\")\n",
    "    ax.set_ylabel(\"Machine\")\n",
    "    ax.legend(loc='upper left', bbox_to_anchor=(1, 1.03))\n",
    "    fig.tight_layout()\n",
    "    plt.show()"
   ]
  },
  {
   "cell_type": "code",
   "execution_count": 73,
   "metadata": {},
   "outputs": [
    {
     "data": {
      "image/png": "[encoded data removed]",
      "text/plain": [
       "<Figure size 700x300 with 1 Axes>"
      ]
     },
     "metadata": {},
     "output_type": "display_data"
    }
   ],
   "source": [
    "plot_horizontal(model)"
   ]
  },
  {
   "cell_type": "code",
   "execution_count": null,
   "metadata": {},
   "outputs": [],
   "source": []
  }
 ],
 "metadata": {
  "kernelspec": {
   "display_name": "venv",
   "language": "python",
   "name": "python3"
  },
  "language_info": {
   "codemirror_mode": {
    "name": "ipython",
    "version": 3
   },
   "file_extension": ".py",
   "mimetype": "text/x-python",
   "name": "python",
   "nbconvert_exporter": "python",
   "pygments_lexer": "ipython3",
   "version": "3.11.9"
  }
 },
 "nbformat": 4,
 "nbformat_minor": 2
}
