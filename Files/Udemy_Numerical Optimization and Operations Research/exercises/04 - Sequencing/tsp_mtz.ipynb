{
 "cells": [
  {
   "cell_type": "markdown",
   "metadata": {},
   "source": [
    "# TSP - MTZ"
   ]
  },
  {
   "cell_type": "code",
   "execution_count": 21,
   "metadata": {},
   "outputs": [],
   "source": [
    "import numpy as np\n",
    "from scipy.spatial.distance import pdist, squareform\n",
    "import pyomo.environ as pyo\n",
    "import matplotlib.pyplot as plt"
   ]
  },
  {
   "cell_type": "markdown",
   "metadata": {},
   "source": [
    "## Formulation"
   ]
  },
  {
   "cell_type": "markdown",
   "metadata": {},
   "source": [
    "$$\n",
    "\\begin{align}\n",
    "    \\text{min} \\quad & \\sum_{i, j \\in A}d_{i, j} x_{i, j} \\\\\n",
    "    \\text{s.t.} \\quad & \\sum_{j \\in V} x_{i, j} = \\sum_{j \\in V} x_{j, i} = 1 & \\forall ~ i \\in V\\\\\n",
    "    & u_{i} + 1 \\leq u_{j} + (|V| - 1) (1 - x_{i, j}) & \\forall ~ i, j \\in A: j \\neq 0\\\\\n",
    "    & x_{i, j} \\in \\left \\{ 0, 1 \\right \\} & \\forall ~ i, j \\in A\\\\\n",
    "\\end{align}\n",
    "$$"
   ]
  },
  {
   "cell_type": "markdown",
   "metadata": {},
   "source": [
    "## Create instance"
   ]
  },
  {
   "cell_type": "code",
   "execution_count": 22,
   "metadata": {},
   "outputs": [],
   "source": [
    "N = 30  # Number of points\n",
    "np.random.seed(12)\n",
    "coordinates = np.random.random((N, 2))\n",
    "D = squareform(pdist(coordinates))"
   ]
  },
  {
   "cell_type": "code",
   "execution_count": 23,
   "metadata": {},
   "outputs": [
    {
     "data": {
      "text/plain": [
       "array([[0.15416284, 0.7400497 ],\n",
       "       [0.26331502, 0.53373939],\n",
       "       [0.01457496, 0.91874701],\n",
       "       [0.90071485, 0.03342143],\n",
       "       [0.95694934, 0.13720932],\n",
       "       [0.28382835, 0.60608318],\n",
       "       [0.94422514, 0.85273554],\n",
       "       [0.00225923, 0.52122603],\n",
       "       [0.55203763, 0.48537741],\n",
       "       [0.76813415, 0.16071675],\n",
       "       [0.76456045, 0.0208098 ],\n",
       "       [0.13521018, 0.11627302],\n",
       "       [0.30989758, 0.67145265],\n",
       "       [0.47122978, 0.8161683 ],\n",
       "       [0.28958678, 0.73312598],\n",
       "       [0.70262236, 0.32756948],\n",
       "       [0.33464753, 0.97805808],\n",
       "       [0.62458211, 0.95031352],\n",
       "       [0.76747565, 0.82500925],\n",
       "       [0.4066403 , 0.45130841],\n",
       "       [0.40063163, 0.99513816],\n",
       "       [0.17756418, 0.9625969 ],\n",
       "       [0.41925027, 0.42405245],\n",
       "       [0.46314887, 0.37372315],\n",
       "       [0.4655081 , 0.03516826],\n",
       "       [0.08427267, 0.7325207 ],\n",
       "       [0.63619999, 0.02790779],\n",
       "       [0.30017006, 0.22085252],\n",
       "       [0.05501999, 0.52324607],\n",
       "       [0.41636966, 0.04821875]])"
      ]
     },
     "execution_count": 23,
     "metadata": {},
     "output_type": "execute_result"
    }
   ],
   "source": [
    "coordinates"
   ]
  },
  {
   "cell_type": "code",
   "execution_count": 24,
   "metadata": {},
   "outputs": [
    {
     "data": {
      "text/plain": [
       "array([[0.        , 0.23340552, 0.22675428, 1.02794135, 1.0039336 ,\n",
       "        0.1864408 , 0.79805797, 0.26638038, 0.47240059, 0.84414894,\n",
       "        0.94334049, 0.62406454, 0.17017305, 0.32607589, 0.13560082,\n",
       "        0.68625634, 0.29870171, 0.51527193, 0.61916938, 0.38355755,\n",
       "        0.3547069 , 0.22377418, 0.41246285, 0.47923638, 0.77058011,\n",
       "        0.07029454, 0.8599453 , 0.53933646, 0.23839697, 0.73985301],\n",
       "       [0.23340552, 0.        , 0.45836937, 0.8103065 , 0.79897726,\n",
       "        0.07519588, 0.75192894, 0.26135552, 0.29274499, 0.62768484,\n",
       "        0.71717763, 0.43667954, 0.14537839, 0.35070591, 0.20110996,\n",
       "        0.4852803 , 0.45000825, 0.55140541, 0.58225087, 0.16533906,\n",
       "        0.48139866, 0.43734651, 0.19064897, 0.25600541, 0.53801042,\n",
       "        0.26752601, 0.62841771, 0.31504998, 0.20855917, 0.50907369],\n",
       "       [0.22675428, 0.45836937, 0.        , 1.25261538, 1.22428372,\n",
       "        0.41262096, 0.93199086, 0.39771171, 0.69041678, 1.06885982,\n",
       "        1.16994421, 0.81149083, 0.3851882 , 0.4680342 , 0.33179311,\n",
       "        0.90713841, 0.32552151, 0.61082335, 0.75871352, 0.61009349,\n",
       "        0.39354206, 0.16878477, 0.63912817, 0.70588211, 0.991994  ,\n",
       "        0.19884167, 1.08628366, 0.75406981, 0.39756357, 0.95877965],\n",
       "       [1.02794135, 0.8103065 , 1.25261538, 0.        , 0.1180434 ,\n",
       "        0.84171874, 0.82046862, 1.02233841, 0.57082398, 0.1837981 ,\n",
       "        0.13673725, 0.76997519, 0.86956822, 0.89283262, 0.92901237,\n",
       "        0.3546318 , 1.10125865, 0.95757005, 0.80272285, 0.64710061,\n",
       "        1.08396601, 1.17741835, 0.6200006 , 0.55431873, 0.43521026,\n",
       "        1.07485703, 0.26457232, 0.62911403, 0.97730649, 0.48457118],\n",
       "       [1.0039336 , 0.79897726, 1.22428372, 0.1180434 , 0.        ,\n",
       "        0.82032588, 0.71563935, 1.02902965, 0.53401733, 0.19027289,\n",
       "        0.2248607 , 0.82200582, 0.83910184, 0.83481063, 0.89470075,\n",
       "        0.31767783, 1.04608134, 0.8784113 , 0.71342065, 0.63363891,\n",
       "        1.02251224, 1.13521183, 0.60942536, 0.54751958, 0.50192317,\n",
       "        1.05639017, 0.33886128, 0.66208398, 0.98107131, 0.54785556],\n",
       "       [0.1864408 , 0.07519588, 0.41262096, 0.84171874, 0.82032588,\n",
       "        0.        , 0.70495482, 0.29407806, 0.2941192 , 0.65795392,\n",
       "        0.75739573, 0.51186069, 0.07037593, 0.28152273, 0.12717323,\n",
       "        0.5029496 , 0.3754303 , 0.48436314, 0.53088919, 0.19758038,\n",
       "        0.40621026, 0.37201358, 0.22687945, 0.29350815, 0.59912551,\n",
       "        0.23623911, 0.67709125, 0.38557712, 0.24334184, 0.57339334],\n",
       "       [0.79805797, 0.75192894, 0.93199086, 0.82046862, 0.71563935,\n",
       "        0.70495482, 0.        , 0.99859818, 0.53736676, 0.71407145,\n",
       "        0.85110507, 1.09402114, 0.65972337, 0.47440676, 0.66547563,\n",
       "        0.57807551, 0.62232676, 0.33420522, 0.17891095, 0.67092563,\n",
       "        0.5619363 , 0.77449244, 0.67776678, 0.67888677, 0.94741029,\n",
       "        0.86831437, 0.88046596, 0.90226553, 0.94828745, 0.9622259 ],\n",
       "       [0.26638038, 0.26135552, 0.39771171, 1.02233841, 1.02902965,\n",
       "        0.29407806, 0.99859818, 0.        , 0.55094592, 0.84648174,\n",
       "        0.91187694, 0.4262193 , 0.34235857, 0.5540075 , 0.3570136 ,\n",
       "        0.7266439 , 0.56495797, 0.75591127, 0.82331064, 0.41038095,\n",
       "        0.61910684, 0.47491059, 0.42816379, 0.48391772, 0.67145489,\n",
       "        0.22665313, 0.80327067, 0.42305449, 0.05279942, 0.6286679 ],\n",
       "       [0.47240059, 0.29274499, 0.69041678, 0.57082398, 0.53401733,\n",
       "        0.2941192 , 0.53736676, 0.55094592, 0.        , 0.39000289,\n",
       "        0.51087084, 0.55676133, 0.30537812, 0.34051802, 0.36091522,\n",
       "        0.21812635, 0.5385097 , 0.47056167, 0.40219812, 0.14933546,\n",
       "        0.53177044, 0.60660433, 0.14626427, 0.14271611, 0.45844917,\n",
       "        0.52904051, 0.46514703, 0.36525429, 0.49845819, 0.45772644],\n",
       "       [0.84414894, 0.62768484, 1.06885982, 0.1837981 , 0.19027289,\n",
       "        0.65795392, 0.71407145, 0.84648174, 0.39000289, 0.        ,\n",
       "        0.13995259, 0.63448247, 0.68617192, 0.71956163, 0.74609645,\n",
       "        0.17925297, 0.92517971, 0.80253987, 0.66429283, 0.46381173,\n",
       "        0.91176597, 0.99588387, 0.43711057, 0.37200504, 0.3276354 ,\n",
       "        0.89141813, 0.18720268, 0.47181215, 0.79997457, 0.36931567],\n",
       "       [0.94334049, 0.71717763, 1.16994421, 0.13673725, 0.2248607 ,\n",
       "        0.75739573, 0.85110507, 0.91187694, 0.51087084, 0.13995259,\n",
       "        0.        , 0.63654928, 0.79375968, 0.84772521, 0.85615088,\n",
       "        0.3129502 , 1.04935666, 0.93998463, 0.80420474, 0.55985345,\n",
       "        1.04007689, 1.10974212, 0.53088959, 0.46410858, 0.29939685,\n",
       "        0.98454247, 0.12855656, 0.50564367, 0.86941927, 0.34926792],\n",
       "       [0.62406454, 0.43667954, 0.81149083, 0.76997519, 0.82200582,\n",
       "        0.51186069, 1.09402114, 0.4262193 , 0.55676133, 0.63448247,\n",
       "        0.63654928, 0.        , 0.58201384, 0.77637786, 0.63587712,\n",
       "        0.60547731, 0.88456133, 0.96701006, 0.94977191, 0.43118793,\n",
       "        0.91806998, 0.84738302, 0.41881613, 0.41692248, 0.34010983,\n",
       "        0.61834928, 0.50872312, 0.19531676, 0.41479818, 0.28927847],\n",
       "       [0.17017305, 0.14537839, 0.3851882 , 0.86956822, 0.83910184,\n",
       "        0.07037593, 0.65972337, 0.34235857, 0.30537812, 0.68617192,\n",
       "        0.79375968, 0.58201384, 0.        , 0.21672724, 0.06493172,\n",
       "        0.52200419, 0.30760275, 0.42046372, 0.48265652, 0.24046338,\n",
       "        0.33616213, 0.31980793, 0.27049005, 0.3348564 , 0.65503622,\n",
       "        0.23374325, 0.72154227, 0.45070511, 0.29483517, 0.63226323],\n",
       "       [0.32607589, 0.35070591, 0.4680342 , 0.89283262, 0.83481063,\n",
       "        0.28152273, 0.47440676, 0.5540075 , 0.34051802, 0.71956163,\n",
       "        0.84772521, 0.77637786, 0.21672724, 0.        , 0.19972532,\n",
       "        0.54062125, 0.2118089 , 0.20374464, 0.29637776, 0.37053277,\n",
       "        0.19239104, 0.32814756, 0.39554609, 0.44251894, 0.781021  ,\n",
       "        0.39589484, 0.80533832, 0.6194048 , 0.50895384, 0.76990658],\n",
       "       [0.13560082, 0.20110996, 0.33179311, 0.92901237, 0.89470075,\n",
       "        0.12717323, 0.66547563, 0.3570136 , 0.36091522, 0.74609645,\n",
       "        0.85615088, 0.63587712, 0.06493172, 0.19972532, 0.        ,\n",
       "        0.57885616, 0.24904258, 0.39923965, 0.48664187, 0.30516007,\n",
       "        0.28457221, 0.2553546 , 0.33517021, 0.39911676, 0.71978697,\n",
       "        0.20531501, 0.78579476, 0.51238277, 0.31475571, 0.69654275],\n",
       "       [0.68625634, 0.4852803 , 0.90713841, 0.3546318 , 0.31767783,\n",
       "        0.5029496 , 0.57807551, 0.7266439 , 0.21812635, 0.17925297,\n",
       "        0.3129502 , 0.60547731, 0.52200419, 0.54062125, 0.57885616,\n",
       "        0.        , 0.74735594, 0.62761487, 0.50164956, 0.32080633,\n",
       "        0.73269799, 0.82398175, 0.29934713, 0.24388053, 0.37645935,\n",
       "        0.73914939, 0.30693494, 0.41636085, 0.67651914, 0.39997179],\n",
       "       [0.29870171, 0.45000825, 0.32552151, 1.10125865, 1.04608134,\n",
       "        0.3754303 , 0.62232676, 0.56495797, 0.5385097 , 0.92517971,\n",
       "        1.04935666, 0.88456133, 0.30760275, 0.2118089 , 0.24904258,\n",
       "        0.74735594, 0.        , 0.29125903, 0.45909054, 0.53164666,\n",
       "        0.06815886, 0.15784241, 0.56042829, 0.61784569, 0.95192736,\n",
       "        0.35067959, 0.99685479, 0.75799007, 0.53389655, 0.93342364],\n",
       "       [0.51527193, 0.55140541, 0.61082335, 0.95757005, 0.8784113 ,\n",
       "        0.48436314, 0.33420522, 0.75591127, 0.47056167, 0.80253987,\n",
       "        0.93998463, 0.96701006, 0.42046372, 0.20374464, 0.39923965,\n",
       "        0.62761487, 0.29125903, 0.        , 0.1900519 , 0.54452248,\n",
       "        0.22839235, 0.44718667, 0.56489989, 0.59876302, 0.9288678 ,\n",
       "        0.58255301, 0.9224789 , 0.79834613, 0.71189017, 0.92581176],\n",
       "       [0.61916938, 0.58225087, 0.75871352, 0.80272285, 0.71342065,\n",
       "        0.53088919, 0.17891095, 0.82331064, 0.40219812, 0.66429283,\n",
       "        0.80420474, 0.94977191, 0.48265652, 0.29637776, 0.48664187,\n",
       "        0.50164956, 0.45909054, 0.1900519 , 0.        , 0.51947519,\n",
       "        0.40437406, 0.6057441 , 0.5310624 , 0.54431052, 0.84559635,\n",
       "        0.68943487, 0.80783912, 0.76379308, 0.7737274 , 0.85245463],\n",
       "       [0.38355755, 0.16533906, 0.61009349, 0.64710061, 0.63363891,\n",
       "        0.19758038, 0.67092563, 0.41038095, 0.14933546, 0.46381173,\n",
       "        0.55985345, 0.43118793, 0.24046338, 0.37053277, 0.30516007,\n",
       "        0.32080633, 0.53164666, 0.54452248, 0.51947519, 0.        ,\n",
       "        0.54386294, 0.56026047, 0.03003163, 0.09598277, 0.42028329,\n",
       "        0.42778644, 0.48162822, 0.25386183, 0.3589037 , 0.40320706],\n",
       "       [0.3547069 , 0.48139866, 0.39354206, 1.08396601, 1.02251224,\n",
       "        0.40621026, 0.5619363 , 0.61910684, 0.53177044, 0.91176597,\n",
       "        1.04007689, 0.91806998, 0.33616213, 0.19239104, 0.28457221,\n",
       "        0.73269799, 0.06815886, 0.22839235, 0.40437406, 0.54386294,\n",
       "        0.        , 0.22542853, 0.57138914, 0.62455186, 0.96215964,\n",
       "        0.41115803, 0.99550341, 0.78077575, 0.58491841, 0.94705019],\n",
       "       [0.22377418, 0.43734651, 0.16878477, 1.17741835, 1.13521183,\n",
       "        0.37201358, 0.77449244, 0.47491059, 0.60660433, 0.99588387,\n",
       "        1.10974212, 0.84738302, 0.31980793, 0.32814756, 0.2553546 ,\n",
       "        0.82398175, 0.15784241, 0.44718667, 0.6057441 , 0.56026047,\n",
       "        0.22542853, 0.        , 0.59029001, 0.65446995, 0.97110019,\n",
       "        0.24827075, 1.04114867, 0.75180911, 0.45612085, 0.94504786],\n",
       "       [0.41246285, 0.19064897, 0.63912817, 0.6200006 , 0.60942536,\n",
       "        0.22687945, 0.67776678, 0.42816379, 0.14626427, 0.43711057,\n",
       "        0.53088959, 0.41881613, 0.27049005, 0.39554609, 0.33517021,\n",
       "        0.29934713, 0.56042829, 0.56489989, 0.5310624 , 0.03003163,\n",
       "        0.57138914, 0.59029001, 0.        , 0.06678417, 0.39162571,\n",
       "        0.4553709 , 0.45166113, 0.23552135, 0.37749579, 0.37584474],\n",
       "       [0.47923638, 0.25600541, 0.70588211, 0.55431873, 0.54751958,\n",
       "        0.29350815, 0.67888677, 0.48391772, 0.14271611, 0.37200504,\n",
       "        0.46410858, 0.41692248, 0.3348564 , 0.44251894, 0.39911676,\n",
       "        0.24388053, 0.61784569, 0.59876302, 0.54431052, 0.09598277,\n",
       "        0.62455186, 0.65446995, 0.06678417, 0.        , 0.33856311,\n",
       "        0.5218073 , 0.3866975 , 0.22345362, 0.43465651, 0.32884861],\n",
       "       [0.77058011, 0.53801042, 0.991994  , 0.43521026, 0.50192317,\n",
       "        0.59912551, 0.94741029, 0.67145489, 0.45844917, 0.3276354 ,\n",
       "        0.29939685, 0.34010983, 0.65503622, 0.781021  , 0.71978697,\n",
       "        0.37645935, 0.95192736, 0.9288678 , 0.84559635, 0.42028329,\n",
       "        0.96215964, 0.97110019, 0.39162571, 0.33856311, 0.        ,\n",
       "        0.79475837, 0.17084624, 0.24862685, 0.63774637, 0.05084193],\n",
       "       [0.07029454, 0.26752601, 0.19884167, 1.07485703, 1.05639017,\n",
       "        0.23623911, 0.86831437, 0.22665313, 0.52904051, 0.89141813,\n",
       "        0.98454247, 0.61834928, 0.23374325, 0.39589484, 0.20531501,\n",
       "        0.73914939, 0.35067959, 0.58255301, 0.68943487, 0.42778644,\n",
       "        0.41115803, 0.24827075, 0.4553709 , 0.5218073 , 0.79475837,\n",
       "        0.        , 0.89504364, 0.55535215, 0.21130923, 0.76062972],\n",
       "       [0.8599453 , 0.62841771, 1.08628366, 0.26457232, 0.33886128,\n",
       "        0.67709125, 0.88046596, 0.80327067, 0.46514703, 0.18720268,\n",
       "        0.12855656, 0.50872312, 0.72154227, 0.80533832, 0.78579476,\n",
       "        0.30693494, 0.99685479, 0.9224789 , 0.80783912, 0.48162822,\n",
       "        0.99550341, 1.04114867, 0.45166113, 0.3866975 , 0.17084624,\n",
       "        0.89504364, 0.        , 0.38748392, 0.76362963, 0.22076665],\n",
       "       [0.53933646, 0.31504998, 0.75406981, 0.62911403, 0.66208398,\n",
       "        0.38557712, 0.90226553, 0.42305449, 0.36525429, 0.47181215,\n",
       "        0.50564367, 0.19531676, 0.45070511, 0.6194048 , 0.51238277,\n",
       "        0.41636085, 0.75799007, 0.79834613, 0.76379308, 0.25386183,\n",
       "        0.78077575, 0.75180911, 0.23552135, 0.22345362, 0.24862685,\n",
       "        0.55535215, 0.38748392, 0.        , 0.38928192, 0.20809797],\n",
       "       [0.23839697, 0.20855917, 0.39756357, 0.97730649, 0.98107131,\n",
       "        0.24334184, 0.94828745, 0.05279942, 0.49845819, 0.79997457,\n",
       "        0.86941927, 0.41479818, 0.29483517, 0.50895384, 0.31475571,\n",
       "        0.67651914, 0.53389655, 0.71189017, 0.7737274 , 0.3589037 ,\n",
       "        0.58491841, 0.45612085, 0.37749579, 0.43465651, 0.63774637,\n",
       "        0.21130923, 0.76362963, 0.38928192, 0.        , 0.59684549],\n",
       "       [0.73985301, 0.50907369, 0.95877965, 0.48457118, 0.54785556,\n",
       "        0.57339334, 0.9622259 , 0.6286679 , 0.45772644, 0.36931567,\n",
       "        0.34926792, 0.28927847, 0.63226323, 0.76990658, 0.69654275,\n",
       "        0.39997179, 0.93342364, 0.92581176, 0.85245463, 0.40320706,\n",
       "        0.94705019, 0.94504786, 0.37584474, 0.32884861, 0.05084193,\n",
       "        0.76062972, 0.22076665, 0.20809797, 0.59684549, 0.        ]])"
      ]
     },
     "execution_count": 24,
     "metadata": {},
     "output_type": "execute_result"
    }
   ],
   "source": [
    "D"
   ]
  },
  {
   "cell_type": "markdown",
   "metadata": {},
   "source": [
    "## pyomo model"
   ]
  },
  {
   "cell_type": "code",
   "execution_count": 25,
   "metadata": {},
   "outputs": [],
   "source": [
    "# Initialize ConcreteModel\n",
    "model = pyo.ConcreteModel()"
   ]
  },
  {
   "cell_type": "code",
   "execution_count": 26,
   "metadata": {},
   "outputs": [],
   "source": [
    "# Sets nodes and arcs\n",
    "model.V = pyo.Set(initialize=range(N))\n",
    "model.A = pyo.Set(\n",
    "    initialize=[(i, j) for i in range(N) for j in range(N) if i != j]\n",
    ")"
   ]
  },
  {
   "cell_type": "code",
   "execution_count": 27,
   "metadata": {},
   "outputs": [],
   "source": [
    "# Parameter pairwise distances\n",
    "model.d = pyo.Param(model.A, initialize={(i, j): D[i, j] for i, j in model.A})"
   ]
  },
  {
   "cell_type": "code",
   "execution_count": 28,
   "metadata": {},
   "outputs": [],
   "source": [
    "# Variables\n",
    "model.x = pyo.Var(model.A, within=pyo.Binary)\n",
    "model.u = pyo.Var(model.V, within=pyo.NonNegativeReals)"
   ]
  },
  {
   "cell_type": "code",
   "execution_count": 29,
   "metadata": {},
   "outputs": [],
   "source": [
    "# Constraints\n",
    "def arcs_in(model, i):\n",
    "    return sum(model.x[:, i]) == 1.0\n",
    "\n",
    "\n",
    "def arcs_out(model, i):\n",
    "    return sum(model.x[i, :]) == 1.0\n",
    "\n",
    "\n",
    "def precedence(model, i, j):\n",
    "    if j != model.V.first():\n",
    "        return model.u[i] + 1.0 <= model.u[j] + (len(model.V) - 1) * (1 - model.x[i,j])\n",
    "    else:\n",
    "        return pyo.Constraint.Skip\n",
    "\n",
    "\n",
    "model.arcs_in = pyo.Constraint(model.V, rule=arcs_in)\n",
    "model.arcs_out = pyo.Constraint(model.V, rule=arcs_out)\n",
    "model.precedence = pyo.Constraint(model.A, rule=precedence)"
   ]
  },
  {
   "cell_type": "code",
   "execution_count": 30,
   "metadata": {},
   "outputs": [],
   "source": [
    "# Objective\n",
    "def obj(model):\n",
    "    return sum(\n",
    "        model.d[i,j] * model.x[i,j]\n",
    "        for i,j in model.A\n",
    "    )\n",
    "\n",
    "\n",
    "model.obj = pyo.Objective(rule=obj, sense=pyo.minimize)"
   ]
  },
  {
   "cell_type": "markdown",
   "metadata": {},
   "source": [
    "## Solve"
   ]
  },
  {
   "cell_type": "code",
   "execution_count": 31,
   "metadata": {},
   "outputs": [
    {
     "name": "stdout",
     "output_type": "stream",
     "text": [
      "Running HiGHS 1.7.2 (git hash: 184e327): Copyright (c) 2024 HiGHS under MIT licence terms\n",
      "Coefficient ranges:\n",
      "  Matrix [1e+00, 3e+01]\n",
      "  Cost   [3e-02, 1e+00]\n",
      "  Bound  [1e+00, 1e+00]\n",
      "  RHS    [1e+00, 3e+01]\n",
      "Presolving model\n",
      "901 rows, 899 cols, 4234 nonzeros  0s\n",
      "901 rows, 899 cols, 4234 nonzeros  0s\n",
      "\n",
      "Solving MIP model with:\n",
      "   901 rows\n",
      "   899 cols (870 binary, 0 integer, 0 implied int., 29 continuous)\n",
      "   4234 nonzeros\n",
      "\n",
      "        Nodes      |    B&B Tree     |            Objective Bounds              |  Dynamic Constraints |       Work      \n",
      "     Proc. InQueue |  Leaves   Expl. | BestBound       BestSol              Gap |   Cuts   InLp Confl. | LpIters     Time\n",
      "\n",
      "         0       0         0   0.00%   0               inf                  inf        0      0      0         0     0.0s\n",
      "         0       0         0   0.00%   3.533653823     inf                  inf        0      0      0       110     0.0s\n",
      " C       0       0         0   0.00%   4.593316937     10.85090957       57.67%      378     69     12       201     0.1s\n",
      " L       0       0         0   0.00%   4.632512227     4.835164003        4.19%     1430     65     12       430     1.3s\n",
      "\n",
      "68.7% inactive integer columns, restarting\n",
      "Model after restart has 602 rows, 301 cols (272 bin., 0 int., 0 impl., 29 cont.), and 1878 nonzeros\n",
      "\n",
      "         0       0         0   0.00%   4.632512227     4.835164003        4.19%       41      0      0      2071     1.6s\n",
      "         0       0         0   0.00%   4.632512227     4.835164003        4.19%       41     41      5      2128     1.6s\n",
      " T      76       4        36  87.89%   4.662647776     4.83041635         3.47%     1319     80   3067     17570     3.8s\n",
      "\n",
      "Solving report\n",
      "  Status            Optimal\n",
      "  Primal bound      4.83041634962\n",
      "  Dual bound        4.83041634962\n",
      "  Gap               0% (tolerance: 0.01%)\n",
      "  Solution status   feasible\n",
      "                    4.83041634962 (objective)\n",
      "                    0 (bound viol.)\n",
      "                    1.47659662275e-14 (int. viol.)\n",
      "                    0 (row viol.)\n",
      "  Timing            3.82 (total)\n",
      "                    0.01 (presolve)\n",
      "                    0.00 (postsolve)\n",
      "  Nodes             81\n",
      "  LP iterations     18203 (total)\n",
      "                    11485 (strong br.)\n",
      "                    642 (separation)\n",
      "                    3499 (heuristics)\n"
     ]
    }
   ],
   "source": [
    "solver = pyo.SolverFactory(\"appsi_highs\")\n",
    "res = solver.solve(model, tee=True)"
   ]
  },
  {
   "cell_type": "code",
   "execution_count": 32,
   "metadata": {},
   "outputs": [],
   "source": [
    "def find_tour(model):\n",
    "    Q = [v for v in model.V]\n",
    "    node = Q.pop(0)\n",
    "    tour = [node]\n",
    "    while len(Q) > 0:\n",
    "        for other in Q:\n",
    "            if np.isclose(model.x[node, other].value, 1, atol=1e-1):\n",
    "                Q.remove(other)\n",
    "                node = other\n",
    "                tour.append(node)\n",
    "    tour.append(tour[0])\n",
    "    return tour"
   ]
  },
  {
   "cell_type": "code",
   "execution_count": 34,
   "metadata": {},
   "outputs": [
    {
     "data": {
      "text/plain": [
       "array([ 0, 28,  7, 11, 27, 29, 24, 26, 10,  3,  4,  9, 15,  8, 23, 22, 19,\n",
       "        1,  5, 12, 14, 13, 18,  6, 17, 20, 16, 21,  2, 25,  0])"
      ]
     },
     "execution_count": 34,
     "metadata": {},
     "output_type": "execute_result"
    }
   ],
   "source": [
    "tour"
   ]
  },
  {
   "cell_type": "code",
   "execution_count": 33,
   "metadata": {},
   "outputs": [
    {
     "data": {
      "image/png": "[encoded data removed]",
      "text/plain": [
       "<Figure size 500x500 with 1 Axes>"
      ]
     },
     "metadata": {},
     "output_type": "display_data"
    }
   ],
   "source": [
    "fig, ax = plt.subplots(figsize=[5, 5], dpi=100)\n",
    "\n",
    "tour = np.array(find_tour(model))\n",
    "ax.scatter(coordinates[tour, 0], coordinates[tour, 1], color=\"navy\", s=4)\n",
    "ax.plot(coordinates[tour, 0], coordinates[tour, 1], color=\"navy\")\n",
    "ax.axis('off')\n",
    "\n",
    "fig.tight_layout()\n",
    "plt.show()"
   ]
  }
 ],
 "metadata": {
  "kernelspec": {
   "display_name": "venv",
   "language": "python",
   "name": "python3"
  },
  "language_info": {
   "codemirror_mode": {
    "name": "ipython",
    "version": 3
   },
   "file_extension": ".py",
   "mimetype": "text/x-python",
   "name": "python",
   "nbconvert_exporter": "python",
   "pygments_lexer": "ipython3",
   "version": "3.11.9"
  }
 },
 "nbformat": 4,
 "nbformat_minor": 2
}
