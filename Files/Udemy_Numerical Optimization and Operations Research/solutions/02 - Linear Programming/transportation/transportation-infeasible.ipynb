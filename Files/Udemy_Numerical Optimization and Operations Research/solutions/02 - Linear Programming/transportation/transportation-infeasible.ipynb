{
 "cells": [
  {
   "cell_type": "markdown",
   "metadata": {},
   "source": [
    "# Transportation"
   ]
  },
  {
   "cell_type": "markdown",
   "metadata": {},
   "source": [
    "$$\n",
    "\\begin{align}\n",
    "    \\text{min} \\quad & \\sum_{i \\in I}\\sum_{j \\in J} c_{i, j} x_{i, j} \\\\\n",
    "    \\text{s.t.} \\quad & \\sum_{j \\in J} x_{i, j} \\leq b_{i} & \\forall \\; i \\in I \\\\\n",
    "    \\quad & \\sum_{i \\in I} x_{i, j} = d_{j} & \\forall \\; j \\in J \\\\\n",
    "    & x_{i, j} \\geq 0 & \\forall \\;i \\in I, j \\in J \\\\\n",
    "\\end{align}\n",
    "$$"
   ]
  },
  {
   "cell_type": "code",
   "execution_count": 1,
   "metadata": {},
   "outputs": [],
   "source": [
    "# Python native modules\n",
    "import json\n",
    "\n",
    "# Third-party packages\n",
    "import pandas as pd  # Tabular data\n",
    "import pyomo.environ as pyo"
   ]
  },
  {
   "cell_type": "code",
   "execution_count": 2,
   "metadata": {},
   "outputs": [],
   "source": [
    "# Read input file and store in local variable `input_data`\n",
    "with open(\"input_transp.json\", mode=\"r\", encoding=\"utf8\") as file:\n",
    "    input_data = json.load(file)"
   ]
  },
  {
   "cell_type": "code",
   "execution_count": 3,
   "metadata": {},
   "outputs": [],
   "source": [
    "# Create local variables to store input parameters\n",
    "availabilities = input_data[\"availabilities\"]\n",
    "demands = input_data[\"demands\"]\n",
    "\n",
    "# Dictionary of costs indexed by tuples (origin, destination)\n",
    "costs = {\n",
    "    (c[\"from\"], c[\"to\"]): c[\"value\"]\n",
    "    for c in input_data[\"costs\"]\n",
    "}"
   ]
  },
  {
   "cell_type": "code",
   "execution_count": 4,
   "metadata": {},
   "outputs": [],
   "source": [
    "availabilities[\"S2\"] = 23"
   ]
  },
  {
   "cell_type": "code",
   "execution_count": 5,
   "metadata": {},
   "outputs": [],
   "source": [
    "# Create model instance\n",
    "model = pyo.ConcreteModel()"
   ]
  },
  {
   "cell_type": "code",
   "execution_count": 6,
   "metadata": {},
   "outputs": [],
   "source": [
    "# Sets for suppliers I and customers J\n",
    "model.I = pyo.Set(initialize=availabilities.keys())\n",
    "model.J = pyo.Set(initialize=demands.keys())"
   ]
  },
  {
   "cell_type": "code",
   "execution_count": 7,
   "metadata": {},
   "outputs": [],
   "source": [
    "# Paramters\n",
    "model.b = pyo.Param(model.I, initialize=availabilities)\n",
    "model.d = pyo.Param(model.J, initialize=demands)\n",
    "model.c = pyo.Param(model.I, model.J, initialize=costs)"
   ]
  },
  {
   "cell_type": "code",
   "execution_count": 8,
   "metadata": {},
   "outputs": [],
   "source": [
    "# Decision variables\n",
    "model.x = pyo.Var(model.I, model.J, within=pyo.NonNegativeReals)\n",
    "model.z = pyo.Var(model.J, within=pyo.NonNegativeReals)"
   ]
  },
  {
   "cell_type": "code",
   "execution_count": 9,
   "metadata": {},
   "outputs": [],
   "source": [
    "# Supplier availablity constraints\n",
    "def av_cstr(model, i):\n",
    "    return sum(model.x[i, :]) <= model.b[i]\n",
    "\n",
    "\n",
    "model.av_cstr = pyo.Constraint(model.I, rule=av_cstr)"
   ]
  },
  {
   "cell_type": "code",
   "execution_count": 10,
   "metadata": {},
   "outputs": [],
   "source": [
    "# Demand equality constraints\n",
    "def dem_cstr(model, j):\n",
    "    return sum(model.x[:, j]) + model.z[j] == model.d[j]\n",
    "\n",
    "\n",
    "model.dem_cstr = pyo.Constraint(model.J, rule=dem_cstr)"
   ]
  },
  {
   "cell_type": "code",
   "execution_count": 11,
   "metadata": {},
   "outputs": [],
   "source": [
    "# Objective functions\n",
    "def art_obj(model):\n",
    "    return sum(model.z[:])\n",
    "\n",
    "\n",
    "model.art_obj = pyo.Objective(rule=art_obj, sense=pyo.minimize)\n",
    "\n",
    "\n",
    "def obj(model):\n",
    "    total_cost = sum(\n",
    "        model.c[i, j] * model.x[i, j]\n",
    "        for i in model.I\n",
    "        for j in model.J\n",
    "    )\n",
    "    return total_cost\n",
    "\n",
    "\n",
    "model.obj = pyo.Objective(rule=obj, sense=pyo.minimize)\n",
    "\n",
    "\n",
    "model.obj.deactivate()\n",
    "model.art_obj.activate()"
   ]
  },
  {
   "cell_type": "code",
   "execution_count": 12,
   "metadata": {},
   "outputs": [],
   "source": [
    "# Instantiate Highs persistent solver (make sure highspy is installed)\n",
    "solver = pyo.SolverFactory(\"appsi_highs\")"
   ]
  },
  {
   "cell_type": "code",
   "execution_count": 13,
   "metadata": {},
   "outputs": [
    {
     "data": {
      "text/plain": [
       "{'Problem': [{'Lower bound': 2.0, 'Upper bound': 2.0, 'Number of objectives': 1, 'Number of constraints': 0, 'Number of variables': 0, 'Sense': 1}], 'Solver': [{'Status': 'ok', 'Termination condition': 'optimal', 'Termination message': 'TerminationCondition.optimal'}], 'Solution': [OrderedDict([('number of solutions', 0), ('number of solutions displayed', 0)])]}"
      ]
     },
     "execution_count": 13,
     "metadata": {},
     "output_type": "execute_result"
    }
   ],
   "source": [
    "# Apply method solve\n",
    "solver.solve(model)"
   ]
  },
  {
   "cell_type": "code",
   "execution_count": 14,
   "metadata": {},
   "outputs": [],
   "source": [
    "# Access the artificials optimized\n",
    "K = model.art_obj()"
   ]
  },
  {
   "cell_type": "code",
   "execution_count": 15,
   "metadata": {},
   "outputs": [],
   "source": [
    "def art_cstr(model):\n",
    "    return sum(model.z[:]) <= K\n",
    "\n",
    "\n",
    "model.art_cstr = pyo.Constraint(rule=art_cstr)"
   ]
  },
  {
   "cell_type": "code",
   "execution_count": 16,
   "metadata": {},
   "outputs": [],
   "source": [
    "model.art_obj.deactivate()\n",
    "model.obj.activate()"
   ]
  },
  {
   "cell_type": "code",
   "execution_count": 17,
   "metadata": {},
   "outputs": [
    {
     "data": {
      "text/plain": [
       "{'Problem': [{'Lower bound': 501.0, 'Upper bound': 501.0, 'Number of objectives': 1, 'Number of constraints': 0, 'Number of variables': 0, 'Sense': 1}], 'Solver': [{'Status': 'ok', 'Termination condition': 'optimal', 'Termination message': 'TerminationCondition.optimal'}], 'Solution': [OrderedDict([('number of solutions', 0), ('number of solutions displayed', 0)])]}"
      ]
     },
     "execution_count": 17,
     "metadata": {},
     "output_type": "execute_result"
    }
   ],
   "source": [
    "solver.solve(model)"
   ]
  },
  {
   "cell_type": "code",
   "execution_count": 18,
   "metadata": {},
   "outputs": [
    {
     "data": {
      "text/plain": [
       "501.0"
      ]
     },
     "execution_count": 18,
     "metadata": {},
     "output_type": "execute_result"
    }
   ],
   "source": [
    "# Use objective as a callable to see its value\n",
    "model.obj()"
   ]
  },
  {
   "cell_type": "code",
   "execution_count": 19,
   "metadata": {},
   "outputs": [],
   "source": [
    "sol = [\n",
    "    {\"from\": i, \"to\": j, \"value\": val}\n",
    "    for (i, j), val in model.x.extract_values().items()\n",
    "]"
   ]
  },
  {
   "cell_type": "code",
   "execution_count": 20,
   "metadata": {},
   "outputs": [],
   "source": [
    "dataframe = pd.DataFrame(sol).pivot(\n",
    "    index=\"from\", columns=\"to\", values=\"value\"\n",
    ")"
   ]
  },
  {
   "cell_type": "code",
   "execution_count": 21,
   "metadata": {},
   "outputs": [
    {
     "data": {
      "text/html": [
       "<div>\n",
       "<style scoped>\n",
       "    .dataframe tbody tr th:only-of-type {\n",
       "        vertical-align: middle;\n",
       "    }\n",
       "\n",
       "    .dataframe tbody tr th {\n",
       "        vertical-align: top;\n",
       "    }\n",
       "\n",
       "    .dataframe thead th {\n",
       "        text-align: right;\n",
       "    }\n",
       "</style>\n",
       "<table border=\"1\" class=\"dataframe\">\n",
       "  <thead>\n",
       "    <tr style=\"text-align: right;\">\n",
       "      <th>to</th>\n",
       "      <th>C1</th>\n",
       "      <th>C2</th>\n",
       "      <th>C3</th>\n",
       "      <th>C4</th>\n",
       "    </tr>\n",
       "    <tr>\n",
       "      <th>from</th>\n",
       "      <th></th>\n",
       "      <th></th>\n",
       "      <th></th>\n",
       "      <th></th>\n",
       "    </tr>\n",
       "  </thead>\n",
       "  <tbody>\n",
       "    <tr>\n",
       "      <th>S1</th>\n",
       "      <td>0.0</td>\n",
       "      <td>5.0</td>\n",
       "      <td>0.0</td>\n",
       "      <td>9.0</td>\n",
       "    </tr>\n",
       "    <tr>\n",
       "      <th>S2</th>\n",
       "      <td>0.0</td>\n",
       "      <td>8.0</td>\n",
       "      <td>15.0</td>\n",
       "      <td>0.0</td>\n",
       "    </tr>\n",
       "    <tr>\n",
       "      <th>S3</th>\n",
       "      <td>5.0</td>\n",
       "      <td>0.0</td>\n",
       "      <td>0.0</td>\n",
       "      <td>6.0</td>\n",
       "    </tr>\n",
       "  </tbody>\n",
       "</table>\n",
       "</div>"
      ],
      "text/plain": [
       "to     C1   C2    C3   C4\n",
       "from                     \n",
       "S1    0.0  5.0   0.0  9.0\n",
       "S2    0.0  8.0  15.0  0.0\n",
       "S3    5.0  0.0   0.0  6.0"
      ]
     },
     "metadata": {},
     "output_type": "display_data"
    }
   ],
   "source": [
    "display(dataframe)"
   ]
  },
  {
   "cell_type": "code",
   "execution_count": null,
   "metadata": {},
   "outputs": [],
   "source": []
  }
 ],
 "metadata": {
  "kernelspec": {
   "display_name": "venv",
   "language": "python",
   "name": "python3"
  },
  "language_info": {
   "codemirror_mode": {
    "name": "ipython",
    "version": 3
   },
   "file_extension": ".py",
   "mimetype": "text/x-python",
   "name": "python",
   "nbconvert_exporter": "python",
   "pygments_lexer": "ipython3",
   "version": "3.11.6"
  }
 },
 "nbformat": 4,
 "nbformat_minor": 2
}
