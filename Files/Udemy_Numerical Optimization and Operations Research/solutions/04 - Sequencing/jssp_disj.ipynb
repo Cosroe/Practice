{
 "cells": [
  {
   "cell_type": "markdown",
   "metadata": {},
   "source": [
    "# Disjunctive Job-Shop"
   ]
  },
  {
   "cell_type": "markdown",
   "metadata": {},
   "source": [
    "$$\n",
    "\\begin{align}\n",
    "    \\text{min} \\quad & C \\\\\n",
    "    \\text{s.t.} \\quad & x_{\\sigma_{h-1}^j, j} + p_{\\sigma_{h-1}^j, j} \\leq x_{\\sigma_{h}^j, j}\n",
    "        & \\forall ~ j \\in J; h \\in (2, ..., |M|)\\\\\n",
    "    & x_{m, j} + p_{m, j} \\leq x_{m, k} + V (1 - z_{m, j, k})\n",
    "        & \\forall ~ j, k \\in J, j \\neq k; m \\in M\\\\\n",
    "    & z_{m, j, k} + z_{m, k, j} = 1\n",
    "        & \\forall ~ j, k \\in J, j \\neq k; m \\in M\\\\\n",
    "    & x_{\\sigma_{|M|}^j, j} + p_{\\sigma_{|M|}^j, j} \\leq C\n",
    "        & \\forall ~ j \\in J\\\\\n",
    "    & x_{m, j} \\geq 0 & \\forall ~ j \\in J; m \\in M\\\\\n",
    "    & z_{m, j, k} \\in \\{0, 1\\} & \\forall ~ j, k \\in J; m \\in M\\\\\n",
    "\\end{align}\n",
    "$$\""
   ]
  },
  {
   "cell_type": "code",
   "execution_count": 1,
   "metadata": {},
   "outputs": [],
   "source": [
    "import json\n",
    "import os\n",
    "\n",
    "import pyomo.environ as pyo\n",
    "import matplotlib.pyplot as plt\n",
    "import matplotlib as mpl"
   ]
  },
  {
   "cell_type": "code",
   "execution_count": 2,
   "metadata": {},
   "outputs": [],
   "source": [
    "with open(os.path.join(\"data\", \"random_3_4.json\"), mode=\"r\") as file:\n",
    "    data = json.load(file)"
   ]
  },
  {
   "cell_type": "code",
   "execution_count": 3,
   "metadata": {},
   "outputs": [],
   "source": [
    "machines = sorted(data[\"technology\"][0])\n",
    "jobs = list(range(len(data[\"technology\"])))\n",
    "processing = {\n",
    "    (record[\"machine\"], record[\"job\"]): record[\"time\"]\n",
    "    for record in data[\"processing\"]\n",
    "}\n",
    "sequences = [\n",
    "    (m1, row[h + 1], j)\n",
    "    for j, row in enumerate(data[\"technology\"])\n",
    "    for h, m1 in enumerate(row[:-1])\n",
    "]"
   ]
  },
  {
   "cell_type": "markdown",
   "metadata": {},
   "source": [
    "## pyomo"
   ]
  },
  {
   "cell_type": "code",
   "execution_count": 4,
   "metadata": {},
   "outputs": [],
   "source": [
    "model = pyo.ConcreteModel()"
   ]
  },
  {
   "cell_type": "code",
   "execution_count": 5,
   "metadata": {},
   "outputs": [],
   "source": [
    "# Sets for machines, jobs, horizon, and job sequences\n",
    "model.M = pyo.Set(initialize=machines)\n",
    "model.J = pyo.Set(initialize=jobs)\n",
    "model.E = pyo.Set(initialize=[(j, k) for j in jobs for k in jobs if j != k])\n",
    "model.Sigma = pyo.Set(initialize=sequences)"
   ]
  },
  {
   "cell_type": "code",
   "execution_count": 6,
   "metadata": {},
   "outputs": [],
   "source": [
    "# Parameters\n",
    "model.p = pyo.Param(model.M, model.J, initialize=processing)\n",
    "model.V = pyo.Param(initialize=sum(p for p in processing.values()))"
   ]
  },
  {
   "cell_type": "code",
   "execution_count": 7,
   "metadata": {},
   "outputs": [],
   "source": [
    "# Variables\n",
    "model.x = pyo.Var(model.M, model.J, within=pyo.NonNegativeReals)\n",
    "model.z = pyo.Var(model.M, model.E, within=pyo.Binary)\n",
    "model.C = pyo.Var(within=pyo.NonNegativeReals)"
   ]
  },
  {
   "cell_type": "code",
   "execution_count": 8,
   "metadata": {},
   "outputs": [],
   "source": [
    "# Constraints\n",
    "def cstr_seq(model, m1, m2, j):\n",
    "    return model.x[m1, j] + model.p[m1, j] <= model.x[m2, j]\n",
    "\n",
    "\n",
    "def cstr_precede(model, m, j, k):\n",
    "    return model.x[m, j] + model.p[m, j] <= model.x[m, k] + model.V * (1 - model.z[m, j, k])\n",
    "\n",
    "\n",
    "def cstr_comp_precede(model, m, j, k):\n",
    "    return model.z[m, j, k] + model.z[m, k, j] == 1.0\n",
    "\n",
    "\n",
    "def cstr_total_time(model, m, j):\n",
    "    return model.x[m, j] + model.p[m, j] <= model.C"
   ]
  },
  {
   "cell_type": "code",
   "execution_count": 9,
   "metadata": {},
   "outputs": [],
   "source": [
    "model.cstr_seq = pyo.Constraint(model.Sigma, rule=cstr_seq)\n",
    "model.cstr_precede = pyo.Constraint(model.M, model.E, rule=cstr_precede)\n",
    "model.cstr_comp_precede = pyo.Constraint(model.M, model.E, rule=cstr_comp_precede)\n",
    "model.cstr_total_time = pyo.Constraint(model.M, model.J, rule=cstr_total_time)"
   ]
  },
  {
   "cell_type": "code",
   "execution_count": 10,
   "metadata": {},
   "outputs": [],
   "source": [
    "# Objective\n",
    "model.obj = pyo.Objective(expr=model.C, sense=pyo.minimize)"
   ]
  },
  {
   "cell_type": "markdown",
   "metadata": {},
   "source": [
    "## Solve"
   ]
  },
  {
   "cell_type": "code",
   "execution_count": 11,
   "metadata": {},
   "outputs": [
    {
     "name": "stdout",
     "output_type": "stream",
     "text": [
      "Running HiGHS 1.5.3 [date: 2023-05-16, git hash: 594fa5a9d]\n",
      "Copyright (c) 2023 HiGHS under MIT licence terms\n",
      "Presolving model\n",
      "56 rows, 31 cols, 148 nonzeros\n",
      "38 rows, 31 cols, 94 nonzeros\n",
      "38 rows, 31 cols, 94 nonzeros\n",
      "\n",
      "Solving MIP model with:\n",
      "   38 rows\n",
      "   31 cols (18 binary, 0 integer, 0 implied int., 13 continuous)\n",
      "   94 nonzeros\n",
      "\n",
      "        Nodes      |    B&B Tree     |            Objective Bounds              |  Dynamic Constraints |       Work      \n",
      "     Proc. InQueue |  Leaves   Expl. | BestBound       BestSol              Gap |   Cuts   InLp Confl. | LpIters     Time\n",
      "\n",
      "         0       0         0   0.00%   46              inf                  inf        0      0      0         0     0.0s\n",
      " R       0       0         0   0.00%   46              145               68.28%        0      0      0        14     0.0s\n",
      " L       0       0         0   0.00%   50.39141991     52                 3.09%      290     45      0       116     0.0s\n",
      "\n",
      "27.8% inactive integer columns, restarting\n",
      "Model after restart has 38 rows, 26 cols (13 bin., 0 int., 0 impl., 13 cont.), and 89 nonzeros\n",
      "\n",
      "         0       0         0   0.00%   51              52                 1.92%       13      0      0       144     0.0s\n",
      "\n",
      "23.1% inactive integer columns, restarting\n",
      "Model after restart has 38 rows, 23 cols (10 bin., 0 int., 0 impl., 13 cont.), and 86 nonzeros\n",
      "\n",
      "         0       0         0   0.00%   51              52                 1.92%        7      0      0       167     0.0s\n",
      "         0       0         0   0.00%   51              52                 1.92%        7      6      0       178     0.0s\n",
      "\n",
      "Solving report\n",
      "  Status            Optimal\n",
      "  Primal bound      52\n",
      "  Dual bound        52\n",
      "  Gap               0% (tolerance: 0.01%)\n",
      "  Solution status   feasible\n",
      "                    52 (objective)\n",
      "                    0 (bound viol.)\n",
      "                    0 (int. viol.)\n",
      "                    0 (row viol.)\n",
      "  Timing            0.04 (total)\n",
      "                    0.00 (presolve)\n",
      "                    0.00 (postsolve)\n",
      "  Nodes             1\n",
      "  LP iterations     192 (total)\n",
      "                    0 (strong br.)\n",
      "                    122 (separation)\n",
      "                    16 (heuristics)\n"
     ]
    },
    {
     "data": {
      "text/plain": [
       "{'Problem': [{'Lower bound': 52.0, 'Upper bound': 52.0, 'Number of objectives': 1, 'Number of constraints': 0, 'Number of variables': 0, 'Sense': 1}], 'Solver': [{'Status': 'ok', 'Termination condition': 'optimal', 'Termination message': 'TerminationCondition.optimal'}], 'Solution': [OrderedDict([('number of solutions', 0), ('number of solutions displayed', 0)])]}"
      ]
     },
     "execution_count": 11,
     "metadata": {},
     "output_type": "execute_result"
    }
   ],
   "source": [
    "solver = pyo.SolverFactory(\"appsi_highs\")\n",
    "solver.options[\"mip_heuristic_effort\"] = 0.1\n",
    "solver.options[\"time_limit\"] = 120\n",
    "solver.options[\"log_file\"] = \"Highs.log\"\n",
    "solver.solve(model, tee=True)"
   ]
  },
  {
   "cell_type": "code",
   "execution_count": 12,
   "metadata": {},
   "outputs": [],
   "source": [
    "def get_plot_elements(self, j):\n",
    "    machines = [x.index()[0] for x in self.x[:, j]]\n",
    "    starts = [x.value for x in self.x[:, j]]\n",
    "    spans = [self.p[m, j] for m in machines]\n",
    "    return machines, starts, spans\n",
    "\n",
    "\n",
    "def plot_horizontal(model, figsize=[7, 3], dpi=100, colors=None):\n",
    "\n",
    "    if colors is None:\n",
    "         colors = mpl.colormaps[\"Dark2\"].colors\n",
    "\n",
    "    fig, ax = plt.subplots(figsize=figsize, dpi=dpi)\n",
    "\n",
    "    for i, j in enumerate(model.J):\n",
    "        machines, starts, spans = get_plot_elements(model, j)\n",
    "\n",
    "        if i >= len(colors):\n",
    "            i = i % len(colors)\n",
    "\n",
    "        color = colors[i]\n",
    "        ax.barh(machines, spans, left=starts, label=f\"Job {j}\", color=color)\n",
    "\n",
    "    ax.set_yticks(model.M)\n",
    "    ax.set_xlabel(\"Time\")\n",
    "    ax.set_ylabel(\"Machine\")\n",
    "    ax.legend(loc='upper left', bbox_to_anchor=(1, 1.03))\n",
    "    fig.tight_layout()\n",
    "    plt.show()"
   ]
  },
  {
   "cell_type": "code",
   "execution_count": 13,
   "metadata": {},
   "outputs": [
    {
     "data": {
      "image/png": "[encoded data removed]",
      "text/plain": [
       "<Figure size 700x300 with 1 Axes>"
      ]
     },
     "metadata": {},
     "output_type": "display_data"
    }
   ],
   "source": [
    "plot_horizontal(model)"
   ]
  },
  {
   "cell_type": "code",
   "execution_count": null,
   "metadata": {},
   "outputs": [],
   "source": []
  }
 ],
 "metadata": {
  "kernelspec": {
   "display_name": "venv",
   "language": "python",
   "name": "python3"
  },
  "language_info": {
   "codemirror_mode": {
    "name": "ipython",
    "version": 3
   },
   "file_extension": ".py",
   "mimetype": "text/x-python",
   "name": "python",
   "nbconvert_exporter": "python",
   "pygments_lexer": "ipython3",
   "version": "3.11.6"
  }
 },
 "nbformat": 4,
 "nbformat_minor": 2
}
