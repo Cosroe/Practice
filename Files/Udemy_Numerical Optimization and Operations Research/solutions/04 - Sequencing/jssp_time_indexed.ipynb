{
 "cells": [
  {
   "cell_type": "markdown",
   "metadata": {},
   "source": [
    "# Time-indexed Job-Shop"
   ]
  },
  {
   "cell_type": "markdown",
   "metadata": {},
   "source": [
    "$$\n",
    "\\begin{align}\n",
    "    \\text{min} \\quad & C \\\\\n",
    "    \\text{s.t.} \\quad & \\sum_{t \\in T}{y_{m, j, t}} = 1\n",
    "        & \\forall ~ j \\in J; m \\in M \\\\\n",
    "    & \\sum_{j \\in J} x_{m, j, t} \\leq 1\n",
    "        & \\forall ~ m \\in M; t \\in T \\\\\n",
    "    & \\sum_{t \\in T}{(t + p_{\\sigma_{h - 1}^j, j}) y_{\\sigma_{h - 1}^j, j, t}} \\leq\n",
    "    \\sum_{t \\in T}{t y_{\\sigma_{h}^j, j, t}}\n",
    "        & \\forall ~ j \\in J; h \\in (1, 2, ..., |M|) \\\\\n",
    "    & y_{m, j, t} \\leq x_{m, j, t}\n",
    "        & \\forall ~ m \\in M; j \\in J; t \\in T \\\\\n",
    "    & y_{m, j, t} \\leq 1 - x_{m, j, t - 1}\n",
    "        & \\forall ~ m \\in M; j \\in J; t \\in T \\setminus \\{0\\} \\\\\n",
    "    & x_{m, j, t} - x_{m, j, t - 1} \\leq y_{m, j, t}\n",
    "        & \\forall ~ m \\in M; j \\in J; t \\in T \\setminus \\{0\\} \\\\\n",
    "    & t x_{m, j, t} \\leq C\n",
    "        & \\forall ~ m \\in M; j \\in J; t \\in T \\\\\n",
    "\n",
    "    & y_{m, j, t}, x_{m, j, t} \\in \\{0, 1\\} & \\forall ~ j; m \\in M; t \\in T\\\\\n",
    "\\end{align}\n",
    "$$"
   ]
  },
  {
   "cell_type": "code",
   "execution_count": 1,
   "metadata": {},
   "outputs": [],
   "source": [
    "import json\n",
    "import os\n",
    "\n",
    "import numpy as np\n",
    "import pyomo.environ as pyo\n",
    "import matplotlib.pyplot as plt\n",
    "import matplotlib as mpl"
   ]
  },
  {
   "cell_type": "code",
   "execution_count": 2,
   "metadata": {},
   "outputs": [],
   "source": [
    "with open(os.path.join(\"data\", \"random_3_4.json\"), mode=\"r\") as file:\n",
    "    data = json.load(file)"
   ]
  },
  {
   "cell_type": "code",
   "execution_count": 3,
   "metadata": {},
   "outputs": [],
   "source": [
    "machines = sorted(data[\"technology\"][0])\n",
    "jobs = list(range(len(data[\"technology\"])))\n",
    "processing = {\n",
    "    (record[\"machine\"], record[\"job\"]): record[\"time\"]\n",
    "    for record in data[\"processing\"]\n",
    "}\n",
    "sequences = [\n",
    "    (m1, row[h + 1], j)\n",
    "    for j, row in enumerate(data[\"technology\"])\n",
    "    for h, m1 in enumerate(row[:-1])\n",
    "]"
   ]
  },
  {
   "cell_type": "markdown",
   "metadata": {},
   "source": [
    "## pyomo"
   ]
  },
  {
   "cell_type": "code",
   "execution_count": 4,
   "metadata": {},
   "outputs": [],
   "source": [
    "model = pyo.ConcreteModel()"
   ]
  },
  {
   "cell_type": "code",
   "execution_count": 5,
   "metadata": {},
   "outputs": [],
   "source": [
    "# Sets for machines, jobs, horizon, and job sequences\n",
    "model.M = pyo.Set(initialize=machines)\n",
    "model.J = pyo.Set(initialize=jobs)\n",
    "model.T = pyo.Set(initialize=range(sum(p for p in processing.values())))\n",
    "model.Sigma = pyo.Set(initialize=sequences)"
   ]
  },
  {
   "cell_type": "code",
   "execution_count": 6,
   "metadata": {},
   "outputs": [],
   "source": [
    "# Parameters\n",
    "model.p = pyo.Param(model.M, model.J, initialize=processing)"
   ]
  },
  {
   "cell_type": "code",
   "execution_count": 7,
   "metadata": {},
   "outputs": [],
   "source": [
    "# Variables\n",
    "model.x = pyo.Var(model.M, model.J, model.T, within=pyo.NonNegativeReals, bounds=(0, 1))\n",
    "model.y = pyo.Var(model.M, model.J, model.T, within=pyo.Binary)\n",
    "model.C = pyo.Var(within=pyo.NonNegativeReals)"
   ]
  },
  {
   "cell_type": "code",
   "execution_count": 8,
   "metadata": {},
   "outputs": [],
   "source": [
    "# Constraints\n",
    "def cstr_unique_start(model, m, j):\n",
    "    return sum(model.y[m, j, :]) == 1\n",
    "\n",
    "\n",
    "def cstr_unique_machine(model, m, t):\n",
    "    return sum(model.x[m, :, t]) <= 1\n",
    "\n",
    "\n",
    "def cstr_tech_order(model, m1, m2, j):\n",
    "    lhs = sum(\n",
    "        (t + model.p[m1, j]) * model.y[m1, j, t]\n",
    "        for t in model.T\n",
    "    )\n",
    "    rhs = sum(\n",
    "        t * model.y[m2, j, t]\n",
    "        for t in model.T\n",
    "    )\n",
    "    return lhs <= rhs\n",
    "\n",
    "\n",
    "def cstr_duration(model, m, j, t):\n",
    "    if t <= model.T.last() - model.p[m, j]:\n",
    "        lhs = model.p[m, j] * model.y[m, j, t]\n",
    "        rhs = sum(model.x[m, j, t2] for t2 in range(t, t + model.p[m, j]))\n",
    "        return lhs <= rhs\n",
    "    else:\n",
    "        return model.y[m, j, t] == 0.0\n",
    "\n",
    "\n",
    "def cstr_duration_comp(model, m, j):\n",
    "    return sum(model.x[m, j, :]) == model.p[m, j]\n",
    "\n",
    "\n",
    "def cstr_start_c1(model, m, j, t):\n",
    "    return model.y[m, j, t] <= model.x[m, j, t]\n",
    "\n",
    "\n",
    "def cstr_start_c2(model, m, j, t):\n",
    "    if t != model.T.first():\n",
    "        t_prev = model.T.prev(t)\n",
    "        return model.y[m, j, t] <= 1 - model.x[m, j, t_prev]\n",
    "    else:\n",
    "        return pyo.Constraint.Skip\n",
    "\n",
    "\n",
    "def cstr_start_c3(model, m, j, t):\n",
    "    if t != model.T.first():\n",
    "        t_prev = model.T.prev(t)\n",
    "        return model.x[m, j, t] - model.x[m, j, t_prev] <= model.y[m, j, t]\n",
    "    else:\n",
    "        return pyo.Constraint.Skip\n",
    "\n",
    "\n",
    "def cstr_total_time(model, m, j, t):\n",
    "    return t * model.x[m, j, t] <= model.C"
   ]
  },
  {
   "cell_type": "code",
   "execution_count": 9,
   "metadata": {},
   "outputs": [],
   "source": [
    "model.cstr_unique_start = pyo.Constraint(model.M, model.J, rule=cstr_unique_start)\n",
    "model.cstr_unique_machine = pyo.Constraint(model.M, model.T, rule=cstr_unique_machine)\n",
    "model.cstr_tech_order = pyo.Constraint(model.Sigma, rule=cstr_tech_order)\n",
    "model.cstr_duration = pyo.Constraint(model.M, model.J, model.T, rule=cstr_duration)\n",
    "model.cstr_duration_comp = pyo.Constraint(model.M, model.J, rule=cstr_duration_comp)\n",
    "model.cstr_start_c1 = pyo.Constraint(model.M, model.J, model.T, rule=cstr_start_c1)\n",
    "model.cstr_start_c2 = pyo.Constraint(model.M, model.J, model.T, rule=cstr_start_c2)\n",
    "model.cstr_start_c3 = pyo.Constraint(model.M, model.J, model.T, rule=cstr_start_c3)\n",
    "model.cstr_total_time = pyo.Constraint(model.M, model.J, model.T, rule=cstr_total_time)"
   ]
  },
  {
   "cell_type": "code",
   "execution_count": 10,
   "metadata": {},
   "outputs": [],
   "source": [
    "# Objective\n",
    "model.obj = pyo.Objective(expr=model.C + 1, sense=pyo.minimize)"
   ]
  },
  {
   "cell_type": "markdown",
   "metadata": {},
   "source": [
    "## Solve"
   ]
  },
  {
   "cell_type": "code",
   "execution_count": 11,
   "metadata": {},
   "outputs": [
    {
     "name": "stdout",
     "output_type": "stream",
     "text": [
      "Running HiGHS 1.5.3 [date: 2023-05-16, git hash: 594fa5a9d]\n",
      "Copyright (c) 2023 HiGHS under MIT licence terms\n",
      "Presolving model\n",
      "8696 rows, 3336 cols, 42733 nonzeros\n",
      "7834 rows, 3046 cols, 36647 nonzeros\n",
      "\n",
      "Solving MIP model with:\n",
      "   7834 rows\n",
      "   3046 cols (1305 binary, 0 integer, 0 implied int., 1741 continuous)\n",
      "   36647 nonzeros\n",
      "\n",
      "        Nodes      |    B&B Tree     |            Objective Bounds              |  Dynamic Constraints |       Work      \n",
      "     Proc. InQueue |  Leaves   Expl. | BestBound       BestSol              Gap |   Cuts   InLp Confl. | LpIters     Time\n",
      "\n",
      "         0       0         0   0.00%   1               inf                  inf        0      0      0         0     5.1s\n",
      "         0       0         0   0.00%   5.059816955     inf                  inf        0      0     12      4466     7.2s\n",
      " R       0       0         0   0.00%   5.096864794     143               96.44%     9448    590     50      7270    12.5s\n",
      "         0       0         0   0.00%   6.429257944     143               95.50%    10208   1447     62     11781    18.1s\n",
      "         0       0         0   0.00%   8.903983539     143               93.77%    12882   3356     62     16794    24.2s\n",
      "         0       0         0   0.00%   12.2024267      143               91.47%    15709   3747     62     22539    29.9s\n",
      "         0       0         0   0.00%   15.80447936     143               88.95%    12999   4572     62     27918    35.1s\n",
      "         0       0         0   0.00%   18.14331119     143               87.31%    10188   2658     62     33662    40.8s\n",
      "         0       0         0   0.00%   20.12847539     143               85.92%    12498   2341     62     37104    46.5s\n",
      "         0       0         0   0.00%   20.45049725     143               85.70%     9460   1640     62     38271    52.0s\n",
      "         0       0         0   0.00%   20.64827327     143               85.56%    10307   1854     62     39940    57.1s\n",
      "\n",
      "Solving report\n",
      "  Status            Time limit reached\n",
      "  Primal bound      143\n",
      "  Dual bound        21.1106632097\n",
      "  Gap               85.24% (tolerance: 0.01%)\n",
      "  Solution status   feasible\n",
      "                    143 (objective)\n",
      "                    0 (bound viol.)\n",
      "                    0 (int. viol.)\n",
      "                    0 (row viol.)\n",
      "  Timing            60.01 (total)\n",
      "                    5.06 (presolve)\n",
      "                    0.00 (postsolve)\n",
      "  Nodes             0\n",
      "  LP iterations     41137 (total)\n",
      "                    0 (strong br.)\n",
      "                    36668 (separation)\n",
      "                    0 (heuristics)\n",
      "WARNING: Loading a feasible but suboptimal solution. Please set\n",
      "load_solution=False and check results.termination_condition and\n",
      "results.found_feasible_solution() before loading a solution.\n"
     ]
    },
    {
     "data": {
      "text/plain": [
       "{'Problem': [{'Lower bound': 21.110663209729605, 'Upper bound': 143.0, 'Number of objectives': 1, 'Number of constraints': 0, 'Number of variables': 0, 'Sense': 1}], 'Solver': [{'Status': 'aborted', 'Termination condition': 'maxTimeLimit', 'Termination message': 'TerminationCondition.maxTimeLimit'}], 'Solution': [OrderedDict([('number of solutions', 0), ('number of solutions displayed', 0)])]}"
      ]
     },
     "execution_count": 11,
     "metadata": {},
     "output_type": "execute_result"
    }
   ],
   "source": [
    "solver = pyo.SolverFactory(\"appsi_highs\")\n",
    "solver.options[\"mip_heuristic_effort\"] = 0.2\n",
    "solver.options[\"time_limit\"] = 180\n",
    "solver.options[\"log_file\"] = \"Highs.log\"\n",
    "solver.solve(model, tee=True)"
   ]
  },
  {
   "cell_type": "code",
   "execution_count": 12,
   "metadata": {},
   "outputs": [],
   "source": [
    "def get_plot_elements(model, j):\n",
    "    machines = [y.index()[0] for y in model.y[:, j, :] if np.isclose(y.value, 1, atol=1e-1)]\n",
    "    starts = [y.index()[2] for y in model.y[:, j, :] if np.isclose(y.value, 1, atol=1e-1)]\n",
    "    spans = [model.p[m, j] for m in machines]\n",
    "    return machines, starts, spans\n",
    "\n",
    "\n",
    "def plot_horizontal(model, figsize=[7, 3], dpi=100, colors=None):\n",
    "\n",
    "    if colors is None:\n",
    "         colors = mpl.colormaps[\"Dark2\"].colors\n",
    "\n",
    "    fig, ax = plt.subplots(figsize=figsize, dpi=dpi)\n",
    "\n",
    "    for i, j in enumerate(model.J):\n",
    "        machines, starts, spans = get_plot_elements(model, j)\n",
    "\n",
    "        if i >= len(colors):\n",
    "            i = i % len(colors)\n",
    "\n",
    "        color = colors[i]\n",
    "        ax.barh(machines, spans, left=starts, label=f\"Job {j}\", color=color)\n",
    "\n",
    "    ax.set_yticks(model.M)\n",
    "    ax.set_xlabel(\"Time\")\n",
    "    ax.set_ylabel(\"Machine\")\n",
    "    ax.legend(loc='upper left', bbox_to_anchor=(1, 1.03))\n",
    "    fig.tight_layout()\n",
    "    plt.show()"
   ]
  },
  {
   "cell_type": "code",
   "execution_count": 13,
   "metadata": {},
   "outputs": [
    {
     "data": {
      "image/png": "[encoded data removed]",
      "text/plain": [
       "<Figure size 700x300 with 1 Axes>"
      ]
     },
     "metadata": {},
     "output_type": "display_data"
    }
   ],
   "source": [
    "plot_horizontal(model)"
   ]
  },
  {
   "cell_type": "code",
   "execution_count": null,
   "metadata": {},
   "outputs": [],
   "source": []
  }
 ],
 "metadata": {
  "kernelspec": {
   "display_name": "venv",
   "language": "python",
   "name": "python3"
  },
  "language_info": {
   "codemirror_mode": {
    "name": "ipython",
    "version": 3
   },
   "file_extension": ".py",
   "mimetype": "text/x-python",
   "name": "python",
   "nbconvert_exporter": "python",
   "pygments_lexer": "ipython3",
   "version": "3.11.6"
  }
 },
 "nbformat": 4,
 "nbformat_minor": 2
}
