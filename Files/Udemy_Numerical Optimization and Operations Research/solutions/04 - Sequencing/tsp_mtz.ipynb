{
 "cells": [
  {
   "cell_type": "markdown",
   "metadata": {},
   "source": [
    "# TSP - MTZ"
   ]
  },
  {
   "cell_type": "markdown",
   "metadata": {},
   "source": [
    "$$\n",
    "\\begin{align}\n",
    "    \\text{min} \\quad & \\sum_{i, j \\in A}d_{i, j} x_{i, j} \\\\\n",
    "    \\text{s.t.} \\quad & \\sum_{j \\in V} x_{i, j} = \\sum_{j \\in V} x_{j, i} = 1 & \\forall ~ i \\in V\\\\\n",
    "    & u_{i} + 1 \\leq u_{j} + (|V| - 1) (1 - x_{i, j}) & \\forall ~ i, j \\in A: j \\neq 0\\\\\n",
    "    & x_{i, j} \\in \\left \\{ 0, 1 \\right \\} & \\forall ~ i, j \\in A\\\\\n",
    "\\end{align}\n",
    "$$"
   ]
  },
  {
   "cell_type": "code",
   "execution_count": 1,
   "metadata": {},
   "outputs": [],
   "source": [
    "import numpy as np\n",
    "from scipy.spatial.distance import pdist, squareform\n",
    "import pyomo.environ as pyo\n",
    "import matplotlib.pyplot as plt"
   ]
  },
  {
   "cell_type": "markdown",
   "metadata": {},
   "source": [
    "## Create instance"
   ]
  },
  {
   "cell_type": "code",
   "execution_count": 2,
   "metadata": {},
   "outputs": [],
   "source": [
    "N = 30  # Number of points\n",
    "np.random.seed(12)\n",
    "coordinates = np.random.random((N, 2))\n",
    "D = squareform(pdist(coordinates))"
   ]
  },
  {
   "cell_type": "markdown",
   "metadata": {},
   "source": [
    "## pyomo model"
   ]
  },
  {
   "cell_type": "code",
   "execution_count": 5,
   "metadata": {},
   "outputs": [],
   "source": [
    "# Initialize ConcreteModel\n",
    "model = pyo.ConcreteModel()"
   ]
  },
  {
   "cell_type": "code",
   "execution_count": 6,
   "metadata": {},
   "outputs": [],
   "source": [
    "# Sets nodes and arcs\n",
    "model.V = pyo.Set(initialize=range(N))\n",
    "model.A = pyo.Set(\n",
    "    initialize=[(i, j) for i in range(N) for j in range(N) if i != j]\n",
    ")"
   ]
  },
  {
   "cell_type": "code",
   "execution_count": 7,
   "metadata": {},
   "outputs": [],
   "source": [
    "# Parameter pairwise distances\n",
    "model.d = pyo.Param(model.A, initialize={(i, j): D[i, j] for i, j in model.A})"
   ]
  },
  {
   "cell_type": "code",
   "execution_count": 8,
   "metadata": {},
   "outputs": [],
   "source": [
    "# Variables\n",
    "model.x = pyo.Var(model.A, within=pyo.Binary)\n",
    "model.u = pyo.Var(model.V, within=pyo.NonNegativeReals)"
   ]
  },
  {
   "cell_type": "code",
   "execution_count": 9,
   "metadata": {},
   "outputs": [],
   "source": [
    "# Constraints\n",
    "def arcs_in(model, i):\n",
    "    return sum(model.x[:, i]) == 1.0\n",
    "\n",
    "\n",
    "def arcs_out(model, i):\n",
    "    return sum(model.x[i, :]) == 1.0\n",
    "\n",
    "\n",
    "def precedence(model, i, j):\n",
    "    if j != model.V.first():\n",
    "        return model.u[i] + 1.0 <= model.u[j] + (len(model.V) - 1) * (1 - model.x[i, j])\n",
    "    else:\n",
    "        return pyo.Constraint.Skip\n",
    "\n",
    "\n",
    "model.arcs_in = pyo.Constraint(model.V, rule=arcs_in)\n",
    "model.arcs_out = pyo.Constraint(model.V, rule=arcs_out)\n",
    "model.precedence = pyo.Constraint(model.A, rule=precedence)"
   ]
  },
  {
   "cell_type": "code",
   "execution_count": 10,
   "metadata": {},
   "outputs": [],
   "source": [
    "# Objective\n",
    "def obj(model):\n",
    "    return sum(\n",
    "        model.d[i, j] * model.x[i, j]\n",
    "        for i, j in model.A\n",
    "    )\n",
    "\n",
    "\n",
    "model.obj = pyo.Objective(rule=obj, sense=pyo.minimize)"
   ]
  },
  {
   "cell_type": "markdown",
   "metadata": {},
   "source": [
    "## Solve"
   ]
  },
  {
   "cell_type": "code",
   "execution_count": 11,
   "metadata": {},
   "outputs": [
    {
     "name": "stdout",
     "output_type": "stream",
     "text": [
      "Presolving model\n",
      "901 rows, 899 cols, 4234 nonzeros\n",
      "901 rows, 899 cols, 4234 nonzeros\n",
      "\n",
      "Solving MIP model with:\n",
      "   901 rows\n",
      "   899 cols (870 binary, 0 integer, 0 implied int., 29 continuous)\n",
      "   4234 nonzeros\n",
      "\n",
      "        Nodes      |    B&B Tree     |            Objective Bounds              |  Dynamic Constraints |       Work      \n",
      "     Proc. InQueue |  Leaves   Expl. | BestBound       BestSol              Gap |   Cuts   InLp Confl. | LpIters     Time\n",
      "\n",
      "         0       0         0   0.00%   0               inf                  inf        0      0      0         0     0.1s\n",
      "         0       0         0   0.00%   3.533653823     inf                  inf        0      0      0       111     0.1s\n",
      " C       0       0         0   0.00%   4.593316937     10.85090957       57.67%      369     67      8       195     0.5s\n",
      " L       0       0         0   0.00%   4.632512227     5.029207219        7.89%     1303     75      8       500     5.0s\n",
      " L       0       0         0   0.00%   4.632512227     4.955067889        6.51%     1360     80      8      1435     8.1s\n",
      "\n",
      "52.4% inactive integer columns, restarting\n",
      "Model after restart has 673 rows, 443 cols (414 bin., 0 int., 0 impl., 29 cont.), and 2434 nonzeros\n",
      "\n",
      "         0       0         0   0.00%   4.632512227     4.955067889        6.51%       40      0      0      3223     8.2s\n",
      "         0       0         0   0.00%   4.632512227     4.955067889        6.51%       40     40      5      3285     8.2s\n",
      " L       0       0         0   0.00%   4.632512227     4.868067516        4.84%      974     40      5      5569    11.2s\n",
      " T      16       1         6  17.19%   4.632512227     4.864292025        4.76%     1005     40    723      8807    11.6s\n",
      " B      25       1        10  23.44%   4.632512227     4.83041635         4.10%     1016     40   1028     10136    11.7s\n",
      " B      68       5        31  85.94%   4.632512227     4.83041635         4.10%     1079     40   3050     20081    13.0s\n",
      "\n",
      "Restarting search from the root node\n",
      "Model after restart has 491 rows, 95 cols (66 bin., 0 int., 0 impl., 29 cont.), and 1128 nonzeros\n",
      "\n",
      "        73       0         0   0.00%   4.788960637     4.83041635         0.86%       73      0      0     20604    13.1s\n",
      "\n",
      "50.0% inactive integer columns, restarting\n",
      "Model after restart has 432 rows, 42 cols (13 bin., 0 int., 0 impl., 29 cont.), and 922 nonzeros\n",
      "\n",
      "        73       0         0   0.00%   4.788960637     4.83041635         0.86%        2      0      0     20723    13.1s\n",
      "\n",
      "30.8% inactive integer columns, restarting\n",
      "Model after restart has 420 rows, 36 cols (7 bin., 0 int., 0 impl., 29 cont.), and 869 nonzeros\n",
      "\n",
      "        73       0         0   0.00%   4.788960637     4.83041635         0.86%        1      0      0     20779    13.1s\n",
      "        73       0         0   0.00%   4.788960637     4.83041635         0.86%        2      1      0     20784    13.1s\n",
      "\n",
      "Solving report\n",
      "  Status            Optimal\n",
      "  Primal bound      4.83041634962\n",
      "  Dual bound        4.83041634962\n",
      "  Gap               0% (tolerance: 0.01%)\n",
      "  Solution status   feasible\n",
      "                    4.83041634962 (objective)\n",
      "                    0 (bound viol.)\n",
      "                    1.45439216226e-14 (int. viol.)\n",
      "                    0 (row viol.)\n",
      "  Timing            13.17 (total)\n",
      "                    0.08 (presolve)\n",
      "                    0.00 (postsolve)\n",
      "  Nodes             77\n",
      "  LP iterations     20866 (total)\n",
      "                    11638 (strong br.)\n",
      "                    663 (separation)\n",
      "                    6259 (heuristics)\n"
     ]
    }
   ],
   "source": [
    "solver = pyo.SolverFactory(\"appsi_highs\")\n",
    "res = solver.solve(model, tee=True)"
   ]
  },
  {
   "cell_type": "code",
   "execution_count": 12,
   "metadata": {},
   "outputs": [],
   "source": [
    "def find_tour(model):\n",
    "    Q = [v for v in model.V]\n",
    "    node = Q.pop(0)\n",
    "    tour = [node]\n",
    "    while len(Q) > 0:\n",
    "        for other in Q:\n",
    "            if np.isclose(model.x[node, other].value, 1, atol=1e-1):\n",
    "                Q.remove(other)\n",
    "                node = other\n",
    "                tour.append(node)\n",
    "    tour.append(tour[0])\n",
    "    return tour"
   ]
  },
  {
   "cell_type": "code",
   "execution_count": 13,
   "metadata": {},
   "outputs": [
    {
     "data": {
      "image/png": "[encoded data removed]",
      "text/plain": [
       "<Figure size 500x500 with 1 Axes>"
      ]
     },
     "metadata": {},
     "output_type": "display_data"
    }
   ],
   "source": [
    "fig, ax = plt.subplots(figsize=[5, 5], dpi=100)\n",
    "\n",
    "tour = np.array(find_tour(model))\n",
    "ax.scatter(coordinates[tour, 0], coordinates[tour, 1], color=\"navy\", s=4)\n",
    "ax.plot(coordinates[tour, 0], coordinates[tour, 1], color=\"navy\")\n",
    "ax.axis('off')\n",
    "\n",
    "fig.tight_layout()\n",
    "plt.show()"
   ]
  },
  {
   "cell_type": "code",
   "execution_count": null,
   "metadata": {},
   "outputs": [],
   "source": []
  }
 ],
 "metadata": {
  "kernelspec": {
   "display_name": "venv",
   "language": "python",
   "name": "python3"
  },
  "language_info": {
   "codemirror_mode": {
    "name": "ipython",
    "version": 3
   },
   "file_extension": ".py",
   "mimetype": "text/x-python",
   "name": "python",
   "nbconvert_exporter": "python",
   "pygments_lexer": "ipython3",
   "version": "3.9.7"
  }
 },
 "nbformat": 4,
 "nbformat_minor": 2
}
