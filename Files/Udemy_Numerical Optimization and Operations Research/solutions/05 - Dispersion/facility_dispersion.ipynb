{
 "cells": [
  {
   "cell_type": "markdown",
   "metadata": {},
   "source": [
    "# The Facility Dispersion Problem"
   ]
  },
  {
   "cell_type": "markdown",
   "metadata": {},
   "source": [
    "## p-dispersion\n",
    "\n",
    "$$\n",
    "\\begin{align}\n",
    "    \\text{max} \\quad & D \\\\\n",
    "    \\text{s.t} \\quad & \\sum_{i \\in V} x_{i} = p & \\forall \\; i \\in V \\\\\n",
    "    & z_{i, j} \\leq x_{i} & \\forall \\; i, j \\in A \\\\\n",
    "    & z_{i, j} \\leq x_{j} & \\forall \\; i, j \\in A \\\\\n",
    "    & x_{i} + x_{j} - 1 \\leq z_{i, j} & \\forall \\; i, j \\in A \\\\\n",
    "    & D \\leq d_{i, j} + M (1 - z_{i, j}) & \\forall \\; i, j \\in A \\\\\n",
    "    & x_{i} \\in \\{0, 1\\} & \\forall \\; i \\in V \\\\\n",
    "    & z_{i, j} \\in \\{0, 1\\} & \\forall \\; i, j \\in A \\\\\n",
    "\\end{align}\n",
    "$$"
   ]
  },
  {
   "cell_type": "markdown",
   "metadata": {},
   "source": [
    "## maxisum\n",
    "\n",
    "$$\n",
    "\\begin{align}\n",
    "    \\text{max} \\quad & \\sum_{i \\in V}\\sum_{j \\in V} d_{i, j} z_{i, j} \\\\\n",
    "    \\text{s.t} \\quad & d_{opt} \\leq D \\\\\n",
    "\\end{align}\n",
    "$$"
   ]
  },
  {
   "cell_type": "code",
   "execution_count": 1,
   "metadata": {},
   "outputs": [],
   "source": [
    "import json\n",
    "\n",
    "import numpy as np\n",
    "from scipy.spatial.distance import pdist, squareform\n",
    "import pyomo.environ as pyo\n",
    "import matplotlib.pyplot as plt"
   ]
  },
  {
   "cell_type": "markdown",
   "metadata": {},
   "source": [
    "## Read input data"
   ]
  },
  {
   "cell_type": "code",
   "execution_count": 2,
   "metadata": {},
   "outputs": [],
   "source": [
    "# Read file\n",
    "with open(\"./data/data_25_5.json\", mode=\"r\") as file:\n",
    "    data = json.load(file)\n",
    "\n",
    "N = len(data[\"coordinates\"])\n",
    "coordinates = np.array(data[\"coordinates\"])\n",
    "weights = squareform(pdist(coordinates))\n",
    "\n",
    "# Number of points to select\n",
    "p = data[\"p\"]"
   ]
  },
  {
   "cell_type": "code",
   "execution_count": 3,
   "metadata": {},
   "outputs": [
    {
     "data": {
      "image/png": "[encoded data removed]",
      "text/plain": [
       "<Figure size 500x500 with 1 Axes>"
      ]
     },
     "metadata": {},
     "output_type": "display_data"
    }
   ],
   "source": [
    "fig, ax = plt.subplots(figsize=[5, 5], dpi=100)\n",
    "ax.scatter(\n",
    "    coordinates[:, 0],\n",
    "    coordinates[:, 1],\n",
    "    color=\"navy\"\n",
    ")\n",
    "\n",
    "ax.axis('off')\n",
    "\n",
    "fig.tight_layout()\n",
    "plt.show()"
   ]
  },
  {
   "cell_type": "markdown",
   "metadata": {},
   "source": [
    "## pyomo model"
   ]
  },
  {
   "cell_type": "code",
   "execution_count": 4,
   "metadata": {},
   "outputs": [],
   "source": [
    "# Instantiate pyomo ConcreteModel\n",
    "model = pyo.ConcreteModel()"
   ]
  },
  {
   "cell_type": "code",
   "execution_count": 5,
   "metadata": {},
   "outputs": [],
   "source": [
    "# Sets of nodes and arcs\n",
    "model.V = pyo.Set(initialize=range(weights.shape[0]))\n",
    "model.A = pyo.Set(\n",
    "    initialize=[(i, j) for i in range(weights.shape[0])\n",
    "                for j in range(weights.shape[0])\n",
    "                if i != j]\n",
    ")"
   ]
  },
  {
   "cell_type": "code",
   "execution_count": 6,
   "metadata": {},
   "outputs": [],
   "source": [
    "# Parameters\n",
    "model.d = pyo.Param(model.A, initialize={(i, j): weights[i, j] for (i, j) in model.A})\n",
    "model.p = pyo.Param(initialize=p)\n",
    "\n",
    "# Big M\n",
    "model.M = pyo.Param(initialize=max(model.d[:, :]) - min(model.d[:, :]))"
   ]
  },
  {
   "cell_type": "code",
   "execution_count": 7,
   "metadata": {},
   "outputs": [],
   "source": [
    "# Decision variables\n",
    "model.x = pyo.Var(model.V, within=pyo.Binary)\n",
    "model.z = pyo.Var(model.A, within=pyo.Binary)\n",
    "model.D = pyo.Var(within=pyo.NonNegativeReals)"
   ]
  },
  {
   "cell_type": "code",
   "execution_count": 8,
   "metadata": {},
   "outputs": [],
   "source": [
    "# Constraints\n",
    "def p_selection(model):\n",
    "    return sum(model.x[:]) == model.p\n",
    "\n",
    "\n",
    "def dispersion_c1(model, i, j):\n",
    "    return model.z[i, j] <= model.x[i]\n",
    "\n",
    "\n",
    "def dispersion_c2(model, i, j):\n",
    "    return model.z[i, j] <= model.x[j]\n",
    "\n",
    "\n",
    "def dispersion_c3(model, i, j):\n",
    "    return model.x[i] + model.x[j] - 1 <= model.z[i, j]\n",
    "\n",
    "\n",
    "def maxmin_rule(model, i, j):\n",
    "    return model.D <= model.d[i, j] + model.M * (1 - model.z[i, j])\n",
    "\n",
    "\n",
    "# Set model attributes\n",
    "model.p_selection = pyo.Constraint(rule=p_selection)\n",
    "model.dispersion_c1 = pyo.Constraint(model.A, rule=dispersion_c1)\n",
    "model.dispersion_c2 = pyo.Constraint(model.A, rule=dispersion_c2)\n",
    "model.dispersion_c3 = pyo.Constraint(model.A, rule=dispersion_c3)\n",
    "model.maxmin_rule = pyo.Constraint(model.A, rule=maxmin_rule)"
   ]
  },
  {
   "cell_type": "code",
   "execution_count": 9,
   "metadata": {},
   "outputs": [],
   "source": [
    "# Objectives\n",
    "model.obj_pdisp = pyo.Objective(expr=model.D, sense=pyo.maximize)\n",
    "\n",
    "\n",
    "def obj_maxisum(model):\n",
    "    return sum(model.d[i, j] * model.z[i, j] for (i, j) in model.A)\n",
    "\n",
    "\n",
    "model.obj_maxisum = pyo.Objective(rule=obj_maxisum, sense=pyo.maximize)\n",
    "model.obj_maxisum.deactivate()"
   ]
  },
  {
   "cell_type": "markdown",
   "metadata": {},
   "source": [
    "## Solve"
   ]
  },
  {
   "cell_type": "code",
   "execution_count": 10,
   "metadata": {},
   "outputs": [],
   "source": [
    "# Function to solve model\n",
    "def solve_model(model, solver, **kwargs):\n",
    "\n",
    "    # Solve p-dispersion problem\n",
    "    solver.solve(model, **kwargs)\n",
    "\n",
    "    # Include constraint that does not allow objective degradation\n",
    "    d_opt = model.obj_pdisp()\n",
    "    model.pdisp_degradation = pyo.Constraint(expr=d_opt <= model.D)\n",
    "\n",
    "    # Change active objective\n",
    "    model.obj_pdisp.deactivate()\n",
    "    model.obj_maxisum.activate()\n",
    "\n",
    "    # Solve maxisum model\n",
    "    solver.solve(model, **kwargs)"
   ]
  },
  {
   "cell_type": "code",
   "execution_count": 11,
   "metadata": {},
   "outputs": [
    {
     "name": "stdout",
     "output_type": "stream",
     "text": [
      "Running HiGHS 1.5.3 [date: 2023-05-16, git hash: 594fa5a9d]\n",
      "Copyright (c) 2023 HiGHS under MIT licence terms\n"
     ]
    },
    {
     "name": "stdout",
     "output_type": "stream",
     "text": [
      "Presolving model\n",
      "2401 rows, 626 cols, 5425 nonzeros\n",
      "1200 rows, 326 cols, 2723 nonzeros\n",
      "1200 rows, 326 cols, 2723 nonzeros\n",
      "\n",
      "Solving MIP model with:\n",
      "   1200 rows\n",
      "   326 cols (325 binary, 0 integer, 0 implied int., 1 continuous)\n",
      "   2723 nonzeros\n",
      "\n",
      "        Nodes      |    B&B Tree     |            Objective Bounds              |  Dynamic Constraints |       Work      \n",
      "     Proc. InQueue |  Leaves   Expl. | BestBound       BestSol              Gap |   Cuts   InLp Confl. | LpIters     Time\n",
      "\n",
      "         0       0         0   0.00%   1.25261538      -inf                 inf        0      0      0         0     0.1s\n",
      " R       0       0         0   0.00%   1.25261538      0.2248606957     457.06%        0      0      0        10     0.1s\n",
      " L       0       0         0   0.00%   1.25261538      0.4749105946     163.76%     1531     31      2       206     0.8s\n",
      "\n",
      "40.0% inactive integer columns, restarting\n",
      "Model after restart has 633 rows, 162 cols (161 bin., 0 int., 0 impl., 1 cont.), and 2856 nonzeros\n",
      "\n",
      "         0       0         0   0.00%   1.25261538      0.4749105946     163.76%        6      0      0       570     1.0s\n",
      "         0       0         0   0.00%   1.25261538      0.4749105946     163.76%        6      4      6       588     1.0s\n",
      " H       0       0         0   0.00%   1.25261538      0.5317704368     135.56%     1741     42      6       702     1.3s\n",
      " L       0       0         0   0.00%   1.25261538      0.5373667566     133.10%     1742     42      6       702     1.3s\n",
      "\n",
      "Solving report\n",
      "  Status            Optimal\n",
      "  Primal bound      0.537366756643\n",
      "  Dual bound        0.537366756643\n",
      "  Gap               0% (tolerance: 0.01%)\n",
      "  Solution status   feasible\n",
      "                    0.537366756643 (objective)\n",
      "                    0 (bound viol.)\n",
      "                    0 (int. viol.)\n",
      "                    0 (row viol.)\n",
      "  Timing            1.43 (total)\n",
      "                    0.21 (presolve)\n",
      "                    0.00 (postsolve)\n",
      "  Nodes             7\n",
      "  LP iterations     1693 (total)\n",
      "                    193 (strong br.)\n",
      "                    356 (separation)\n",
      "                    839 (heuristics)\n",
      "Presolving model\n",
      "1197 rows, 323 cols, 2715 nonzeros\n",
      "950 rows, 93 cols, 2345 nonzeros\n",
      "341 rows, 93 cols, 1383 nonzeros\n",
      "210 rows, 46 cols, 606 nonzeros\n",
      "167 rows, 45 cols, 525 nonzeros\n",
      "167 rows, 45 cols, 525 nonzeros\n",
      "\n",
      "Solving MIP model with:\n",
      "   167 rows\n",
      "   45 cols (45 binary, 0 integer, 0 implied int., 0 continuous)\n",
      "   525 nonzeros\n",
      "\n",
      "        Nodes      |    B&B Tree     |            Objective Bounds              |  Dynamic Constraints |       Work      \n",
      "     Proc. InQueue |  Leaves   Expl. | BestBound       BestSol              Gap |   Cuts   InLp Confl. | LpIters     Time\n",
      "\n",
      "         0       0         0   0.00%   23.52780771     -inf                 inf        0      0      0         0     0.1s\n",
      " T       0       0         0   0.00%   23.52780771     16.07186173       46.39%        0      0      0        43     0.1s\n",
      "\n",
      "Solving report\n",
      "  Status            Optimal\n",
      "  Primal bound      16.071861732\n",
      "  Dual bound        16.071861732\n",
      "  Gap               0% (tolerance: 0.01%)\n",
      "  Solution status   feasible\n",
      "                    16.071861732 (objective)\n",
      "                    0 (bound viol.)\n",
      "                    8.881784197e-16 (int. viol.)\n",
      "                    0 (row viol.)\n",
      "  Timing            0.11 (total)\n",
      "                    0.10 (presolve)\n",
      "                    0.00 (postsolve)\n",
      "  Nodes             1\n",
      "  LP iterations     43 (total)\n",
      "                    0 (strong br.)\n",
      "                    0 (separation)\n",
      "                    0 (heuristics)\n"
     ]
    }
   ],
   "source": [
    "solver = pyo.SolverFactory(\"appsi_highs\")\n",
    "solver.options[\"time_limit\"] = 180\n",
    "solve_model(model, solver, tee=True)"
   ]
  },
  {
   "cell_type": "code",
   "execution_count": 12,
   "metadata": {},
   "outputs": [
    {
     "data": {
      "image/png": "[encoded data removed]",
      "text/plain": [
       "<Figure size 500x500 with 1 Axes>"
      ]
     },
     "metadata": {},
     "output_type": "display_data"
    }
   ],
   "source": [
    "fig, ax = plt.subplots(figsize=[5, 5], dpi=100)\n",
    "facilities = np.array([i for i in model.x if np.isclose(model.x[i].value, 1)])\n",
    "\n",
    "ax.scatter(\n",
    "    coordinates[:, 0],\n",
    "    coordinates[:, 1],\n",
    "    color=\"navy\"\n",
    ")\n",
    "\n",
    "ax.scatter(\n",
    "    coordinates[facilities, 0],\n",
    "    coordinates[facilities, 1],\n",
    "    color=\"firebrick\",\n",
    "    label=\"Facilities\"\n",
    ")\n",
    "\n",
    "ax.axis('off')\n",
    "\n",
    "fig.tight_layout()\n",
    "plt.show()"
   ]
  },
  {
   "cell_type": "code",
   "execution_count": null,
   "metadata": {},
   "outputs": [],
   "source": []
  }
 ],
 "metadata": {
  "kernelspec": {
   "display_name": "venv",
   "language": "python",
   "name": "python3"
  },
  "language_info": {
   "codemirror_mode": {
    "name": "ipython",
    "version": 3
   },
   "file_extension": ".py",
   "mimetype": "text/x-python",
   "name": "python",
   "nbconvert_exporter": "python",
   "pygments_lexer": "ipython3",
   "version": "3.11.6"
  }
 },
 "nbformat": 4,
 "nbformat_minor": 2
}
