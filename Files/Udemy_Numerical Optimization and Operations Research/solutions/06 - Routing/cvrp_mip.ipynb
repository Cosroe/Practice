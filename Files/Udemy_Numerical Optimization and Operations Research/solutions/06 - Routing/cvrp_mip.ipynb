{
 "cells": [
  {
   "attachments": {},
   "cell_type": "markdown",
   "metadata": {},
   "source": [
    "# MIP - CVRP"
   ]
  },
  {
   "attachments": {},
   "cell_type": "markdown",
   "metadata": {},
   "source": [
    "$$\n",
    "\\begin{align}\n",
    "    \\text{min} \\quad & \\sum_{k \\in K}\\sum_{i \\in V}\\sum_{j \\in V} c_{i, j} x_{i, j, k} \\\\\n",
    "    \\text{s.t} \\quad & \\sum_{k \\in K}\\sum_{j \\in V} x_{i, j, k} = \\sum_{k \\in K}\\sum_{j \\in V} x_{j, i, k} = 1 & \\forall \\; i \\in V \\setminus \\{0\\} \\\\\n",
    "    & \\sum_{j \\in V} x_{i, j, k} = \\sum_{j \\in V} x_{j, i, k} = y_{i, k} & \\forall \\; i \\in V \\setminus \\{0\\} \\; k \\in K \\\\\n",
    "    & \\sum_{i \\in V} q_{i} y_{i, k} \\leq Q & \\forall \\; k \\in K \\\\\n",
    "    & \\sum_{k \\in K}\\sum_{j \\in V} x_{0, j, k} = \\sum_{k \\in K}\\sum_{i \\in V} x_{i, 0, k} = |K| \\\\\n",
    "    & \\sum_{i \\in S}\\sum_{j \\notin S} x_{i, j, k} \\geq y_{h, k} & \\forall \\; S \\subseteq V \\setminus \\{0\\} \\; h \\in S \\; k \\in K \\\\\n",
    "    & x_{i, j, k} \\in \\{0, 1\\} & \\forall \\; i \\in V \\; j \\in V \\; k \\in K \\\\\n",
    "    & y_{i, k} \\in \\{0, 1\\} & \\forall \\; i \\in V \\; k \\in K\n",
    "\\end{align}\n",
    "$$"
   ]
  },
  {
   "cell_type": "code",
   "execution_count": 1,
   "metadata": {},
   "outputs": [],
   "source": [
    "import time\n",
    "from itertools import cycle\n",
    "\n",
    "import numpy as np\n",
    "import pyomo.environ as pyo\n",
    "import networkx as nx\n",
    "import matplotlib.pyplot as plt\n",
    "import matplotlib as mpl\n",
    "from scipy.spatial.distance import pdist, squareform"
   ]
  },
  {
   "cell_type": "code",
   "execution_count": 2,
   "metadata": {},
   "outputs": [],
   "source": [
    "from bpp import create_bpp"
   ]
  },
  {
   "attachments": {},
   "cell_type": "markdown",
   "metadata": {},
   "source": [
    "## Random parameters"
   ]
  },
  {
   "cell_type": "code",
   "execution_count": 3,
   "metadata": {},
   "outputs": [],
   "source": [
    "# Set random seed for consistency\n",
    "np.random.seed(42)\n",
    "\n",
    "# Problem parameters\n",
    "N = 12\n",
    "demands = np.random.randint(1, 8, size=N)\n",
    "demands[0] = 0  # Demand is zero at depot node\n",
    "\n",
    "capacity = 15\n",
    "# n_vehicles = 4 - Can be defined using Bin Packing Problem\n",
    "\n",
    "# Random coordinates and distance matrix\n",
    "coordinates = np.random.rand(N, 2)\n",
    "coordinates[0] = np.ones((1, 2)) * 0.5\n",
    "distances = squareform(pdist(coordinates, metric=\"euclidean\"))\n",
    "distances = np.round(distances, decimals=4)"
   ]
  },
  {
   "attachments": {},
   "cell_type": "markdown",
   "metadata": {},
   "source": [
    "### Optional - BPP"
   ]
  },
  {
   "cell_type": "code",
   "execution_count": 4,
   "metadata": {},
   "outputs": [],
   "source": [
    "# Create Bin Packing Problem\n",
    "bpp = create_bpp({i: d for (i, d) in enumerate(demands)}, capacity)"
   ]
  },
  {
   "cell_type": "code",
   "execution_count": 5,
   "metadata": {},
   "outputs": [
    {
     "name": "stdout",
     "output_type": "stream",
     "text": [
      "4 vehicles are necessary\n"
     ]
    }
   ],
   "source": [
    "# Instantiate solver\n",
    "solver = pyo.SolverFactory(\"appsi_highs\")\n",
    "solver.options = {\n",
    "    \"log_file\": \"Highs.log\",\n",
    "    \"mip_heuristic_effort\": 0.2,\n",
    "    \"mip_detect_symmetry\": True,\n",
    "    \"mip_rel_gap\": 1e-6,\n",
    "}\n",
    "\n",
    "# Solve BPP to define number of vehicles necessary\n",
    "solver.solve(bpp)\n",
    "n_vehicles = int(bpp.obj())\n",
    "print(f\"{n_vehicles} vehicles are necessary\")"
   ]
  },
  {
   "attachments": {},
   "cell_type": "markdown",
   "metadata": {},
   "source": [
    "## CVRP"
   ]
  },
  {
   "cell_type": "code",
   "execution_count": 6,
   "metadata": {},
   "outputs": [],
   "source": [
    "# Instantiate a ConcreteModel from pyomo\n",
    "model = pyo.ConcreteModel()"
   ]
  },
  {
   "attachments": {},
   "cell_type": "markdown",
   "metadata": {},
   "source": [
    "## Sets"
   ]
  },
  {
   "cell_type": "code",
   "execution_count": 7,
   "metadata": {},
   "outputs": [],
   "source": [
    "# Sets of nodes, arcs, and vehicles\n",
    "model.V = pyo.Set(initialize=range(len(demands)))\n",
    "model.A = pyo.Set(initialize=[(i, j) for i in model.V for j in model.V if i != j])\n",
    "model.K = pyo.Set(initialize=range(n_vehicles))"
   ]
  },
  {
   "attachments": {},
   "cell_type": "markdown",
   "metadata": {},
   "source": [
    "## Parameters"
   ]
  },
  {
   "cell_type": "code",
   "execution_count": 8,
   "metadata": {},
   "outputs": [],
   "source": [
    "# Parameters for capacity, arc costs, and unitary demands\n",
    "model.Q = pyo.Param(initialize=capacity)\n",
    "model.c = pyo.Param(model.A, initialize={(i, j): distances[i, j] for (i, j) in model.A})\n",
    "model.q = pyo.Param(model.V, initialize={i: d for (i, d) in enumerate(demands)})"
   ]
  },
  {
   "attachments": {},
   "cell_type": "markdown",
   "metadata": {},
   "source": [
    "## Variables"
   ]
  },
  {
   "cell_type": "code",
   "execution_count": 9,
   "metadata": {},
   "outputs": [],
   "source": [
    "# Decision variables for active arc by vehicle and node assignment\n",
    "model.x = pyo.Var(model.A, model.K, within=pyo.Binary)\n",
    "model.y = pyo.Var(model.V, model.K, within=pyo.Binary)"
   ]
  },
  {
   "attachments": {},
   "cell_type": "markdown",
   "metadata": {},
   "source": [
    "## Constraints"
   ]
  },
  {
   "cell_type": "code",
   "execution_count": 10,
   "metadata": {},
   "outputs": [],
   "source": [
    "def arcs_in(model, i):\n",
    "    if i == model.V.first():\n",
    "        return sum(model.x[:, i, :]) == len(model.K)\n",
    "    else:\n",
    "        return sum(model.x[:, i, :]) == 1.0\n",
    "\n",
    "\n",
    "def arcs_out(model, i):\n",
    "    if i == model.V.first():\n",
    "        return sum(model.x[i, :, :]) == len(model.K)\n",
    "    else:\n",
    "        return sum(model.x[i, :, :]) == 1.0\n",
    "\n",
    "\n",
    "def vehicle_assignment(model, i, k):\n",
    "    return sum(model.x[:, i, k]) == model.y[i, k]\n",
    "\n",
    "\n",
    "def comp_vehicle_assignment(model, i, k):\n",
    "    return sum(model.x[i, :, k]) == model.y[i, k]\n",
    "\n",
    "\n",
    "def capacity_constraint(model, k):\n",
    "    return sum(model.y[i, k] * model.q[i] for i in model.V) <= model.Q\n",
    "\n",
    "\n",
    "def subtour_elimination(model, S, Sout, h, k):\n",
    "    nodes_out = sum(model.x[i, j, k] for i in S for j in Sout)\n",
    "    return model.y[h, k] <= nodes_out\n",
    "\n",
    "\n",
    "model.arcs_in = pyo.Constraint(model.V, rule=arcs_in)\n",
    "model.arcs_out = pyo.Constraint(model.V, rule=arcs_out)\n",
    "model.vehicle_assignment = pyo.Constraint(model.V, model.K, rule=vehicle_assignment)\n",
    "model.comp_vehicle_assignment = pyo.Constraint(model.V, model.K, rule=comp_vehicle_assignment)\n",
    "model.capacity_constraint = pyo.Constraint(model.K, rule=capacity_constraint)\n",
    "model.subtour_elimination = pyo.ConstraintList()"
   ]
  },
  {
   "attachments": {},
   "cell_type": "markdown",
   "metadata": {},
   "source": [
    "## Objective"
   ]
  },
  {
   "cell_type": "code",
   "execution_count": 11,
   "metadata": {},
   "outputs": [],
   "source": [
    "# Minimize total cost of arcs selected\n",
    "model.obj = pyo.Objective(\n",
    "    expr=sum(\n",
    "        model.x[i, j, k] * model.c[i, j]\n",
    "        for (i, j) in model.A\n",
    "        for k in model.K\n",
    "    ),\n",
    "    sense=pyo.minimize,\n",
    ")"
   ]
  },
  {
   "attachments": {},
   "cell_type": "markdown",
   "metadata": {},
   "source": [
    "### Solve"
   ]
  },
  {
   "cell_type": "code",
   "execution_count": 12,
   "metadata": {},
   "outputs": [],
   "source": [
    "def find_arcs(model):\n",
    "    arcs = []\n",
    "    for i, j in model.A:\n",
    "        for k in model.K:\n",
    "            if np.isclose(model.x[i, j, k].value, 1, atol=1e-1):\n",
    "                arcs.append((i, j))\n",
    "    return arcs\n",
    "\n",
    "\n",
    "def find_subtours(arcs):\n",
    "    G = nx.DiGraph(arcs)\n",
    "    subtours = list(nx.strongly_connected_components(G))\n",
    "    return subtours\n",
    "\n",
    "\n",
    "def eliminate_subtours(model, subtours):\n",
    "    proceed = False\n",
    "    for S in subtours:\n",
    "        if 0 not in S:\n",
    "            proceed = True\n",
    "            Sout = {i for i in model.V if i not in S}\n",
    "            for h in S:\n",
    "                for k in model.K:\n",
    "                    model.subtour_elimination.add(subtour_elimination(model, S, Sout, h, k))\n",
    "    return proceed\n",
    "\n",
    "\n",
    "def _solve_step(model, solver, verbose=True):\n",
    "    sol = solver.solve(model)\n",
    "    arcs = find_arcs(model)\n",
    "    subtours = find_subtours(arcs)\n",
    "    if verbose:\n",
    "        print(f\"Current subtours: {len(subtours)}\")\n",
    "    time.sleep(0.01)\n",
    "    proceed = eliminate_subtours(model, subtours)\n",
    "    return sol, proceed\n",
    "\n",
    "\n",
    "def solve(model, solver, verbose=True):\n",
    "    proceed = True\n",
    "    while proceed:\n",
    "        sol, proceed = _solve_step(model, solver, verbose=verbose)\n",
    "    return sol"
   ]
  },
  {
   "cell_type": "code",
   "execution_count": 13,
   "metadata": {},
   "outputs": [
    {
     "name": "stdout",
     "output_type": "stream",
     "text": [
      "Current subtours: 4\n",
      "Current subtours: 3\n",
      "Current subtours: 3\n",
      "Current subtours: 2\n",
      "Current subtours: 2\n",
      "Current subtours: 3\n",
      "Current subtours: 1\n"
     ]
    }
   ],
   "source": [
    "sol = solve(model, solver)"
   ]
  },
  {
   "attachments": {},
   "cell_type": "markdown",
   "metadata": {},
   "source": [
    "## Solution"
   ]
  },
  {
   "cell_type": "code",
   "execution_count": 14,
   "metadata": {},
   "outputs": [],
   "source": [
    "def find_tours(model):\n",
    "    tours = []\n",
    "    for k in model.K:\n",
    "        node = 0\n",
    "        tours.append([0])\n",
    "        while True:\n",
    "            for j in model.V:\n",
    "                if (node, j) in model.A:\n",
    "                    if np.isclose(model.x[node, j, k].value, 1):\n",
    "                        node = j\n",
    "                        tours[-1].append(node)\n",
    "                        break\n",
    "            if node == 0:\n",
    "                break\n",
    "    return tours"
   ]
  },
  {
   "cell_type": "code",
   "execution_count": 15,
   "metadata": {},
   "outputs": [
    {
     "name": "stdout",
     "output_type": "stream",
     "text": [
      "[[0, 6, 9, 1, 0], [0, 3, 8, 4, 0], [0, 11, 10, 2, 0], [0, 7, 5, 0]]\n"
     ]
    }
   ],
   "source": [
    "tours = find_tours(model)\n",
    "print(tours)"
   ]
  },
  {
   "cell_type": "code",
   "execution_count": 16,
   "metadata": {},
   "outputs": [
    {
     "data": {
      "image/png": "[encoded data removed]",
      "text/plain": [
       "<Figure size 600x500 with 1 Axes>"
      ]
     },
     "metadata": {},
     "output_type": "display_data"
    }
   ],
   "source": [
    "# Choosing colors\n",
    "cmap = mpl.colormaps[\"Dark2\"]\n",
    "colors = cycle(cmap.colors)\n",
    "\n",
    "# Now the figure\n",
    "fig, ax = plt.subplots(figsize=[6, 5], dpi=100)\n",
    "for r, tour in enumerate(tours):\n",
    "    c = next(colors)\n",
    "    t = np.array(tour)\n",
    "    x = coordinates[t, 0]\n",
    "    y = coordinates[t, 1]\n",
    "    ax.scatter(x, y, color=c, label=f\"R{r}\")\n",
    "    ax.plot(x, y, color=c)\n",
    "\n",
    "ax.legend()\n",
    "fig.tight_layout()\n",
    "plt.axis('off')\n",
    "plt.show()"
   ]
  },
  {
   "cell_type": "code",
   "execution_count": null,
   "metadata": {},
   "outputs": [],
   "source": []
  }
 ],
 "metadata": {
  "kernelspec": {
   "display_name": "venv",
   "language": "python",
   "name": "python3"
  },
  "language_info": {
   "codemirror_mode": {
    "name": "ipython",
    "version": 3
   },
   "file_extension": ".py",
   "mimetype": "text/x-python",
   "name": "python",
   "nbconvert_exporter": "python",
   "pygments_lexer": "ipython3",
   "version": "3.11.6"
  },
  "orig_nbformat": 4
 },
 "nbformat": 4,
 "nbformat_minor": 2
}
