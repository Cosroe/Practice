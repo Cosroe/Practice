{
 "cells": [
  {
   "cell_type": "markdown",
   "metadata": {},
   "source": [
    "# <u>Inventory Theory</u>"
   ]
  },
  {
   "cell_type": "markdown",
   "metadata": {},
   "source": [
    "### Sets and Indices\n",
    "- **$I$**: Set of products, indexed by $i$.\n",
    "- **$T$**: Set of time periods, indexed by $t$."
   ]
  },
  {
   "cell_type": "markdown",
   "metadata": {},
   "source": [
    "### Parameters\n",
    "- **$D_{i,t}$**: Demand for products $i$ in period $t$.\n",
    "- **$C_i$**: Ordering cost per unit of product $i$.\n",
    "- **$H_i$**: Holding cost per unit of product $i$ per period.\n",
    "- **$B$**: Total budget for ordering products across all periods.\n",
    "- **$S$**: Total storage capacity of the warehouse.\n",
    "- **$V_i$**: Volume per unit of product $i$."
   ]
  },
  {
   "cell_type": "markdown",
   "metadata": {},
   "source": [
    "### Decision Variables\n",
    "- **$x_{i,t}$**: Quantity of product $i$ to order in period $t$.\n",
    "- **$y_{i,t}$**: Quantity of product $i$ held in inventory at the end of period $t$."
   ]
  },
  {
   "cell_type": "markdown",
   "metadata": {},
   "source": [
    "### Objective Function\n",
    "$$\n",
    "\\text{Minimze} \\quad Z = \\sum_{i \\in I} \\sum_{t \\in T} (C_i \\cdot x_{i,t} + H_i \\cdot y_{i,t})\n",
    "$$\n",
    "The objective function aims to minimze the total cost, which includes both ordering and holding costs for all products across all periods."
   ]
  },
  {
   "cell_type": "markdown",
   "metadata": {},
   "source": [
    "### Constraints\n",
    "\n",
    "1. Inventory Balance:\n",
    "$$\n",
    "y_{i,t-1} + x_{i,t} = D_{i,t} + y_{i,t} \\quad \\forall i \\in I , \\forall t \\in T\n",
    "$$\n",
    "\n",
    "2. Budget Constraint:\n",
    "$$\n",
    "\\sum_{i \\in I} C_i \\cdot x_{i,t} \\leq B \\quad \\forall t \\in T\n",
    "$$\n",
    "\n",
    "3. Storage Capacity:\n",
    "$$\n",
    "\\sum_{i \\in I} V_i \\cdot y_{i,t} \\leq S \\quad \\forall t \\in T\n",
    "$$\n",
    "\n",
    "4. Non-negativity:\n",
    "$$\n",
    "x_{i,t},y_{i,t} \\geq 0 \\quad \\forall i \\in I , \\forall t \\in T"
   ]
  },
  {
   "cell_type": "markdown",
   "metadata": {},
   "source": [
    "---"
   ]
  },
  {
   "cell_type": "code",
   "execution_count": 16,
   "metadata": {},
   "outputs": [],
   "source": [
    "from gurobipy import Model, GRB"
   ]
  },
  {
   "cell_type": "code",
   "execution_count": 17,
   "metadata": {},
   "outputs": [],
   "source": [
    "# Create a new model\n",
    "m = Model('inventory_optimization')"
   ]
  },
  {
   "cell_type": "code",
   "execution_count": 18,
   "metadata": {},
   "outputs": [],
   "source": [
    "# Indices and Parameters\n",
    "products = range(3) # Example: 3 products\n",
    "periods = range(4) # Example: 4 periods"
   ]
  },
  {
   "cell_type": "code",
   "execution_count": 19,
   "metadata": {},
   "outputs": [],
   "source": [
    "## Example data\n",
    "D = {(0,0): 100, (0,1): 150, (0,2):200, (0,3):250, # Demand for product 0\n",
    "     (1,0):80,   (1,1):120,  (1,2):160, (1,3):200, # Demand for product 1\n",
    "     (2,0):50,   (2,1):75,   (2,2):100, (2,3):125} # Demand for product 2"
   ]
  },
  {
   "cell_type": "code",
   "execution_count": 20,
   "metadata": {},
   "outputs": [],
   "source": [
    "C = {0:2, 1:3, 2:1.5}   # Ordering cost per product\n",
    "H = {0:0.5, 1:0.7, 2:0.4}   # Holding cost per product\n",
    "B = 1000 # Total budget\n",
    "S = 500 # Total capacity\n",
    "V = {0:1, 1:2, 2:1.5} # Volume per unit per product"
   ]
  },
  {
   "cell_type": "code",
   "execution_count": 21,
   "metadata": {},
   "outputs": [],
   "source": [
    "# Decision Variables\n",
    "x = m.addVars(products, periods, name='order', vtype=GRB.CONTINUOUS)\n",
    "y = m.addVars(products, periods, name='hold', vtype=GRB.CONTINUOUS)"
   ]
  },
  {
   "cell_type": "code",
   "execution_count": 22,
   "metadata": {},
   "outputs": [],
   "source": [
    "# Objective Function\n",
    "m.setObjective(sum(C[i] * x[i,t] + H[i] * y[i,t] for i in products for t in periods), GRB.MINIMIZE)"
   ]
  },
  {
   "cell_type": "code",
   "execution_count": 23,
   "metadata": {},
   "outputs": [],
   "source": [
    "# Constraints\n",
    "# Inventory balance:\n",
    "for i in products:\n",
    "    for t in periods:\n",
    "        m.addConstr(y[i,t-1] + x[i,t] == D[i,t] + y[i,t] if t > 0 else x[i,t] == D[i,t] + y[i,t])\n",
    "\n",
    "# Budget constraint\n",
    "for t in periods:\n",
    "    m.addConstr(sum(C[i] * x[i,t] for i in products) <= B)\n",
    "\n",
    "# Storage capacity constraint\n",
    "for t in periods:\n",
    "    m.addConstr(sum(V[i] * y[i,t] for i in products) <= S)"
   ]
  },
  {
   "cell_type": "code",
   "execution_count": 24,
   "metadata": {},
   "outputs": [
    {
     "name": "stdout",
     "output_type": "stream",
     "text": [
      "Gurobi Optimizer version 11.0.3 build v11.0.3rc0 (mac64[arm] - Darwin 23.5.0 23F79)\n",
      "\n",
      "CPU model: Apple M1\n",
      "Thread count: 8 physical cores, 8 logical processors, using up to 8 threads\n",
      "\n",
      "Optimize a model with 20 rows, 24 columns and 57 nonzeros\n",
      "Model fingerprint: 0x8053092a\n",
      "Coefficient statistics:\n",
      "  Matrix range     [1e+00, 3e+00]\n",
      "  Objective range  [4e-01, 3e+00]\n",
      "  Bounds range     [0e+00, 0e+00]\n",
      "  RHS range        [5e+01, 1e+03]\n",
      "Presolve removed 3 rows and 3 columns\n",
      "Presolve time: 0.00s\n",
      "Presolved: 17 rows, 21 columns, 51 nonzeros\n",
      "\n",
      "Iteration    Objective       Primal Inf.    Dual Inf.      Time\n",
      "       0    5.1500000e+02   2.700000e+02   0.000000e+00      0s\n",
      "      16    3.7671667e+03   0.000000e+00   0.000000e+00      0s\n",
      "\n",
      "Solved in 16 iterations and 0.04 seconds (0.00 work units)\n",
      "Optimal objective  3.767166667e+03\n"
     ]
    }
   ],
   "source": [
    "# Solving the model\n",
    "m.optimize()"
   ]
  },
  {
   "cell_type": "code",
   "execution_count": 25,
   "metadata": {},
   "outputs": [
    {
     "name": "stdout",
     "output_type": "stream",
     "text": [
      "Optimal objective value: 3767.1666666666674\n",
      "order[0,0]: 100.0\n",
      "order[0,1]: 150.0\n",
      "order[0,2]: 200.0\n",
      "order[0,3]: 250.0\n",
      "order[1,0]: 110.00000000000006\n",
      "order[1,1]: 195.83333333333334\n",
      "order[1,2]: 150.0\n",
      "order[1,3]: 104.16666666666667\n",
      "order[2,0]: 50.0\n",
      "order[2,1]: 75.0\n",
      "order[2,2]: 100.0\n",
      "order[2,3]: 125.0\n",
      "hold[0,0]: 0.0\n",
      "hold[0,1]: 0.0\n",
      "hold[0,2]: 0.0\n",
      "hold[0,3]: 0.0\n",
      "hold[1,0]: 30.00000000000005\n",
      "hold[1,1]: 105.83333333333336\n",
      "hold[1,2]: 95.83333333333334\n",
      "hold[1,3]: 0.0\n",
      "hold[2,0]: 0.0\n",
      "hold[2,1]: 0.0\n",
      "hold[2,2]: 0.0\n",
      "hold[2,3]: 0.0\n"
     ]
    }
   ],
   "source": [
    "# Output results\n",
    "if m.Status == GRB.OPTIMAL:\n",
    "    print(f'Optimal objective value: {m.objVal}')\n",
    "    for v in m.getVars():\n",
    "        print(f'{v.varName}: {v.x}')"
   ]
  }
 ],
 "metadata": {
  "kernelspec": {
   "display_name": "Python 3 (ipykernel)",
   "language": "python",
   "name": "python3"
  },
  "language_info": {
   "codemirror_mode": {
    "name": "ipython",
    "version": 3
   },
   "file_extension": ".py",
   "mimetype": "text/x-python",
   "name": "python",
   "nbconvert_exporter": "python",
   "pygments_lexer": "ipython3",
   "version": "3.12.4"
  }
 },
 "nbformat": 4,
 "nbformat_minor": 4
}
