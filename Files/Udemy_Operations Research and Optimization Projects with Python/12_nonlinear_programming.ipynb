{
 "cells": [
  {
   "cell_type": "markdown",
   "metadata": {},
   "source": [
    "# Introduction to Nonlinear Programming\n"
   ]
  },
  {
   "cell_type": "markdown",
   "metadata": {
    "tags": []
   },
   "source": [
    "## Scenario Overview\n",
    "\n",
    "In this project, we tackle the challenge of designing an optimal cylindrical container. Our goal is to minimize the material used in manufacturing while ensuring the container can hold a specific volume of liquid. This task is a classic example of how nonlinear programming can be applied to solve real-world engineering and design problems effectively."
   ]
  },
  {
   "cell_type": "markdown",
   "metadata": {
    "tags": []
   },
   "source": [
    "**Decision Variables:**\n",
    "- $r$: Radius of the cylindrical container.\n",
    "- $h$: Height of the cylindrical container.\n",
    "\n",
    "**Parameters:**\n",
    "- $V$: Fixed volume that the cylindrical container must hold.\n",
    "\n",
    "**Objective Function:**\n",
    "Minimize the surface area of the cylindrical container, $A$, given by:\n",
    "$$A = 2\\pi r^2 + 2\\pi rh$$\n",
    "\n",
    "**Constraints:**\n",
    "1. Volume Constraint: The volume of the cylinder must equal the fixed volume $V$.\n",
    "   $$\\pi r^2h = V$$\n",
    "2. Non-negativity: The radius and height of the cylinder must be greater than zero.\n",
    "   $$r > 0, h > 0$$\n"
   ]
  },
  {
   "cell_type": "code",
   "execution_count": 1,
   "metadata": {
    "collapsed": true,
    "jupyter": {
     "outputs_hidden": true,
     "source_hidden": true
    },
    "tags": []
   },
   "outputs": [
    {
     "name": "stdout",
     "output_type": "stream",
     "text": [
      "Optimal radius: 5.5242, Optimal height: 10.4306\n",
      "Minimum surface area: 553.7860\n"
     ]
    }
   ],
   "source": [
    "import numpy as np\n",
    "from scipy.optimize import minimize\n",
    "\n",
    "# Fixed volume\n",
    "V = 1000  # cubic units\n",
    "\n",
    "# Objective function (surface area of the cylinder)\n",
    "def objective(x):\n",
    "    r, h = x\n",
    "    return 2 * np.pi * r**2 + 2 * np.pi * r * h\n",
    "\n",
    "# Constraint (volume of the cylinder)\n",
    "def constraint(x):\n",
    "    r, h = x\n",
    "    return np.pi * r**2 * h - V\n",
    "\n",
    "# Constraint in the form required by minimize\n",
    "con = {'type': 'eq', 'fun': constraint}\n",
    "\n",
    "# Initial guess (r = 5, h = 10)\n",
    "x0 = [5, 10]\n",
    "\n",
    "# Boundaries (we assume both r and h must be positive)\n",
    "bnds = ((0, None), (0, None))\n",
    "\n",
    "# Solve the problem\n",
    "sol = minimize(objective, x0, method='SLSQP', bounds=bnds, constraints=con)\n",
    "\n",
    "print(f'Optimal radius: {sol.x[0]:.4f}, Optimal height: {sol.x[1]:.4f}')\n",
    "print(f'Minimum surface area: {sol.fun:.4f}')\n"
   ]
  }
 ],
 "metadata": {
  "kernelspec": {
   "display_name": "Python 3 (ipykernel)",
   "language": "python",
   "name": "python3"
  },
  "language_info": {
   "codemirror_mode": {
    "name": "ipython",
    "version": 3
   },
   "file_extension": ".py",
   "mimetype": "text/x-python",
   "name": "python",
   "nbconvert_exporter": "python",
   "pygments_lexer": "ipython3",
   "version": "3.12.4"
  }
 },
 "nbformat": 4,
 "nbformat_minor": 4
}
