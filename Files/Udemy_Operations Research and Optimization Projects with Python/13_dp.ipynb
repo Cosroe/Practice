{
 "cells": [
  {
   "cell_type": "markdown",
   "metadata": {},
   "source": [
    "# Dynamic Programming"
   ]
  },
  {
   "cell_type": "markdown",
   "metadata": {},
   "source": [
    "#### Sets and Indices\n",
    "- $I$: Set of items, indexed by $i$.\n",
    "- $J$: Set of dimensions, indexed by $j$.\n",
    "\n",
    "#### Parameters\n",
    "- $v_i$: Value of item $i$.\n",
    "- $w_{i,j}$: Weight of item $i$ in dimension $j$.\n",
    "- $C_j$: Capacity for each dimension $j$.\n",
    "\n",
    "#### Decision Variables\n",
    "- $x_i$: Binary variable that equals 1 if item $i$ is included in the knapsack, and 0 otherwise.\n",
    "\n",
    "#### Objective Function\n",
    "$$\\text{Maximize} \\quad Z = \\sum_{i \\in I} v_i x_i$$\n",
    "The objective function aims to maximize the total value of the items selected for the knapsack.\n",
    "\n",
    "#### Constraints\n",
    "1. **Capacity Constraints:** The total weight of the items selected in each dimension must not exceed its capacity.\n",
    "$$\\sum_{i \\in I} w_{i,j} x_i \\leq C_j \\quad \\forall j \\in J$$\n",
    "\n",
    "2. **Binary Constraints:** The selection variables are binary, indicating whether an item is included or not.\n",
    "$$x_i \\in \\{0, 1\\} \\quad \\forall i \\in I$$\n"
   ]
  },
  {
   "cell_type": "code",
   "execution_count": 1,
   "metadata": {
    "tags": []
   },
   "outputs": [
    {
     "name": "stdout",
     "output_type": "stream",
     "text": [
      "50\n"
     ]
    }
   ],
   "source": [
    "def multi_dimensional_knapsack(values, weights, capacities):\n",
    "    \"\"\"\n",
    "    Solve the Multi-dimensional Knapsack Problem using dynamic programming.\n",
    "    \n",
    "    :param values: List of values of the items.\n",
    "    :param weights: List of weights of the items, where each weight is a list corresponding to different dimensions.\n",
    "    :param capacities: List of capacities for each dimension.\n",
    "    :return: Maximum value that can be achieved within the given capacities.\n",
    "    \"\"\"\n",
    "    # Number of items and number of dimensions\n",
    "    n = len(values)\n",
    "    k = len(capacities)\n",
    "    \n",
    "    # Create a DP table where dimensions are based on the capacities plus one extra for 0 capacity\n",
    "    dp = {}\n",
    "    for j in range(capacities[0] + 1):\n",
    "        dp[(j,)] = 0\n",
    "\n",
    "    # Initialize multi-dimensional dictionary\n",
    "    for d in range(1, k):\n",
    "        new_dp = {}\n",
    "        for key in dp:\n",
    "            for j in range(capacities[d] + 1):\n",
    "                new_key = key + (j,)\n",
    "                new_dp[new_key] = 0\n",
    "        dp = new_dp\n",
    "\n",
    "    # Process each item\n",
    "    for i in range(n):\n",
    "        new_dp = dp.copy()\n",
    "        # Iterate over all capacity combinations in reverse to avoid overwriting\n",
    "        for c in sorted(dp.keys(), reverse=True):\n",
    "            valid = True\n",
    "            # Check all dimensions to see if we can include this item\n",
    "            for d in range(k):\n",
    "                if c[d] < weights[i][d]:\n",
    "                    valid = False\n",
    "                    break\n",
    "            if valid:\n",
    "                # Form the new capacity tuple after including the item\n",
    "                new_c = tuple(c[d] - weights[i][d] for d in range(k))\n",
    "                # Update DP table if including the item gives a better value\n",
    "                new_dp[c] = max(dp[c], dp[new_c] + values[i])\n",
    "        dp = new_dp\n",
    "    \n",
    "    # The answer is the maximum value achievable with full capacity in all dimensions\n",
    "    return dp[tuple(capacities)]\n",
    "\n",
    "# Example usage\n",
    "values = [10, 20, 30]\n",
    "weights = [[3, 2], [4, 3], [5, 6]]\n",
    "capacities = [10, 10]\n",
    "\n",
    "print(multi_dimensional_knapsack(values, weights, capacities))\n"
   ]
  }
 ],
 "metadata": {
  "kernelspec": {
   "display_name": "Python 3 (ipykernel)",
   "language": "python",
   "name": "python3"
  },
  "language_info": {
   "codemirror_mode": {
    "name": "ipython",
    "version": 3
   },
   "file_extension": ".py",
   "mimetype": "text/x-python",
   "name": "python",
   "nbconvert_exporter": "python",
   "pygments_lexer": "ipython3",
   "version": "3.12.4"
  }
 },
 "nbformat": 4,
 "nbformat_minor": 4
}
