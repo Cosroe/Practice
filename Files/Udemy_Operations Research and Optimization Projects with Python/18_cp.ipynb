{
 "cells": [
  {
   "cell_type": "code",
   "execution_count": 1,
   "metadata": {},
   "outputs": [
    {
     "name": "stdout",
     "output_type": "stream",
     "text": [
      "Solution 1:\n",
      "[1, 3, 0, 2]\n"
     ]
    },
    {
     "data": {
      "image/png": "[encoded data removed]",
      "text/plain": [
       "<Figure size 500x500 with 1 Axes>"
      ]
     },
     "metadata": {},
     "output_type": "display_data"
    },
    {
     "name": "stdout",
     "output_type": "stream",
     "text": [
      "Solution 2:\n",
      "[2, 0, 3, 1]\n"
     ]
    },
    {
     "data": {
      "image/png": "[encoded data removed]",
      "text/plain": [
       "<Figure size 500x500 with 1 Axes>"
      ]
     },
     "metadata": {},
     "output_type": "display_data"
    },
    {
     "data": {
      "text/plain": [
       "4"
      ]
     },
     "execution_count": 1,
     "metadata": {},
     "output_type": "execute_result"
    }
   ],
   "source": [
    "import numpy as np\n",
    "import matplotlib.pyplot as plt\n",
    "from ortools.sat.python import cp_model\n",
    "\n",
    "board_size = 4\n",
    "model = cp_model.CpModel()\n",
    "queens = [model.NewIntVar(0, board_size - 1, 'x%i' % i) for i in range(board_size)]\n",
    "\n",
    "# Add constraints that all queens are in different rows\n",
    "model.AddAllDifferent(queens)\n",
    "\n",
    "# Add diagonal constraints\n",
    "for i in range(board_size):\n",
    "    for j in range(i + 1, board_size):\n",
    "        # Queens cannot be on the same diagonal\n",
    "        model.Add(queens[i] - i != queens[j] - j)\n",
    "        model.Add(queens[i] + i != queens[j] + j)\n",
    "\n",
    "solver = cp_model.CpSolver()\n",
    "solver.parameters.enumerate_all_solutions = True\n",
    "\n",
    "class SolutionPrinter(cp_model.CpSolverSolutionCallback):\n",
    "    \"\"\"Callback to print and plot each solution.\"\"\"\n",
    "    def __init__(self, queens, board_size):\n",
    "        cp_model.CpSolverSolutionCallback.__init__(self)\n",
    "        self._queens = queens\n",
    "        self._board_size = board_size\n",
    "        self._solution_count = 0\n",
    "\n",
    "    def on_solution_callback(self):\n",
    "        self._solution_count += 1\n",
    "        print('Solution %i:' % self._solution_count)\n",
    "        solution = [self.Value(queens[i]) for i in range(self._board_size)]\n",
    "        print(solution)\n",
    "        self.plot_solution(solution)\n",
    "\n",
    "    def plot_solution(self, solution):\n",
    "        fig = plt.figure(figsize=(5, 5))\n",
    "        board = np.zeros((self._board_size, self._board_size))\n",
    "        for i in range(self._board_size):\n",
    "            board[solution[i], i] = 1\n",
    "        plt.imshow(board, cmap='binary_r')\n",
    "        plt.xticks([])\n",
    "        plt.yticks([])\n",
    "        for i in range(self._board_size):\n",
    "            plt.scatter(i, solution[i], color='yellow', s=100)  # Plot queens\n",
    "        plt.show()\n",
    "\n",
    "# Solve the model and display each solution\n",
    "solution_printer = SolutionPrinter(queens, board_size)\n",
    "solver.SearchForAllSolutions(model, solution_printer)\n"
   ]
  }
 ],
 "metadata": {
  "kernelspec": {
   "display_name": "OR",
   "language": "python",
   "name": "python3"
  },
  "language_info": {
   "codemirror_mode": {
    "name": "ipython",
    "version": 3
   },
   "file_extension": ".py",
   "mimetype": "text/x-python",
   "name": "python",
   "nbconvert_exporter": "python",
   "pygments_lexer": "ipython3",
   "version": "3.12.4"
  }
 },
 "nbformat": 4,
 "nbformat_minor": 2
}
