{
 "cells": [
  {
   "cell_type": "code",
   "execution_count": 1,
   "id": "0d8abf79-dbc3-4d9f-87b6-aab17889b47a",
   "metadata": {},
   "outputs": [
    {
     "name": "stdout",
     "output_type": "stream",
     "text": [
      "Total reward: 1879.43\n"
     ]
    }
   ],
   "source": [
    "import numpy as np\n",
    "import random\n",
    "\n",
    "class MultiArmedBandit:\n",
    "    def __init__(self, num_arms):\n",
    "        \"\"\"\n",
    "        Initialize the MAB problem with a set of arms.\n",
    "\n",
    "        :param num_arms: The number of arms (options) to choose from\n",
    "        \"\"\"\n",
    "        self.num_arms = num_arms\n",
    "        self.rewards = [np.random.normal(loc=0, scale=1) for _ in range(num_arms)]  # reward distributions for each arm\n",
    "        self.arm_rewards = [0.0] * num_arms\n",
    "        self.arm_counts = [0] * num_arms\n",
    "\n",
    "    def choose_arm(self, epsilon):\n",
    "        \"\"\"\n",
    "        Choose an arm to pull based on the epsilon-greedy policy.\n",
    "\n",
    "        :param epsilon: The probability of choosing a random arm\n",
    "        :return: The chosen arm\n",
    "        \"\"\"\n",
    "        if random.random() < epsilon:\n",
    "            return random.randint(0, self.num_arms - 1)\n",
    "        else:\n",
    "            return np.argmax(self.arm_rewards)\n",
    "\n",
    "    def pull_arm(self, arm):\n",
    "        \"\"\"\n",
    "        Pull the chosen arm and receive a reward.\n",
    "\n",
    "        :param arm: The chosen arm\n",
    "        :return: The reward received\n",
    "        \"\"\"\n",
    "        reward = np.random.normal(loc=self.rewards[arm], scale=1)  # generate a random reward from the arm's distribution\n",
    "        self.arm_rewards[arm] = (self.arm_rewards[arm] * self.arm_counts[arm] + reward) / (self.arm_counts[arm] + 1)\n",
    "        self.arm_counts[arm] += 1\n",
    "        return reward\n",
    "\n",
    "    def run_experiment(self, num_pulls, epsilon):\n",
    "        \"\"\"\n",
    "        Run the MAB experiment for a given number of pulls.\n",
    "\n",
    "        :param num_pulls: The number of pulls to perform\n",
    "        :param epsilon: The probability of choosing a random arm\n",
    "        :return: The total reward received\n",
    "        \"\"\"\n",
    "        total_reward = 0\n",
    "        for _ in range(num_pulls):\n",
    "            arm = self.choose_arm(epsilon)\n",
    "            reward = self.pull_arm(arm)\n",
    "            total_reward += reward\n",
    "        return total_reward\n",
    "\n",
    "# Example usage:\n",
    "num_arms = 5\n",
    "mab = MultiArmedBandit(num_arms)\n",
    "total_reward = mab.run_experiment(1000, epsilon=0.1)\n",
    "print(f\"Total reward: {total_reward:.2f}\")"
   ]
  }
 ],
 "metadata": {
  "kernelspec": {
   "display_name": "Python 3 (ipykernel)",
   "language": "python",
   "name": "python3"
  },
  "language_info": {
   "codemirror_mode": {
    "name": "ipython",
    "version": 3
   },
   "file_extension": ".py",
   "mimetype": "text/x-python",
   "name": "python",
   "nbconvert_exporter": "python",
   "pygments_lexer": "ipython3",
   "version": "3.12.4"
  }
 },
 "nbformat": 4,
 "nbformat_minor": 5
}
