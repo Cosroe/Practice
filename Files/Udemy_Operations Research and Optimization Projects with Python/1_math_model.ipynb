{
 "cells": [
  {
   "cell_type": "markdown",
   "id": "bdb2609b-df70-42a3-9c6f-949652e6a66d",
   "metadata": {},
   "source": [
    "# What is Mathematical Modeling?\n",
    "\n",
    "Mathematical modeling is the process of creating a simplified mathematical representation of real-world systems to analyze and solve complex problems. Essentially, it involves using mathematical formulas and logic to mimic real-world processes, allowing for systematic exploration of different scenarios and their outcomes. This method is a cornerstone in fields requiring precision and optimization because it facilitates decision-making through a structured, quantifiable approach.\n",
    "\n",
    "## Why is it Important in Optimization and Operations Research?\n",
    "\n",
    "In fields like optimization and operations research, mathematical modeling is essential because it enables the precise evaluation and improvement of systems. Models help in predicting outcomes, optimizing resource allocation, minimizing costs, and maximizing efficiency. By converting complex real-world scenarios into manageable mathematical challenges, these models allow for objective assessment and decision-making, important for achieving operational excellence and strategic planning.\n",
    "\n",
    "## Components of a Model\n",
    "A mathematical model in operations research typically consists of several key components:\n",
    "\n",
    "* Decision Variables: These variables represent the choices available to decision-makers. For example, the number of units to produce in a factory or the amount of resources to allocate to different projects.\n",
    "\n",
    "* Parameters: Parameters are constants that define the environment in which the decision variables operate. They include fixed data like production costs, available budget, or specific technological constraints.\n",
    "\n",
    "* Objective Function: This function defines the goal of the model, such as minimizing costs or maximizing output. It is expressed in terms of decision variables and plays a central role in guiding the optimization process.\n",
    "\n",
    "* Constraints: Constraints are equations or inequalities that represent the limits within which the system must operate. These could include capacity limitations, market demand, or regulatory requirements.\n",
    "\n",
    "* Environmental Variables: Sometimes models must account for external factors that influence outcomes but are not under the control of the decision-maker, such as market trends or weather conditions.\n",
    "\n",
    "* Assumptions: Every model is built on certain assumptions that simplify the real world into a more manageable form. These assumptions might involve linearity in relationships, independence of events, or constant rates of change.\n",
    "\n",
    "## Setting Up the Model\n",
    "\n",
    "Creating a mathematical model starts with a clear understanding of the problem and the objectives. The next step involves identifying and quantifying all relevant decision variables, parameters, and constraints. Assumptions are made to simplify the model without significantly compromising accuracy. The relationships between different variables are then formulated into mathematical expressions, setting the stage for analysis.\n",
    "\n",
    "## Solving the Model\n",
    "\n",
    "The solution process varies depending on the nature of the model. It might involve analytical methods, numerical methods, or simulation. Analytical methods include techniques like calculus and algebra that provide exact answers. Numerical methods, such as iterative algorithms, are used when analytical solutions are impractical. Simulation models mimic the operation of a system over time, useful in scenarios where stochastic or random elements play a significant role.\n",
    "\n",
    "Once a solution is derived, it is critically evaluated against real-world expectations and constraints to ensure its feasibility and effectiveness. The model might be adjusted and refined based on feedback and new data, in a continuous process of improvement."
   ]
  },
  {
   "cell_type": "markdown",
   "id": "4c2877eb-6fc3-4af1-8ced-aa92d17a535e",
   "metadata": {
    "jupyter": {
     "source_hidden": true
    },
    "tags": []
   },
   "source": [
    "## Common Symbols and Notation in Optimization\n",
    "\n",
    "### Variables:\n",
    "\n",
    "* Decision Variables (e.g., 𝑥,𝑦,𝑧): These represent the choices or decisions to be made within the model. For example, 𝑥 could denote the number of units to produce.\n",
    "\n",
    "* Parameters (e.g., 𝑎,𝑏,𝑐): Fixed values known before the solution process begins, such as costs or capacities.\n",
    "\n",
    "* Indices (e.g., 𝑖,𝑗,𝑘): Used to denote positions within sets or to iterate over elements, such as looping over different factories or time periods.\n",
    "\n",
    "### Constants:\n",
    "\n",
    "Constants are often represented by letters towards the beginning of the alphabet (e.g., 𝑎 ,𝑏,𝑐) and are fixed values that do not change throughout the model.\n",
    "\n",
    "### Sets:\n",
    "Sets (e.g., 𝑁,𝑀): Collections of elements, often used to define groups like machines in a factory or days in a scheduling period.\n",
    "\n",
    "Subsets (e.g., 𝑆⊂𝑁): Smaller groups within a larger set.\n",
    "\n",
    "### Operators:\n",
    "\n",
    "Summation (∑): Represents the sum of elements. For example, $\\sum_{i=1}^n x_i$  adds up all 𝑥 values from 1 to 𝑛.\n",
    "\n",
    "Product (∏): Represents the product of elements.\n",
    "\n",
    "Maximization (max⁡) and Minimization (min): Operators used to denote the objective of optimizing (either maximizing or minimizing) some function.\n",
    "\n",
    "### Functions:\n",
    "\n",
    "Objective Function: Usually expressed as a function to maximize or minimize, like 𝑓(𝑥,𝑦,𝑧).\n",
    "\n",
    "Constraint Functions: These restrict the solutions to feasible regions, often expressed as inequalities (e.g., 𝑔𝑥)≤𝑏)."
   ]
  },
  {
   "cell_type": "markdown",
   "id": "e8b42a00-3cd0-4a4a-ac7a-e10311f14d5f",
   "metadata": {
    "jupyter": {
     "source_hidden": true
    },
    "tags": []
   },
   "source": [
    "# Scenario: Production Planning\n",
    "\n",
    "## Context \n",
    "\n",
    "Suppose a company manufactures two types of products: A and B. Both products require different amounts of two resources: labor and material. The company wants to determine how many units of each product to produce to maximize profit.\n",
    "\n",
    "## Resources\n",
    "\n",
    "Labor hours available per week: 100 hours.\n",
    "\n",
    "Material units available per week: 80 units.\n",
    "\n",
    "### Requirements per unit\n",
    "\n",
    "Product A requires 2 hours of labor and 1 unit of material.\n",
    "\n",
    "Product B requires 1 hour of labor and 3 units of material.\n",
    "\n",
    "### Profit per unit\n",
    "\n",
    "Product A generates $30 profit.\n",
    "\n",
    "Product B generates $40 profit.\n",
    "\n",
    "The goal is to maximize the total profit."
   ]
  },
  {
   "cell_type": "markdown",
   "id": "d96d231c-3f7b-47a4-ab69-256513895a85",
   "metadata": {
    "jupyter": {
     "source_hidden": true
    },
    "tags": []
   },
   "source": [
    "$ \\textbf{Decision Variables:} $\n",
    "- $x$: Number of units of Product A produced.\n",
    "- $y$: Number of units of Product B produced.\n",
    "\n",
    "$ \\textbf{Objective Function:} $\n",
    "- Maximize total profit $Z$: \n",
    "$$ Z = 30x + 40y $$\n",
    "\n",
    "$ \\textbf{Constraints:} $\n",
    "1. Labor hours constraint:\n",
    "$$ 2x + y \\leq 100 $$\n",
    "2. Material units constraint:\n",
    "$$ x + 3y \\leq 80 $$\n",
    "3. Non-negativity constraints:\n",
    "$$ x \\geq 0, \\quad y \\geq 0 $$\n"
   ]
  },
  {
   "cell_type": "code",
   "execution_count": 2,
   "id": "075514ed-898b-4bb7-a7c2-f3afd1bce07d",
   "metadata": {
    "jupyter": {
     "source_hidden": true
    },
    "tags": []
   },
   "outputs": [
    {
     "name": "stdout",
     "output_type": "stream",
     "text": [
      "Welcome to the CBC MILP Solver \n",
      "Version: 2.10.3 \n",
      "Build Date: Dec 15 2019 \n",
      "\n",
      "command line - /opt/anaconda3/envs/OR/lib/python3.12/site-packages/pulp/solverdir/cbc/osx/64/cbc /var/folders/9f/pv1nlhw528d_5zttzbkb_h5m0000gn/T/aa35890b740c460b868fba49b9ff99d8-pulp.mps -max -timeMode elapsed -branch -printingOptions all -solution /var/folders/9f/pv1nlhw528d_5zttzbkb_h5m0000gn/T/aa35890b740c460b868fba49b9ff99d8-pulp.sol (default strategy 1)\n",
      "At line 2 NAME          MODEL\n",
      "At line 3 ROWS\n",
      "At line 7 COLUMNS\n",
      "At line 14 RHS\n",
      "At line 17 BOUNDS\n",
      "At line 18 ENDATA\n",
      "Problem MODEL has 2 rows, 2 columns and 4 elements\n",
      "Coin0008I MODEL read with 0 errors\n",
      "Option for timeMode changed from cpu to elapsed\n",
      "Presolve 2 (0) rows, 2 (0) columns and 4 (0) elements\n",
      "0  Obj -0 Dual inf 70 (2)\n",
      "0  Obj -0 Dual inf 70 (2)\n",
      "2  Obj 1800\n",
      "Optimal - objective value 1800\n",
      "Optimal objective 1800 - 2 iterations time 0.002\n",
      "Option for printingOptions changed from normal to all\n",
      "Total time (CPU seconds):       0.00   (Wallclock seconds):       0.00\n",
      "\n",
      "Production Plan:\n",
      "Units of Product A: 44.0\n",
      "Units of Product B: 12.0\n",
      "Total Profit: $1800.0\n"
     ]
    }
   ],
   "source": [
    "import pulp\n",
    "\n",
    "# Create a linear programming problem\n",
    "model = pulp.LpProblem(\"Maximize_Profit\", pulp.LpMaximize)\n",
    "\n",
    "# Decision Variables\n",
    "x = pulp.LpVariable('x', lowBound=0, cat='Continuous')  # Product A units\n",
    "y = pulp.LpVariable('y', lowBound=0, cat='Continuous')  # Product B units\n",
    "\n",
    "# Objective Function\n",
    "model += 30 * x + 40 * y, \"Total Profit\"\n",
    "\n",
    "# Constraints\n",
    "model += 2 * x + y <= 100, \"Labor Hours Constraint\"\n",
    "model += x + 3 * y <= 80, \"Material Units Constraint\"\n",
    "\n",
    "# Solve the model\n",
    "model.solve()\n",
    "\n",
    "# Output the results\n",
    "print(\"Production Plan:\")\n",
    "print(f\"Units of Product A: {x.varValue}\")\n",
    "print(f\"Units of Product B: {y.varValue}\")\n",
    "print(f\"Total Profit: ${pulp.value(model.objective)}\")\n"
   ]
  },
  {
   "cell_type": "markdown",
   "id": "c0cb4528-2154-4ce0-a000-885eb260d575",
   "metadata": {
    "tags": []
   },
   "source": [
    "## Analysis of Model Results\n",
    "\n",
    "The solution provided by the optimization model delivers a clear guide on how to allocate production resources effectively. From the model's results, we learn:\n",
    "\n",
    "Product A Production: It is optimal to manufacture 44 units of Product A weekly.\n",
    "\n",
    "Product B Production: It is optimal to manufacture 12 units of Product B weekly.\n",
    "\n",
    "Achieved Profit: Following this production model, the company will achieve a profit of $1800 each week.\n",
    "\n",
    "The provided numbers reflect a strategic balance between resource use and profit maximization. The company manages to use its available labor and materials to forge the most profitable path forward, highlighting the practical utility of linear programming in operational decision-making. This strategy ensures the firm operates within its resource limits while still maximizing its financial outcome."
   ]
  }
 ],
 "metadata": {
  "kernelspec": {
   "display_name": "Python 3 (ipykernel)",
   "language": "python",
   "name": "python3"
  },
  "language_info": {
   "codemirror_mode": {
    "name": "ipython",
    "version": 3
   },
   "file_extension": ".py",
   "mimetype": "text/x-python",
   "name": "python",
   "nbconvert_exporter": "python",
   "pygments_lexer": "ipython3",
   "version": "3.12.4"
  }
 },
 "nbformat": 4,
 "nbformat_minor": 5
}
