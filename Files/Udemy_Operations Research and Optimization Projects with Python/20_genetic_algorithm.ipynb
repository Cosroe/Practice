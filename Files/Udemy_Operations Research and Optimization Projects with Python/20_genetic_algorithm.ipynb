{
 "cells": [
  {
   "cell_type": "markdown",
   "metadata": {
    "jupyter": {
     "source_hidden": true
    },
    "tags": []
   },
   "source": [
    "# Introduction to Genetic Algorithms\n",
    "Genetic Algorithms (GAs) are a class of evolutionary algorithms that mimic the process of natural selection to solve complex optimization problems. They operate on a population of potential solutions, applying the principles of selection, crossover, and mutation to evolve towards better solutions over generations.\n",
    "\n",
    "At the heart of GAs is the concept of survival of the fittest. Initially, a diverse population of solutions is generated. Each member of this population, often referred to as an individual or chromosome, represents a possible solution to the problem at hand. These solutions are evaluated using a fitness function, which measures how well they solve the problem.\n",
    "\n",
    "The evolutionary process begins by selecting the fittest individuals to reproduce. Crossover, or recombination, then combines parts of two selected solutions to create offspring, introducing new solutions into the population. Mutation randomly alters parts of a solution, introducing variability. Over successive generations, this process of selection, crossover, and mutation drives the population towards increasingly effective solutions.\n",
    "\n",
    "GAs are widely used for their ability to find high-quality solutions to optimization problems where traditional methods may struggle, especially in complex or poorly-understood problem spaces."
   ]
  },
  {
   "cell_type": "markdown",
   "metadata": {
    "jupyter": {
     "source_hidden": true
    },
    "tags": []
   },
   "source": [
    "## Genetic Algorithm for Adaptive Defense Strategy Optimization\n",
    "\n",
    "In the rapidly evolving landscape of modern military operations, the strategic allocation of defense resources and the planning of operations play pivotal roles in ensuring national security and operational success. The complexity of these decisions, influenced by a myriad of unpredictable factors such as enemy tactics, terrain, and the availability of resources, necessitates a highly adaptable and efficient approach to defense strategy formulation. This scenario introduces the application of Genetic Algorithms (GAs) in optimizing adaptive defense strategies, a novel approach that transcends traditional planning methods by incorporating the principles of evolution and natural selection.\n",
    "\n",
    "Genetic algorithms offer a robust framework for exploring a vast search space of possible strategies, each represented by a unique combination of tactical decisions, resource allocations, and operational plans. By defining a fitness function that evaluates the effectiveness of a strategy based on criteria such as mission success probability, resource efficiency, and casualty minimization, GAs can iteratively improve a population of strategies. Through the processes of selection, crossover, and mutation, each generation of strategies evolves to better meet the demands of the operational environment, thereby converging towards an optimal or near-optimal solution.\n",
    "\n",
    "The application of GAs in this context allows for the dynamic adaptation of defense strategies in response to changing conditions on the ground. For instance, as new intelligence is received or as the operational environment shifts, the GA can quickly adjust, testing and evolving new strategies that respond to these changes. This capability is particularly valuable in scenarios where human decision-makers may not be able to rapidly process all available information or foresee the complex interactions between different elements of a strategy.\n",
    "\n",
    "Moreover, the use of GAs in military strategy optimization facilitates a deeper understanding of the trade-offs and synergies between various components of a defense plan. By analyzing the evolution of strategies over successive generations, military planners can gain insights into which tactics and resource allocations are most critical for mission success under different conditions. This not only aids in the development of more effective immediate strategies but also contributes to long-term strategic planning and the development of flexible, resilient military doctrines."
   ]
  },
  {
   "cell_type": "markdown",
   "metadata": {
    "jupyter": {
     "source_hidden": true
    },
    "tags": []
   },
   "source": [
    "### Sets and Indices\n",
    "- $A$: Set of possible actions or tactical decisions, indexed by $a$.\n",
    "- $R$: Set of resources available for allocation, indexed by $r$.\n",
    "- $S$: Set of scenarios or operational environments, indexed by $s$.\n",
    "\n",
    "### Parameters\n",
    "- $P_s$: Probability of occurrence for scenario $s$.\n",
    "- $E_{a,r,s}$: Effectiveness of action $a$ using resource $r$ in scenario $s$, a measure combining success probability, resource efficiency, and other relevant metrics.\n",
    "- $C_r$: Capacity or availability of resource $r$.\n",
    "- $D_{a,r}$: Demand or requirement of resource $r$ for action $a$.\n",
    "- $W_s$: Weight or importance of scenario $s$, reflecting strategic priorities.\n",
    "\n",
    "### Decision Variables\n",
    "- $x_{a,r}$: Binary variable, 1 if action $a$ is selected with resource $r$, 0 otherwise.\n",
    "- $y_s$: Real-valued variable representing the overall strategy effectiveness in scenario $s$.\n",
    "\n",
    "### Objective Function\n",
    "Maximize the weighted effectiveness of the defense strategy across all scenarios:\n",
    "$$\\max \\sum_{s \\in S} W_s \\cdot y_s$$\n",
    "\n",
    "### Constraints\n",
    "1. **Strategy Effectiveness Constraint**: Define the effectiveness of the strategy in each scenario based on selected actions and allocated resources.\n",
    "   $$y_s = \\sum_{a \\in A} \\sum_{r \\in R} E_{a,r,s} \\cdot x_{a,r} \\quad \\forall s \\in S$$\n",
    "\n",
    "2. **Resource Allocation Constraints**: Ensure that the allocation of each resource does not exceed its capacity.\n",
    "   $$\\sum_{a \\in A} D_{a,r} \\cdot x_{a,r} \\leq C_r \\quad \\forall r \\in R$$\n",
    "\n",
    "3. **Action Selection Constraints**: Ensure that actions are selected in a manner that respects resource availability and operational requirements.\n",
    "   $$x_{a,r} \\in \\{0, 1\\} \\quad \\forall a \\in A, \\forall r \\in R$$\n",
    "\n",
    "4. **Scenario Probability Constraints**: Ensure that the strategy considers the probability of occurrence for each scenario.\n",
    "   $$\\sum_{s \\in S} P_s \\cdot y_s \\leq 1$$\n"
   ]
  },
  {
   "cell_type": "code",
   "execution_count": 1,
   "metadata": {
    "tags": []
   },
   "outputs": [
    {
     "name": "stdout",
     "output_type": "stream",
     "text": [
      "gen\tnevals\tavg    \tstd    \tmin    \tmax  \n",
      "0  \t50    \t195.341\t30.1487\t138.127\t278.4\n",
      "1  \t31    \t223.422\t59.845 \t110.053\t531.705\n",
      "2  \t33    \t273.523\t79.7786\t184.812\t577.25 \n",
      "3  \t25    \t335.865\t114.009\t79.1148\t614.503\n",
      "4  \t38    \t431.761\t111.03 \t209.949\t679.888\n",
      "5  \t31    \t520.036\t81.0795\t329.445\t720.512\n",
      "6  \t31    \t588.747\t76.8113\t389.192\t818.417\n",
      "7  \t28    \t624.356\t81.5837\t359.283\t787.238\n",
      "8  \t30    \t701.153\t74.7044\t505.279\t846.812\n",
      "9  \t30    \t765.938\t85.8283\t491.325\t950.351\n",
      "10 \t28    \t822.568\t75.5834\t535.37 \t1010.31\n",
      "11 \t15    \t888.812\t79.655 \t795.269\t1260.71\n",
      "12 \t28    \t947.368\t81.53  \t802.332\t1260.71\n",
      "13 \t34    \t1015.95\t70.1119\t876.17 \t1171.84\n",
      "14 \t24    \t1068.1 \t69.53  \t947.11 \t1216.32\n",
      "15 \t25    \t1122.75\t98.1326\t820.138\t1332.8 \n",
      "16 \t25    \t1202.63\t82.1222\t1010.31\t1395.16\n",
      "17 \t27    \t1269.2 \t110.93 \t940.184\t1499   \n",
      "18 \t29    \t1364.88\t109.646\t1047.63\t1627.65\n",
      "19 \t33    \t1459.61\t118.979\t1059.98\t1675.97\n",
      "20 \t26    \t1558.9 \t80.5668\t1395.19\t1710.48\n",
      "21 \t32    \t1627.4 \t70.9787\t1483.83\t1814.21\n",
      "22 \t33    \t1703.74\t81.6902\t1453.46\t1867.57\n",
      "23 \t32    \t1772.06\t69.1882\t1559.33\t1926.38\n",
      "24 \t30    \t1835.45\t78.2104\t1626.04\t2016.99\n",
      "25 \t39    \t1895.1 \t85.1923\t1691.78\t2121.51\n",
      "26 \t32    \t1967.1 \t85.6296\t1770.31\t2225.89\n",
      "27 \t36    \t2039.98\t101.746\t1826.31\t2285.08\n",
      "28 \t24    \t2101.17\t132.995\t1684.91\t2366.93\n",
      "29 \t34    \t2207.65\t100.892\t1926.38\t2458.52\n",
      "30 \t30    \t2280.08\t70.3139\t2086.09\t2458.52\n",
      "31 \t27    \t2337.44\t79.1646\t2195.74\t2580.76\n",
      "32 \t34    \t2411.01\t81.7957\t2274.83\t2706.37\n",
      "33 \t32    \t2470.12\t87.9781\t2307.02\t2706.37\n",
      "34 \t29    \t2535.29\t101.836\t2254.69\t2816.53\n",
      "35 \t33    \t2618.88\t106.862\t2317.22\t2861.65\n",
      "36 \t28    \t2705.29\t82.3041\t2483.09\t2886.84\n",
      "37 \t34    \t2804.14\t85.5706\t2653.03\t3081.86\n",
      "38 \t19    \t2901.16\t93.0056\t2671.28\t3136.63\n",
      "39 \t28    \t2954.19\t101.697\t2681.62\t3154.23\n",
      "40 \t27    \t3044.01\t86.8367\t2882.36\t3185.74\n"
     ]
    }
   ],
   "source": [
    "import random\n",
    "import numpy\n",
    "from deap import base, creator, tools, algorithms\n",
    "\n",
    "# Adjusting the individual creation to match the expected structure\n",
    "NUM_ACTIONS = 5\n",
    "NUM_RESOURCES = 3\n",
    "NUM_SCENARIOS = 4\n",
    "MAX_RESOURCE_CAPACITY = 100  # Max capacity for each resource\n",
    "\n",
    "# Assuming a simplified model for demonstration\n",
    "effectiveness_scores = [[[random.uniform(0, 1) for _ in range(NUM_SCENARIOS)] for _ in range(NUM_RESOURCES)] for _ in range(NUM_ACTIONS)]\n",
    "scenario_probabilities = [random.uniform(0, 1) for _ in range(NUM_SCENARIOS)]\n",
    "scenario_weights = [random.uniform(1, 3) for _ in range(NUM_SCENARIOS)]\n",
    "\n",
    "# Fitness Function\n",
    "def evaluate(individual):\n",
    "    # Reshape the individual to match the expected structure\n",
    "    strategy = numpy.reshape(individual, (NUM_ACTIONS, NUM_RESOURCES))\n",
    "    \n",
    "    total_effectiveness = 0\n",
    "    resource_usage = [0] * NUM_RESOURCES\n",
    "    \n",
    "    for action_idx in range(NUM_ACTIONS):\n",
    "        for resource_idx in range(NUM_RESOURCES):\n",
    "            allocation = strategy[action_idx][resource_idx]\n",
    "            resource_usage[resource_idx] += allocation\n",
    "            for scenario_idx in range(NUM_SCENARIOS):\n",
    "                total_effectiveness += (effectiveness_scores[action_idx][resource_idx][scenario_idx] * allocation * scenario_weights[scenario_idx])\n",
    "    \n",
    "    # Penalize for exceeding resource capacity\n",
    "    penalty = sum(max(0, usage - MAX_RESOURCE_CAPACITY) for usage in resource_usage)\n",
    "    \n",
    "    return total_effectiveness - penalty,\n",
    "\n",
    "# DEAP Setup\n",
    "creator.create(\"FitnessMax\", base.Fitness, weights=(1.0,))\n",
    "creator.create(\"Individual\", list, fitness=creator.FitnessMax)\n",
    "\n",
    "toolbox = base.Toolbox()\n",
    "toolbox.register(\"attr_float\", random.uniform, 0, MAX_RESOURCE_CAPACITY / (NUM_ACTIONS * NUM_RESOURCES))\n",
    "toolbox.register(\"individual\", tools.initRepeat, creator.Individual, toolbox.attr_float, n=NUM_ACTIONS * NUM_RESOURCES)\n",
    "toolbox.register(\"population\", tools.initRepeat, list, toolbox.individual)\n",
    "\n",
    "toolbox.register(\"evaluate\", evaluate)\n",
    "toolbox.register(\"mate\", tools.cxTwoPoint)\n",
    "toolbox.register(\"mutate\", tools.mutGaussian, mu=0, sigma=20, indpb=0.1)\n",
    "toolbox.register(\"select\", tools.selTournament, tournsize=3)\n",
    "\n",
    "# Running the Genetic Algorithm\n",
    "def main():\n",
    "    population = toolbox.population(n=50)\n",
    "    hof = tools.HallOfFame(1)\n",
    "    \n",
    "    stats = tools.Statistics(lambda ind: ind.fitness.values)\n",
    "    stats.register(\"avg\", numpy.mean)\n",
    "    stats.register(\"std\", numpy.std)\n",
    "    stats.register(\"min\", numpy.min)\n",
    "    stats.register(\"max\", numpy.max)\n",
    "    \n",
    "    algorithms.eaSimple(population, toolbox, cxpb=0.5, mutpb=0.2, ngen=40, stats=stats, halloffame=hof, verbose=True)\n",
    "    \n",
    "    return population, stats, hof\n",
    "\n",
    "if __name__ == \"__main__\":\n",
    "    main()\n"
   ]
  }
 ],
 "metadata": {
  "kernelspec": {
   "display_name": "Python 3 (ipykernel)",
   "language": "python",
   "name": "python3"
  },
  "language_info": {
   "codemirror_mode": {
    "name": "ipython",
    "version": 3
   },
   "file_extension": ".py",
   "mimetype": "text/x-python",
   "name": "python",
   "nbconvert_exporter": "python",
   "pygments_lexer": "ipython3",
   "version": "3.12.4"
  }
 },
 "nbformat": 4,
 "nbformat_minor": 4
}
