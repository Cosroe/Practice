{
 "cells": [
  {
   "cell_type": "markdown",
   "metadata": {
    "jupyter": {
     "source_hidden": true
    },
    "tags": []
   },
   "source": [
    "# Airline Fleet Assignment: An Overview"
   ]
  },
  {
   "cell_type": "markdown",
   "metadata": {
    "jupyter": {
     "source_hidden": true
    },
    "tags": []
   },
   "source": [
    "## Scenario Overview: Optimizing Airline Fleet Assignment"
   ]
  },
  {
   "cell_type": "markdown",
   "metadata": {
    "jupyter": {
     "source_hidden": true
    },
    "tags": []
   },
   "source": [
    "**Decision Variables:**\n",
    "- $x_{ij}$: Binary variable, 1 if aircraft type $i$ is assigned to flight $j$, and 0 otherwise, where $i$ is an index for aircraft types and $j$ is an index for flights.\n",
    "\n",
    "**Parameters:**\n",
    "- $C_{ij}$: Cost of assigning aircraft type $i$ to flight $j$.\n",
    "- $R_{j}$: Revenue generated from flight $j$.\n",
    "- $D_{ij}$: Demand for flight $j$ when aircraft type $i$ is used.\n",
    "- $S_{i}$: Number of aircraft of type $i$ available.\n",
    "- $M_{ij}$: Maintenance requirement, 1 if aircraft type $i$ needs maintenance after flight $j$, 0 otherwise.\n",
    "- $T$: Total maintenance slots available.\n",
    "\n",
    "**Objective Function:**\n",
    "Maximize total profit, which is the sum of revenues minus costs from assigning aircraft to flights:\n",
    "$$\\text{Maximize } Z = \\sum_{i,j} (R_{j} - C_{ij}) \\cdot x_{ij}$$\n",
    "\n",
    "**Constraints:**\n",
    "1. **Aircraft Assignment Constraint:** Each flight must be assigned exactly one aircraft.\n",
    "   $$\\sum_{i} x_{ij} = 1 \\quad \\forall j$$\n",
    "2. **Aircraft Availability Constraint:** The number of flights assigned to each aircraft type cannot exceed its availability.\n",
    "   $$\\sum_{j} x_{ij} \\leq S_{i} \\quad \\forall i$$\n",
    "3. **Demand Satisfaction Constraint:** The aircraft assigned must meet the demand for each flight.\n",
    "   $$\\sum_{i} D_{ij} \\cdot x_{ij} \\geq \\text{Demand for flight } j \\quad \\forall j$$\n",
    "4. **Maintenance Requirement Constraint:** The total maintenance slots used must not exceed the total available.\n",
    "   $$\\sum_{i,j} M_{ij} \\cdot x_{ij} \\leq T$$\n"
   ]
  },
  {
   "cell_type": "code",
   "execution_count": 2,
   "metadata": {},
   "outputs": [
    {
     "name": "stdout",
     "output_type": "stream",
     "text": [
      "Restricted license - for non-production use only - expires 2025-11-24\n",
      "Gurobi Optimizer version 11.0.3 build v11.0.3rc0 (mac64[arm] - Darwin 23.5.0 23F79)\n",
      "\n",
      "CPU model: Apple M1\n",
      "Thread count: 8 physical cores, 8 logical processors, using up to 8 threads\n",
      "\n",
      "Optimize a model with 9 rows, 6 columns and 21 nonzeros\n",
      "Model fingerprint: 0x62d709de\n",
      "Variable types: 0 continuous, 6 integer (6 binary)\n",
      "Coefficient statistics:\n",
      "  Matrix range     [1e+00, 2e+02]\n",
      "  Objective range  [2e+02, 2e+02]\n",
      "  Bounds range     [1e+00, 1e+00]\n",
      "  RHS range        [1e+00, 2e+02]\n",
      "Presolve removed 9 rows and 6 columns\n",
      "Presolve time: 0.00s\n",
      "Presolve: All rows and columns removed\n",
      "\n",
      "Explored 0 nodes (0 simplex iterations) in 0.01 seconds (0.00 work units)\n",
      "Thread count was 1 (of 8 available processors)\n",
      "\n",
      "Solution count 1: 620 \n",
      "\n",
      "Optimal solution found (tolerance 1.00e-04)\n",
      "Best objective 6.200000000000e+02, best bound 6.200000000000e+02, gap 0.0000%\n",
      "assign[A,F1]: 1.0\n",
      "assign[A,F2]: 0.0\n",
      "assign[A,F3]: 1.0\n",
      "assign[B,F1]: 0.0\n",
      "assign[B,F2]: 1.0\n",
      "assign[B,F3]: 0.0\n",
      "Optimal Objective: 620.0\n"
     ]
    }
   ],
   "source": [
    "import gurobipy as gp\n",
    "from gurobipy import GRB\n",
    "\n",
    "# Create a new model\n",
    "m = gp.Model(\"airline_fleet_assignment\")\n",
    "\n",
    "# Data (example values, should be replaced with real data)\n",
    "aircraft_types = ['A', 'B']\n",
    "flights = ['F1', 'F2', 'F3']\n",
    "costs = {'A': {'F1': 100, 'F2': 150, 'F3': 200}, 'B': {'F1': 120, 'F2': 130, 'F3': 180}}\n",
    "revenues = {'F1': 300, 'F2': 350, 'F3': 400}\n",
    "demand = {'A': {'F1': 120, 'F2': 150, 'F3': 200}, 'B': {'F1': 100, 'F2': 130, 'F3': 180}}\n",
    "availability = {'A': 2, 'B': 1}\n",
    "maintenance = {'A': {'F1': 0, 'F2': 1, 'F3': 0}, 'B': {'F1': 1, 'F2': 0, 'F3': 1}}\n",
    "total_maintenance_slots = 2\n",
    "\n",
    "# Variables\n",
    "x = m.addVars(aircraft_types, flights, vtype=GRB.BINARY, name=\"assign\")\n",
    "\n",
    "# Objective\n",
    "m.setObjective(gp.quicksum((revenues[j] - costs[i][j]) * x[i, j] for i in aircraft_types for j in flights), GRB.MAXIMIZE)\n",
    "\n",
    "# Constraints\n",
    "# Aircraft Assignment\n",
    "for j in flights:\n",
    "    m.addConstr(gp.quicksum(x[i, j] for i in aircraft_types) == 1, name=f\"assign_{j}\")\n",
    "\n",
    "# Aircraft Availability\n",
    "for i in aircraft_types:\n",
    "    m.addConstr(gp.quicksum(x[i, j] for j in flights) <= availability[i], name=f\"avail_{i}\")\n",
    "\n",
    "# Demand Satisfaction\n",
    "for j in flights:\n",
    "    m.addConstr(gp.quicksum(demand[i][j] * x[i, j] for i in aircraft_types) >= demand[i][j], name=f\"demand_{j}\")\n",
    "\n",
    "# Maintenance Requirement\n",
    "m.addConstr(gp.quicksum(maintenance[i][j] * x[i, j] for i in aircraft_types for j in flights) <= total_maintenance_slots, name=\"maintenance\")\n",
    "\n",
    "# Optimize model\n",
    "m.optimize()\n",
    "\n",
    "# Display solution\n",
    "if m.status == GRB.OPTIMAL:\n",
    "    for v in m.getVars():\n",
    "        print(f\"{v.varName}: {v.x}\")\n",
    "\n",
    "    print(f\"Optimal Objective: {m.objVal}\")\n",
    "\n",
    "# Gurobi provides a detailed report after optimization\n"
   ]
  }
 ],
 "metadata": {
  "kernelspec": {
   "display_name": "Python 3 (ipykernel)",
   "language": "python",
   "name": "python3"
  },
  "language_info": {
   "codemirror_mode": {
    "name": "ipython",
    "version": 3
   },
   "file_extension": ".py",
   "mimetype": "text/x-python",
   "name": "python",
   "nbconvert_exporter": "python",
   "pygments_lexer": "ipython3",
   "version": "3.12.4"
  }
 },
 "nbformat": 4,
 "nbformat_minor": 4
}
