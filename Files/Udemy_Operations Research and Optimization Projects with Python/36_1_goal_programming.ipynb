{
 "cells": [
  {
   "cell_type": "markdown",
   "metadata": {
    "tags": []
   },
   "source": [
    "# Understanding Goal Programming\n",
    "\n",
    "Goal Programming (GP) is a branch of multi-objective optimization that focuses on achieving specific targets or goals when it's impossible to optimize all objectives simultaneously due to inherent conflicts or trade-offs. Unlike Multi-objective Decision Making (MODM), which seeks to find a set of Pareto-optimal solutions without explicit prioritization, GP allows decision-makers to specify desired goals and prioritize them, aiming to minimize the deviations from these goals.\n",
    "\n",
    "In GP, each objective is transformed into a goal, with decision-makers specifying the target levels they wish to achieve. The essence of GP lies in its ability to handle multiple, often competing goals by finding a solution that minimizes the deviations from these target levels. This approach is particularly useful in real-world scenarios where satisfying all objectives to their fullest extent is impractical or impossible.\n",
    "\n",
    "The methodology involves defining not only the goals but also the weights or priorities associated with each goal, reflecting their relative importance to the decision-maker. This prioritization helps in guiding the optimization process, ensuring that more critical goals are satisfied as closely as possible before considering less critical ones.\n",
    "\n",
    "GP models are formulated similarly to linear programming models but include additional variables to capture the deviations from each goal. These deviation variables are then minimized in the objective function, subject to the constraints of the problem. This formulation allows for a flexible and nuanced approach to decision-making, accommodating the complex realities and trade-offs that decision-makers face.\n",
    "\n",
    "In practice, GP is applied across various fields, from resource allocation and project management to financial planning and engineering design. Its versatility and practicality make it a powerful tool for tackling decision-making problems where multiple objectives must be balanced according to their importance."
   ]
  },
  {
   "cell_type": "markdown",
   "metadata": {
    "jupyter": {
     "source_hidden": true
    },
    "tags": []
   },
   "source": [
    "**Sustainable Campus Cafe Operations Model**\n",
    "\n",
    "In our scenario, we aim to optimize the operations of a campus cafe with a focus on sustainability. This involves balancing multiple objectives: maximizing profit, minimizing waste, and maximizing customer satisfaction. Here's the mathematical model.\n",
    "\n",
    "**Decision Variables:**\n",
    "- $x_{ij}$: Number of units of product $i$ sold during time period $j$, where $i$ represents different products and $j$ represents different time periods throughout the day.\n",
    "\n",
    "**Parameters:**\n",
    "- $p_{i}$: Profit per unit of product $i$.\n",
    "- $w_{ij}$: Waste associated with product $i$ during time period $j$.\n",
    "- $s_{ij}$: Customer satisfaction score for product $i$ during time period $j$.\n",
    "- $C_{i}$: Cost of producing one unit of product $i$.\n",
    "- $B$: Total budget for operational costs.\n",
    "- $L$: Available labor hours per day.\n",
    "- $D_{ij}$: Demand for product $i$ during time period $j$.\n",
    "\n",
    "**Objective Functions:**\n",
    "1. Maximize Total Profit:\n",
    "   $$Z_1 = \\sum_{i}\\sum_{j} p_{i} \\cdot x_{ij} - C_{i} \\cdot x_{ij}$$\n",
    "2. Minimize Total Waste:\n",
    "   $$Z_2 = \\sum_{i}\\sum_{j} w_{ij} \\cdot x_{ij}$$\n",
    "3. Maximize Customer Satisfaction:\n",
    "   $$Z_3 = \\sum_{i}\\sum_{j} s_{ij} \\cdot x_{ij}$$\n",
    "\n",
    "**Constraints:**\n",
    "1. Budget Constraint:\n",
    "   $$\\sum_{i}\\sum_{j} C_{i} \\cdot x_{ij} \\leq B$$\n",
    "2. Labor Constraint:\n",
    "   $$\\sum_{i}\\sum_{j} \\text{Labor required for } x_{ij} \\leq L$$\n",
    "3. Demand Satisfaction:\n",
    "   $$x_{ij} \\geq D_{ij}, \\forall i, j$$\n",
    "4. Non-negativity and Integrality:\n",
    "   $$x_{ij} \\geq 0 \\text{ and integer}, \\forall i, j$$"
   ]
  },
  {
   "cell_type": "code",
   "execution_count": 1,
   "metadata": {
    "tags": []
   },
   "outputs": [
    {
     "name": "stdout",
     "output_type": "stream",
     "text": [
      "Welcome to the CBC MILP Solver \n",
      "Version: 2.10.3 \n",
      "Build Date: Dec 15 2019 \n",
      "\n",
      "command line - /opt/anaconda3/envs/OR/lib/python3.12/site-packages/pulp/solverdir/cbc/osx/64/cbc /var/folders/9f/pv1nlhw528d_5zttzbkb_h5m0000gn/T/910d3f146fe347bc8e3a6e40ad364cb9-pulp.mps -timeMode elapsed -branch -printingOptions all -solution /var/folders/9f/pv1nlhw528d_5zttzbkb_h5m0000gn/T/910d3f146fe347bc8e3a6e40ad364cb9-pulp.sol (default strategy 1)\n",
      "At line 2 NAME          MODEL\n",
      "At line 3 ROWS\n",
      "At line 15 COLUMNS\n",
      "At line 64 RHS\n",
      "At line 75 BOUNDS\n",
      "At line 82 ENDATA\n",
      "Problem MODEL has 10 rows, 9 columns and 33 elements\n",
      "Coin0008I MODEL read with 0 errors\n",
      "Option for timeMode changed from cpu to elapsed\n",
      "Problem is infeasible - 0.00 seconds\n",
      "Option for printingOptions changed from normal to all\n",
      "Total time (CPU seconds):       0.00   (Wallclock seconds):       0.02\n",
      "\n",
      "No optimal solution found.\n"
     ]
    }
   ],
   "source": [
    "import pulp as lp\n",
    "\n",
    "# Define the problem\n",
    "model = lp.LpProblem(\"Sustainable_Campus_Cafe_Operations\", lp.LpMinimize)\n",
    "\n",
    "# Decision Variables\n",
    "products = ['Coffee', 'Sandwich', 'Salad']  # Example products\n",
    "time_periods = ['Morning', 'Afternoon']  # Example time periods\n",
    "x_ij = lp.LpVariable.dicts(\"UnitsSold\", (products, time_periods), lowBound=0, cat='Integer')\n",
    "\n",
    "# Parameters (Example values)\n",
    "profit = {'Coffee': 1.5, 'Sandwich': 2.0, 'Salad': 1.8}\n",
    "cost = {'Coffee': 0.5, 'Sandwich': 1.0, 'Salad': 0.8}\n",
    "waste = {'Coffee': 0.1, 'Sandwich': 0.2, 'Salad': 0.15}\n",
    "satisfaction = {'Coffee': 0.9, 'Sandwich': 0.8, 'Salad': 0.85}\n",
    "demand = {('Coffee', 'Morning'): 50, ('Coffee', 'Afternoon'): 30, \n",
    "          ('Sandwich', 'Morning'): 40, ('Sandwich', 'Afternoon'): 50,\n",
    "          ('Salad', 'Morning'): 30, ('Salad', 'Afternoon'): 20}\n",
    "B = 1000  # Total budget\n",
    "L = 100  # Labor hours available\n",
    "\n",
    "# Objective Functions & Deviation Variables\n",
    "# For Goal Programming, we introduce deviation variables for each goal\n",
    "d_plus_profit = lp.LpVariable(\"d_plus_profit\", lowBound=0)  # Deviation from profit goal\n",
    "d_plus_waste = lp.LpVariable(\"d_plus_waste\", lowBound=0)  # Deviation from waste minimization\n",
    "d_plus_satisfaction = lp.LpVariable(\"d_plus_satisfaction\", lowBound=0)  # Deviation from satisfaction goal\n",
    "\n",
    "# Set the objective function for Goal Programming\n",
    "model += d_plus_profit + d_plus_waste + d_plus_satisfaction\n",
    "\n",
    "# Constraints\n",
    "# Profit Goal\n",
    "model += lp.lpSum([profit[p] * x_ij[p][t] for p in products for t in time_periods]) - d_plus_profit >= 200, \"ProfitGoal\"\n",
    "\n",
    "# Waste Minimization Goal\n",
    "model += lp.lpSum([waste[p] * x_ij[p][t] for p in products for t in time_periods]) + d_plus_waste <= 10, \"WasteGoal\"\n",
    "\n",
    "# Customer Satisfaction Goal\n",
    "model += lp.lpSum([satisfaction[p] * x_ij[p][t] for p in products for t in time_periods]) - d_plus_satisfaction >= 100, \"SatisfactionGoal\"\n",
    "\n",
    "# Budget Constraint\n",
    "model += lp.lpSum([cost[p] * x_ij[p][t] for p in products for t in time_periods]) <= B, \"BudgetConstraint\"\n",
    "\n",
    "# Demand Satisfaction and Labor Constraints\n",
    "for p, t in demand:\n",
    "    model += x_ij[p][t] >= demand[(p, t)], f\"Demand_{p}_{t}\"\n",
    "\n",
    "# Solve the model\n",
    "model.solve()\n",
    "\n",
    "# Display results\n",
    "if lp.LpStatus[model.status] == 'Optimal':\n",
    "    print(\"Optimal solution found:\")\n",
    "    for p in products:\n",
    "        for t in time_periods:\n",
    "            print(f\" - Units of {p} sold during {t}: {x_ij[p][t].value()}\")\n",
    "    print(f\"Objective Values: Profit Deviation = {d_plus_profit.value()}, Waste Deviation = {d_plus_waste.value()}, Satisfaction Deviation = {d_plus_satisfaction.value()}\")\n",
    "else:\n",
    "    print(\"No optimal solution found.\")\n"
   ]
  }
 ],
 "metadata": {
  "kernelspec": {
   "display_name": "Python 3 (ipykernel)",
   "language": "python",
   "name": "python3"
  },
  "language_info": {
   "codemirror_mode": {
    "name": "ipython",
    "version": 3
   },
   "file_extension": ".py",
   "mimetype": "text/x-python",
   "name": "python",
   "nbconvert_exporter": "python",
   "pygments_lexer": "ipython3",
   "version": "3.12.4"
  }
 },
 "nbformat": 4,
 "nbformat_minor": 4
}
