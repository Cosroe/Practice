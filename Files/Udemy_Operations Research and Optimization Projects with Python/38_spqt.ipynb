{
 "cells": [
  {
   "cell_type": "markdown",
   "metadata": {},
   "source": [
    "# Understanding Stochastic Processes and Queuing Theory"
   ]
  },
  {
   "cell_type": "markdown",
   "metadata": {
    "jupyter": {
     "source_hidden": true
    },
    "tags": []
   },
   "source": [
    "## Scenario Overview: Optimizing Service Channels in a Customer Service Center"
   ]
  },
  {
   "cell_type": "markdown",
   "metadata": {},
   "source": [
    "**Decision Variables:**\n",
    "- $c$: Number of service channels to operate.\n",
    "\n",
    "**Parameters:**\n",
    "- $\\lambda$: Average arrival rate of customers per hour.\n",
    "- $\\mu$: Average service rate per customer per hour.\n",
    "- $C_{\\text{service}}$: Fixed cost of operating one service channel per hour.\n",
    "- $C_{\\text{waiting}}$: Cost per hour per customer waiting in the queue.\n",
    "\n",
    "**Objective Function:**\n",
    "Minimize the total cost, which includes the service cost and the waiting cost:\n",
    "$$TC = C_{\\text{service}} \\cdot c + C_{\\text{waiting}} \\cdot L_q$$\n",
    "\n",
    "**Constraints:**\n",
    "1. The number of service channels, $c$, must be a positive integer:\n",
    "   $$c \\in \\mathbb{Z}^+$$\n",
    "\n",
    "2. The average number of customers in the queue, $L_q$, is given by:\n",
    "   $$L_q = \\frac{P_0 \\lambda^c}{c! \\cdot (c\\mu - \\lambda)^2}$$\n",
    "   where $P_0$ is the probability that there are zero customers in the system, calculated as:\n",
    "   $$P_0 = \\left[\\sum_{n=0}^{c-1} \\frac{(\\lambda/\\mu)^n}{n!} + \\frac{(\\lambda/\\mu)^c}{c! \\cdot (1 - \\lambda/(c\\mu))}\\right]^{-1}$$\n",
    "\n",
    "**Note:** The model assumes that customer arrivals follow a Poisson distribution, and service times are exponentially distributed, characteristic of an M/M/c queue.\n"
   ]
  },
  {
   "cell_type": "code",
   "execution_count": 1,
   "metadata": {
    "tags": []
   },
   "outputs": [
    {
     "name": "stdout",
     "output_type": "stream",
     "text": [
      "Restricted license - for non-production use only - expires 2025-11-24\n",
      "Gurobi Optimizer version 11.0.3 build v11.0.3rc0 (mac64[arm] - Darwin 23.5.0 23F79)\n",
      "\n",
      "CPU model: Apple M1\n",
      "Thread count: 8 physical cores, 8 logical processors, using up to 8 threads\n",
      "\n",
      "Optimize a model with 1 rows, 10 columns and 10 nonzeros\n",
      "Model fingerprint: 0x4038a102\n",
      "Variable types: 0 continuous, 10 integer (10 binary)\n",
      "Coefficient statistics:\n",
      "  Matrix range     [1e+00, 1e+00]\n",
      "  Objective range  [1e+02, 1e+03]\n",
      "  Bounds range     [1e+00, 1e+00]\n",
      "  RHS range        [1e+00, 1e+00]\n",
      "Found heuristic solution: objective 141.6666667\n",
      "Presolve removed 1 rows and 10 columns\n",
      "Presolve time: 0.00s\n",
      "Presolve: All rows and columns removed\n",
      "\n",
      "Explored 0 nodes (0 simplex iterations) in 0.01 seconds (0.00 work units)\n",
      "Thread count was 1 (of 8 available processors)\n",
      "\n",
      "Solution count 1: 141.667 \n",
      "\n",
      "Optimal solution found (tolerance 1.00e-04)\n",
      "Best objective 1.416666666667e+02, best bound 1.416666666667e+02, gap 0.0000%\n",
      "Optimal number of service channels: 1\n",
      "Minimum total cost: 141.66666666666669\n"
     ]
    }
   ],
   "source": [
    "import gurobipy as gp\n",
    "from gurobipy import GRB\n",
    "import math\n",
    "\n",
    "# Given parameters\n",
    "lambda_ = 50  # Average arrival rate (customers/hour)\n",
    "mu = 60       # Average service rate (customers/hour)\n",
    "C_service = 100  # Cost per service channel per hour\n",
    "C_waiting = 10   # Waiting cost per customer per hour\n",
    "max_channels = 10  # Maximum number of service channels to consider\n",
    "\n",
    "# Function to calculate P0\n",
    "def calculate_P0(rho, c):\n",
    "    sum_terms = sum((rho**k) / math.factorial(k) for k in range(c))\n",
    "    sum_terms += (rho**c) / (math.factorial(c) * (1 - rho/c))\n",
    "    return 1 / sum_terms\n",
    "\n",
    "# Function to calculate Lq\n",
    "def calculate_Lq(rho, c, P0):\n",
    "    if rho == c:  # Avoid division by zero in case rho equals c\n",
    "        return float('inf')  # Return infinity if service rate equals arrival rate\n",
    "    return P0 * rho**(c+1) / (math.factorial(c) * (c - rho)**2)\n",
    "\n",
    "# Pre-calculate P0 and Lq for different values of c\n",
    "precalculated_values = {}\n",
    "for c in range(1, max_channels + 1):\n",
    "    rho = lambda_ / mu\n",
    "    P0 = calculate_P0(rho, c)\n",
    "    Lq = calculate_Lq(rho, c, P0)\n",
    "    precalculated_values[c] = (P0, Lq)\n",
    "\n",
    "# Optimization Model\n",
    "model = gp.Model(\"QueueOptimization\")\n",
    "\n",
    "# Decision variables: binary variables for each channel count\n",
    "channel_vars = model.addVars(max_channels, vtype=GRB.BINARY, name=\"channel\")\n",
    "\n",
    "# Objective function\n",
    "total_cost = gp.quicksum((C_service * c + C_waiting * precalculated_values[c][1]) * channel_vars[c-1] for c in range(1, max_channels + 1))\n",
    "model.setObjective(total_cost, GRB.MINIMIZE)\n",
    "\n",
    "# Constraint: only one channel count can be chosen\n",
    "model.addConstr(channel_vars.sum() == 1, \"choose_one_channel_count\")\n",
    "\n",
    "# Optimize the model\n",
    "model.optimize()\n",
    "\n",
    "# Output results\n",
    "if model.status == GRB.OPTIMAL:\n",
    "    optimal_channels = [c for c in range(1, max_channels + 1) if channel_vars[c-1].X > 0.5][0]\n",
    "    print(f\"Optimal number of service channels: {optimal_channels}\")\n",
    "    print(f\"Minimum total cost: {model.ObjVal}\")\n",
    "else:\n",
    "    print(\"No optimal solution found\")\n"
   ]
  }
 ],
 "metadata": {
  "kernelspec": {
   "display_name": "Python 3 (ipykernel)",
   "language": "python",
   "name": "python3"
  },
  "language_info": {
   "codemirror_mode": {
    "name": "ipython",
    "version": 3
   },
   "file_extension": ".py",
   "mimetype": "text/x-python",
   "name": "python",
   "nbconvert_exporter": "python",
   "pygments_lexer": "ipython3",
   "version": "3.12.4"
  }
 },
 "nbformat": 4,
 "nbformat_minor": 4
}
