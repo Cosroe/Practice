{
 "cells": [
  {
   "cell_type": "markdown",
   "metadata": {
    "jupyter": {
     "source_hidden": true
    },
    "tags": []
   },
   "source": [
    "# Introduction to A* Search Algorithm\n",
    "\n",
    "The A* search algorithm is a central method for pathfinding and graph traversal, efficiently finding the most direct route from a starting point to a destination within a graph. Its applications range from guiding GPS routes to improving video game environments, due to its effective management of complex pathfinding tasks.\n",
    "\n",
    "A* cleverly combines the strengths of Dijkstra's algorithm with those of the Greedy Best-First-Search. It adopts Dijkstra’s reliability, ensuring the identification of the shortest path under all conditions, as long as the heuristic it employs is admissible and thus, does not overestimate the distance to the goal. Simultaneously, A* benefits from the Greedy Best-First-Search's heuristic approach, focusing its search towards the goal and avoiding less promising paths unless absolutely necessary.\n",
    "\n",
    "\n",
    "## How A* Operates\n",
    "\n",
    "A* utilizes a priority queue to sort nodes for exploration, arranging them based on a cost function, f(n) = g(n) + h(n):\n",
    "\n",
    "g(n) indicates the cost from the starting node to the current node n.\n",
    "\n",
    "h(n) is the estimated cost from n to the goal, incorporating domain-specific knowledge to guide the search.\n",
    "\n",
    "The algorithm continuously selects the node with the smallest f(n) value, maintaining this strategy until it reaches the goal. The effectiveness of the heuristic greatly impacts A*'s performance, with the ideal heuristic closely matching the actual cost without exceeding it.\n",
    "\n",
    "### Key Attributes\n",
    "\n",
    "\n",
    "Optimality: With an admissible heuristic, A* ensures the identification of the shortest path.\n",
    "\n",
    "Efficiency: A* reduces the search area by wisely choosing nodes for exploration, speeding up the pathfinding process.\n",
    "\n",
    "Adaptability: A* can accommodate a variety of pathfinding scenarios, handling different types of graphs and routing challenges."
   ]
  },
  {
   "cell_type": "markdown",
   "metadata": {
    "jupyter": {
     "source_hidden": true
    },
    "tags": []
   },
   "source": [
    "## Project\n",
    "\n",
    "In our project, we utilized the A* search algorithm to optimize city delivery routes, taking into account a city's dynamic traffic patterns. We visualized the city as a weighted graph where intersections serve as nodes and roads as connecting links. A distinctive feature of our model is the implementation of time-variable weights on these links to reflect real-time traffic changes.\n",
    "\n",
    "This strategy models the variable travel times seen in city settings, where congestion levels—and consequently, link weights—vary, particularly during peak traffic times. The goal was to design a delivery route that not only minimizes travel time from the starting point to the destination but also actively responds to changing traffic conditions.\n",
    "\n",
    "For this purpose, we designed a hypothetical city grid, a 5x5 layout, to represent a basic urban structure. Each grid cell, an intersection, connects directly to its neighbors, forming a network of roads whose travel times increase during heavy traffic periods, thus adding an extra layer of complexity to route optimization."
   ]
  },
  {
   "cell_type": "markdown",
   "metadata": {
    "jupyter": {
     "source_hidden": true
    },
    "tags": []
   },
   "source": [
    "## Model\n",
    "\n",
    "#### Sets\n",
    "- $V$: Set of vertices (intersections), indexed by $i$.\n",
    "- $E$: Set of edges (roads between intersections), indexed by $(i,j)$ where $i, j \\in V$.\n",
    "\n",
    "#### Parameters\n",
    "- $w_{i,j,t}$: Weight of edge $(i,j)$ at time $t$, representing the travel time which varies with traffic congestion.\n",
    "- $H$: Set of peak hours, during which travel times are increased.\n",
    "- $P$: Penalty multiplier for travel times during peak hours.\n",
    "\n",
    "#### Decision Variables\n",
    "- $x_{i,j,t}$: Binary variable that equals 1 if the edge $(i,j)$ is included in the optimal path at time $t$, and 0 otherwise.\n",
    "\n",
    "#### Objective Function\n",
    "$$\\min \\sum_{(i,j) \\in E} \\sum_{t} w_{i,j,t} \\cdot x_{i,j,t}$$\n",
    "- The objective is to minimize the total travel time considering the time-dependent weights of the edges.\n",
    "\n",
    "#### Constraints\n",
    "1. **Flow Conservation:** Ensure that for every node (except the start and end nodes), the sum of incoming traffic equals the sum of outgoing traffic.\n",
    "$$\\sum_{j:(i,j) \\in E} x_{i,j,t} - \\sum_{j:(j,i) \\in E} x_{j,i,t} = 0, \\quad \\forall i \\in V \\setminus \\{start, end\\}, \\forall t$$\n",
    "\n",
    "2. **Start and End Nodes:** There should be exactly one outgoing edge from the start node and one incoming edge to the end node.\n",
    "$$\\sum_{j:(start,j) \\in E} x_{start,j,t} = 1, \\quad \\sum_{j:(j,end) \\in E} x_{j,end,t} = 1$$\n",
    "\n",
    "3. **Time Dependency:** Adjust the weight of the edges during peak hours.\n",
    "$$w_{i,j,t} = w_{i,j,t} \\cdot P, \\quad \\forall (i,j) \\in E, \\forall t \\in H$$\n",
    "\n",
    "4. **Binary Variable Constraint:** Ensures that $x_{i,j,t}$ can only take the values 0 or 1.\n",
    "$$x_{i,j,t} \\in \\{0,1\\}, \\quad \\forall (i,j) \\in E, \\forall t$$"
   ]
  },
  {
   "cell_type": "code",
   "execution_count": 1,
   "metadata": {
    "collapsed": true,
    "jupyter": {
     "outputs_hidden": true
    },
    "tags": []
   },
   "outputs": [
    {
     "name": "stdout",
     "output_type": "stream",
     "text": [
      "Optimal Path: [(0, 0), (0, 1), (0, 2), (0, 3), (0, 4), (1, 4), (2, 4), (3, 4), (4, 4)], Total Travel Time: 8.2\n"
     ]
    }
   ],
   "source": [
    "import numpy as np\n",
    "import heapq\n",
    "\n",
    "# Constants\n",
    "PEAK_HOURS = [(8, 9), (17, 18)]  # (start, end) hours for morning and evening peaks\n",
    "BASE_TIME = 1  # Base travel time for all edges\n",
    "PEAK_TIME_MULTIPLIER = 1.2  # Multiplier for travel times during peak hours\n",
    "\n",
    "# Function to determine if the current time is in peak hours\n",
    "def is_peak_hour(hour):\n",
    "    return any(start <= hour < end for start, end in PEAK_HOURS)\n",
    "\n",
    "# Manhattan distance heuristic for A*\n",
    "def manhattan_distance(start, goal):\n",
    "    return abs(start[0] - goal[0]) + abs(start[1] - goal[1])\n",
    "\n",
    "# Time-dependent travel time based on peak hours\n",
    "def travel_time(current_hour):\n",
    "    return BASE_TIME * PEAK_TIME_MULTIPLIER if is_peak_hour(current_hour % 24) else BASE_TIME\n",
    "\n",
    "# Generate a 5x5 grid graph\n",
    "def generate_grid_graph(n=5):\n",
    "    graph = {}\n",
    "    for x in range(n):\n",
    "        for y in range(n):\n",
    "            neighbors = []\n",
    "            for dx, dy in [(-1, 0), (1, 0), (0, -1), (0, 1)]:\n",
    "                nx, ny = x + dx, y + dy\n",
    "                if 0 <= nx < n and 0 <= ny < n:\n",
    "                    neighbors.append(((nx, ny), BASE_TIME))  # Base time will be adjusted dynamically\n",
    "            graph[(x, y)] = neighbors\n",
    "    return graph\n",
    "\n",
    "# A* search algorithm\n",
    "def a_star(graph, start, goal, start_time):\n",
    "    queue = [(0 + manhattan_distance(start, goal), 0, start_time, start, [start])]\n",
    "    visited = set()\n",
    "    \n",
    "    while queue:\n",
    "        # Pop the node with the lowest f(x) = g(x) + h(x)\n",
    "        _, cost, current_time, current, path = heapq.heappop(queue)\n",
    "        if current in visited:\n",
    "            continue\n",
    "        visited.add(current)\n",
    "        if current == goal:\n",
    "            return path, cost\n",
    "        \n",
    "        for neighbor, _ in graph[current]:\n",
    "            if neighbor in visited:\n",
    "                continue\n",
    "            next_cost = cost + travel_time(current_time)\n",
    "            heapq.heappush(queue, (next_cost + manhattan_distance(neighbor, goal), next_cost, current_time + 1, neighbor, path + [neighbor]))\n",
    "    \n",
    "    return None, float('inf')  # Path not found\n",
    "\n",
    "# Generate the city grid graph\n",
    "grid_graph = generate_grid_graph()\n",
    "\n",
    "# Example usage\n",
    "start_node = (0, 0)\n",
    "end_node = (4, 4)\n",
    "start_hour = 8  # Example starting at 8 AM\n",
    "\n",
    "path, total_cost = a_star(grid_graph, start_node, end_node, start_hour)\n",
    "print(f\"Optimal Path: {path}, Total Travel Time: {total_cost}\")\n"
   ]
  }
 ],
 "metadata": {
  "kernelspec": {
   "display_name": "Python 3 (ipykernel)",
   "language": "python",
   "name": "python3"
  },
  "language_info": {
   "codemirror_mode": {
    "name": "ipython",
    "version": 3
   },
   "file_extension": ".py",
   "mimetype": "text/x-python",
   "name": "python",
   "nbconvert_exporter": "python",
   "pygments_lexer": "ipython3",
   "version": "3.12.4"
  }
 },
 "nbformat": 4,
 "nbformat_minor": 4
}
