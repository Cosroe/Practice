{
 "cells": [
  {
   "cell_type": "markdown",
   "metadata": {},
   "source": [
    "# Portfolio Optimization \n",
    "\n"
   ]
  },
  {
   "cell_type": "markdown",
   "metadata": {},
   "source": [
    "**Decision Variables:**\n",
    "- $x_i$: Proportion of the portfolio invested in asset $i$, where $i \\in \\{1, 2, \\ldots, N\\}$.\n",
    "\n",
    "**Parameters:**\n",
    "- $\\mu_i$: Expected return of asset $i$.\n",
    "- $\\sigma_{ij}$: Covariance between returns of assets $i$ and $j$.\n",
    "- $R$: Desired minimum return of the portfolio.\n",
    "- $\\lambda$: Risk aversion parameter, where a higher value indicates higher risk aversion.\n",
    "\n",
    "**Objective Function:**\n",
    "- Maximize the portfolio's expected return adjusted for risk:\n",
    "  $$\\text{Maximize } Z = \\sum_{i=1}^{N} \\mu_i x_i - \\lambda \\sum_{i=1}^{N} \\sum_{j=1}^{N} \\sigma_{ij} x_i x_j$$\n",
    "\n",
    "**Constraints:**\n",
    "1. **Investment Proportion Constraint:** Ensure that the sum of the investment proportions equals 1.\n",
    "   $$\\sum_{i=1}^{N} x_i = 1$$\n",
    "2. **Minimum Return Constraint:** Ensure that the portfolio's expected return is at least $R$.\n",
    "   $$\\sum_{i=1}^{N} \\mu_i x_i \\geq R$$\n",
    "3. **Non-negativity and Upper Bound Constraint:** Ensure that each investment's proportion is between 0 and 1, inclusive.\n",
    "   $$0 \\leq x_i \\leq 1 \\quad \\forall i \\in \\{1, 2, \\ldots, N\\}$$\n"
   ]
  },
  {
   "cell_type": "code",
   "execution_count": 2,
   "metadata": {
    "collapsed": true,
    "jupyter": {
     "outputs_hidden": true,
     "source_hidden": true
    },
    "tags": []
   },
   "outputs": [
    {
     "name": "stdout",
     "output_type": "stream",
     "text": [
      "Optimal portfolio: [ 1.45159736e-01 -4.21532429e-08  4.68209810e-01  3.86632806e-01\n",
      " -2.34232711e-06]\n",
      "Optimal value: 0.11060168111317603\n"
     ]
    }
   ],
   "source": [
    "import cvxpy as cp\n",
    "import numpy as np\n",
    "\n",
    "\n",
    "N = 5  # Number of assets\n",
    "mu = np.random.rand(N)  # Expected returns\n",
    "Sigma = np.random.rand(N, N)  # Covariance matrix\n",
    "Sigma = Sigma.T @ Sigma  # Ensure it's positive semi-definite\n",
    "R = 0.02  # Desired minimum return\n",
    "lambda_risk = 0.5  # Risk aversion parameter\n",
    "    \n",
    "# Decision variables\n",
    "x = cp.Variable(N)\n",
    "\n",
    "# Objective function\n",
    "objective = cp.Maximize(mu.T @ x - lambda_risk * cp.quad_form(x, Sigma))\n",
    "\n",
    "# Constraints\n",
    "constraints = [cp.sum(x) == 1, mu.T @ x >= R, x >= 0, x <= 1]\n",
    "\n",
    "# Problem\n",
    "problem = cp.Problem(objective, constraints)\n",
    "\n",
    "# Solve the problem using a solver like Gurobi\n",
    "problem.solve(solver=cp.SCS)\n",
    "\n",
    "# Results\n",
    "print(\"Optimal portfolio:\", x.value)\n",
    "print(\"Optimal value:\", problem.value)\n"
   ]
  }
 ],
 "metadata": {
  "kernelspec": {
   "display_name": "Python 3 (ipykernel)",
   "language": "python",
   "name": "python3"
  },
  "language_info": {
   "codemirror_mode": {
    "name": "ipython",
    "version": 3
   },
   "file_extension": ".py",
   "mimetype": "text/x-python",
   "name": "python",
   "nbconvert_exporter": "python",
   "pygments_lexer": "ipython3",
   "version": "3.12.4"
  }
 },
 "nbformat": 4,
 "nbformat_minor": 4
}
