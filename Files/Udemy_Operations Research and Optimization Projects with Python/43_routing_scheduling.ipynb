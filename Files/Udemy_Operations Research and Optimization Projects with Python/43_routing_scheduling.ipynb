{
 "cells": [
  {
   "cell_type": "markdown",
   "metadata": {},
   "source": [
    "# Understanding Routing and Scheduling Optimization"
   ]
  },
  {
   "cell_type": "markdown",
   "metadata": {
    "jupyter": {
     "source_hidden": true
    },
    "tags": []
   },
   "source": [
    "## Project Scenario: Delivery Fleet Optimization\n",
    "\n",
    "In this project, we tackle a common yet complex problem faced by logistics companies worldwide: optimizing the routes and schedules of a delivery fleet. The scenario involves a company that needs to deliver goods to various locations across a city using a fleet of vehicles. Each vehicle has a limited capacity, and each delivery location has a specific demand that must be met within certain working hours.\n",
    "\n",
    "The challenge is to minimize the total distance traveled by the fleet while ensuring all demands are satisfied and the vehicles do not exceed their capacity or working hours. This involves deciding which vehicle delivers to which location, in what order, and how to schedule these deliveries efficiently.\n",
    "\n",
    "We use mathematical modeling to represent this problem, incorporating variables for each decision point, constraints to ensure feasibility, and an objective function to minimize total distance. This model is then solved using an optimization solver, providing a practical solution that the company can implement to reduce costs and improve efficiency."
   ]
  },
  {
   "cell_type": "markdown",
   "metadata": {
    "tags": []
   },
   "source": [
    "#### Sets and Indices\n",
    "- $I$: Set of locations, including the depot, indexed by $i, j$.\n",
    "- $K$: Set of vehicles, indexed by $k$.\n",
    "\n",
    "#### Parameters\n",
    "- $d_{ij}$: Distance between locations $i$ and $j$.\n",
    "- $q_k$: Capacity of vehicle $k$.\n",
    "- $Q_i$: Demand at location $i$.\n",
    "- $T$: Maximum working hours for each vehicle.\n",
    "- $A_{i,k}$: Availability of vehicle $k$ to serve location $i$, where $A_{i,k} = 1$ if vehicle $k$ can serve location $i$, and 0 otherwise.\n",
    "\n",
    "#### Decision Variables\n",
    "- $x_{ijk}$: Binary variable that equals 1 if vehicle $k$ travels from location $i$ to $j$, and 0 otherwise.\n",
    "- $y_{ik}$: Amount of goods delivered to location $i$ by vehicle $k$.\n",
    "\n",
    "#### Objective Function\n",
    "$$\\text{Minimize} \\quad Z = \\sum_{i \\in I} \\sum_{j \\in I} \\sum_{k \\in K} d_{ij} x_{ijk}$$\n",
    "The objective function aims to minimize the total distance traveled by the fleet, promoting efficiency and reducing operational costs.\n",
    "\n",
    "#### Constraints\n",
    "1. **Demand Satisfaction:** Each location's demand must be met exactly once by a vehicle.\n",
    "$$\\sum_{k \\in K} y_{ik} = Q_i \\quad \\forall i \\in I$$\n",
    "\n",
    "2. **Vehicle Capacity:** The total goods delivered by a vehicle cannot exceed its capacity.\n",
    "$$\\sum_{i \\in I} y_{ik} \\leq q_k \\quad \\forall k \\in K$$\n",
    "\n",
    "3. **Route Validity:** A vehicle can only travel from location $i$ to $j$ if it is available to serve location $i$.\n",
    "$$x_{ijk} \\leq A_{i,k} \\quad \\forall i, j \\in I, \\forall k \\in K$$\n",
    "\n",
    "4. **Working Hours Limitation:** The total distance traveled by a vehicle must not exceed the maximum working hours, considering an average speed or distance covered per hour.\n",
    "$$\\sum_{i \\in I} \\sum_{j \\in I} d_{ij} x_{ijk} \\leq T \\quad \\forall k \\in K$$\n",
    "\n",
    "5. **Binary and Non-negativity Constraints:**\n",
    "$$x_{ijk} \\in \\{0, 1\\} \\quad \\forall i, j \\in I, \\forall k \\in K$$\n",
    "$$y_{ik} \\geq 0 \\quad \\forall i \\in I, \\forall k \\in K$$\n"
   ]
  },
  {
   "cell_type": "code",
   "execution_count": 1,
   "metadata": {
    "tags": []
   },
   "outputs": [
    {
     "name": "stdout",
     "output_type": "stream",
     "text": [
      "Restricted license - for non-production use only - expires 2025-11-24\n",
      "Gurobi Optimizer version 11.0.3 build v11.0.3rc0 (mac64[arm] - Darwin 23.5.0 23F79)\n",
      "\n",
      "CPU model: Apple M1\n",
      "Thread count: 8 physical cores, 8 logical processors, using up to 8 threads\n",
      "\n",
      "Optimize a model with 20 rows, 60 columns and 152 nonzeros\n",
      "Model fingerprint: 0xa8d0d076\n",
      "Variable types: 10 continuous, 50 integer (50 binary)\n",
      "Coefficient statistics:\n",
      "  Matrix range     [1e-01, 1e+00]\n",
      "  Objective range  [7e+00, 2e+01]\n",
      "  Bounds range     [1e+00, 1e+00]\n",
      "  RHS range        [1e+00, 8e+00]\n",
      "Found heuristic solution: objective 120.0000000\n",
      "Presolve removed 8 rows and 20 columns\n",
      "Presolve time: 0.00s\n",
      "Presolved: 12 rows, 40 columns, 96 nonzeros\n",
      "Variable types: 0 continuous, 40 integer (40 binary)\n",
      "\n",
      "Root relaxation: objective 3.600000e+01, 9 iterations, 0.00 seconds (0.00 work units)\n",
      "\n",
      "    Nodes    |    Current Node    |     Objective Bounds      |     Work\n",
      " Expl Unexpl |  Obj  Depth IntInf | Incumbent    BestBd   Gap | It/Node Time\n",
      "\n",
      "*    0     0               0      36.0000000   36.00000  0.00%     -    0s\n",
      "\n",
      "Explored 1 nodes (9 simplex iterations) in 0.01 seconds (0.00 work units)\n",
      "Thread count was 8 (of 8 available processors)\n",
      "\n",
      "Solution count 2: 36 120 \n",
      "\n",
      "Optimal solution found (tolerance 1.00e-04)\n",
      "Best objective 3.600000000000e+01, best bound 3.600000000000e+01, gap 0.0000%\n",
      "Optimal solution found with total distance: 36.00\n",
      "\n",
      "Vehicle 0 route:\n",
      "\n",
      "Vehicle 1 route:\n",
      "Loc1 to Loc2 with distance 8\n",
      "Loc2 to Loc1 with distance 8\n",
      "Loc3 to Loc4 with distance 10\n",
      "Loc4 to Loc3 with distance 10\n"
     ]
    }
   ],
   "source": [
    "from gurobipy import Model, GRB, quicksum\n",
    "\n",
    "# Example Data Generation\n",
    "locations = ['Depot', 'Loc1', 'Loc2', 'Loc3', 'Loc4']\n",
    "demands = {'Loc1': 2, 'Loc2': 3, 'Loc3': 4, 'Loc4': 1}\n",
    "vehicle_capacity = {0: 5, 1: 6}\n",
    "distances = {\n",
    "    ('Depot', 'Loc1'): 10, ('Depot', 'Loc2'): 12, ('Depot', 'Loc3'): 18, ('Depot', 'Loc4'): 20,\n",
    "    ('Loc1', 'Depot'): 10, ('Loc2', 'Depot'): 12, ('Loc3', 'Depot'): 18, ('Loc4', 'Depot'): 20,\n",
    "    ('Loc1', 'Loc2'): 8, ('Loc1', 'Loc3'): 9, ('Loc1', 'Loc4'): 14,\n",
    "    ('Loc2', 'Loc1'): 8, ('Loc2', 'Loc3'): 7, ('Loc2', 'Loc4'): 15,\n",
    "    ('Loc3', 'Loc1'): 9, ('Loc3', 'Loc2'): 7, ('Loc3', 'Loc4'): 10,\n",
    "    ('Loc4', 'Loc1'): 14, ('Loc4', 'Loc2'): 15, ('Loc4', 'Loc3'): 10,\n",
    "}\n",
    "vehicles = list(vehicle_capacity.keys())\n",
    "max_hours = 8  # Assuming 8 hours of work per vehicle\n",
    "t_ij = {key: value / 60 for key, value in distances.items()}  # Simplified travel time\n",
    "\n",
    "# Model Setup\n",
    "model = Model(\"DeliveryRoutingScheduling\")\n",
    "\n",
    "# Decision Variables\n",
    "x = model.addVars(locations, locations, vehicles, vtype=GRB.BINARY, name=\"x\")\n",
    "y = model.addVars(locations, vehicles, vtype=GRB.CONTINUOUS, name=\"y\")\n",
    "\n",
    "# Objective: Minimize total distance\n",
    "model.setObjective(quicksum(distances[i, j] * x[i, j, k] for i in locations for j in locations if i != j for k in vehicles), GRB.MINIMIZE)\n",
    "\n",
    "# Constraints\n",
    "# Each location is visited exactly once by any vehicle\n",
    "for j in locations[1:]:  # Exclude depot\n",
    "    model.addConstr(quicksum(x[i, j, k] for i in locations if i != j for k in vehicles) == 1)\n",
    "\n",
    "# Vehicle capacity\n",
    "for k in vehicles:\n",
    "    model.addConstr(quicksum(y[j, k] for j in locations[1:]) <= vehicle_capacity[k])\n",
    "\n",
    "# Demand satisfaction\n",
    "for j in locations[1:]:  # Exclude depot\n",
    "    model.addConstr(quicksum(y[j, k] for k in vehicles) == demands[j])\n",
    "\n",
    "# Flow conservation\n",
    "for k in vehicles:\n",
    "    for j in locations:\n",
    "        if j != 'Depot':\n",
    "            model.addConstr(quicksum(x[i, j, k] for i in locations if i != j) == quicksum(x[j, i, k] for i in locations if i != j))\n",
    "\n",
    "# Working hours constraint\n",
    "for k in vehicles:\n",
    "    model.addConstr(quicksum(t_ij[i, j] * x[i, j, k] for i in locations for j in locations if i != j) <= max_hours)\n",
    "\n",
    "# Solve\n",
    "model.optimize()\n",
    "\n",
    "# Results\n",
    "if model.status == GRB.OPTIMAL:\n",
    "    print(f\"Optimal solution found with total distance: {model.ObjVal:.2f}\")\n",
    "    for k in vehicles:\n",
    "        print(f\"\\nVehicle {k} route:\")\n",
    "        for i in locations:\n",
    "            for j in locations:\n",
    "                if i != j and x[i, j, k].X > 0.5:\n",
    "                    print(f\"{i} to {j} with distance {distances[i, j]}\")\n",
    "else:\n",
    "    print(\"No optimal solution found.\")"
   ]
  }
 ],
 "metadata": {
  "kernelspec": {
   "display_name": "Python 3 (ipykernel)",
   "language": "python",
   "name": "python3"
  },
  "language_info": {
   "codemirror_mode": {
    "name": "ipython",
    "version": 3
   },
   "file_extension": ".py",
   "mimetype": "text/x-python",
   "name": "python",
   "nbconvert_exporter": "python",
   "pygments_lexer": "ipython3",
   "version": "3.12.4"
  }
 },
 "nbformat": 4,
 "nbformat_minor": 4
}
