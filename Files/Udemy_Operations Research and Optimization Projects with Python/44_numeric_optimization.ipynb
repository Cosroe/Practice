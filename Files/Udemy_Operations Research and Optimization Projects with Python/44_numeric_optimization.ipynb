{
 "cells": [
  {
   "cell_type": "markdown",
   "metadata": {
    "jupyter": {
     "source_hidden": true
    },
    "tags": []
   },
   "source": [
    "# Introduction to Numeric Optimization\n",
    "\n",
    "Numeric optimization is a branch of mathematics and computer science that focuses on finding the best solution from a set of possible solutions, given certain constraints. It plays a important role in decision-making processes where optimal efficiency, cost reduction, or resource allocation is desired. At its core, numeric optimization involves mathematical models that represent real-world scenarios, allowing us to systematically explore and identify the most favorable outcomes.\n",
    "\n",
    "## Key Concepts\n",
    "\n",
    "### Objective Function \n",
    "This is the central component of any optimization problem. It's a mathematical expression that defines what you are trying to optimize. For example, it could be minimizing production costs, maximizing resource utilization, or achieving the highest possible efficiency in a system.\n",
    "\n",
    "### Decision Variables\n",
    "These are the variables that influence the outcome of the objective function. In a production optimization scenario, decision variables could include the amount of raw materials used, production speeds, or temperatures at which materials are processed.\n",
    "\n",
    "### Constraints\n",
    "Constraints are the limitations or requirements that must be satisfied in the optimization problem. They can include budget limits, resource availability, or specific operational boundaries that cannot be crossed.\n",
    "\n",
    "### The Optimization Process\n",
    "\n",
    "The process of numeric optimization typically involves defining the objective function, identifying decision variables, setting constraints, and then using mathematical algorithms to find the optimal solution. This solution represents the best possible outcome within the defined constraints."
   ]
  },
  {
   "cell_type": "markdown",
   "metadata": {
    "jupyter": {
     "source_hidden": true
    },
    "tags": []
   },
   "source": [
    "# Scenario : Optimizing Copper Wire Production\n",
    "\n",
    "In this project, we explore the application of numeric optimization in the manufacturing sector, focusing on a factory that produces copper wire. The factory aims to optimize its production process to minimize costs and maximize efficiency while ensuring the product meets quality standards. This scenario involves various stages of production, each with specific parameters that can be adjusted to achieve optimal outcomes.\n",
    "\n",
    "### Problem Overview\n",
    "\n",
    "The factory's production process is complex, involving melting, casting, drawing, annealing, and coiling. The challenge lies in determining the optimal settings for these processes to reduce waste, minimize energy consumption, and ensure the final product's quality.\n",
    "\n",
    "\n",
    "### Decision Variables\n",
    "\n",
    "* Melting temperature\n",
    "\n",
    "* Speed of the drawing process\n",
    "\n",
    "* Temperature and duration of the annealing process\n",
    "\n",
    "* Diameter of the wire\n",
    "\n",
    "* Quantity of raw material used\n",
    "\n",
    "### Objective and Constraints\n",
    "\n",
    "The objective is to minimize the total cost, including raw materials, energy, and maintenance, while maximizing the quality and yield of the copper wire. Constraints include machinery capacity, raw material availability, environmental regulations, and quality standards.\n"
   ]
  },
  {
   "cell_type": "markdown",
   "metadata": {
    "jupyter": {
     "source_hidden": true
    },
    "tags": []
   },
   "source": [
    "## Mathematical Model for Copper Wire Production Optimization\n",
    "\n",
    "### Decision Variables\n",
    "- $x_1$: Melting temperature of the copper (°C).\n",
    "- $x_2$: Speed of the drawing process (meters per minute).\n",
    "- $x_3$: Temperature of the annealing process (°C).\n",
    "- $x_4$: Duration of the annealing process (hours).\n",
    "- $x_5$: Diameter of the wire (mm).\n",
    "- $x_6$: Quantity of raw material used (kilograms).\n",
    "\n",
    "### Objective Function\n",
    "Minimize the total cost of production:\n",
    "$$\\text{Minimize } Z = C_{material} \\cdot x_6 + C_{energy} \\cdot f(x_1, x_3, x_4) + C_{maintenance} \\cdot g(x_2, x_5) - Revenue_{yield} \\cdot h(x_1, x_2, x_3, x_4, x_5, x_6)$$\n",
    "\n",
    "Where:\n",
    "- $C_{material}$: Cost per kilogram of raw material.\n",
    "- $C_{energy}$: Cost coefficient for energy consumption.\n",
    "- $C_{maintenance}$: Cost coefficient for maintenance.\n",
    "- $Revenue_{yield}$: Revenue per unit product, which is a function of the quality and market demand.\n",
    "\n",
    "### Constraints\n",
    "\n",
    "#### Quality Standards\n",
    "Ensure the product meets industry standards for electrical conductivity and tensile strength:\n",
    "$$Q_{conductivity}(x_1, x_3) \\geq Q_{min}$$\n",
    "$$Q_{tensile}(x_2, x_5) \\geq Q_{min}$$\n",
    "\n",
    "#### Machinery Capacity\n",
    "The use of machinery cannot exceed its maximum capacity:\n",
    "$$x_2 \\leq M_{max}$$\n",
    "$$x_4 \\leq A_{max}$$\n",
    "\n",
    "#### Raw Material Availability\n",
    "The quantity of raw material used cannot exceed the available inventory:\n",
    "$$x_6 \\leq R_{available}$$\n",
    "\n",
    "#### Environmental Regulations\n",
    "The production process must comply with environmental regulations, limiting emissions:\n",
    "$$E_{emissions}(x_1, x_3, x_6) \\leq E_{max}$$\n",
    "\n",
    "#### Non-negativity and Physical Limits\n",
    "All decision variables must be within realistic physical limits and non-negative:\n",
    "$$x_1, x_2, x_3, x_4, x_5, x_6 \\geq 0$$\n"
   ]
  },
  {
   "cell_type": "code",
   "execution_count": 1,
   "metadata": {
    "tags": []
   },
   "outputs": [
    {
     "name": "stdout",
     "output_type": "stream",
     "text": [
      "Optimal values:\n",
      "Melting temperature, Drawing speed, Annealing temp, Diameter, Raw material: [1.e+00 1.e+00 1.e+00 1.e-01 1.e+03]\n",
      "Total cost: -499.92367544466606\n"
     ]
    }
   ],
   "source": [
    "import numpy as np\n",
    "from scipy.optimize import minimize\n",
    "\n",
    "# Constants for the cost calculations (hypothetical values for demonstration)\n",
    "C_material = 1.5  # Cost per unit of raw material\n",
    "C_energy = 0.05  # Cost per unit of energy consumed\n",
    "C_maintenance = 0.02  # Maintenance cost per unit of machine usage\n",
    "Revenue_yield = 2.0  # Revenue per unit of product quality\n",
    "\n",
    "# Energy consumption and maintenance cost functions \n",
    "def energy_consumption(x1, x3):\n",
    "    return x1**2 * x3\n",
    "\n",
    "def maintenance_cost(x2, x4):\n",
    "    return x2**2 + np.sqrt(x4)\n",
    "\n",
    "# Revenue function based on raw material and quality \n",
    "def revenue(x5):\n",
    "    return Revenue_yield * x5\n",
    "\n",
    "# Objective function to minimize\n",
    "def objective(x):\n",
    "    x1, x2, x3, x4, x5 = x  # Decision variables\n",
    "    total_cost = (C_material * x5 +\n",
    "                  C_energy * energy_consumption(x1, x3) +\n",
    "                  C_maintenance * maintenance_cost(x2, x4) -\n",
    "                  revenue(x5))\n",
    "    return total_cost\n",
    "\n",
    "# Constraint functions\n",
    "def quality_constraint(x):\n",
    "    # Placeholder for quality constraint based on process parameters\n",
    "    return x[4] - 0.1  # Example: Ensure minimum quality level\n",
    "\n",
    "def capacity_constraint(x):\n",
    "    # Placeholder for machinery capacity constraint\n",
    "    return 100 - (x[1] + x[2])  # Example: Limit on combined process speeds\n",
    "\n",
    "# Initial guess for the decision variables\n",
    "x0 = [10, 10, 10, 0.1, 10]\n",
    "\n",
    "# Bounds for each decision variable\n",
    "bounds = [(1, 100),  # Melting temperature bounds\n",
    "          (1, 100),  # Drawing speed bounds\n",
    "          (1, 100),  # Annealing temperature bounds\n",
    "          (0.1, 10),  # Wire diameter bounds\n",
    "          (1, 1000)]  # Raw material usage bounds\n",
    "\n",
    "# Constraints\n",
    "constraints = [{'type': 'ineq', 'fun': quality_constraint},\n",
    "               {'type': 'ineq', 'fun': capacity_constraint}]\n",
    "\n",
    "# Solve the optimization problem\n",
    "solution = minimize(objective, x0, method='SLSQP', bounds=bounds, constraints=constraints)\n",
    "\n",
    "# Output the solution\n",
    "if solution.success:\n",
    "    print('Optimal values:')\n",
    "    print('Melting temperature, Drawing speed, Annealing temp, Diameter, Raw material:', solution.x)\n",
    "    print('Total cost:', solution.fun)\n",
    "else:\n",
    "    print('Optimization was unsuccessful. Here is the error message:')\n",
    "    print(solution.message)\n"
   ]
  }
 ],
 "metadata": {
  "kernelspec": {
   "display_name": "Python 3 (ipykernel)",
   "language": "python",
   "name": "python3"
  },
  "language_info": {
   "codemirror_mode": {
    "name": "ipython",
    "version": 3
   },
   "file_extension": ".py",
   "mimetype": "text/x-python",
   "name": "python",
   "nbconvert_exporter": "python",
   "pygments_lexer": "ipython3",
   "version": "3.12.4"
  }
 },
 "nbformat": 4,
 "nbformat_minor": 4
}
