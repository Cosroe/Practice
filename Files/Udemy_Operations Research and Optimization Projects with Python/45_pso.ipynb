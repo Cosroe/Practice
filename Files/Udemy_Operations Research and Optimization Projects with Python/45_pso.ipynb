{
 "cells": [
  {
   "cell_type": "markdown",
   "metadata": {},
   "source": [
    "# Understanding Particle Swarm Optimization (PSO)\n"
   ]
  },
  {
   "cell_type": "markdown",
   "metadata": {},
   "source": [
    "## Scenario: Optimizing Wind Turbine Blade Design\n"
   ]
  },
  {
   "cell_type": "markdown",
   "metadata": {
    "tags": []
   },
   "source": [
    "**Decision Variables:**\n",
    "- $L$: Blade length (meters).\n",
    "- $\\theta$: Twist angle (radians).\n",
    "- $\\rho$: Material density (kg/m³).\n",
    "\n",
    "**Parameters:**\n",
    "- $L_{\\text{min}}$, $L_{\\text{max}}$: Minimum and maximum blade length.\n",
    "- $\\theta_{\\text{min}}$, $\\theta_{\\text{max}}$: Minimum and maximum twist angle.\n",
    "- $\\rho_{\\text{min}}$, $\\rho_{\\text{max}}$: Minimum and maximum material density.\n",
    "- $C_L$, $C_\\theta$, $C_\\rho$: Cost coefficients for blade length, twist angle, and material density, respectively.\n",
    "\n",
    "**Objective Function:**\n",
    "Maximize the efficiency of the wind turbine blade:\n",
    "$$\\text{Maximize } \\eta = f(L, \\theta, \\rho)$$\n",
    "where $f(L, \\theta, \\rho)$ represents the efficiency function, dependent on the blade length, twist angle, and material density.\n",
    "\n",
    "**Constraints:**\n",
    "1. Blade length must be within limits:\n",
    "   $$L_{\\text{min}} \\leq L \\leq L_{\\text{max}}$$\n",
    "2. Twist angle must be within limits:\n",
    "   $$\\theta_{\\text{min}} \\leq \\theta \\leq \\theta_{\\text{max}}$$\n",
    "3. Material density must be within limits:\n",
    "   $$\\rho_{\\text{min}} \\leq \\rho \\leq \\rho_{\\text{max}}$$\n",
    "4. Cost constraint (optional):\n",
    "   $$C_L \\cdot L + C_\\theta \\cdot \\theta + C_\\rho \\cdot \\rho \\leq \\text{Budget}$$"
   ]
  },
  {
   "cell_type": "code",
   "execution_count": 1,
   "metadata": {
    "tags": []
   },
   "outputs": [
    {
     "name": "stdout",
     "output_type": "stream",
     "text": [
      "Stopping search: maximum iterations reached --> 100\n",
      "Optimal Solution: [ 50.   0. 800.]\n",
      "Maximum Efficiency: 200.0\n"
     ]
    }
   ],
   "source": [
    "import numpy as np\n",
    "from pyswarm import pso\n",
    "\n",
    "# Simulated efficiency function\n",
    "def efficiency(x):\n",
    "    L, theta, rho = x\n",
    "    # This is a placeholder for the actual efficiency calculation\n",
    "    return -((L * np.cos(theta) * rho) ** 0.5)  # Negative for maximization\n",
    "\n",
    "# Constraint functions\n",
    "def constraint_L(x):\n",
    "    return x[0] - L_max  # L must be less than L_max\n",
    "\n",
    "def constraint_theta(x):\n",
    "    return theta_max - x[1]  # theta must be less than theta_max\n",
    "\n",
    "def constraint_rho(x):\n",
    "    return rho_max - x[2]  # rho must be less than rho_max\n",
    "\n",
    "# Bounds\n",
    "L_min, L_max = 10, 50\n",
    "theta_min, theta_max = 0, np.pi / 4\n",
    "rho_min, rho_max = 500, 800\n",
    "\n",
    "lb = [L_min, theta_min, rho_min]\n",
    "ub = [L_max, theta_max, rho_max]\n",
    "\n",
    "# PSO\n",
    "xopt, fopt = pso(efficiency, lb, ub, ieqcons=[constraint_L, constraint_theta, constraint_rho])\n",
    "\n",
    "print(\"Optimal Solution:\", xopt)\n",
    "print(\"Maximum Efficiency:\", -fopt)\n"
   ]
  }
 ],
 "metadata": {
  "kernelspec": {
   "display_name": "Python 3 (ipykernel)",
   "language": "python",
   "name": "python3"
  },
  "language_info": {
   "codemirror_mode": {
    "name": "ipython",
    "version": 3
   },
   "file_extension": ".py",
   "mimetype": "text/x-python",
   "name": "python",
   "nbconvert_exporter": "python",
   "pygments_lexer": "ipython3",
   "version": "3.12.4"
  }
 },
 "nbformat": 4,
 "nbformat_minor": 4
}
