{
 "cells": [
  {
   "cell_type": "markdown",
   "metadata": {
    "jupyter": {
     "source_hidden": true
    },
    "tags": []
   },
   "source": [
    "# Introduction to Hill Climbing Algorithm\n",
    "\n",
    "\n",
    "Hill Climbing is a heuristic search algorithm used for mathematical optimization problems. At its core, Hill Climbing is similar to climbing a mountain blindfolded, where you make small steps and choose your next move based solely on the slope of the ground beneath you. The algorithm starts with a random solution to the problem and iteratively makes adjustments to this solution, aiming to find a better one based on a given criterion, such as minimizing or maximizing a value.\n",
    "\n",
    "In the context of optimization, consider trying to find the highest point on a terrain (maximization) or the lowest valley (minimization). Hill Climbing evaluates the neighboring points (solutions) around the current one and moves towards the neighbor that offers the most immediate improvement.\n",
    "\n",
    "This algorithm is simple yet powerful, making it a great starting point for understanding optimization techniques. However, it has its limitations, such as the potential to get stuck in local maxima or minima without finding the global optimum.\n",
    "\n",
    "In practical terms, to implement the Hill Climbing algorithm, you follow these steps:\n",
    "\n",
    "Initialization: Start with a random solution to the problem.\n",
    "\n",
    "Neighbor Search: Look for a better solution in the vicinity of the current one.\n",
    "\n",
    "Evaluation: If a better solution is found, move to it; otherwise, either stop or make a different move.\n",
    "\n",
    "Iteration: Repeat the process until no better solution can be found or another stopping criterion is met."
   ]
  },
  {
   "cell_type": "markdown",
   "metadata": {
    "jupyter": {
     "source_hidden": true
    },
    "tags": []
   },
   "source": [
    "## Drone Delivery Route Optimization Scenario\n",
    "\n",
    "In this project, we explore the captivating world of drone delivery systems, focusing on optimizing the delivery routes for drones dispatched from a central depot to various locations in a metropolitan area. The primary goal is to minimize the total distance traveled by each drone, which directly correlates to reducing travel time and energy consumption. \n",
    "\n",
    "The scenario is framed around a simplified model, similar to a Vehicle Routing Problem (VRP), but specifically tailored to drone deliveries. It presents a unique set of challenges, including the need to consider the drones' limited range due to battery constraints, which adds a layer of complexity to the routing decisions.\n",
    "\n",
    "Mathematically, we model this problem by defining a set of nodes representing the depot and the delivery locations. The objective is to construct a route for each drone that starts and ends at the depot, visits each delivery location exactly once, and does so in a way that minimizes the total travel distance. Constraints are introduced to ensure feasibility, such as the limitation on the maximum distance a drone can travel, reflecting the battery life constraint.\n",
    "\n",
    "This scenario provides a practical application of optimization techniques in a real-world context, demonstrating how mathematical modeling and algorithms can be employed to solve complex logistical challenges. "
   ]
  },
  {
   "cell_type": "markdown",
   "metadata": {
    "jupyter": {
     "source_hidden": true
    },
    "tags": []
   },
   "source": [
    "### Mathematical Model for Drone Delivery Route Optimization\n",
    "\n",
    "#### Sets and Indices\n",
    "- $N$: Set of nodes, including the depot (indexed as 0) and delivery locations, indexed by $i, j$.\n",
    "- $D$: Set of delivery locations, indexed by $d$.\n",
    "\n",
    "#### Parameters\n",
    "- $D_{ij}$: Distance between node $i$ and node $j$, for all $i, j \\in N$.\n",
    "- $M$: A large number used for enforcing route continuity and eliminating sub-tours.\n",
    "\n",
    "#### Decision Variables\n",
    "- $x_{ij}$: Binary variable that equals 1 if the drone travels directly from node $i$ to node $j$, and 0 otherwise, for all $i, j \\in N$.\n",
    "- $u_i$: Auxiliary variable used for sub-tour elimination, representing the position of node $i$ in the tour, for all $i \\in D$.\n",
    "\n",
    "#### Objective Function\n",
    "$$\\min Z = \\sum_{i \\in N} \\sum_{j \\in N, j \\neq i} D_{ij} \\cdot x_{ij}$$\n",
    "The objective is to minimize the total distance traveled by the drone.\n",
    "\n",
    "#### Constraints\n",
    "\n",
    "1. **Departure and Arrival at Depot**:\n",
    "$$\\sum_{j \\in N, j \\neq 0} x_{0j} = 1$$\n",
    "$$\\sum_{i \\in N, i \\neq 0} x_{i0} = 1$$\n",
    "A drone must leave and return to the depot exactly once.\n",
    "\n",
    "2. **Visit Each Delivery Location Once**:\n",
    "$$\\sum_{i \\in N, i \\neq j} x_{ij} = 1 \\quad \\forall j \\in D$$\n",
    "$$\\sum_{j \\in N, i \\neq j} x_{ij} = 1 \\quad \\forall i \\in D$$\n",
    "Each delivery location is visited exactly once.\n",
    "\n",
    "3. **Sub-tour Elimination** (for all $i, j \\in D$ and $i \\neq j$):\n",
    "$$u_i - u_j + M \\cdot x_{ij} \\leq M - 1$$\n",
    "This constraint prevents the formation of sub-tours among the delivery locations.\n",
    "\n",
    "4. **Binary and Auxiliary Variable Restrictions**:\n",
    "$$x_{ij} \\in \\{0, 1\\} \\quad \\forall i, j \\in N$$\n",
    "$$1 \\leq u_i \\leq |D| \\quad \\forall i \\in D$$\n",
    "$x_{ij}$ are binary variables, and $u_i$ are bounded auxiliary variables for eliminating sub-tours.\n"
   ]
  },
  {
   "cell_type": "code",
   "execution_count": 1,
   "metadata": {
    "tags": []
   },
   "outputs": [
    {
     "name": "stdout",
     "output_type": "stream",
     "text": [
      "Optimized Route: [0, np.int64(4), np.int64(2), np.int64(3), np.int64(1), 0]\n",
      "Total Distance: 16\n"
     ]
    }
   ],
   "source": [
    "import numpy as np\n",
    "import random\n",
    "\n",
    "# Example distance matrix \n",
    "N = 5  # Including depot\n",
    "D = np.array([\n",
    "    [0, 2, 9, 10, 1],\n",
    "    [1, 0, 6, 4, 2],\n",
    "    [15, 7, 0, 8, 3],\n",
    "    [6, 3, 12, 0, 5],\n",
    "    [10, 2, 3, 5, 0]\n",
    "])\n",
    "\n",
    "# Initial solution (random route)\n",
    "np.random.seed(0)\n",
    "initial_route = list(np.random.permutation(N - 1) + 1)\n",
    "initial_route = [0] + initial_route + [0]  # Start and end at the depot\n",
    "\n",
    "def calculate_total_distance(route, distance_matrix):\n",
    "    return sum(distance_matrix[route[i], route[i+1]] for i in range(len(route) - 1))\n",
    "\n",
    "def hill_climbing(route, distance_matrix):\n",
    "    best_distance = calculate_total_distance(route, distance_matrix)\n",
    "    improved = True\n",
    "    while improved:\n",
    "        improved = False\n",
    "        for i in range(1, len(route) - 2):\n",
    "            for j in range(i + 1, len(route) - 1):\n",
    "                if j - i == 1: continue  # Skip adjacent nodes\n",
    "                new_route = route[:]\n",
    "                new_route[i:j] = reversed(route[i:j])\n",
    "                new_distance = calculate_total_distance(new_route, distance_matrix)\n",
    "                if new_distance < best_distance:\n",
    "                    route = new_route\n",
    "                    best_distance = new_distance\n",
    "                    improved = True\n",
    "                    break\n",
    "            if improved:\n",
    "                break\n",
    "    return route, best_distance\n",
    "\n",
    "optimized_route, optimized_distance = hill_climbing(initial_route, D)\n",
    "print(\"Optimized Route:\", optimized_route)\n",
    "print(\"Total Distance:\", optimized_distance)\n"
   ]
  }
 ],
 "metadata": {
  "kernelspec": {
   "display_name": "Python 3 (ipykernel)",
   "language": "python",
   "name": "python3"
  },
  "language_info": {
   "codemirror_mode": {
    "name": "ipython",
    "version": 3
   },
   "file_extension": ".py",
   "mimetype": "text/x-python",
   "name": "python",
   "nbconvert_exporter": "python",
   "pygments_lexer": "ipython3",
   "version": "3.12.4"
  }
 },
 "nbformat": 4,
 "nbformat_minor": 4
}
