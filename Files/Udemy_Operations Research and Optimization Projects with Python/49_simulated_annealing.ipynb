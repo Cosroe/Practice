{
 "cells": [
  {
   "cell_type": "markdown",
   "metadata": {},
   "source": [
    "#  Simulated Annealing (SA)\n",
    "Simulated Annealing (SA) is an optimization technique inspired by the process of annealing in metallurgy. This process involves heating and cooling a material to increase the size of its crystals and reduce its defects. The \"annealing\" analogy is applied to optimization problems, where the goal is to find a solution that minimizes (or maximizes) a given objective function. SA is particularly useful for navigating complex, multidimensional search spaces where traditional optimization methods may struggle to find the global minimum due to the presence of many local minima.\n",
    "\n",
    "The acceptance of a worse solution is governed by a parameter called \"temperature,\" which gradually decreases according to a cooling schedule. High temperatures allow the algorithm to accept worse solutions more freely, promoting exploration, while lower temperatures reduce this propensity, encouraging exploitation of the current area of the search space.\n",
    "\n",
    "A typical SA algorithm starts with an initial solution and an initial high temperature. It then enters a loop where it generates a \"neighbor\" solution by making a small change to the current solution. The algorithm decides whether to move to this neighbor based on the difference in their objective function values and the current temperature. This decision-making process is influenced by the Metropolis criterion, which uses a probabilistic approach to determine acceptance.\n",
    "\n",
    "As the temperature decreases, the algorithm becomes more selective about accepting worse solutions, gradually focusing the search on the areas of the solution space with the highest quality solutions. The cooling schedule, or the rate at which the temperature decreases, plays a important role in the effectiveness of SA. Too rapid a decrease may cause the algorithm to get stuck in a local minimum, while too slow a decrease may result in excessive computation time without significant improvement in the solution."
   ]
  },
  {
   "cell_type": "markdown",
   "metadata": {},
   "source": [
    "## Project\n",
    "\n",
    "In this project, we have designed a scenario that involves optimizing delivery routes for a service using the Simulated Annealing (SA) technique. This optimization challenge is modeled after the Traveling Salesman Problem (TSP), a well-known problem in the field of combinatorial optimization. Our goal is to find the shortest possible route that a delivery vehicle must take to visit a set of locations within a city and return to the warehouse. This is a common problem faced by logistics and delivery companies aiming to reduce travel distance, and thereby saving time and fuel costs.\n",
    "\n",
    "The scenario is set up with a number of predefined locations, including a central warehouse where all routes begin and end. Each location represents a delivery point, and the objective is to determine the sequence in which these points are visited that results in the minimum total distance traveled. This problem is a classic example of how optimization techniques can be applied to real-world logistical challenges.\n",
    "\n",
    "Simulated Annealing is chosen for this task due to its ability to escape local minima - a frequent hurdle in optimization problems. By simulating the process of heating and cooling, SA allows for a controlled exploration of the search space. Initially, the algorithm is more likely to accept solutions that are worse than the current solution to avoid being trapped in local minima. As the \"temperature\" decreases, the algorithm becomes more selective, honing in on the best solution found."
   ]
  },
  {
   "cell_type": "markdown",
   "metadata": {
    "tags": []
   },
   "source": [
    "### Mathematical Model for Delivery Route Optimization\n",
    "\n",
    "**Decision Variables:**\n",
    "- Let $x_{ij}$ be a binary variable where $x_{ij} = 1$ if the path from location $i$ to location $j$ is taken by the delivery vehicle, and $x_{ij} = 0$ otherwise. This is for all $i, j \\in N$, where $N$ is the set of all locations including the warehouse.\n",
    "\n",
    "**Parameters:**\n",
    "- $d_{ij}$: Distance between location $i$ and location $j$, for all $i, j \\in N$.\n",
    "- $N$: The set of all locations, including the warehouse.\n",
    "- $n$: The number of locations to visit, excluding the warehouse.\n",
    "\n",
    "**Objective Function:**\n",
    "- Minimize the total distance traveled:\n",
    "$$Z = \\sum_{i \\in N} \\sum_{j \\in N, j \\neq i} d_{ij} x_{ij}$$\n",
    "\n",
    "**Constraints:**\n",
    "\n",
    "1. Ensure each location is visited exactly once (excluding the warehouse):\n",
    "$$\\sum_{i \\in N, i \\neq j} x_{ij} = 1, \\quad \\forall j \\in N, j \\neq 0$$\n",
    "\n",
    "2. From each location, exactly one path is chosen to depart (excluding the warehouse):\n",
    "$$\\sum_{j \\in N, j \\neq i} x_{ij} = 1, \\quad \\forall i \\in N, i \\neq 0$$\n",
    "\n",
    "3. Subtour elimination (to prevent the formation of subtours that do not visit all locations). This constraint is crucial for ensuring a single continuous route but requires additional variables and complex formulations for a complete representation. Therefore, it is acknowledged here without specific formulation.\n",
    "\n",
    "**Model Summary:**\n",
    "\n",
    "This model uses binary decision variables $x_{ij}$ to represent the paths taken between locations. The objective is to minimize the total distance $Z$, ensuring each location is visited exactly once and that there's a direct path from each location to the next. Constraints are set to prevent subtours, ensuring the delivery route is practical and covers all locations.\n"
   ]
  },
  {
   "cell_type": "code",
   "execution_count": 1,
   "metadata": {
    "tags": []
   },
   "outputs": [
    {
     "name": "stdout",
     "output_type": "stream",
     "text": [
      "Optimal Route: [1, 0, 2, 3]\n",
      "Optimal Distance: 21\n"
     ]
    }
   ],
   "source": [
    "import numpy as np\n",
    "import random\n",
    "import math\n",
    "\n",
    "def calculate_total_distance(route, distance_matrix):\n",
    "    total_distance = 0\n",
    "    for i in range(len(route)):\n",
    "        total_distance += distance_matrix[route[i-1]][route[i]]\n",
    "    return total_distance\n",
    "\n",
    "def simulated_annealing(distance_matrix, initial_temperature, cooling_rate, stopping_temperature):\n",
    "    current_solution = random.sample(range(len(distance_matrix)), len(distance_matrix))\n",
    "    current_distance = calculate_total_distance(current_solution, distance_matrix)\n",
    "    temperature = initial_temperature\n",
    "\n",
    "    while temperature > stopping_temperature:\n",
    "        new_solution = current_solution.copy()\n",
    "        l = random.randint(2, len(distance_matrix) - 1)\n",
    "        i = random.randint(0, len(distance_matrix) - l)\n",
    "        new_solution[i:(i + l)] = reversed(new_solution[i:(i + l)])\n",
    "        new_distance = calculate_total_distance(new_solution, distance_matrix)\n",
    "\n",
    "        if new_distance < current_distance or random.random() < math.exp((current_distance - new_distance) / temperature):\n",
    "            current_solution, current_distance = new_solution, new_distance\n",
    "\n",
    "        temperature *= cooling_rate\n",
    "\n",
    "    return current_solution, current_distance\n",
    "\n",
    "\n",
    "distance_matrix = [[0, 2, 9, 10], [1, 0, 6, 4], [15, 7, 0, 8], [6, 3, 12, 0]]\n",
    "initial_temperature = 10000\n",
    "cooling_rate = 0.995\n",
    "stopping_temperature = 1\n",
    "\n",
    "optimal_route, optimal_distance = simulated_annealing(distance_matrix, initial_temperature, cooling_rate, stopping_temperature)\n",
    "print(\"Optimal Route:\", optimal_route)\n",
    "print(\"Optimal Distance:\", optimal_distance)\n"
   ]
  }
 ],
 "metadata": {
  "kernelspec": {
   "display_name": "Python 3 (ipykernel)",
   "language": "python",
   "name": "python3"
  },
  "language_info": {
   "codemirror_mode": {
    "name": "ipython",
    "version": 3
   },
   "file_extension": ".py",
   "mimetype": "text/x-python",
   "name": "python",
   "nbconvert_exporter": "python",
   "pygments_lexer": "ipython3",
   "version": "3.12.4"
  }
 },
 "nbformat": 4,
 "nbformat_minor": 4
}
