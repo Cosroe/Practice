{
 "cells": [
  {
   "cell_type": "markdown",
   "metadata": {},
   "source": [
    "# Harmony Search Algorithm\n"
   ]
  },
  {
   "cell_type": "markdown",
   "metadata": {},
   "source": [
    "**Decision Variables:**\n",
    "- $x_{ij}$: Quantity of goods to transport from supplier $i$ to customer $j$, for all suppliers $i \\in \\{1, 2, \\ldots, n\\}$ and customers $j \\in \\{1, 2, \\ldots, m\\}$.\n",
    "- $y_{i}$: Binary decision variable indicating whether supplier $i$ is active (1) or not (0), for all suppliers $i \\in \\{1, 2, \\ldots, n\\}$.\n",
    "\n",
    "**Parameters:**\n",
    "- $C_{ij}$: Transportation cost per unit from supplier $i$ to customer $j$.\n",
    "- $F_{i}$: Fixed cost of activating supplier $i$.\n",
    "- $D_{j}$: Demand of customer $j$.\n",
    "- $S_{i}$: Supply capacity of supplier $i$.\n",
    "\n",
    "**Objective Function:**\n",
    "Minimize the total cost, which includes the transportation costs from suppliers to customers and the fixed costs of activating suppliers:\n",
    "$$\\text{Minimize} \\quad Z = \\sum_{i=1}^{n} F_{i} y_{i} + \\sum_{i=1}^{n}\\sum_{j=1}^{m} C_{ij} x_{ij}$$\n",
    "\n",
    "**Constraints:**\n",
    "1. Supply Constraint: The total goods supplied by each supplier cannot exceed their capacity:\n",
    "   $$\\sum_{j=1}^{m} x_{ij} \\leq S_{i} \\cdot y_{i}, \\quad \\forall i \\in \\{1, 2, \\ldots, n\\}$$\n",
    "2. Demand Satisfaction: Each customer zone's demand must be met by the shipments from the suppliers:\n",
    "   $$\\sum_{i=1}^{n} x_{ij} = D_{j}, \\quad \\forall j \\in \\{1, 2, \\ldots, m\\}$$\n",
    "3. Non-negativity and Binary Constraints: The quantities shipped must be non-negative, and the decision to activate a supplier is binary:\n",
    "   $$x_{ij} \\geq 0, \\quad \\forall i \\in \\{1, 2, \\ldots, n\\}, j \\in \\{1, 2, \\ldots, m\\}$$\n",
    "   $$y_{i} \\in \\{0, 1\\}, \\quad \\forall i \\in \\{1, 2, \\ldots, n\\}$$\n"
   ]
  },
  {
   "cell_type": "code",
   "execution_count": 1,
   "metadata": {
    "collapsed": true,
    "jupyter": {
     "outputs_hidden": true
    },
    "tags": []
   },
   "outputs": [
    {
     "name": "stdout",
     "output_type": "stream",
     "text": [
      "Best Solution: [0.35706263 0.34836246 0.63669454 0.88823324 0.87222196 0.34006378\n",
      " 0.40635209 0.80635501 0.74586315 0.20386664 0.02360274 0.11750397\n",
      " 0.04680393 0.15501418 0.03489613]\n",
      "Best Cost: 1027.5675860710162\n"
     ]
    }
   ],
   "source": [
    "import numpy as np\n",
    "import random\n",
    "\n",
    "# Example data for the supply chain problem\n",
    "C = np.array([[2, 3, 1.5, 4],   # Transportation costs\n",
    "              [4, 1, 2.5, 3],\n",
    "              [3, 2, 2, 2]])\n",
    "\n",
    "F = np.array([5000, 4000, 4500])  # Fixed costs\n",
    "D = np.array([300, 200, 150, 250])  # Demand\n",
    "S = np.array([500, 300, 400])  # Supply\n",
    "\n",
    "num_suppliers = len(S)\n",
    "num_customers = len(D)\n",
    "\n",
    "# Harmony Search parameters\n",
    "num_harmonies = 100\n",
    "max_iter = 1000\n",
    "hmcr = 0.9  # Harmony Memory Considering Rate\n",
    "par = 0.3   # Pitch Adjusting Rate\n",
    "bw = 0.01   # Bandwidth\n",
    "\n",
    "# Initialize Harmony Memory\n",
    "harmony_memory = np.random.rand(num_harmonies, num_suppliers * num_customers + num_suppliers)\n",
    "\n",
    "# Objective function\n",
    "def objective_function(x):\n",
    "    x_matrix = x[:num_suppliers * num_customers].reshape(num_suppliers, num_customers)\n",
    "    y_vector = x[num_suppliers * num_customers:]\n",
    "    transport_cost = np.sum(C * x_matrix)\n",
    "    fixed_cost = np.sum(F * y_vector)\n",
    "    return transport_cost + fixed_cost\n",
    "\n",
    "# Check constraints\n",
    "def check_constraints(x):\n",
    "    x_matrix = x[:num_suppliers * num_customers].reshape(num_suppliers, num_customers)\n",
    "    y_vector = x[num_suppliers * num_customers:]\n",
    "    supply_constraint = np.all(np.sum(x_matrix, axis=1) <= S * y_vector)\n",
    "    demand_constraint = np.all(np.sum(x_matrix, axis=0) == D)\n",
    "    return supply_constraint and demand_constraint\n",
    "\n",
    "# Harmony Search Algorithm\n",
    "for iteration in range(max_iter):\n",
    "    new_harmony = np.zeros(num_suppliers * num_customers + num_suppliers)\n",
    "    \n",
    "    # Memory consideration and pitch adjustment\n",
    "    for i in range(num_suppliers * num_customers + num_suppliers):\n",
    "        if random.random() < hmcr:\n",
    "            new_harmony[i] = random.choice(harmony_memory[:, i])\n",
    "            if random.random() < par:\n",
    "                new_harmony[i] += bw * (random.random() - 0.5)\n",
    "        else:\n",
    "            new_harmony[i] = random.random()\n",
    "    \n",
    "    # Check if new harmony satisfies constraints\n",
    "    if check_constraints(new_harmony):\n",
    "        # Update Harmony Memory\n",
    "        worst_harmony_index = np.argmax([objective_function(h) for h in harmony_memory])\n",
    "        if objective_function(new_harmony) < objective_function(harmony_memory[worst_harmony_index]):\n",
    "            harmony_memory[worst_harmony_index] = new_harmony\n",
    "\n",
    "# Find the best solution\n",
    "best_solution = min(harmony_memory, key=objective_function)\n",
    "best_cost = objective_function(best_solution)\n",
    "\n",
    "print(\"Best Solution:\", best_solution)\n",
    "print(\"Best Cost:\", best_cost)\n"
   ]
  }
 ],
 "metadata": {
  "kernelspec": {
   "display_name": "Python 3 (ipykernel)",
   "language": "python",
   "name": "python3"
  },
  "language_info": {
   "codemirror_mode": {
    "name": "ipython",
    "version": 3
   },
   "file_extension": ".py",
   "mimetype": "text/x-python",
   "name": "python",
   "nbconvert_exporter": "python",
   "pygments_lexer": "ipython3",
   "version": "3.12.4"
  }
 },
 "nbformat": 4,
 "nbformat_minor": 4
}
