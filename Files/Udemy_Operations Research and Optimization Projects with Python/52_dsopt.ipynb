{
 "cells": [
  {
   "cell_type": "code",
   "execution_count": 1,
   "metadata": {
    "tags": []
   },
   "outputs": [
    {
     "name": "stdout",
     "output_type": "stream",
     "text": [
      "Solution:\n",
      "Objective value = 2871.0\n",
      "Factory 1 - DS: 0.0\n",
      "Factory 1 - DE: 3.0\n",
      "Factory 1 - DA: 0.0\n",
      "Factory 1 - MLE: 0.0\n",
      "Factory 1 - MO: 0.0\n",
      "Factory 2 - DS: 0.0\n",
      "Factory 2 - DE: 2.0\n",
      "Factory 2 - DA: 0.0\n",
      "Factory 2 - MLE: 1.0\n",
      "Factory 2 - MO: 0.0\n",
      "Factory 3 - DS: 1.0\n",
      "Factory 3 - DE: 0.0\n",
      "Factory 3 - DA: 0.0\n",
      "Factory 3 - MLE: 0.0\n",
      "Factory 3 - MO: 4.0\n",
      "Factory 4 - DS: 0.0\n",
      "Factory 4 - DE: 0.0\n",
      "Factory 4 - DA: 3.0\n",
      "Factory 4 - MLE: 0.0\n",
      "Factory 4 - MO: 0.0\n",
      "Factory 5 - DS: 0.0\n",
      "Factory 5 - DE: 0.0\n",
      "Factory 5 - DA: 0.0\n",
      "Factory 5 - MLE: 3.0\n",
      "Factory 5 - MO: 0.0\n",
      "Factory 6 - DS: 3.0\n",
      "Factory 6 - DE: 0.0\n",
      "Factory 6 - DA: 0.0\n",
      "Factory 6 - MLE: 0.0\n",
      "Factory 6 - MO: 0.0\n"
     ]
    }
   ],
   "source": [
    "from ortools.linear_solver import pywraplp\n",
    "\n",
    "# Create the solver - Using CBC Mixed Integer Programming solver\n",
    "solver = pywraplp.Solver.CreateSolver('CBC')\n",
    "\n",
    "# Define the indices for factories and roles\n",
    "factories = range(6)\n",
    "roles = ['DS', 'DE', 'DA', 'MLE', 'MO']\n",
    "\n",
    "# Role count available for each role\n",
    "role_count = {'DS': 4, 'DE': 5, 'DA': 3, 'MLE': 4, 'MO': 4}\n",
    "\n",
    "# Factory complexity and economic returns (example values)\n",
    "complexity = [1.2, 0.8, 1.5, 1.1, 0.9, 1.4]\n",
    "economic_returns = [100, 80, 150, 110, 90, 140]\n",
    "\n",
    "# Decision variables: x[i, j] is the number of role j allocated to factory i\n",
    "x = {}\n",
    "for i in factories:\n",
    "    for j in roles:\n",
    "        x[(i, j)] = solver.IntVar(0, solver.infinity(), f'x[{i},{j}]')\n",
    "\n",
    "# Objective: Maximize economic returns adjusted by complexity and team allocation\n",
    "objective = solver.Objective()\n",
    "for i in factories:\n",
    "    for j in roles:\n",
    "        objective.SetCoefficient(x[(i, j)], economic_returns[i] * complexity[i])\n",
    "objective.SetMaximization()\n",
    "\n",
    "# Constraints\n",
    "# Ensure we do not exceed available team members for each role\n",
    "for j in roles:\n",
    "    solver.Add(sum(x[(i, j)] for i in factories) <= role_count[j])\n",
    "\n",
    "# Each factory has a minimum need of 3 team members and a max of 10\n",
    "for i in factories:\n",
    "    solver.Add(sum(x[(i, j)] for j in roles) >= 3)\n",
    "    solver.Add(sum(x[(i, j)] for j in roles) <= 10)\n",
    "\n",
    "# Solve the model\n",
    "status = solver.Solve()\n",
    "\n",
    "# Check if a solution exists\n",
    "if status == pywraplp.Solver.OPTIMAL:\n",
    "    print('Solution:')\n",
    "    print('Objective value =', objective.Value())\n",
    "    for i in factories:\n",
    "        for j in roles:\n",
    "            print(f'Factory {i+1} - {j}: {x[(i, j)].solution_value()}')\n",
    "else:\n",
    "    print('The problem does not have an optimal solution.')\n"
   ]
  }
 ],
 "metadata": {
  "kernelspec": {
   "display_name": "Python 3 (ipykernel)",
   "language": "python",
   "name": "python3"
  },
  "language_info": {
   "codemirror_mode": {
    "name": "ipython",
    "version": 3
   },
   "file_extension": ".py",
   "mimetype": "text/x-python",
   "name": "python",
   "nbconvert_exporter": "python",
   "pygments_lexer": "ipython3",
   "version": "3.12.4"
  }
 },
 "nbformat": 4,
 "nbformat_minor": 4
}
