{
 "cells": [
  {
   "cell_type": "markdown",
   "metadata": {
    "jupyter": {
     "source_hidden": true
    },
    "tags": []
   },
   "source": [
    "# Artificial Fish Swarm Algorithm (AFSA)\n",
    "\n",
    "The Artificial Fish Swarm Algorithm (AFSA) is a novel bio-inspired optimization technique that mimics the behavior of fish schools. Fish in nature exhibit intelligent collective behaviors such as swarming, following, and preying, which enable them to find food and avoid predators efficiently. AFSA translates these behaviors into mathematical algorithms to solve optimization problems.\n",
    "\n",
    "In AFSA, each \"artificial fish\" represents a potential solution to the problem. These artificial fish explore the solution space through operations inspired by real fish behaviors:\n",
    "\n",
    "Swarming (Schooling): Fish move towards areas where they detect a higher density of fish, assuming these areas may lead to better food sources. This behavior helps in exploring the solution space thoroughly.\n",
    "\n",
    "Following: If a fish discovers an area with abundant food (a better solution), other fish follow it, allowing the swarm to converge towards optimal solutions.\n",
    "\n",
    "Preying (Foraging): This represents the search for food. Fish move towards better solutions based on the gradient of the objective function, mimicking the way fish move towards food.\n",
    "\n",
    "These behaviors are modeled using mathematical functions and parameters, such as the step size (distance an artificial fish can move in one iteration) and the visual distance (how far a fish can \"see\" to detect food or other fish). The algorithm iterates through these behaviors, adjusting the positions of artificial fish (solutions) in the search space, aiming to find the optimal solution.\n",
    "\n",
    "## Introduction to Scikit-Opt\n",
    "\n",
    "Scikit-Opt is a comprehensive Python library designed to simplify the process of implementing various optimization algorithms, including the Artificial Fish Swarm Algorithm (AFSA). It provides a user-friendly interface and a wide range of tools to deal with optimization problems efficiently.\n",
    "\n",
    "With Scikit-Opt, users can easily define their optimization problems, configure algorithm parameters, and execute the optimization process. The library supports multiple types of optimization tasks, from simple mathematical function minimization to complex engineering design problems.\n",
    "\n",
    "Scikit-Opt's implementation of AFSA allows users to leverage this powerful algorithm without delving into the complexities of its underlying mathematical models. By abstracting the technical details, Scikit-Opt enables researchers, engineers, and enthusiasts to focus on solving their optimization problems effectively."
   ]
  },
  {
   "cell_type": "markdown",
   "metadata": {
    "jp-MarkdownHeadingCollapsed": true,
    "jupyter": {
     "source_hidden": true
    },
    "tags": []
   },
   "source": [
    "## Optimizing a Multimodal Function Using AFSA\n",
    "\n",
    "Now let's look at our new topic : finding the global minimum of the Rastrigin function. This function is known for its complex landscape, peppered with numerous local minima that can easily trap conventional optimization algorithms.\n",
    "\n",
    "The Rastrigin function is a classical example of a multimodal function used to test the robustness and efficiency of optimization algorithms. Its landscape is characterized by a large search space and a multitude of local minima surrounding the global minimum at the origin. The primary goal of this project is to demonstrate how AFSA, with its unique bio-inspired strategies—such as swarming, following, and preying—can navigate through this challenging environment to locate the global minimum.\n",
    "\n",
    "To achieve this, we will:\n",
    "\n",
    "Implement the Rastrigin function in Python.\n",
    "Configure and initialize the AFSA using Scikit-Opt, setting appropriate parameters such as population size, maximum iterations, visual distance, and step size.\n",
    "Execute the algorithm and observe how the artificial fish explore the search space, adjust their positions, and eventually converge towards the optimal solution.\n",
    "Analyze the results to evaluate the performance of AFSA in terms of accuracy and convergence speed compared to traditional optimization methods."
   ]
  },
  {
   "cell_type": "markdown",
   "metadata": {
    "tags": []
   },
   "source": [
    "## Optimization Problem Formulation\n",
    "\n",
    "We approach our optimization problem using the Artificial Fish Swarm Algorithm (AFSA) to minimize a given objective function. The scenario developed for this project is to find the optimal parameter values that minimize the objective function, modeled as follows:\n",
    "\n",
    "### Sets and Indices\n",
    "\n",
    "- $P$: Set of parameters, indexed by $p$.\n",
    "\n",
    "### Parameters\n",
    "\n",
    "- $L_p$: Lower bound of parameter $p$.\n",
    "- $U_p$: Upper bound of parameter $p$.\n",
    "\n",
    "### Decision Variables\n",
    "\n",
    "- $x_p$: The value of parameter $p$ within its bounds.\n",
    "\n",
    "### Objective Function\n",
    "\n",
    "The objective is to minimize the given function $f(x)$, where $x = \\{x_p \\;|\\; p \\in P\\}$, represented as:\n",
    "\n",
    "$$\n",
    "\\text{Minimize} \\; f(x) = f(x_1, x_2, \\ldots, x_{|P|})\n",
    "$$\n",
    "\n",
    "### Constraints\n",
    "\n",
    "Each parameter value must be within its specified bounds:\n",
    "\n",
    "$$\n",
    "L_p \\leq x_p \\leq U_p, \\quad \\forall p \\in P\n",
    "$$\n",
    "\n",
    "This formulation sets the foundation for implementing AFSA, where each \"fish\" in the swarm represents a potential solution vector $x$, exploring the search space to find the optimal set of parameter values that minimize the objective function $f(x)$.\n"
   ]
  },
  {
   "cell_type": "code",
   "execution_count": 1,
   "metadata": {
    "tags": []
   },
   "outputs": [
    {
     "name": "stdout",
     "output_type": "stream",
     "text": [
      "Optimal solution: [-0.00196782 -0.00897996]\n",
      "Minimum value: 0.016762270855004147\n"
     ]
    }
   ],
   "source": [
    "from sko.AFSA import AFSA\n",
    "import numpy as np\n",
    "\n",
    "# Define the Rastrigin function\n",
    "def rastrigin(x):\n",
    "    return 10 * len(x) + sum([(xi**2 - 10 * np.cos(2 * np.pi * xi)) for xi in x])\n",
    "\n",
    "# Set parameters for AFSA\n",
    "fish_num = 50  # Number of artificial fish\n",
    "max_iter = 100  # Maximum number of iterations\n",
    "visual = 1  # Visual distance\n",
    "step = 0.5  # Step size\n",
    "\n",
    "# Initialize AFSA with corrected parameters\n",
    "afsa = AFSA(func=rastrigin, n_dim=2, size_pop=fish_num, max_iter=max_iter, visual=visual, step=step)\n",
    "\n",
    "# Perform optimization\n",
    "best_x, best_y = afsa.run()\n",
    "\n",
    "print(f'Optimal solution: {best_x}')\n",
    "print(f'Minimum value: {best_y}')\n"
   ]
  }
 ],
 "metadata": {
  "kernelspec": {
   "display_name": "Python 3 (ipykernel)",
   "language": "python",
   "name": "python3"
  },
  "language_info": {
   "codemirror_mode": {
    "name": "ipython",
    "version": 3
   },
   "file_extension": ".py",
   "mimetype": "text/x-python",
   "name": "python",
   "nbconvert_exporter": "python",
   "pygments_lexer": "ipython3",
   "version": "3.12.4"
  }
 },
 "nbformat": 4,
 "nbformat_minor": 4
}
