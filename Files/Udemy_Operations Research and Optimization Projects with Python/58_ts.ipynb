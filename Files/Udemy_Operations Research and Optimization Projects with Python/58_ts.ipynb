{
 "cells": [
  {
   "cell_type": "markdown",
   "metadata": {},
   "source": [
    "# Tabu Search for TSP"
   ]
  },
  {
   "cell_type": "code",
   "execution_count": 1,
   "metadata": {},
   "outputs": [
    {
     "name": "stdout",
     "output_type": "stream",
     "text": [
      "Best Route: [1, 0, 4, 2, 3]\n",
      "Best Route Distance: 15.895710788929122\n"
     ]
    }
   ],
   "source": [
    "import math\n",
    "import random\n",
    "\n",
    "def euclidean_distance(c1, c2):\n",
    "    \"\"\"Calculate the Euclidean distance between two points.\"\"\"\n",
    "    return math.sqrt((c1[0] - c2[0]) ** 2 + (c1[1] - c2[1]) ** 2)\n",
    "\n",
    "def total_distance(cities, route):\n",
    "    \"\"\"Calculate the total distance of the travel route.\"\"\"\n",
    "    return sum(euclidean_distance(cities[route[i]], cities[route[(i + 1) % len(route)]]) for i in range(len(route)))\n",
    "\n",
    "def generate_initial_solution(cities):\n",
    "    \"\"\"Generate a random initial solution (route).\"\"\"\n",
    "    route = list(range(len(cities)))\n",
    "    random.shuffle(route)\n",
    "    return route\n",
    "\n",
    "def create_neighbors(route):\n",
    "    \"\"\"Create new routes by swapping two cities.\"\"\"\n",
    "    neighbors = []\n",
    "    for i in range(len(route)):\n",
    "        for j in range(i + 1, len(route)):\n",
    "            new_route = route[:]\n",
    "            new_route[i], new_route[j] = new_route[j], new_route[i]\n",
    "            neighbors.append(new_route)\n",
    "    return neighbors\n",
    "\n",
    "def tabu_search(cities, initial_solution, iterations, tabu_size):\n",
    "    \"\"\"Perform Tabu Search to find the shortest route in TSP.\"\"\"\n",
    "    best_solution = initial_solution[:]\n",
    "    best_cost = total_distance(cities, best_solution)\n",
    "    current_solution = initial_solution[:]\n",
    "    current_cost = best_cost\n",
    "    tabu_list = []\n",
    "\n",
    "    for _ in range(iterations):\n",
    "        neighbors = create_neighbors(current_solution)\n",
    "        neighbors = sorted(neighbors, key=lambda x: total_distance(cities, x))\n",
    "\n",
    "        for neighbor in neighbors:\n",
    "            if neighbor not in tabu_list:\n",
    "                neighbor_cost = total_distance(cities, neighbor)\n",
    "                if neighbor_cost < current_cost:\n",
    "                    current_solution = neighbor[:]\n",
    "                    current_cost = neighbor_cost\n",
    "                    if neighbor_cost < best_cost:\n",
    "                        best_solution = neighbor[:]\n",
    "                        best_cost = neighbor_cost\n",
    "                    break\n",
    "\n",
    "        tabu_list.append(current_solution[:])\n",
    "        if len(tabu_list) > tabu_size:\n",
    "            tabu_list.pop(0)\n",
    "\n",
    "    return best_solution, best_cost\n",
    "\n",
    "# Example usage\n",
    "cities = [(0, 0), (1, 5), (5, 2), (2, 3), (3, 1)]\n",
    "initial_solution = generate_initial_solution(cities)\n",
    "best_route, best_route_distance = tabu_search(cities, initial_solution, 100, 10)\n",
    "print(\"Best Route:\", best_route)\n",
    "print(\"Best Route Distance:\", best_route_distance)\n"
   ]
  }
 ],
 "metadata": {
  "kernelspec": {
   "display_name": "Python 3 (ipykernel)",
   "language": "python",
   "name": "python3"
  },
  "language_info": {
   "codemirror_mode": {
    "name": "ipython",
    "version": 3
   },
   "file_extension": ".py",
   "mimetype": "text/x-python",
   "name": "python",
   "nbconvert_exporter": "python",
   "pygments_lexer": "ipython3",
   "version": "3.12.4"
  }
 },
 "nbformat": 4,
 "nbformat_minor": 4
}
