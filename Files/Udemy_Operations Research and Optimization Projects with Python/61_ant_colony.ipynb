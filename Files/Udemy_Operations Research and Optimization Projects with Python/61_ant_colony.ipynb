{
 "cells": [
  {
   "cell_type": "markdown",
   "metadata": {},
   "source": [
    "# Ant Colony Algorithm"
   ]
  },
  {
   "cell_type": "code",
   "execution_count": 2,
   "metadata": {
    "tags": []
   },
   "outputs": [
    {
     "name": "stdout",
     "output_type": "stream",
     "text": [
      "Shortest path:  [0, np.int64(3), np.int64(5), np.int64(2), np.int64(9), np.int64(7), np.int64(8), np.int64(1), np.int64(6), np.int64(4), 0]\n",
      "Shortest distance:  2.4694807485556134\n"
     ]
    }
   ],
   "source": [
    "import numpy as np\n",
    "\n",
    "class AntColonyOptimizer:\n",
    "    def __init__(self, distances, n_ants, n_best, n_iterations, decay, alpha=1, beta=1):\n",
    "        \"\"\"\n",
    "        Ant colony optimizer for the traveling salesman problem.\n",
    "        \"\"\"\n",
    "        self.distances = np.clip(distances, 1e-10, None)  # Avoid division by zero in distances.\n",
    "        self.pheromone = np.ones(self.distances.shape) / len(distances)\n",
    "        self.all_inds = range(len(distances))\n",
    "        self.n_ants = n_ants\n",
    "        self.n_best = n_best\n",
    "        self.n_iterations = n_iterations\n",
    "        self.decay = decay\n",
    "        self.alpha = alpha\n",
    "        self.beta = beta\n",
    "\n",
    "    def run(self):\n",
    "        shortest_path = None\n",
    "        shortest_dist = float('inf')\n",
    "        for _ in range(self.n_iterations):\n",
    "            all_paths = self.gen_all_paths()\n",
    "            self.spread_pheromone(all_paths, self.n_best, shortest_path=shortest_path)\n",
    "            shortest_path, shortest_dist = self.find_shortest_path(all_paths)\n",
    "        return shortest_path, shortest_dist\n",
    "\n",
    "    def gen_path_dist(self, path):\n",
    "        return sum([self.distances[path[i], path[i+1]] for i in range(len(path)-1)])\n",
    "\n",
    "    def gen_all_paths(self):\n",
    "        all_paths = []\n",
    "        for _ in range(self.n_ants):\n",
    "            path = self.gen_path(0)\n",
    "            all_paths.append((path, self.gen_path_dist(path)))\n",
    "        return all_paths\n",
    "\n",
    "    def gen_path(self, start):\n",
    "        path = [start]\n",
    "        visited = set(path)\n",
    "        while len(path) < len(self.distances):\n",
    "            move = self.pick_move(self.pheromone[path[-1]], self.distances[path[-1]], visited)\n",
    "            path.append(move)\n",
    "            visited.add(move)\n",
    "        path.append(start)  # returning to the start\n",
    "        return path\n",
    "\n",
    "    def pick_move(self, pheromone, dist, visited):\n",
    "        pheromone = np.copy(pheromone)\n",
    "        pheromone[list(visited)] = 0\n",
    "        row = pheromone ** self.alpha * ((1.0 / dist) ** self.beta)\n",
    "        if np.sum(row) == 0:\n",
    "            row = np.ones_like(row)  # Avoid division by zero in probabilities.\n",
    "        norm_row = row / row.sum()\n",
    "        move = np.random.choice(self.all_inds, 1, p=norm_row)[0]\n",
    "        return move\n",
    "\n",
    "    def spread_pheromone(self, all_paths, n_best, shortest_path):\n",
    "        sorted_paths = sorted(all_paths, key=lambda x: x[1])\n",
    "        for path, dist in sorted_paths[:n_best]:\n",
    "            for move in range(len(path)-1):\n",
    "                self.pheromone[path[move], path[move+1]] += 1.0 / self.distances[path[move], path[move+1]]\n",
    "        self.pheromone *= self.decay\n",
    "\n",
    "    def find_shortest_path(self, all_paths):\n",
    "        shortest_path = min(all_paths, key=lambda x: x[1])\n",
    "        return shortest_path[0], shortest_path[1]\n",
    "\n",
    "# Example usage\n",
    "distances = np.random.rand(10, 10)\n",
    "distances = (distances + distances.T) / 2  # make symmetric\n",
    "np.fill_diagonal(distances, 0)\n",
    "aco = AntColonyOptimizer(distances, n_ants=20, n_best=5, n_iterations=100, decay=0.95, alpha=1, beta=2)\n",
    "path, dist = aco.run()\n",
    "print(\"Shortest path: \", path)\n",
    "print(\"Shortest distance: \", dist)"
   ]
  }
 ],
 "metadata": {
  "kernelspec": {
   "display_name": "Python 3 (ipykernel)",
   "language": "python",
   "name": "python3"
  },
  "language_info": {
   "codemirror_mode": {
    "name": "ipython",
    "version": 3
   },
   "file_extension": ".py",
   "mimetype": "text/x-python",
   "name": "python",
   "nbconvert_exporter": "python",
   "pygments_lexer": "ipython3",
   "version": "3.12.4"
  }
 },
 "nbformat": 4,
 "nbformat_minor": 4
}
