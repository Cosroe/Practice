{
 "cells": [
  {
   "cell_type": "code",
   "execution_count": 1,
   "metadata": {
    "tags": []
   },
   "outputs": [
    {
     "name": "stdout",
     "output_type": "stream",
     "text": [
      "Optimal allocation of days: {'Antalya': np.float64(2.0), 'Muğla': np.float64(0.0), 'İzmir': np.float64(0.0), 'Mykonos': np.float64(3.0), 'Milos': np.float64(0.0), 'Rhodes': np.float64(0.0), 'Santorini': np.float64(3.0), 'Capri': np.float64(2.0), 'Amalfi': np.float64(0.0), 'Portofino': np.float64(0.0)}\n",
      "Total enjoyment score: 935.0\n"
     ]
    }
   ],
   "source": [
    "import numpy as np\n",
    "from scipy.optimize import linprog\n",
    "\n",
    "# Cities and parameters\n",
    "cities = ['Antalya', 'Muğla', 'İzmir', 'Mykonos', 'Milos', 'Rhodes', 'Santorini', 'Capri', 'Amalfi', 'Portofino']\n",
    "daily_costs = np.array([110, 100, 90, 150, 145, 140, 155, 180, 175, 170])  # Example daily costs\n",
    "enjoyment_scores = np.array([85, 80, 75, 95, 90, 85, 100, 90, 85, 80])  # Example enjoyment scores\n",
    "\n",
    "# Budget \n",
    "budget = 4000\n",
    "\n",
    "# Linear programming setup\n",
    "c = -enjoyment_scores  # Negative for maximization\n",
    "A_eq = np.array([[1]*len(cities)])  # Total days must sum to 10\n",
    "b_eq = [10]  # Total of 10 days\n",
    "bounds = [(0, 3) for _ in cities]  # Each city can have between 0 and 3 days\n",
    "\n",
    "# Additional constraints for at least 2 days in each country\n",
    "# Turkey: Antalya, Muğla, İzmir\n",
    "# Greece: Mykonos, Milos, Rhodes, Santorini\n",
    "# Italy: Capri, Amalfi, Portofino\n",
    "A_ub = [[-1, -1, -1, 0, 0, 0, 0, 0, 0, 0],  # Turkey days\n",
    "        [0, 0, 0, -1, -1, -1, -1, 0, 0, 0],  # Greece days\n",
    "        [0, 0, 0, 0, 0, 0, 0, -1, -1, -1]]  # Italy days\n",
    "b_ub = [-2, -2, -2]  # At least 2 days in each country\n",
    "\n",
    "# Solve the problem\n",
    "res = linprog(c, A_ub=A_ub, b_ub=b_ub, A_eq=A_eq, b_eq=b_eq, bounds=bounds, method='highs')\n",
    "\n",
    "# Results\n",
    "if res.success:\n",
    "    print(\"Optimal allocation of days:\", dict(zip(cities, res.x)))\n",
    "    print(\"Total enjoyment score:\", -res.fun)\n",
    "else:\n",
    "    print(\"No solution found:\", res.message)\n"
   ]
  }
 ],
 "metadata": {
  "kernelspec": {
   "display_name": "Python 3 (ipykernel)",
   "language": "python",
   "name": "python3"
  },
  "language_info": {
   "codemirror_mode": {
    "name": "ipython",
    "version": 3
   },
   "file_extension": ".py",
   "mimetype": "text/x-python",
   "name": "python",
   "nbconvert_exporter": "python",
   "pygments_lexer": "ipython3",
   "version": "3.12.4"
  }
 },
 "nbformat": 4,
 "nbformat_minor": 4
}
