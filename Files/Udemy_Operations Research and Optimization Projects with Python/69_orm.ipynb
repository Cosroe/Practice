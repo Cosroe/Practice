{
 "cells": [
  {
   "cell_type": "code",
   "execution_count": 1,
   "id": "74ac90f9-2596-4042-94ef-894aa4e0c0f0",
   "metadata": {},
   "outputs": [
    {
     "name": "stdout",
     "output_type": "stream",
     "text": [
      "Optimal Speed for Product 1: 210.00\n",
      "Optimal Speed for Product 2: 245.00\n",
      "Optimal Speed for Product 3: 280.00\n",
      "Optimal Speed for Product 4: 224.00\n",
      "Optimal Speed for Product 5: 252.00\n",
      "Optimal Speed for Product 6: 231.00\n",
      "Optimal Speed for Product 7: 259.00\n",
      "Optimal Speed for Product 8: 217.00\n",
      "Optimal Speed for Product 9: 266.00\n",
      "Optimal Speed for Product 10: 238.00\n",
      "Optimal Speed for Product 11: 252.00\n",
      "Optimal Speed for Product 12: 245.00\n",
      "Optimal Speed for Product 13: 280.00\n",
      "Optimal Speed for Product 14: 259.00\n",
      "Optimal Speed for Product 15: 266.00\n"
     ]
    }
   ],
   "source": [
    "from scipy.optimize import minimize\n",
    "import numpy as np\n",
    "\n",
    "# Define product-specific parameters for 15 products\n",
    "products = [\n",
    "    {'name': 'Product 1', 'min_speed': 100, 'max_speed': 300, 'quality_weight': 0.5, 'cost_weight': 0.3, 'energy_weight': 0.2, 'maintenance_weight': 0.1, 'reliability_weight': 0.15, 'speed_variability': 1.05, 'handling_time': 0.5, 'downtime_prob': 0.02, 'throughput_rate': 50, 'wear_rate': 1.2},\n",
    "    {'name': 'Product 2', 'min_speed': 150, 'max_speed': 350, 'quality_weight': 0.6, 'cost_weight': 0.2, 'energy_weight': 0.25, 'maintenance_weight': 0.05, 'reliability_weight': 0.2, 'speed_variability': 1.1, 'handling_time': 0.6, 'downtime_prob': 0.03, 'throughput_rate': 60, 'wear_rate': 1.3},\n",
    "    {'name': 'Product 3', 'min_speed': 200, 'max_speed': 400, 'quality_weight': 0.4, 'cost_weight': 0.4, 'energy_weight': 0.15, 'maintenance_weight': 0.15, 'reliability_weight': 0.18, 'speed_variability': 1.2, 'handling_time': 0.7, 'downtime_prob': 0.025, 'throughput_rate': 70, 'wear_rate': 1.1},\n",
    "    {'name': 'Product 4', 'min_speed': 120, 'max_speed': 320, 'quality_weight': 0.55, 'cost_weight': 0.35, 'energy_weight': 0.18, 'maintenance_weight': 0.1, 'reliability_weight': 0.12, 'speed_variability': 1.08, 'handling_time': 0.55, 'downtime_prob': 0.022, 'throughput_rate': 55, 'wear_rate': 1.25},\n",
    "    {'name': 'Product 5', 'min_speed': 140, 'max_speed': 360, 'quality_weight': 0.65, 'cost_weight': 0.25, 'energy_weight': 0.2, 'maintenance_weight': 0.12, 'reliability_weight': 0.2, 'speed_variability': 1.15, 'handling_time': 0.6, 'downtime_prob': 0.03, 'throughput_rate': 65, 'wear_rate': 1.3},\n",
    "    {'name': 'Product 6', 'min_speed': 130, 'max_speed': 330, 'quality_weight': 0.5, 'cost_weight': 0.3, 'energy_weight': 0.22, 'maintenance_weight': 0.11, 'reliability_weight': 0.16, 'speed_variability': 1.1, 'handling_time': 0.58, 'downtime_prob': 0.028, 'throughput_rate': 58, 'wear_rate': 1.15},\n",
    "    {'name': 'Product 7', 'min_speed': 170, 'max_speed': 370, 'quality_weight': 0.55, 'cost_weight': 0.25, 'energy_weight': 0.25, 'maintenance_weight': 0.1, 'reliability_weight': 0.18, 'speed_variability': 1.2, 'handling_time': 0.65, 'downtime_prob': 0.035, 'throughput_rate': 68, 'wear_rate': 1.2},\n",
    "    {'name': 'Product 8', 'min_speed': 110, 'max_speed': 310, 'quality_weight': 0.6, 'cost_weight': 0.2, 'energy_weight': 0.18, 'maintenance_weight': 0.1, 'reliability_weight': 0.15, 'speed_variability': 1.05, 'handling_time': 0.52, 'downtime_prob': 0.02, 'throughput_rate': 52, 'wear_rate': 1.1},\n",
    "    {'name': 'Product 9', 'min_speed': 180, 'max_speed': 380, 'quality_weight': 0.65, 'cost_weight': 0.3, 'energy_weight': 0.2, 'maintenance_weight': 0.1, 'reliability_weight': 0.2, 'speed_variability': 1.2, 'handling_time': 0.7, 'downtime_prob': 0.025, 'throughput_rate': 70, 'wear_rate': 1.25},\n",
    "    {'name': 'Product 10', 'min_speed': 140, 'max_speed': 340, 'quality_weight': 0.55, 'cost_weight': 0.25, 'energy_weight': 0.2, 'maintenance_weight': 0.1, 'reliability_weight': 0.18, 'speed_variability': 1.1, 'handling_time': 0.6, 'downtime_prob': 0.03, 'throughput_rate': 60, 'wear_rate': 1.2},\n",
    "    {'name': 'Product 11', 'min_speed': 160, 'max_speed': 360, 'quality_weight': 0.5, 'cost_weight': 0.3, 'energy_weight': 0.18, 'maintenance_weight': 0.12, 'reliability_weight': 0.2, 'speed_variability': 1.15, 'handling_time': 0.62, 'downtime_prob': 0.028, 'throughput_rate': 62, 'wear_rate': 1.18},\n",
    "    {'name': 'Product 12', 'min_speed': 150, 'max_speed': 350, 'quality_weight': 0.55, 'cost_weight': 0.25, 'energy_weight': 0.22, 'maintenance_weight': 0.11, 'reliability_weight': 0.15, 'speed_variability': 1.1, 'handling_time': 0.6, 'downtime_prob': 0.03, 'throughput_rate': 60, 'wear_rate': 1.1},\n",
    "    {'name': 'Product 13', 'min_speed': 200, 'max_speed': 400, 'quality_weight': 0.6, 'cost_weight': 0.2, 'energy_weight': 0.2, 'maintenance_weight': 0.1, 'reliability_weight': 0.18, 'speed_variability': 1.2, 'handling_time': 0.7, 'downtime_prob': 0.025, 'throughput_rate': 70, 'wear_rate': 1.25},\n",
    "    {'name': 'Product 14', 'min_speed': 170, 'max_speed': 370, 'quality_weight': 0.55, 'cost_weight': 0.3, 'energy_weight': 0.18, 'maintenance_weight': 0.12, 'reliability_weight': 0.2, 'speed_variability': 1.15, 'handling_time': 0.65, 'downtime_prob': 0.03, 'throughput_rate': 65, 'wear_rate': 1.2},\n",
    "    {'name': 'Product 15', 'min_speed': 180, 'max_speed': 380, 'quality_weight': 0.65, 'cost_weight': 0.25, 'energy_weight': 0.2, 'maintenance_weight': 0.1, 'reliability_weight': 0.15, 'speed_variability': 1.1, 'handling_time': 0.68, 'downtime_prob': 0.028, 'throughput_rate': 68, 'wear_rate': 1.15}\n",
    "]\n",
    "\n",
    "# Objective function to maximize production efficiency\n",
    "def objective(params, product):\n",
    "    speed = params[0]\n",
    "    quality_score = product['quality_weight'] * (speed - product['min_speed']) / (product['max_speed'] - product['min_speed'])\n",
    "    production_cost = product['cost_weight'] * speed**1.5\n",
    "    energy_consumption = product['energy_weight'] * speed**1.2\n",
    "    maintenance_cost = product['maintenance_weight'] * speed**1.1\n",
    "    reliability_cost = product['reliability_weight'] * (product['max_speed'] / speed)**product['speed_variability']\n",
    "    handling_time_cost = product['handling_time'] * (1 / speed)\n",
    "    downtime_cost = product['downtime_prob'] * speed**1.3\n",
    "    throughput_benefit = product['throughput_rate'] * speed\n",
    "\n",
    "    return -(quality_score + throughput_benefit - production_cost - energy_consumption - maintenance_cost - reliability_cost - handling_time_cost - downtime_cost)\n",
    "\n",
    "# Constraints for the optimization\n",
    "def constraints(product):\n",
    "    return [\n",
    "        {'type': 'ineq', 'fun': lambda x: x[0] - product['min_speed']},\n",
    "        {'type': 'ineq', 'fun': lambda x: product['max_speed'] - x[0]},\n",
    "        {'type': 'ineq', 'fun': lambda x: 1 - (x[0] / product['max_speed'])**2},\n",
    "        {'type': 'ineq', 'fun': lambda x: product['max_speed'] - 0.5 * x[0]},\n",
    "        {'type': 'ineq', 'fun': lambda x: (product['max_speed'] - x[0]) - (0.3 * product['max_speed'])},\n",
    "        {'type': 'ineq', 'fun': lambda x: (x[0] - product['min_speed']) - (0.2 * product['max_speed'])},\n",
    "        {'type': 'ineq', 'fun': lambda x: 1 - product['wear_rate'] * (x[0] / product['max_speed'])**2}\n",
    "    ]\n",
    "\n",
    "# Initial guess for the optimization\n",
    "initial_guess = [250]\n",
    "\n",
    "# Optimize line speed for each product\n",
    "optimal_speeds = {}\n",
    "for product in products:\n",
    "    result = minimize(objective, initial_guess, args=(product,), constraints=constraints(product), method='SLSQP')\n",
    "    optimal_speed = result.x[0]\n",
    "    optimal_speeds[product['name']] = optimal_speed\n",
    "\n",
    "# Print optimal speeds for each product\n",
    "for product_name, speed in optimal_speeds.items():\n",
    "    print(f\"Optimal Speed for {product_name}: {speed:.2f}\")\n"
   ]
  }
 ],
 "metadata": {
  "kernelspec": {
   "display_name": "Python 3 (ipykernel)",
   "language": "python",
   "name": "python3"
  },
  "language_info": {
   "codemirror_mode": {
    "name": "ipython",
    "version": 3
   },
   "file_extension": ".py",
   "mimetype": "text/x-python",
   "name": "python",
   "nbconvert_exporter": "python",
   "pygments_lexer": "ipython3",
   "version": "3.12.2"
  }
 },
 "nbformat": 4,
 "nbformat_minor": 5
}
