{
 "cells": [
  {
   "cell_type": "code",
   "execution_count": 3,
   "metadata": {},
   "outputs": [
    {
     "name": "stdout",
     "output_type": "stream",
     "text": [
      "Optimized Total Wire Length: 5.230549627939509\n"
     ]
    },
    {
     "data": {
      "image/png": "[encoded data removed]",
      "text/plain": [
       "<Figure size 600x600 with 1 Axes>"
      ]
     },
     "metadata": {},
     "output_type": "display_data"
    }
   ],
   "source": [
    "import random\n",
    "import math\n",
    "import matplotlib.pyplot as plt\n",
    "\n",
    "# Parameters\n",
    "n = 10  # Number of components\n",
    "temperature = 1000  # Initial temperature\n",
    "cooling_rate = 0.90  # Slower cooling rate for more thorough exploration\n",
    "iterations = 200  # Increased iterations per temperature for more exhaustive search\n",
    "num_runs = 10  # Number of times to run the algorithm\n",
    "\n",
    "# Generate random components and connections\n",
    "components = {i: (random.uniform(0, 10), random.uniform(0, 10)) for i in range(n)}\n",
    "connections = {i: random.sample(range(n), k=random.randint(1, 3)) for i in range(n)}\n",
    "\n",
    "def plot_layout(components, connections):\n",
    "    plt.figure(figsize=(6, 6))\n",
    "    for i, (x, y) in components.items():\n",
    "        plt.scatter(x, y, color='blue')\n",
    "        plt.text(x, y, f'{i}', color='red', fontsize=12)\n",
    "        for j in connections[i]:\n",
    "            if i < j:  # To avoid plotting the same line twice\n",
    "                plt.plot([x, components[j][0]], [y, components[j][1]], 'gray')\n",
    "    plt.xlim(0, 10)\n",
    "    plt.ylim(0, 10)\n",
    "    plt.show()\n",
    "\n",
    "def total_wire_length(components, connections):\n",
    "    length = 0\n",
    "    for i, pos in components.items():\n",
    "        for j in connections[i]:\n",
    "            if i < j:  # To avoid double counting\n",
    "                length += math.hypot(components[j][0] - pos[0], components[j][1] - pos[1])\n",
    "    return length\n",
    "\n",
    "def perturb(components):\n",
    "    new_components = components.copy()\n",
    "    idx = random.choice(list(new_components.keys()))\n",
    "    new_components[idx] = (random.uniform(0, 10), random.uniform(0, 10))\n",
    "    return new_components\n",
    "\n",
    "# Simulated Annealing Function\n",
    "def simulated_annealing(initial_layout, connections):\n",
    "    current_layout = initial_layout\n",
    "    current_cost = total_wire_length(current_layout, connections)\n",
    "    best_layout = current_layout\n",
    "    best_cost = current_cost\n",
    "    temp = temperature\n",
    "\n",
    "    while temp > 1:\n",
    "        for _ in range(iterations):\n",
    "            new_layout = perturb(current_layout)\n",
    "            new_cost = total_wire_length(new_layout, connections)\n",
    "            cost_diff = new_cost - current_cost\n",
    "            if cost_diff < 0 or random.uniform(0, 1) < math.exp(-cost_diff / temp):\n",
    "                current_layout = new_layout\n",
    "                current_cost = new_cost\n",
    "                if new_cost < best_cost:\n",
    "                    best_layout = new_layout\n",
    "                    best_cost = new_cost\n",
    "        temp *= cooling_rate\n",
    "\n",
    "    return best_layout, best_cost\n",
    "\n",
    "# Multiple Runs\n",
    "best_overall_layout = None\n",
    "best_overall_cost = float('inf')\n",
    "\n",
    "for _ in range(num_runs):\n",
    "    layout, cost = simulated_annealing(components, connections)\n",
    "    if cost < best_overall_cost:\n",
    "        best_overall_layout = layout\n",
    "        best_overall_cost = cost\n",
    "\n",
    "# Results\n",
    "print(\"Optimized Total Wire Length:\", best_overall_cost)\n",
    "plot_layout(best_overall_layout, connections)\n"
   ]
  }
 ],
 "metadata": {
  "kernelspec": {
   "display_name": "Python 3 (ipykernel)",
   "language": "python",
   "name": "python3"
  },
  "language_info": {
   "codemirror_mode": {
    "name": "ipython",
    "version": 3
   },
   "file_extension": ".py",
   "mimetype": "text/x-python",
   "name": "python",
   "nbconvert_exporter": "python",
   "pygments_lexer": "ipython3",
   "version": "3.12.2"
  }
 },
 "nbformat": 4,
 "nbformat_minor": 4
}
