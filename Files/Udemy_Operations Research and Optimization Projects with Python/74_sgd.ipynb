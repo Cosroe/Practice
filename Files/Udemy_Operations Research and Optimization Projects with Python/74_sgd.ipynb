{
 "cells": [
  {
   "cell_type": "markdown",
   "id": "b8ab1b11",
   "metadata": {},
   "source": [
    "# Stochastic Gradient Descent Algorithm\n",
    "$$\n",
    "\\theta \\leftarrow \\theta - \\eta \\nabla L(\\theta ; x^{(i)}, y^{(i)})\n",
    "$$\n",
    "---"
   ]
  },
  {
   "cell_type": "code",
   "execution_count": 32,
   "id": "09a7a183-3a29-4ab9-9eb6-735ca60dee75",
   "metadata": {},
   "outputs": [],
   "source": [
    "import numpy as np"
   ]
  },
  {
   "cell_type": "code",
   "execution_count": 33,
   "id": "f5d918c3",
   "metadata": {},
   "outputs": [],
   "source": [
    "# Generating syntheic data y = 2x + 3 + noise\n",
    "np.random.seed(42)\n",
    "x = 2 * np.random.rand(100,1) # 100 data points\n",
    "y = 4 + 3 * x + np.random.randn(100, 1) # true function is y = 3x + 4"
   ]
  },
  {
   "cell_type": "code",
   "execution_count": 34,
   "id": "22fe9cf4",
   "metadata": {},
   "outputs": [],
   "source": [
    "# Prameters for the model: theta0 (intercept), theta1 (slope)\n",
    "theta = np.random.randn(2, 1)\n",
    "\n",
    "# Learning rate\n",
    "learning_rate = 0.1\n",
    "\n",
    "# Number of iterations\n",
    "n_iterations = 1000"
   ]
  },
  {
   "cell_type": "code",
   "execution_count": 35,
   "id": "2f0ffef5",
   "metadata": {},
   "outputs": [
    {
     "name": "stdout",
     "output_type": "stream",
     "text": [
      "Intercept (theta0): [4.37299395]\n",
      "Slope (theta1): [2.42605672]\n"
     ]
    }
   ],
   "source": [
    "# Implementing SGO\n",
    "for iteration in range(n_iterations):\n",
    "    # Randomly pick one data points for each iteration\n",
    "    i = np.random.randint(100)\n",
    "    xi = np.vstack([1, x[i]]) # Add x0 = 1 to each instance for the intercept\n",
    "    yi = y[i]\n",
    "\n",
    "    # Calculate the gradients (partial derivatives of the loss function)\n",
    "    gradients = 2 * xi * (xi.T.dot(theta) - yi)\n",
    "\n",
    "    # Update the parameters\n",
    "    theta -= learning_rate * gradients\n",
    "\n",
    "# Display the results\n",
    "print(\"Intercept (theta0):\", theta[0])\n",
    "print(\"Slope (theta1):\", theta[1])"
   ]
  }
 ],
 "metadata": {
  "kernelspec": {
   "display_name": "Python 3 (ipykernel)",
   "language": "python",
   "name": "python3"
  },
  "language_info": {
   "codemirror_mode": {
    "name": "ipython",
    "version": 3
   },
   "file_extension": ".py",
   "mimetype": "text/x-python",
   "name": "python",
   "nbconvert_exporter": "python",
   "pygments_lexer": "ipython3",
   "version": "3.12.2"
  }
 },
 "nbformat": 4,
 "nbformat_minor": 5
}
