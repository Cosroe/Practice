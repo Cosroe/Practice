{
 "cells": [
  {
   "cell_type": "markdown",
   "id": "ecd6b951",
   "metadata": {},
   "source": [
    "# AdaGrad\n",
    "\n",
    "$$\n",
    "G_t = G_{t-1} + g_t \\odot g_t\n",
    "$$\n",
    "$$\n",
    "\\theta_{t+1} = \\theta_t - \\frac{\\eta}{\\sqrt{G_t + \\epsilon}} \\odot g_t\n",
    "$$"
   ]
  },
  {
   "cell_type": "code",
   "execution_count": 4,
   "id": "09a7a183-3a29-4ab9-9eb6-735ca60dee75",
   "metadata": {},
   "outputs": [
    {
     "name": "stdout",
     "output_type": "stream",
     "text": [
      "Updated Parameters: [ 1.4        -0.20000001]\n"
     ]
    }
   ],
   "source": [
    "import numpy as np\n",
    "\n",
    "class AdaGrad:\n",
    "    def __init__(self, lr=0.01, epsilon=1e-8):\n",
    "        \"\"\"\n",
    "        Initialize AdaGrad optimizer.\n",
    "        \n",
    "        :param lr: float, learning rate\n",
    "        :param epsilon: float, small constant to avoid division by zero\n",
    "        \"\"\"\n",
    "        self.lr = lr\n",
    "        self.epsilon = epsilon\n",
    "        self.gradient_squared_accumulator = None\n",
    "\n",
    "    def update_params(self, params, grads):\n",
    "        \"\"\"\n",
    "        Update parameters using AdaGrad optimization algorithm.\n",
    "        \n",
    "        :param params: numpy.array, parameters to be updated\n",
    "        :param grads: numpy.array, gradients of the parameters\n",
    "        :return: numpy.array, updated parameters\n",
    "        \"\"\"\n",
    "        if self.gradient_squared_accumulator is None:\n",
    "            # Initialize the accumulator with the same shape as the parameters array\n",
    "            self.gradient_squared_accumulator = np.zeros_like(params)\n",
    "\n",
    "        # Accumulate the square of gradients\n",
    "        self.gradient_squared_accumulator += grads**2\n",
    "\n",
    "        # Adjust learning rate for each parameter\n",
    "        adjusted_lr = self.lr / (np.sqrt(self.gradient_squared_accumulator) + self.epsilon)\n",
    "\n",
    "        # Update parameters\n",
    "        params -= adjusted_lr * grads\n",
    "\n",
    "        return params\n",
    "\n",
    "# Example usage\n",
    "if __name__ == \"__main__\":\n",
    "    # Initialize optimizer\n",
    "    optimizer = AdaGrad(lr=0.1)\n",
    "\n",
    "    # Dummy parameters and gradients\n",
    "    params = np.array([1.5, -0.3])\n",
    "    grads = np.array([0.3, -0.1])\n",
    "\n",
    "    # Update parameters\n",
    "    updated_params = optimizer.update_params(params, grads)\n",
    "    print(\"Updated Parameters:\", updated_params)\n"
   ]
  }
 ],
 "metadata": {
  "kernelspec": {
   "display_name": "Python 3 (ipykernel)",
   "language": "python",
   "name": "python3"
  },
  "language_info": {
   "codemirror_mode": {
    "name": "ipython",
    "version": 3
   },
   "file_extension": ".py",
   "mimetype": "text/x-python",
   "name": "python",
   "nbconvert_exporter": "python",
   "pygments_lexer": "ipython3",
   "version": "3.12.2"
  }
 },
 "nbformat": 4,
 "nbformat_minor": 5
}
