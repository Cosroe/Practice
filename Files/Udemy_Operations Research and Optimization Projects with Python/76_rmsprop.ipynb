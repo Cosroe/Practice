{
 "cells": [
  {
   "cell_type": "code",
   "execution_count": 1,
   "id": "4e34dd84-3b1d-4ac7-b761-c6a0f06baa86",
   "metadata": {},
   "outputs": [
    {
     "name": "stdout",
     "output_type": "stream",
     "text": [
      "Updated parameters: [ 1.40000002 -0.40000002]\n"
     ]
    }
   ],
   "source": [
    "import numpy as np\n",
    "\n",
    "def rmsprop_update(x, dx, cache=None, learning_rate=1e-2, decay_rate=0.99, epsilon=1e-8):\n",
    "    \"\"\"\n",
    "    Performs an RMSProp update on a parameter using the gradient.\n",
    "    \n",
    "    Arguments:\n",
    "    x -- numpy array, parameters to update\n",
    "    dx -- numpy array, gradient of the loss with respect to x\n",
    "    cache -- dict, containing past squared gradients\n",
    "    learning_rate -- float, learning rate\n",
    "    decay_rate -- float, decay rate for moving average of squared gradients\n",
    "    epsilon -- float, small constant for numerical stability\n",
    "    \n",
    "    Returns:\n",
    "    next_x -- numpy array, updated parameters\n",
    "    config -- dict, updated cache\n",
    "    \"\"\"\n",
    "    # Initialize cache if it is None\n",
    "    if cache is None:\n",
    "        cache = np.zeros_like(x)\n",
    "    \n",
    "    # Update cache with squared gradient\n",
    "    cache = decay_rate * cache + (1 - decay_rate) * (dx ** 2)\n",
    "    \n",
    "    # Update parameters\n",
    "    x -= learning_rate * dx / (np.sqrt(cache) + epsilon)\n",
    "    \n",
    "    return x, cache\n",
    "\n",
    "# Example usage:\n",
    "params = np.array([1.5, -0.5])  # example parameters\n",
    "grads = np.array([0.5, -0.5])  # example gradients\n",
    "\n",
    "params_updated, cache_new = rmsprop_update(params, grads)\n",
    "print(\"Updated parameters:\", params_updated)\n"
   ]
  },
  {
   "cell_type": "code",
   "execution_count": null,
   "id": "b36f6fa3-aff6-4b73-96b3-6601162894bc",
   "metadata": {},
   "outputs": [],
   "source": []
  }
 ],
 "metadata": {
  "kernelspec": {
   "display_name": "Python 3 (ipykernel)",
   "language": "python",
   "name": "python3"
  },
  "language_info": {
   "codemirror_mode": {
    "name": "ipython",
    "version": 3
   },
   "file_extension": ".py",
   "mimetype": "text/x-python",
   "name": "python",
   "nbconvert_exporter": "python",
   "pygments_lexer": "ipython3",
   "version": "3.12.2"
  }
 },
 "nbformat": 4,
 "nbformat_minor": 5
}
