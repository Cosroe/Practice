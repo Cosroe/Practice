{
 "cells": [
  {
   "cell_type": "markdown",
   "metadata": {
    "jupyter": {
     "source_hidden": true
    },
    "tags": []
   },
   "source": [
    "# Factory Planning Optimization"
   ]
  },
  {
   "cell_type": "markdown",
   "metadata": {
    "tags": []
   },
   "source": [
    "## Scenario Overview for Our Optimization Project\n",
    "\n",
    "In this project, we've designed a scenario that revolves around a factory tasked with producing three distinct types of widgets: A, B, and C. Each widget type undergoes a series of production stages, including assembly, quality control, packaging, and a final inspection. Our objective is to craft an optimization model that helps the factory plan its production efficiently. The aim is to meet the monthly demand for each widget type while minimizing the overall costs and ensuring the quality of the products.\n",
    "\n",
    "To add layers of realism and complexity, we introduced several constraints and variables into the scenario. These include limitations on the production capacity of each stage, varying demand for each widget type, the potential for quality failures requiring rework, and even storage costs for any overproduced widgets. Additionally, we've accounted for the possibility of overtime work, albeit with a higher cost, to offer flexibility in meeting production targets."
   ]
  },
  {
   "cell_type": "markdown",
   "metadata": {
    "tags": []
   },
   "source": [
    "## Mathematical Model\n",
    "\n",
    "#### Decision Variables:\n",
    "- Let $A$, $B$, and $C$ represent the number of widgets of type A, B, and C produced, respectively.\n",
    "- Let $OT_{\\text{Assembly}}$, $OT_{\\text{Quality}}$, $OT_{\\text{Packaging}}$, and $OT_{\\text{Inspection}}$ denote the overtime hours for the assembly, quality control, packaging, and inspection stages, respectively.\n",
    "\n",
    "#### Objective Function:\n",
    "- **Maximize Profit**: Maximize the profit by optimizing the revenue from selling widgets minus the total costs incurred from production.\n",
    "$$\\text{Maximize Profit} = \\text{Revenue from Widgets} - \\text{Total Production Costs}$$\n",
    "\n",
    "#### Constraints:\n",
    "1. **Production Capacity Constraints**: Ensure the production does not exceed the capacity for each stage.\n",
    "$$\\text{For each production stage } j: \\sum_{i \\in \\{A, B, C\\}} T_{ij} \\cdot i \\leq H_j + OT_j$$\n",
    "2. **Demand Constraints**: Meet or exceed the demand for each widget type.\n",
    "$$A \\geq D_A, \\quad B \\geq D_B, \\quad C \\geq D_C$$\n",
    "3. **Quality Constraints**: Incorporate rework time and costs for widgets failing inspection.\n",
    "4. **Overtime Constraints**: Limit overtime hours to ensure they are within a reasonable range.\n",
    "$$OT_{\\text{Assembly}}, OT_{\\text{Quality}}, OT_{\\text{Packaging}}, OT_{\\text{Inspection}} \\leq OT_{\\text{max}}$$\n",
    "\n",
    "#### Parameters:\n",
    "- $T_{ij}$: Time required to produce one unit of product $i$ in stage $j$.\n",
    "- $H_j$: Total available hours for stage $j$, including regular and overtime.\n",
    "- $D_i$: Demand for product $i$.\n",
    "- $OT_{\\text{max}}$: Maximum allowable overtime hours for any stage.\n",
    "- Costs: Include fixed ($C_{\\text{fix}}$), variable ($C_{\\text{var}}$), overtime ($C_{\\text{ot}}$), storage ($C_{\\text{storage}}$), and rework ($C_{\\text{rework}}$) costs.\n"
   ]
  },
  {
   "cell_type": "code",
   "execution_count": 1,
   "metadata": {
    "tags": []
   },
   "outputs": [
    {
     "name": "stdout",
     "output_type": "stream",
     "text": [
      "Restricted license - for non-production use only - expires 2025-11-24\n",
      "Gurobi Optimizer version 11.0.3 build v11.0.3rc0 (mac64[arm] - Darwin 23.5.0 23F79)\n",
      "\n",
      "CPU model: Apple M1\n",
      "Thread count: 8 physical cores, 8 logical processors, using up to 8 threads\n",
      "\n",
      "Optimize a model with 6 rows, 3 columns and 12 nonzeros\n",
      "Model fingerprint: 0x1ef91396\n",
      "Variable types: 0 continuous, 3 integer (0 binary)\n",
      "Coefficient statistics:\n",
      "  Matrix range     [5e-01, 2e+00]\n",
      "  Objective range  [2e+01, 4e+01]\n",
      "  Bounds range     [0e+00, 0e+00]\n",
      "  RHS range        [2e+02, 5e+02]\n",
      "Found heuristic solution: objective 9990.0000000\n",
      "Presolve removed 3 rows and 0 columns\n",
      "Presolve time: 0.00s\n",
      "Presolved: 3 rows, 3 columns, 9 nonzeros\n",
      "Variable types: 0 continuous, 3 integer (0 binary)\n",
      "Found heuristic solution: objective 10010.000000\n",
      "\n",
      "Root relaxation: objective 1.266667e+04, 3 iterations, 0.00 seconds (0.00 work units)\n",
      "\n",
      "    Nodes    |    Current Node    |     Objective Bounds      |     Work\n",
      " Expl Unexpl |  Obj  Depth IntInf | Incumbent    BestBd   Gap | It/Node Time\n",
      "\n",
      "     0     0 12666.6667    0    3 10010.0000 12666.6667  26.5%     -    0s\n",
      "H    0     0                    12660.000000 12666.6667  0.05%     -    0s\n",
      "     0     0 12666.6667    0    3 12660.0000 12666.6667  0.05%     -    0s\n",
      "\n",
      "Explored 1 nodes (3 simplex iterations) in 0.01 seconds (0.00 work units)\n",
      "Thread count was 8 (of 8 available processors)\n",
      "\n",
      "Solution count 3: 12660 10010 9990 \n",
      "\n",
      "Optimal solution found (tolerance 1.00e-04)\n",
      "Best objective 1.266000000000e+04, best bound 1.266000000000e+04, gap 0.0000%\n",
      "Optimal solution found: x_A = 268.0, x_B = 66.0, x_C = 133.0\n",
      "Total Profit: $12660.0\n"
     ]
    }
   ],
   "source": [
    "from gurobipy import Model, GRB\n",
    "\n",
    "# Create a new model\n",
    "m = Model(\"factory_planning\")\n",
    "\n",
    "# Create variables\n",
    "x_A = m.addVar(vtype=GRB.INTEGER, name=\"x_A\")\n",
    "x_B = m.addVar(vtype=GRB.INTEGER, name=\"x_B\")\n",
    "x_C = m.addVar(vtype=GRB.INTEGER, name=\"x_C\")\n",
    "\n",
    "# Set objective\n",
    "m.setObjective(20 * x_A + 30 * x_B + 40 * x_C, GRB.MAXIMIZE)\n",
    "\n",
    "# Add constraints\n",
    "m.addConstr(x_A + 1.5 * x_B + x_C <= 500, \"Assembly\")\n",
    "m.addConstr(0.5 * x_A + x_B + 1.5 * x_C <= 400, \"Quality_Check\")\n",
    "m.addConstr(0.5 * x_A + 0.5 * x_B + x_C <= 300, \"Packaging\")\n",
    "m.addConstr(x_A <= 300, \"Demand_A\")\n",
    "m.addConstr(x_B <= 250, \"Demand_B\")\n",
    "m.addConstr(x_C <= 200, \"Demand_C\")\n",
    "\n",
    "# Optimize model\n",
    "m.optimize()\n",
    "\n",
    "# Print solution\n",
    "if m.status == GRB.Status.OPTIMAL:\n",
    "    print(f'Optimal solution found: x_A = {x_A.x}, x_B = {x_B.x}, x_C = {x_C.x}')\n",
    "    print(f'Total Profit: ${m.objVal}')\n",
    "else:\n",
    "    print(\"No optimal solution found\")\n",
    "\n",
    "# Gurobi report is automatically generated after optimization"
   ]
  }
 ],
 "metadata": {
  "kernelspec": {
   "display_name": "Python 3 (ipykernel)",
   "language": "python",
   "name": "python3"
  },
  "language_info": {
   "codemirror_mode": {
    "name": "ipython",
    "version": 3
   },
   "file_extension": ".py",
   "mimetype": "text/x-python",
   "name": "python",
   "nbconvert_exporter": "python",
   "pygments_lexer": "ipython3",
   "version": "3.12.4"
  }
 },
 "nbformat": 4,
 "nbformat_minor": 4
}
