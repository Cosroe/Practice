{
 "cells": [
  {
   "cell_type": "markdown",
   "metadata": {},
   "source": [
    "**Problem Statement:** XZY intends to establish a 4-week production plan using corn and oat to produce a mixed feed. The compulsory mixed demands over four weeks are 1000, 3000, 2500, and 4000 packets, respectively. Each packet consists of 400 grams of corn and 100 grams of oat. The company aims to secure supplies at the lowest possible cost while ensuring quality. For oat, there is only one supplier. The table below details the weekly prices (in Cents/kg) and the maximum supply capacities (kg/week) that suppliers can provide:\n",
    "\n",
    "| Week | Corn TD1 (Cents/kg) | Corn TD2 (Cents/kg) | oat (Cents/kg) | Corn TD1 Capacity (kg/week) | Corn TD2 Capacity (kg/week) | oat Capacity (kg/week) |\n",
    "|------|---------------------|---------------------|-----------------|-----------------------------|-----------------------------|-------------------------|\n",
    "| 1    | 50                  | 45                  | 90              | 600                         | 400                         | 300                     |\n",
    "| 2    | 55                  | 60                  | 95              | 600                         | 400                         | 300                     |\n",
    "| 3    | 60                  | 50                  | 100             | 600                         | 400                         | 300                     |\n",
    "| 4    | 60                  | 55                  | 110             | 600                         | 400                         | 300                     |\n",
    "\n",
    "XZY's normal weekly production capacity is 2500 units. It is possible to produce up to 2000 additional units in overtime if needed. However, the production cost per unit during regular hours is 100 Cents, and during overtime, it increases to 150 Cents per unit. Note: Storing raw materials for later use is not allowed, and only a 20 Cents/unit transportation cost is required for inventory that cannot be used immediately.\n"
   ]
  },
  {
   "cell_type": "markdown",
   "metadata": {
    "vscode": {
     "languageId": "plaintext"
    }
   },
   "source": [
    "**Parameters:**\n",
    "- $ \\text{corn\\_cost}_{t,d} = \\text{Cost of corn per kg from supplier } d \\text{ in week } t \\text{ (in Cents)}$\n",
    "- $ \\text{oat\\_cost}_t = \\text{Cost of oat per kg in week } t \\text{ (in Cents)}$\n",
    "- $ \\text{corn\\_cap}_{t,d} = \\text{Maximum supply capacity of corn from supplier } d \\text{ in week } t$\n",
    "- $ \\text{oat\\_cap}_t = \\text{Maximum supply capacity of oat in week } t$\n",
    "- $ \\text{corn\\_req} = 0.4 \\text{ kg (required corn per packet)}$\n",
    "- $ \\text{oat\\_req} = 0.1 \\text{ kg (required oat per packet)}$\n",
    "- $ \\text{prod\\_cap} = 2500 \\text{ packets (normal production capacity per week)}$\n",
    "- $ \\text{overtime\\_cap} = 2000 \\text{ packets (overtime production capacity per week)}$\n",
    "- $ \\text{cost\\_normal} = 100 \\text{ Cents (production cost per packet during normal hours)}$\n",
    "- $ \\text{cost\\_overtime} = 150 \\text{ Cents (production cost per packet during overtime)}$\n",
    "\n",
    "**Decision Variables:**\n",
    "- $ x_{t,d} = \\text{Amount of corn purchased from supplier } d \\text{ in week } t$\n",
    "- $ y_t = \\text{Amount of oat purchased in week } t$\n",
    "- $ p_t = \\text{Number of packets produced in regular time in week } t$\n",
    "- $ o_t = \\text{Number of packets produced in overtime in week } t$\n",
    "\n",
    "**Objective Function:**\n",
    "- $\\text{Minimize } Z = \\sum_{t=1}^4 \\left( \\sum_{d=1}^2 \\text{corn\\_cost}_{t,d} \\cdot x_{t,d} + \\text{oat\\_cost}_t \\cdot y_t + \\text{cost\\_normal} \\cdot p_t + \\text{cost\\_overtime} \\cdot o_t \\right)$\n",
    "\n",
    "**Constraints:**\n",
    "- **Material Requirement for Corn:** $\\forall t, \\quad 0.4 \\cdot (p_t + o_t) \\leq \\sum_{d=1}^2 x_{t,d}$\n",
    "- **Material Requirement for oat:** $\\forall t, \\quad 0.1 \\cdot (p_t + o_t) \\leq y_t$\n",
    "- **Demand Fulfillment:** $\\forall t, \\quad p_t + o_t = \\text{demand}_t$\n",
    "- **Corn Supply Limit:** $\\forall t, d, \\quad x_{t,d} \\leq \\text{corn\\_cap}_{t,d}$\n",
    "- **oat Supply Limit:** $\\forall t, \\quad y_t \\leq \\text{oat\\_cap}_t$\n",
    "- **Production Capacity:** $\\forall t, \\quad p_t \\leq \\text{prod\\_cap}$\n",
    "- **Overtime Production Capacity:** $\\forall t, \\quad o_t \\leq \\text{overtime\\_cap}$\n"
   ]
  }
 ],
 "metadata": {
  "kernelspec": {
   "display_name": "Python 3 (ipykernel)",
   "language": "python",
   "name": "python3"
  },
  "language_info": {
   "codemirror_mode": {
    "name": "ipython",
    "version": 3
   },
   "file_extension": ".py",
   "mimetype": "text/x-python",
   "name": "python",
   "nbconvert_exporter": "python",
   "pygments_lexer": "ipython3",
   "version": "3.11.7"
  }
 },
 "nbformat": 4,
 "nbformat_minor": 4
}
