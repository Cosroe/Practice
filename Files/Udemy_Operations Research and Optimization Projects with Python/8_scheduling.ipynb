{
 "cells": [
  {
   "cell_type": "markdown",
   "metadata": {},
   "source": [
    "# Scheduling Optimization\n",
    "\n",
    "Scheduling is a fundamental problem that arises in various contexts, from university course timetables to employee shifts and beyond. At its core, scheduling involves allocating resources to activities over time, ensuring that all constraints are met and objectives are optimized. This process requires careful consideration of several factors, including the availability of resources, the needs of the activities, and any specific constraints that must be adhered to.\n",
    "\n",
    "In scheduling optimization, we aim to find the most efficient allocation of resources that meets all requirements while optimizing a specific goal. This goal can vary depending on the context, such as minimizing total operation time, maximizing resource utilization, or balancing workloads evenly.\n",
    "\n",
    "The process involves defining variables to represent decisions (e.g., assigning a course to a time slot), constraints to ensure all requirements are met (e.g., no overlapping classes for a teacher), and an objective function that quantifies the goal we're trying to achieve. Solvers like Gurobi then use mathematical algorithms to find the best possible solution that satisfies all constraints and optimizes the objective function."
   ]
  },
  {
   "cell_type": "markdown",
   "metadata": {
    "jupyter": {
     "source_hidden": true
    },
    "tags": []
   },
   "source": [
    "## Project Scenario: University Course Scheduling\n",
    "\n",
    "In this project, we tackle the challenge of scheduling university courses. The goal is to assign each course to a specific room and time slot in a way that avoids conflicts and makes the best use of available resources. This involves several key considerations:\n",
    "\n",
    "Room Capacity: Each course must be placed in a room that can hold all enrolled students.\n",
    "\n",
    "Instructor and Student Schedules: We need to ensure that instructors aren't scheduled to teach two courses at the same time and that students can attend all their courses without any overlap.\n",
    "\n",
    "Room Availability: Courses should be scheduled in available rooms during times when those rooms are not already in use.\n",
    "\n",
    "Optimization Goals: Our main objectives are to minimize scheduling conflicts and to use rooms as efficiently as possible.\n",
    "\n",
    "To solve this problem, we'll use mathematical modeling to represent our scheduling constraints and objectives. Then, we'll apply an optimization solver to find the best possible schedule that meets all our criteria."
   ]
  },
  {
   "cell_type": "markdown",
   "metadata": {
    "jupyter": {
     "source_hidden": true
    },
    "tags": []
   },
   "source": [
    "### Mathematical Model for University Course Scheduling\n",
    "\n",
    "The objective of our university course scheduling model is to assign courses to rooms and time slots in a way that accommodates all enrolled students, avoids instructor and student schedule conflicts, and optimizes room usage. The model is formulated as follows:\n",
    "\n",
    "#### Sets and Indices\n",
    "- $C$: Set of courses, indexed by $c$.\n",
    "- $R$: Set of rooms, indexed by $r$.\n",
    "- $T$: Set of time slots, indexed by $t$.\n",
    "\n",
    "#### Parameters\n",
    "- $S_c$: Number of students enrolled in course $c$.\n",
    "- $C_r$: Capacity of room $r$.\n",
    "- $A_{c,t}$: Availability of course $c$ at time $t$, where $A_{c,t} = 1$ if course $c$ can be scheduled at time $t$, and 0 otherwise.\n",
    "\n",
    "#### Decision Variables\n",
    "- $x_{c,r,t}$: Binary variable that equals 1 if course $c$ is assigned to room $r$ at time $t$, and 0 otherwise.\n",
    "\n",
    "#### Objective Function\n",
    "$$\\text{Maximize} \\quad Z = \\sum_{c \\in C} \\sum_{r \\in R} \\sum_{t \\in T} x_{c,r,t}$$\n",
    "The objective function aims to maximize the number of course assignments, promoting efficient use of available resources.\n",
    "\n",
    "#### Constraints\n",
    "\n",
    "1. **Room Capacity Constraint**:\n",
    "$$\\sum_{c \\in C} S_c \\cdot x_{c,r,t} \\leq C_r, \\quad \\forall r \\in R, \\forall t \\in T$$\n",
    "This constraint ensures that the number of students enrolled in a course does not exceed the capacity of the assigned room.\n",
    "\n",
    "2. **Course Scheduling Constraint**:\n",
    "$$\\sum_{r \\in R} \\sum_{t \\in T} x_{c,r,t} = 1, \\quad \\forall c \\in C$$\n",
    "Each course must be scheduled exactly once.\n",
    "\n",
    "3. **Instructor Conflict Constraint**:\n",
    "$$\\sum_{c \\in C} \\sum_{r \\in R} x_{c,r,t} \\leq 1, \\quad \\forall t \\in T, \\text{ for each instructor}$$\n",
    "Instructors cannot teach more than one course at the same time.\n",
    "\n",
    "4. **Student Schedule Conflict Constraint**:\n",
    "$$\\sum_{c \\in C} x_{c,r,t} \\leq 1, \\quad \\forall t \\in T, \\text{ for each student}$$\n",
    "Students cannot be required to attend more than one course at the same time.\n",
    "\n",
    "5. **Room and Time Availability Constraint**:\n",
    "$$x_{c,r,t} \\leq A_{c,t}, \\quad \\forall c \\in C, \\forall r \\in R, \\forall t \\in T$$\n",
    "Courses can only be scheduled in available rooms and time slots.\n",
    "\n",
    "#### Binary Variable Constraint\n",
    "$$x_{c,r,t} \\in \\{0,1\\}, \\quad \\forall c \\in C, \\forall r \\in R, \\forall t \\in T$$\n",
    "\n",
    "This mathematical model provides a comprehensive framework for addressing the university course scheduling problem, ensuring that all courses are assigned to appropriate rooms and times without exceeding room capacities or causing scheduling conflicts.\n"
   ]
  },
  {
   "cell_type": "code",
   "execution_count": 1,
   "metadata": {
    "jupyter": {
     "source_hidden": true
    },
    "tags": []
   },
   "outputs": [
    {
     "name": "stdout",
     "output_type": "stream",
     "text": [
      "Restricted license - for non-production use only - expires 2025-11-24\n",
      "Gurobi Optimizer version 11.0.3 build v11.0.3rc0 (mac64[arm] - Darwin 23.5.0 23F79)\n",
      "\n",
      "CPU model: Apple M1\n",
      "Thread count: 8 physical cores, 8 logical processors, using up to 8 threads\n",
      "\n",
      "Optimize a model with 20 rows, 18 columns and 63 nonzeros\n",
      "Model fingerprint: 0xd9271149\n",
      "Model has 36 quadratic objective terms\n",
      "Variable types: 0 continuous, 18 integer (18 binary)\n",
      "Coefficient statistics:\n",
      "  Matrix range     [1e+00, 4e+01]\n",
      "  Objective range  [1e+00, 1e+00]\n",
      "  QObjective range [2e+00, 2e+00]\n",
      "  Bounds range     [1e+00, 1e+00]\n",
      "  RHS range        [1e+00, 5e+01]\n",
      "Found heuristic solution: objective 2.0000000\n",
      "Presolve removed 10 rows and 3 columns\n",
      "Presolve time: 0.01s\n",
      "Presolved: 34 rows, 39 columns, 117 nonzeros\n",
      "Variable types: 0 continuous, 39 integer (39 binary)\n",
      "\n",
      "Root relaxation: cutoff, 2 iterations, 0.00 seconds (0.00 work units)\n",
      "\n",
      "    Nodes    |    Current Node    |     Objective Bounds      |     Work\n",
      " Expl Unexpl |  Obj  Depth IntInf | Incumbent    BestBd   Gap | It/Node Time\n",
      "\n",
      "     0     0     cutoff    0         2.00000    2.00000  0.00%     -    0s\n",
      "\n",
      "Explored 1 nodes (2 simplex iterations) in 0.03 seconds (0.00 work units)\n",
      "Thread count was 8 (of 8 available processors)\n",
      "\n",
      "Solution count 1: 2 \n",
      "\n",
      "Optimal solution found (tolerance 1.00e-04)\n",
      "Best objective 2.000000000000e+00, best bound 2.000000000000e+00, gap 0.0000%\n",
      "x[Course1,Room1,Time3]: 1.0\n",
      "x[Course3,Room2,Time2]: 1.0\n",
      "Optimal Objective: 2.0\n",
      "Status: 2\n"
     ]
    }
   ],
   "source": [
    "import gurobipy as gp\n",
    "from gurobipy import GRB\n",
    "\n",
    "# Create a new model\n",
    "model = gp.Model(\"University Course Scheduling\")\n",
    "\n",
    "# Sample Data \n",
    "C = ['Course1', 'Course2', 'Course3']  # Courses\n",
    "R = ['Room1', 'Room2']  # Rooms\n",
    "T = ['Time1', 'Time2', 'Time3']  # Time slots\n",
    "S = {'Course1': 30, 'Course2': 40, 'Course3': 35}  # Students enrolled\n",
    "C_r = {'Room1': 50, 'Room2': 40}  # Room capacities\n",
    "P = {('Course1', 'Room1'): 1, ('Course2', 'Room2'): 1, ('Course3', 'Room1'): 0}  # Specific room requirements\n",
    "lambda_weight = 0.5\n",
    "\n",
    "# Variables\n",
    "x = model.addVars(C, R, T, vtype=GRB.BINARY, name=\"x\")\n",
    "\n",
    "# Objective\n",
    "model.setObjective(\n",
    "    gp.quicksum(x[c, r, t] for c in C for r in R for t in T) -\n",
    "    lambda_weight * gp.quicksum(x[c1, r1, t] * x[c2, r2, t] for c1 in C for c2 in C for t in T for r1 in R for r2 in R if c1 != c2),\n",
    "    GRB.MINIMIZE\n",
    ")\n",
    "\n",
    "# Constraints\n",
    "# Room Capacity\n",
    "for c in C:\n",
    "    for r in R:\n",
    "        model.addConstr(gp.quicksum(S[c] * x[c, r, t] for t in T) <= C_r[r])\n",
    "\n",
    "# Instructor Availability\n",
    "# Assuming instructor data is available, constraints would be added similarly\n",
    "\n",
    "# Time Slot Availability\n",
    "for t in T:\n",
    "    model.addConstr(gp.quicksum(x[c, r, t] for c in C for r in R) <= 1)\n",
    "\n",
    "# Room Utilization\n",
    "for r in R:\n",
    "    model.addConstr(gp.quicksum(x[c, r, t] for c in C for t in T) >= 1)\n",
    "\n",
    "# Specific Room Requirements\n",
    "for c, r in P.keys():\n",
    "    for t in T:\n",
    "        model.addConstr(x[c, r, t] <= P[(c, r)])\n",
    "\n",
    "# Optimize model\n",
    "model.optimize()\n",
    "\n",
    "# Print solution\n",
    "for v in model.getVars():\n",
    "    if v.x > 0:\n",
    "        print(f'{v.varName}: {v.x}')\n",
    "\n",
    "# Optimization Report\n",
    "print(f'Optimal Objective: {model.objVal}')\n",
    "print(f'Status: {model.status}')\n"
   ]
  }
 ],
 "metadata": {
  "kernelspec": {
   "display_name": "Python 3 (ipykernel)",
   "language": "python",
   "name": "python3"
  },
  "language_info": {
   "codemirror_mode": {
    "name": "ipython",
    "version": 3
   },
   "file_extension": ".py",
   "mimetype": "text/x-python",
   "name": "python",
   "nbconvert_exporter": "python",
   "pygments_lexer": "ipython3",
   "version": "3.12.4"
  }
 },
 "nbformat": 4,
 "nbformat_minor": 4
}
