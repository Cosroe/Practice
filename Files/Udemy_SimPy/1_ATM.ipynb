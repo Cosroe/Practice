{
 "cells": [
  {
   "cell_type": "markdown",
   "metadata": {},
   "source": [
    "# **<u>ATM</u>**"
   ]
  },
  {
   "cell_type": "code",
   "execution_count": 18,
   "metadata": {},
   "outputs": [],
   "source": [
    "import numpy as np\n",
    "import matplotlib.pyplot as plt\n",
    "import simpy\n",
    "import random\n",
    "\n",
    "plt.style.use('dark_background')"
   ]
  },
  {
   "cell_type": "markdown",
   "metadata": {},
   "source": [
    "# Timeout Event"
   ]
  },
  {
   "cell_type": "code",
   "execution_count": 19,
   "metadata": {},
   "outputs": [
    {
     "data": {
      "text/plain": [
       "<Process(customer) object at 0x11f376600>"
      ]
     },
     "execution_count": 19,
     "metadata": {},
     "output_type": "execute_result"
    }
   ],
   "source": [
    "env = simpy.Environment()\n",
    "\n",
    "def customer(env):\n",
    "  yield env.timeout(30)\n",
    "  print(f'Details entered at time: {env.now}')\n",
    "  yield env.timeout(60)\n",
    "  print(f'Cash retrieved at time: {env.now}')\n",
    "\n",
    "env.process(customer(env=env))"
   ]
  },
  {
   "cell_type": "code",
   "execution_count": 20,
   "metadata": {},
   "outputs": [
    {
     "name": "stdout",
     "output_type": "stream",
     "text": [
      "Details entered at time: 30\n",
      "Cash retrieved at time: 90\n"
     ]
    }
   ],
   "source": [
    "env.run()"
   ]
  },
  {
   "cell_type": "markdown",
   "metadata": {},
   "source": [
    "---\n",
    "# Multiple Customers\n",
    "## Constant Interarrival"
   ]
  },
  {
   "cell_type": "code",
   "execution_count": 21,
   "metadata": {},
   "outputs": [
    {
     "data": {
      "text/plain": [
       "<Process(customer_generator) object at 0x11f36f950>"
      ]
     },
     "execution_count": 21,
     "metadata": {},
     "output_type": "execute_result"
    }
   ],
   "source": [
    "CUST_INTER_ARR_TIME = 2*60 # 2 Mins\n",
    "\n",
    "env = simpy.Environment()\n",
    "\n",
    "def customer(env, name):\n",
    "  print(f'{name}: Arrives at time {env.now}')\n",
    "  yield env.timeout(30)\n",
    "  print(f'{name}: Details entered at time: {env.now}')\n",
    "  yield env.timeout(60)\n",
    "  print(f'{name}: Cash retrieved at time: {env.now}')\n",
    "\n",
    "def customer_generator(env, cust_inter_arr_time):\n",
    "  cust_number = 1\n",
    "  while True:\n",
    "    yield env.timeout(cust_inter_arr_time)\n",
    "    env.process(customer(env=env, name=f'customer {cust_number}'))\n",
    "    cust_number+=1\n",
    "\n",
    "env.process(customer_generator(env=env, cust_inter_arr_time=CUST_INTER_ARR_TIME))"
   ]
  },
  {
   "cell_type": "code",
   "execution_count": 22,
   "metadata": {},
   "outputs": [
    {
     "name": "stdout",
     "output_type": "stream",
     "text": [
      "customer 1: Arrives at time 120\n",
      "customer 1: Details entered at time: 150\n",
      "customer 1: Cash retrieved at time: 210\n",
      "customer 2: Arrives at time 240\n",
      "customer 2: Details entered at time: 270\n",
      "customer 2: Cash retrieved at time: 330\n",
      "customer 3: Arrives at time 360\n",
      "customer 3: Details entered at time: 390\n",
      "customer 3: Cash retrieved at time: 450\n",
      "customer 4: Arrives at time 480\n",
      "customer 4: Details entered at time: 510\n",
      "customer 4: Cash retrieved at time: 570\n"
     ]
    }
   ],
   "source": [
    "env.run(until=10*60) # 10 Mins"
   ]
  },
  {
   "cell_type": "markdown",
   "metadata": {},
   "source": [
    "---\n",
    "## Random Customer Arrival Times"
   ]
  },
  {
   "cell_type": "code",
   "execution_count": 23,
   "metadata": {},
   "outputs": [
    {
     "data": {
      "text/plain": [
       "<Process(customer_generator) object at 0x11f4330e0>"
      ]
     },
     "execution_count": 23,
     "metadata": {},
     "output_type": "execute_result"
    }
   ],
   "source": [
    "def customer(env, name):\n",
    "  print(f'{name}: Arrives at time {env.now:.2f}')\n",
    "  yield env.timeout(30)\n",
    "  print(f'{name}: Details entered at time: {env.now:.2f}')\n",
    "  yield env.timeout(60)\n",
    "  print(f'{name}: Cash retrieved at time: {env.now:.2f}')\n",
    "\n",
    "def customer_generator(env):\n",
    "  cust_number = 1\n",
    "  while True:\n",
    "    random_inter_arrival_time = random.uniform(1, 3) * 60\n",
    "    yield env.timeout(random_inter_arrival_time)\n",
    "    env.process(customer(env=env, name=f'customer {cust_number}'))\n",
    "    cust_number+=1\n",
    "\n",
    "env = simpy.Environment()\n",
    "\n",
    "env.process(customer_generator(env=env))"
   ]
  },
  {
   "cell_type": "code",
   "execution_count": 24,
   "metadata": {},
   "outputs": [
    {
     "name": "stdout",
     "output_type": "stream",
     "text": [
      "customer 1: Arrives at time 82.31\n",
      "customer 1: Details entered at time: 112.31\n",
      "customer 1: Cash retrieved at time: 172.31\n",
      "customer 2: Arrives at time 195.77\n",
      "customer 2: Details entered at time: 225.77\n",
      "customer 2: Cash retrieved at time: 285.77\n",
      "customer 3: Arrives at time 332.09\n",
      "customer 3: Details entered at time: 362.09\n",
      "customer 3: Cash retrieved at time: 422.09\n",
      "customer 4: Arrives at time 423.03\n",
      "customer 4: Details entered at time: 453.03\n",
      "customer 4: Cash retrieved at time: 513.03\n",
      "customer 5: Arrives at time 570.20\n"
     ]
    }
   ],
   "source": [
    "env.run(until=10*60) # 10 Mins"
   ]
  },
  {
   "cell_type": "markdown",
   "metadata": {},
   "source": [
    "---\n",
    "## Resource (method 1)"
   ]
  },
  {
   "cell_type": "code",
   "execution_count": 25,
   "metadata": {},
   "outputs": [
    {
     "data": {
      "text/plain": [
       "<Process(customer_generator) object at 0x11f36dca0>"
      ]
     },
     "execution_count": 25,
     "metadata": {},
     "output_type": "execute_result"
    }
   ],
   "source": [
    "def customer(env, name, atm):\n",
    "  print(f'{name}: Arrives at time {env.now:.2f}')\n",
    "  atm_req = atm.request()\n",
    "\n",
    "  yield atm_req\n",
    "  print(f'{name}: gets ATM machine at time {env.now:.2f}')\n",
    "\n",
    "  yield env.timeout(30)\n",
    "  print(f'{name}: Details entered at time: {env.now:.2f}')\n",
    "  yield env.timeout(60)\n",
    "  print(f'{name}: Cash retrieved at time: {env.now:.2f}')\n",
    "  atm.release(atm_req)\n",
    "\n",
    "def customer_generator(env, atm):\n",
    "  cust_number = 1\n",
    "  while True:\n",
    "    random_inter_arrival_time = random.uniform(1, 3) * 60\n",
    "    yield env.timeout(random_inter_arrival_time)\n",
    "    env.process(customer(env=env, name=f'customer {cust_number}', atm=atm))\n",
    "    cust_number+=1\n",
    "\n",
    "env = simpy.Environment()\n",
    "\n",
    "atm = simpy.Resource(env=env, capacity=1)\n",
    "env.process(customer_generator(env=env, atm=atm))"
   ]
  },
  {
   "cell_type": "code",
   "execution_count": 26,
   "metadata": {},
   "outputs": [
    {
     "name": "stdout",
     "output_type": "stream",
     "text": [
      "customer 1: Arrives at time 140.31\n",
      "customer 1: gets ATM machine at time 140.31\n",
      "customer 1: Details entered at time: 170.31\n",
      "customer 1: Cash retrieved at time: 230.31\n",
      "customer 2: Arrives at time 262.62\n",
      "customer 2: gets ATM machine at time 262.62\n",
      "customer 2: Details entered at time: 292.62\n",
      "customer 2: Cash retrieved at time: 352.62\n",
      "customer 3: Arrives at time 402.50\n",
      "customer 3: gets ATM machine at time 402.50\n",
      "customer 3: Details entered at time: 432.50\n",
      "customer 3: Cash retrieved at time: 492.50\n",
      "customer 4: Arrives at time 530.42\n",
      "customer 4: gets ATM machine at time 530.42\n",
      "customer 4: Details entered at time: 560.42\n"
     ]
    }
   ],
   "source": [
    "env.run(until=10*60) # 10 Mins"
   ]
  },
  {
   "cell_type": "markdown",
   "metadata": {},
   "source": [
    "---\n",
    "## Resource (method 2)"
   ]
  },
  {
   "cell_type": "code",
   "execution_count": 27,
   "metadata": {},
   "outputs": [
    {
     "data": {
      "text/plain": [
       "<Process(customer_generator) object at 0x11f417fe0>"
      ]
     },
     "execution_count": 27,
     "metadata": {},
     "output_type": "execute_result"
    }
   ],
   "source": [
    "def customer(env, name, atm):\n",
    "  print(f'{name}: Arrives at time {env.now:.2f}')\n",
    "  with atm.request() as atm_req:\n",
    "    yield atm_req\n",
    "    print(f'{name}: gets ATM machine at time {env.now:.2f}')\n",
    "\n",
    "    yield env.timeout(30)\n",
    "    print(f'{name}: Details entered at time: {env.now:.2f}')\n",
    "    yield env.timeout(60)\n",
    "    print(f'{name}: Cash retrieved at time: {env.now:.2f}')\n",
    "\n",
    "def customer_generator(env, atm):\n",
    "  cust_number = 1\n",
    "  while True:\n",
    "    random_inter_arrival_time = random.uniform(1, 3) * 60\n",
    "    yield env.timeout(random_inter_arrival_time)\n",
    "    env.process(customer(env=env, name=f'customer {cust_number}', atm=atm))\n",
    "    cust_number+=1\n",
    "\n",
    "env = simpy.Environment()\n",
    "\n",
    "atm = simpy.Resource(env=env, capacity=1)\n",
    "env.process(customer_generator(env=env, atm=atm))"
   ]
  },
  {
   "cell_type": "code",
   "execution_count": 28,
   "metadata": {},
   "outputs": [
    {
     "name": "stdout",
     "output_type": "stream",
     "text": [
      "customer 1: Arrives at time 84.47\n",
      "customer 1: gets ATM machine at time 84.47\n",
      "customer 1: Details entered at time: 114.47\n",
      "customer 1: Cash retrieved at time: 174.47\n",
      "customer 2: Arrives at time 184.73\n",
      "customer 2: gets ATM machine at time 184.73\n",
      "customer 2: Details entered at time: 214.73\n",
      "customer 3: Arrives at time 249.21\n",
      "customer 2: Cash retrieved at time: 274.73\n",
      "customer 3: gets ATM machine at time 274.73\n",
      "customer 3: Details entered at time: 304.73\n",
      "customer 3: Cash retrieved at time: 364.73\n",
      "customer 4: Arrives at time 416.24\n",
      "customer 4: gets ATM machine at time 416.24\n",
      "customer 4: Details entered at time: 446.24\n",
      "customer 4: Cash retrieved at time: 506.24\n",
      "customer 5: Arrives at time 593.31\n",
      "customer 5: gets ATM machine at time 593.31\n"
     ]
    }
   ],
   "source": [
    "env.run(until=10*60) # 10 Mins"
   ]
  },
  {
   "cell_type": "markdown",
   "metadata": {},
   "source": [
    "---\n",
    "# Business Case Study"
   ]
  },
  {
   "cell_type": "markdown",
   "metadata": {},
   "source": [
    "Make use of KPIs to determine how many ATMs are needed:\n",
    "- Throughput time\n",
    "- Cycle time\n",
    "- Waiting time "
   ]
  },
  {
   "cell_type": "code",
   "execution_count": 29,
   "metadata": {},
   "outputs": [
    {
     "name": "stdout",
     "output_type": "stream",
     "text": [
      "Average Cycle Time: 1.60 minutes +/- 0.01 minutes\n",
      "Average Waiting Time: 0.10 minutes +/- 0.01 minutes\n",
      "Average Throughput Rate:  29.95 customers per hour +/- 0.32 customers/hour\n"
     ]
    }
   ],
   "source": [
    "SIM_TIME = 24*60*60\n",
    "WARMUP_TIME = 1*60\n",
    "\n",
    "cycle_time_simulation = []\n",
    "cycle_time_replication = []\n",
    "waiting_time_simulation = []\n",
    "waiting_time_replication = []\n",
    "throughput_simulation = []\n",
    "\n",
    "def customer(env, name, atm):\n",
    "  customer_enter_time = env.now\n",
    "  # print(f'{name}: Arrives at time {env.now:2f}')\n",
    "  with atm.request() as atm_req:\n",
    "    yield atm_req\n",
    "    # print(f'{name}: gets ATM machine at time {env.now:2f}')\n",
    "    customer_got_atm = env.now\n",
    "\n",
    "    yield env.timeout(30)\n",
    "    # print(f'{name}: Details entered at time: {env.now:2f}')\n",
    "    yield env.timeout(60)\n",
    "    # print(f'{name}: Cash retrieved at time: {env.now:2f}')\n",
    "  if env.now > WARMUP_TIME:\n",
    "    waiting_time_replication.append(customer_got_atm - customer_enter_time)\n",
    "    cycle_time_replication.append(env.now - customer_enter_time)\n",
    "\n",
    "def customer_generator(env, atm):\n",
    "  cust_number = 1\n",
    "  while True:\n",
    "    random_inter_arrival_time = random.uniform(1, 3) * 60\n",
    "    yield env.timeout(random_inter_arrival_time)\n",
    "    env.process(customer(env=env, name=f'customer {cust_number}', atm=atm))\n",
    "    cust_number+=1\n",
    "\n",
    "for r in range(50):\n",
    "    env = simpy.Environment()\n",
    "\n",
    "    atm = simpy.Resource(env=env, capacity=1)\n",
    "\n",
    "    env.process(customer_generator(env=env, atm=atm))\n",
    "\n",
    "    env.run(until=SIM_TIME) # 24 Hours\n",
    "\n",
    "    cycle_time_simulation.append(np.mean(cycle_time_replication))\n",
    "    waiting_time_simulation.append(np.mean(waiting_time_replication))\n",
    "\n",
    "    num_customers = len(cycle_time_replication)\n",
    "    throughput_simulation.append(num_customers/(SIM_TIME - WARMUP_TIME))\n",
    "\n",
    "    cycle_time_replication = []\n",
    "    waiting_time_replication = []\n",
    "\n",
    "print(f'Average Cycle Time: {np.mean(cycle_time_simulation)/60 :.2f} minutes +/- {np.std(cycle_time_simulation)/60 :.2f} minutes')\n",
    "print(f'Average Waiting Time: {np.mean(waiting_time_simulation)/60 :.2f} minutes +/- {np.std(waiting_time_simulation)/60 :.2f} minutes')\n",
    "print(f'Average Throughput Rate:  {np.mean(throughput_simulation)*60*60 :.2f} customers per hour +/- {np.std(throughput_simulation)*60*60 :.2f} customers/hour')"
   ]
  },
  {
   "cell_type": "markdown",
   "metadata": {},
   "source": [
    "## How many ATMs should the bank install?"
   ]
  },
  {
   "cell_type": "code",
   "execution_count": 30,
   "metadata": {},
   "outputs": [],
   "source": [
    "SIM_TIME = 24*60*60\n",
    "WARMUP_TIME = 1*60\n",
    "\n",
    "cycle_time_simulation = []\n",
    "cycle_time_replication = []\n",
    "waiting_time_simulation = []\n",
    "waiting_time_replication = []\n",
    "throughput_simulation = []\n",
    "\n",
    "num_atms = [1,2,3,4,5,6]\n",
    "cycle_time_atm = []\n",
    "throughput_atm = []\n",
    "\n",
    "def customer(env, name, atm):\n",
    "  customer_enter_time = env.now\n",
    "  # print(f'{name}: Arrives at time {env.now:2f}')\n",
    "  with atm.request() as atm_req:\n",
    "    yield atm_req\n",
    "    # print(f'{name}: gets ATM machine at time {env.now:2f}')\n",
    "    customer_got_atm = env.now\n",
    "\n",
    "    yield env.timeout(30)\n",
    "    # print(f'{name}: Details entered at time: {env.now:2f}')\n",
    "    yield env.timeout(60)\n",
    "    # print(f'{name}: Cash retrieved at time: {env.now:2f}')\n",
    "  if env.now > WARMUP_TIME:\n",
    "    waiting_time_replication.append(customer_got_atm - customer_enter_time)\n",
    "    cycle_time_replication.append(env.now - customer_enter_time)\n",
    "\n",
    "def customer_generator(env, atm):\n",
    "  cust_number = 1\n",
    "  while True:\n",
    "    random_inter_arrival_time = random.uniform(1, 3) * 60\n",
    "    yield env.timeout(random_inter_arrival_time)\n",
    "    env.process(customer(env=env, name=f'customer {cust_number}', atm=atm))\n",
    "    cust_number+=1\n",
    "\n",
    "for atm_cap in num_atms:\n",
    "    for r in range(50):\n",
    "        env = simpy.Environment()\n",
    "\n",
    "        atm = simpy.Resource(env=env, capacity=atm_cap)\n",
    "\n",
    "        env.process(customer_generator(env=env, atm=atm))\n",
    "\n",
    "        env.run(until=SIM_TIME) # 24 Hours\n",
    "\n",
    "        cycle_time_simulation.append(np.mean(cycle_time_replication))\n",
    "        waiting_time_simulation.append(np.mean(waiting_time_replication))\n",
    "\n",
    "        num_customers = len(cycle_time_replication)\n",
    "        throughput_simulation.append(num_customers/(SIM_TIME - WARMUP_TIME))\n",
    "\n",
    "        cycle_time_replication = []\n",
    "        waiting_time_replication = []\n",
    "    \n",
    "    # Collect data per ATM\n",
    "    cycle_time_atm.append(np.mean(cycle_time_simulation)/60)\n",
    "    throughput_atm.append(np.mean(throughput_simulation)*60*60)\n",
    "    cycle_time_simulation = []\n",
    "    throughput_simulation = []"
   ]
  },
  {
   "cell_type": "code",
   "execution_count": 31,
   "metadata": {},
   "outputs": [
    {
     "data": {
      "image/png": "[encoded data removed]",
      "text/plain": [
       "<Figure size 640x480 with 1 Axes>"
      ]
     },
     "metadata": {},
     "output_type": "display_data"
    }
   ],
   "source": [
    "plt.plot(num_atms, cycle_time_atm)\n",
    "plt.title('Average Cycle Time vs. ATMs')\n",
    "plt.xlabel('Number of ATMs')\n",
    "plt.ylabel('Average Cycle Time in Minutes')\n",
    "plt.show()"
   ]
  },
  {
   "cell_type": "code",
   "execution_count": 33,
   "metadata": {},
   "outputs": [
    {
     "data": {
      "image/png": "[encoded data removed]",
      "text/plain": [
       "<Figure size 640x480 with 1 Axes>"
      ]
     },
     "metadata": {},
     "output_type": "display_data"
    }
   ],
   "source": [
    "plt.plot(num_atms, throughput_atm)\n",
    "plt.title('Average Throughput Rate vs. ATMs')\n",
    "plt.xlabel('Number of ATMs')\n",
    "plt.ylabel('Average Throughput Rate in Customers per Hour')\n",
    "plt.show()"
   ]
  }
 ],
 "metadata": {
  "kernelspec": {
   "display_name": "Sim",
   "language": "python",
   "name": "python3"
  },
  "language_info": {
   "codemirror_mode": {
    "name": "ipython",
    "version": 3
   },
   "file_extension": ".py",
   "mimetype": "text/x-python",
   "name": "python",
   "nbconvert_exporter": "python",
   "pygments_lexer": "ipython3",
   "version": "3.12.2"
  }
 },
 "nbformat": 4,
 "nbformat_minor": 2
}
